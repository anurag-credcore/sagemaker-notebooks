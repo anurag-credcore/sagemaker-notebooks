{
 "cells": [
  {
   "cell_type": "code",
   "execution_count": 2,
   "id": "ccd62642-f433-4353-a6bb-8e0eaaa465f7",
   "metadata": {},
   "outputs": [
    {
     "name": "stdout",
     "output_type": "stream",
     "text": [
      "Requirement already satisfied: openpyxl in /opt/conda/lib/python3.10/site-packages (3.1.2)\n",
      "Requirement already satisfied: et-xmlfile in /opt/conda/lib/python3.10/site-packages (from openpyxl) (1.1.0)\n",
      "\u001b[33mWARNING: Running pip as the 'root' user can result in broken permissions and conflicting behaviour with the system package manager. It is recommended to use a virtual environment instead: https://pip.pypa.io/warnings/venv\u001b[0m\u001b[33m\n",
      "\u001b[0m"
     ]
    }
   ],
   "source": [
    "!pip3 install openpyxl"
   ]
  },
  {
   "cell_type": "code",
   "execution_count": 1,
   "id": "d57568af-41ef-4a2f-9a51-a71028a6be20",
   "metadata": {
    "tags": []
   },
   "outputs": [],
   "source": [
    "# import json \n",
    "import pandas as pd \n",
    "from pathlib import Path \n",
    "from glob import glob\n",
    "import os"
   ]
  },
  {
   "cell_type": "code",
   "execution_count": null,
   "id": "ef2b1790-e6ae-4d22-b45f-2fcdfdab4093",
   "metadata": {},
   "outputs": [],
   "source": []
  },
  {
   "cell_type": "code",
   "execution_count": 37,
   "id": "5ae8fb7f-ca37-41aa-aa86-ff21562165a2",
   "metadata": {
    "tags": []
   },
   "outputs": [],
   "source": [
    "BASE_DIR = \"./data/raw_input/\" "
   ]
  },
  {
   "cell_type": "code",
   "execution_count": 38,
   "id": "500297b1-a627-4654-b60c-36590e3c7653",
   "metadata": {
    "tags": []
   },
   "outputs": [],
   "source": [
    "dfs = [] \n",
    "ignored_files = []\n",
    "for filepath in glob(BASE_DIR + \"/*\"): \n",
    "    try: \n",
    "        tempdf = pd.read_json(filepath) \n",
    "        filename = Path(filepath).name\n",
    "        tempdf['filename'] = filename\n",
    "        dfs.append(tempdf) \n",
    "    except Exception as e: \n",
    "        ignored_files.append(filepath)"
   ]
  },
  {
   "cell_type": "code",
   "execution_count": 39,
   "id": "ba1eb191-0711-4373-8979-63b2fece831b",
   "metadata": {
    "tags": []
   },
   "outputs": [],
   "source": [
    "df = pd.concat(dfs, ignore_index=False).reset_index(drop=True)\n",
    "df = df[df.tags.map(lambda x: len(x)) <= 1]\n",
    "df['tags'] = df.tags.map(lambda x: x[0].strip() if x else \"NA\")"
   ]
  },
  {
   "cell_type": "code",
   "execution_count": 40,
   "id": "4280dc3b-27bd-4ca3-be4d-a8794c4bca4b",
   "metadata": {
    "tags": []
   },
   "outputs": [
    {
     "name": "stdout",
     "output_type": "stream",
     "text": [
      "Number of rows: 13999\n",
      "Number of unique files: 139\n",
      "Number of unique tags: 39\n"
     ]
    }
   ],
   "source": [
    "print(f\"Number of rows: {df.shape[0]}\")\n",
    "print(f\"Number of unique files: {pd.unique(df.filename).shape[0]}\")\n",
    "print(f\"Number of unique tags: {pd.unique(df.tags).shape[0]}\")"
   ]
  },
  {
   "cell_type": "code",
   "execution_count": 41,
   "id": "8ec2e6fc-1026-4627-9360-573d0917f17c",
   "metadata": {
    "tags": []
   },
   "outputs": [],
   "source": [
    "all_tags = set(df.fillna(\"NA\").tags.unique())"
   ]
  },
  {
   "cell_type": "code",
   "execution_count": 42,
   "id": "06afe240-acc5-4454-8dc0-37afcf4397e2",
   "metadata": {
    "tags": []
   },
   "outputs": [
    {
     "data": {
      "text/html": [
       "<div>\n",
       "<style scoped>\n",
       "    .dataframe tbody tr th:only-of-type {\n",
       "        vertical-align: middle;\n",
       "    }\n",
       "\n",
       "    .dataframe tbody tr th {\n",
       "        vertical-align: top;\n",
       "    }\n",
       "\n",
       "    .dataframe thead th {\n",
       "        text-align: right;\n",
       "    }\n",
       "</style>\n",
       "<table border=\"1\" class=\"dataframe\">\n",
       "  <thead>\n",
       "    <tr style=\"text-align: right;\">\n",
       "      <th></th>\n",
       "      <th>tags</th>\n",
       "      <th>0</th>\n",
       "    </tr>\n",
       "  </thead>\n",
       "  <tbody>\n",
       "    <tr>\n",
       "      <th>0</th>\n",
       "      <td></td>\n",
       "      <td>239</td>\n",
       "    </tr>\n",
       "    <tr>\n",
       "      <th>1</th>\n",
       "      <td>Additional Liens</td>\n",
       "      <td>112</td>\n",
       "    </tr>\n",
       "    <tr>\n",
       "      <th>2</th>\n",
       "      <td>Amendments</td>\n",
       "      <td>166</td>\n",
       "    </tr>\n",
       "    <tr>\n",
       "      <th>3</th>\n",
       "      <td>Asset Disposition</td>\n",
       "      <td>68</td>\n",
       "    </tr>\n",
       "    <tr>\n",
       "      <th>4</th>\n",
       "      <td>Assignments</td>\n",
       "      <td>107</td>\n",
       "    </tr>\n",
       "    <tr>\n",
       "      <th>5</th>\n",
       "      <td>Collateral</td>\n",
       "      <td>1</td>\n",
       "    </tr>\n",
       "    <tr>\n",
       "      <th>6</th>\n",
       "      <td>Compliance Certificate</td>\n",
       "      <td>25</td>\n",
       "    </tr>\n",
       "    <tr>\n",
       "      <th>7</th>\n",
       "      <td>Consequences of Default</td>\n",
       "      <td>138</td>\n",
       "    </tr>\n",
       "    <tr>\n",
       "      <th>8</th>\n",
       "      <td>Default</td>\n",
       "      <td>2</td>\n",
       "    </tr>\n",
       "    <tr>\n",
       "      <th>9</th>\n",
       "      <td>Defaulted Interest</td>\n",
       "      <td>26</td>\n",
       "    </tr>\n",
       "    <tr>\n",
       "      <th>10</th>\n",
       "      <td>ESG Reporting Obligations</td>\n",
       "      <td>9</td>\n",
       "    </tr>\n",
       "    <tr>\n",
       "      <th>11</th>\n",
       "      <td>Events of Default</td>\n",
       "      <td>103</td>\n",
       "    </tr>\n",
       "    <tr>\n",
       "      <th>12</th>\n",
       "      <td>Facilities</td>\n",
       "      <td>2</td>\n",
       "    </tr>\n",
       "    <tr>\n",
       "      <th>13</th>\n",
       "      <td>Facilities / Instrument</td>\n",
       "      <td>173</td>\n",
       "    </tr>\n",
       "    <tr>\n",
       "      <th>14</th>\n",
       "      <td>Facilities / Instruments</td>\n",
       "      <td>1</td>\n",
       "    </tr>\n",
       "    <tr>\n",
       "      <th>15</th>\n",
       "      <td>Financial Covenant</td>\n",
       "      <td>102</td>\n",
       "    </tr>\n",
       "    <tr>\n",
       "      <th>16</th>\n",
       "      <td>Financial Statements</td>\n",
       "      <td>24</td>\n",
       "    </tr>\n",
       "    <tr>\n",
       "      <th>17</th>\n",
       "      <td>Governing Law</td>\n",
       "      <td>1</td>\n",
       "    </tr>\n",
       "    <tr>\n",
       "      <th>18</th>\n",
       "      <td>Governing Laws</td>\n",
       "      <td>114</td>\n",
       "    </tr>\n",
       "    <tr>\n",
       "      <th>19</th>\n",
       "      <td>Incremental Facilities</td>\n",
       "      <td>50</td>\n",
       "    </tr>\n",
       "    <tr>\n",
       "      <th>20</th>\n",
       "      <td>Interest Payment Dates</td>\n",
       "      <td>8</td>\n",
       "    </tr>\n",
       "    <tr>\n",
       "      <th>21</th>\n",
       "      <td>Interest Rate</td>\n",
       "      <td>112</td>\n",
       "    </tr>\n",
       "    <tr>\n",
       "      <th>22</th>\n",
       "      <td>Loan Repayment</td>\n",
       "      <td>113</td>\n",
       "    </tr>\n",
       "    <tr>\n",
       "      <th>23</th>\n",
       "      <td>Mandatory Prepayments / Redemption</td>\n",
       "      <td>30</td>\n",
       "    </tr>\n",
       "    <tr>\n",
       "      <th>24</th>\n",
       "      <td>NA</td>\n",
       "      <td>11635</td>\n",
       "    </tr>\n",
       "    <tr>\n",
       "      <th>25</th>\n",
       "      <td>Optional Prepayment / Redemption</td>\n",
       "      <td>48</td>\n",
       "    </tr>\n",
       "    <tr>\n",
       "      <th>26</th>\n",
       "      <td>Other Reporting Requirements</td>\n",
       "      <td>12</td>\n",
       "    </tr>\n",
       "    <tr>\n",
       "      <th>27</th>\n",
       "      <td>Permitted Indebtedness</td>\n",
       "      <td>63</td>\n",
       "    </tr>\n",
       "    <tr>\n",
       "      <th>28</th>\n",
       "      <td>Premium and Fees</td>\n",
       "      <td>102</td>\n",
       "    </tr>\n",
       "    <tr>\n",
       "      <th>29</th>\n",
       "      <td>Prepayment</td>\n",
       "      <td>66</td>\n",
       "    </tr>\n",
       "    <tr>\n",
       "      <th>30</th>\n",
       "      <td>Prepayments</td>\n",
       "      <td>1</td>\n",
       "    </tr>\n",
       "    <tr>\n",
       "      <th>31</th>\n",
       "      <td>Reporting Requirements</td>\n",
       "      <td>87</td>\n",
       "    </tr>\n",
       "    <tr>\n",
       "      <th>32</th>\n",
       "      <td>Restricted Investments</td>\n",
       "      <td>36</td>\n",
       "    </tr>\n",
       "    <tr>\n",
       "      <th>33</th>\n",
       "      <td>Restricted Payments</td>\n",
       "      <td>62</td>\n",
       "    </tr>\n",
       "    <tr>\n",
       "      <th>34</th>\n",
       "      <td>Subordination</td>\n",
       "      <td>2</td>\n",
       "    </tr>\n",
       "    <tr>\n",
       "      <th>35</th>\n",
       "      <td>Subsidiary</td>\n",
       "      <td>1</td>\n",
       "    </tr>\n",
       "    <tr>\n",
       "      <th>36</th>\n",
       "      <td>Transactions with Affiliates</td>\n",
       "      <td>66</td>\n",
       "    </tr>\n",
       "    <tr>\n",
       "      <th>37</th>\n",
       "      <td>Use of Proceeds</td>\n",
       "      <td>1</td>\n",
       "    </tr>\n",
       "    <tr>\n",
       "      <th>38</th>\n",
       "      <td>Waterfall of Proceeds</td>\n",
       "      <td>91</td>\n",
       "    </tr>\n",
       "  </tbody>\n",
       "</table>\n",
       "</div>"
      ],
      "text/plain": [
       "                                  tags      0\n",
       "0                                         239\n",
       "1                     Additional Liens    112\n",
       "2                           Amendments    166\n",
       "3                    Asset Disposition     68\n",
       "4                          Assignments    107\n",
       "5                           Collateral      1\n",
       "6               Compliance Certificate     25\n",
       "7              Consequences of Default    138\n",
       "8                              Default      2\n",
       "9                   Defaulted Interest     26\n",
       "10           ESG Reporting Obligations      9\n",
       "11                   Events of Default    103\n",
       "12                          Facilities      2\n",
       "13             Facilities / Instrument    173\n",
       "14            Facilities / Instruments      1\n",
       "15                  Financial Covenant    102\n",
       "16                Financial Statements     24\n",
       "17                       Governing Law      1\n",
       "18                      Governing Laws    114\n",
       "19              Incremental Facilities     50\n",
       "20              Interest Payment Dates      8\n",
       "21                       Interest Rate    112\n",
       "22                      Loan Repayment    113\n",
       "23  Mandatory Prepayments / Redemption     30\n",
       "24                                  NA  11635\n",
       "25    Optional Prepayment / Redemption     48\n",
       "26        Other Reporting Requirements     12\n",
       "27              Permitted Indebtedness     63\n",
       "28                    Premium and Fees    102\n",
       "29                          Prepayment     66\n",
       "30                         Prepayments      1\n",
       "31              Reporting Requirements     87\n",
       "32              Restricted Investments     36\n",
       "33                 Restricted Payments     62\n",
       "34                       Subordination      2\n",
       "35                          Subsidiary      1\n",
       "36        Transactions with Affiliates     66\n",
       "37                     Use of Proceeds      1\n",
       "38               Waterfall of Proceeds     91"
      ]
     },
     "execution_count": 42,
     "metadata": {},
     "output_type": "execute_result"
    }
   ],
   "source": [
    "df[['tags']].groupby('tags').size().reset_index()"
   ]
  },
  {
   "cell_type": "markdown",
   "id": "4875e927-9e9b-4a40-ba47-61f59fb4ce96",
   "metadata": {},
   "source": [
    "## Load Tag Mapping "
   ]
  },
  {
   "cell_type": "code",
   "execution_count": 43,
   "id": "832ccc1a-8593-414e-8f75-2441a14f4ec7",
   "metadata": {
    "tags": []
   },
   "outputs": [],
   "source": [
    "xl = pd.ExcelFile(\"./data/Updated-Tagging.xlsx\")"
   ]
  },
  {
   "cell_type": "code",
   "execution_count": 44,
   "id": "9e78f86c-fada-48e8-b425-ed982d0ffb87",
   "metadata": {
    "tags": []
   },
   "outputs": [
    {
     "data": {
      "text/plain": [
       "['Domain Tag List', 'AI Tag List']"
      ]
     },
     "execution_count": 44,
     "metadata": {},
     "output_type": "execute_result"
    }
   ],
   "source": [
    "xl.sheet_names"
   ]
  },
  {
   "cell_type": "code",
   "execution_count": 45,
   "id": "8888662f-e411-4b77-a308-d1e23488b46a",
   "metadata": {
    "tags": []
   },
   "outputs": [],
   "source": [
    "tagging_df = pd.read_excel(\"./data/Updated-Tagging.xlsx\", sheet_name = \"AI Tag List\")"
   ]
  },
  {
   "cell_type": "code",
   "execution_count": 46,
   "id": "42ecc630-38cf-447c-a6e6-7841d8400c3f",
   "metadata": {
    "tags": []
   },
   "outputs": [],
   "source": [
    "standard_tags = set(tagging_df['Standard Tags'].unique())\n",
    "non_standard_tags = set(tagging_df['Tusk Compare Fields'].unique())"
   ]
  },
  {
   "cell_type": "code",
   "execution_count": 47,
   "id": "5f67736d-0636-47fc-bc4a-432d62ef4238",
   "metadata": {
    "tags": []
   },
   "outputs": [],
   "source": [
    "nst_to_st = {t['Tusk Compare Fields'].strip() : t['Standard Tags'].strip() for t in tagging_df.to_dict(orient=\"records\")}\n",
    "for t in tagging_df.to_dict(orient=\"records\"): \n",
    "    nst_to_st[t['Standard Tags'].strip()] = t['Standard Tags'].strip()\n",
    "\n",
    "st_to_nst = {} \n",
    "for key, value in nst_to_st.items(): \n",
    "    st_to_nst[value] = key "
   ]
  },
  {
   "cell_type": "code",
   "execution_count": 48,
   "id": "8cae431f-0289-41d1-8bbc-33ea6705520e",
   "metadata": {
    "tags": []
   },
   "outputs": [
    {
     "data": {
      "text/plain": [
       "25"
      ]
     },
     "execution_count": 48,
     "metadata": {},
     "output_type": "execute_result"
    }
   ],
   "source": [
    "visited_st = {key: False for key in st_to_nst}\n",
    "len(visited_st)"
   ]
  },
  {
   "cell_type": "code",
   "execution_count": 49,
   "id": "4938f810-c87b-4f43-b8df-d93bcda00bdd",
   "metadata": {
    "tags": []
   },
   "outputs": [],
   "source": [
    "# print(\"Tags missing from the Updated Tagging:\")\n",
    "# for i, t in enumerate(all_tags - (standard_tags.union(non_standard_tags)), start=1):\n",
    "#     print(i, t)\n",
    "# print()\n",
    "# print(\"Tags Missing from the data:\")\n",
    "# for i, t in enumerate((standard_tags.union(non_standard_tags)) - all_tags, start=1):\n",
    "#     print(i, t, \" - \",  nst_to_st[t])"
   ]
  },
  {
   "cell_type": "code",
   "execution_count": 50,
   "id": "49972afb-6928-40de-9c1f-a87d2956228e",
   "metadata": {
    "tags": []
   },
   "outputs": [
    {
     "data": {
      "text/html": [
       "<div>\n",
       "<style scoped>\n",
       "    .dataframe tbody tr th:only-of-type {\n",
       "        vertical-align: middle;\n",
       "    }\n",
       "\n",
       "    .dataframe tbody tr th {\n",
       "        vertical-align: top;\n",
       "    }\n",
       "\n",
       "    .dataframe thead th {\n",
       "        text-align: right;\n",
       "    }\n",
       "</style>\n",
       "<table border=\"1\" class=\"dataframe\">\n",
       "  <thead>\n",
       "    <tr style=\"text-align: right;\">\n",
       "      <th></th>\n",
       "      <th>Standard Tags</th>\n",
       "      <th>0</th>\n",
       "    </tr>\n",
       "  </thead>\n",
       "  <tbody>\n",
       "    <tr>\n",
       "      <th>0</th>\n",
       "      <td>Amendments</td>\n",
       "      <td>1</td>\n",
       "    </tr>\n",
       "    <tr>\n",
       "      <th>1</th>\n",
       "      <td>Amortization Schedule / Loan Repayment</td>\n",
       "      <td>1</td>\n",
       "    </tr>\n",
       "    <tr>\n",
       "      <th>2</th>\n",
       "      <td>Asset Disposition</td>\n",
       "      <td>1</td>\n",
       "    </tr>\n",
       "    <tr>\n",
       "      <th>3</th>\n",
       "      <td>Assignments</td>\n",
       "      <td>1</td>\n",
       "    </tr>\n",
       "    <tr>\n",
       "      <th>4</th>\n",
       "      <td>Compliance Certificate</td>\n",
       "      <td>1</td>\n",
       "    </tr>\n",
       "    <tr>\n",
       "      <th>5</th>\n",
       "      <td>Consequences of Default</td>\n",
       "      <td>1</td>\n",
       "    </tr>\n",
       "    <tr>\n",
       "      <th>6</th>\n",
       "      <td>Events of Default</td>\n",
       "      <td>1</td>\n",
       "    </tr>\n",
       "    <tr>\n",
       "      <th>7</th>\n",
       "      <td>Facilities / Instrument</td>\n",
       "      <td>1</td>\n",
       "    </tr>\n",
       "    <tr>\n",
       "      <th>8</th>\n",
       "      <td>Financial Covenant</td>\n",
       "      <td>1</td>\n",
       "    </tr>\n",
       "    <tr>\n",
       "      <th>9</th>\n",
       "      <td>Financial Statements</td>\n",
       "      <td>1</td>\n",
       "    </tr>\n",
       "    <tr>\n",
       "      <th>10</th>\n",
       "      <td>Governing Laws</td>\n",
       "      <td>1</td>\n",
       "    </tr>\n",
       "    <tr>\n",
       "      <th>11</th>\n",
       "      <td>Incremental Facilities</td>\n",
       "      <td>1</td>\n",
       "    </tr>\n",
       "    <tr>\n",
       "      <th>12</th>\n",
       "      <td>Mandatory Prepayments / Redemption</td>\n",
       "      <td>1</td>\n",
       "    </tr>\n",
       "    <tr>\n",
       "      <th>13</th>\n",
       "      <td>Optional Prepayment / Redemption</td>\n",
       "      <td>1</td>\n",
       "    </tr>\n",
       "    <tr>\n",
       "      <th>14</th>\n",
       "      <td>Other Reporting Requirements</td>\n",
       "      <td>1</td>\n",
       "    </tr>\n",
       "    <tr>\n",
       "      <th>15</th>\n",
       "      <td>Permitted Indebtedness</td>\n",
       "      <td>1</td>\n",
       "    </tr>\n",
       "    <tr>\n",
       "      <th>16</th>\n",
       "      <td>Permitted Liens</td>\n",
       "      <td>1</td>\n",
       "    </tr>\n",
       "    <tr>\n",
       "      <th>17</th>\n",
       "      <td>Premium and Fees</td>\n",
       "      <td>1</td>\n",
       "    </tr>\n",
       "    <tr>\n",
       "      <th>18</th>\n",
       "      <td>Prepayment / Redemption</td>\n",
       "      <td>1</td>\n",
       "    </tr>\n",
       "    <tr>\n",
       "      <th>19</th>\n",
       "      <td>Pricing / Interest</td>\n",
       "      <td>1</td>\n",
       "    </tr>\n",
       "    <tr>\n",
       "      <th>20</th>\n",
       "      <td>Reporting Requirements</td>\n",
       "      <td>1</td>\n",
       "    </tr>\n",
       "    <tr>\n",
       "      <th>21</th>\n",
       "      <td>Restricted Investments</td>\n",
       "      <td>1</td>\n",
       "    </tr>\n",
       "    <tr>\n",
       "      <th>22</th>\n",
       "      <td>Restricted Payments</td>\n",
       "      <td>1</td>\n",
       "    </tr>\n",
       "    <tr>\n",
       "      <th>23</th>\n",
       "      <td>Transactions with Affiliates</td>\n",
       "      <td>1</td>\n",
       "    </tr>\n",
       "    <tr>\n",
       "      <th>24</th>\n",
       "      <td>Waterfall of Proceeds</td>\n",
       "      <td>1</td>\n",
       "    </tr>\n",
       "  </tbody>\n",
       "</table>\n",
       "</div>"
      ],
      "text/plain": [
       "                              Standard Tags  0\n",
       "0                                Amendments  1\n",
       "1   Amortization Schedule / Loan Repayment   1\n",
       "2                         Asset Disposition  1\n",
       "3                               Assignments  1\n",
       "4                    Compliance Certificate  1\n",
       "5                   Consequences of Default  1\n",
       "6                         Events of Default  1\n",
       "7                   Facilities / Instrument  1\n",
       "8                        Financial Covenant  1\n",
       "9                      Financial Statements  1\n",
       "10                           Governing Laws  1\n",
       "11                   Incremental Facilities  1\n",
       "12       Mandatory Prepayments / Redemption  1\n",
       "13         Optional Prepayment / Redemption  1\n",
       "14            Other Reporting Requirements   1\n",
       "15                   Permitted Indebtedness  1\n",
       "16                          Permitted Liens  1\n",
       "17                         Premium and Fees  1\n",
       "18                  Prepayment / Redemption  1\n",
       "19                       Pricing / Interest  1\n",
       "20                   Reporting Requirements  1\n",
       "21                   Restricted Investments  1\n",
       "22                      Restricted Payments  1\n",
       "23             Transactions with Affiliates  1\n",
       "24                    Waterfall of Proceeds  1"
      ]
     },
     "execution_count": 50,
     "metadata": {},
     "output_type": "execute_result"
    }
   ],
   "source": [
    "tagging_df[['Standard Tags']].groupby(\"Standard Tags\").size().reset_index()"
   ]
  },
  {
   "cell_type": "code",
   "execution_count": 51,
   "id": "3e472287-5584-4a00-8cc4-5fe41d9d9eb9",
   "metadata": {
    "tags": []
   },
   "outputs": [],
   "source": [
    "nst_to_st.update({\n",
    "    \"Facilities / Instruments\": \"Facilities / Instrument\", \n",
    "    \"Facilities\": \"Incremental Facilities\", \n",
    "    \"\": \"NA\", \n",
    "    \"Governing Law\": \"Governing Laws\", \n",
    "    \"Default\" : \"Event of Default\",\n",
    "    \"Event of Default\": \"Event of Default\",\n",
    "    \"Facilities\" : \"Incremental Facilities\",\n",
    "    \"ESG Reporting Obligations\": \"Reporting Requirements\", \n",
    "    \"Subsidiary\" : \"NA\",\n",
    "    \"Collateral\" : \"NA\",\n",
    "    \"Subordination\" : \"NA\",\n",
    "    \"Defaulted Interest\" : \"Pricing / Interest\", \n",
    "    \"Prepayments\" : \"Prepayment / Redemption\",\n",
    "    \"Interest Payment Dates\":  \"Pricing / Interest\",\n",
    "    \"NA\": \"NA\",\n",
    "    \"Use of Proceeds\": \"NA\", \n",
    "    \"Other Reporting Requirements\": \"Reporting Requirements\", \n",
    "    \"Interest / Pricing\": \"Pricing / Interest\",\n",
    "\n",
    "    \n",
    "})"
   ]
  },
  {
   "cell_type": "code",
   "execution_count": 52,
   "id": "08c759b0-2d98-4d8a-8de7-166994ca62d3",
   "metadata": {
    "tags": []
   },
   "outputs": [],
   "source": [
    "for tag in all_tags: # all tags from dataset \n",
    "    if tag in nst_to_st:\n",
    "        visited_st[nst_to_st[tag]] = True\n",
    "    else:\n",
    "        print(tag)"
   ]
  },
  {
   "cell_type": "code",
   "execution_count": 53,
   "id": "386fcfca-448d-404e-a934-5f170c5bd87e",
   "metadata": {
    "tags": []
   },
   "outputs": [
    {
     "name": "stdout",
     "output_type": "stream",
     "text": [
      "Other Reporting Requirements\n"
     ]
    }
   ],
   "source": [
    "for key, visited in visited_st.items(): \n",
    "    if not visited: \n",
    "        print(key)"
   ]
  },
  {
   "cell_type": "code",
   "execution_count": 54,
   "id": "1ffc1f81-9028-4b75-9f6c-ee0a6b82ee6c",
   "metadata": {
    "tags": []
   },
   "outputs": [
    {
     "name": "stdout",
     "output_type": "stream",
     "text": [
      "Total Size of Updated Tagging (25, 3)\n"
     ]
    }
   ],
   "source": [
    "print(\"Total Size of Updated Tagging\", tagging_df.shape)"
   ]
  },
  {
   "cell_type": "code",
   "execution_count": 55,
   "id": "96ab448f-491e-4f5b-9f3c-a670c3e1710a",
   "metadata": {
    "tags": []
   },
   "outputs": [
    {
     "data": {
      "text/html": [
       "<div>\n",
       "<style scoped>\n",
       "    .dataframe tbody tr th:only-of-type {\n",
       "        vertical-align: middle;\n",
       "    }\n",
       "\n",
       "    .dataframe tbody tr th {\n",
       "        vertical-align: top;\n",
       "    }\n",
       "\n",
       "    .dataframe thead th {\n",
       "        text-align: right;\n",
       "    }\n",
       "</style>\n",
       "<table border=\"1\" class=\"dataframe\">\n",
       "  <thead>\n",
       "    <tr style=\"text-align: right;\">\n",
       "      <th></th>\n",
       "      <th>tags</th>\n",
       "      <th>0</th>\n",
       "    </tr>\n",
       "  </thead>\n",
       "  <tbody>\n",
       "    <tr>\n",
       "      <th>24</th>\n",
       "      <td>NA</td>\n",
       "      <td>11635</td>\n",
       "    </tr>\n",
       "    <tr>\n",
       "      <th>0</th>\n",
       "      <td></td>\n",
       "      <td>239</td>\n",
       "    </tr>\n",
       "    <tr>\n",
       "      <th>13</th>\n",
       "      <td>Facilities / Instrument</td>\n",
       "      <td>173</td>\n",
       "    </tr>\n",
       "    <tr>\n",
       "      <th>2</th>\n",
       "      <td>Amendments</td>\n",
       "      <td>166</td>\n",
       "    </tr>\n",
       "    <tr>\n",
       "      <th>7</th>\n",
       "      <td>Consequences of Default</td>\n",
       "      <td>138</td>\n",
       "    </tr>\n",
       "    <tr>\n",
       "      <th>18</th>\n",
       "      <td>Governing Laws</td>\n",
       "      <td>114</td>\n",
       "    </tr>\n",
       "    <tr>\n",
       "      <th>22</th>\n",
       "      <td>Loan Repayment</td>\n",
       "      <td>113</td>\n",
       "    </tr>\n",
       "    <tr>\n",
       "      <th>1</th>\n",
       "      <td>Additional Liens</td>\n",
       "      <td>112</td>\n",
       "    </tr>\n",
       "    <tr>\n",
       "      <th>21</th>\n",
       "      <td>Interest Rate</td>\n",
       "      <td>112</td>\n",
       "    </tr>\n",
       "    <tr>\n",
       "      <th>4</th>\n",
       "      <td>Assignments</td>\n",
       "      <td>107</td>\n",
       "    </tr>\n",
       "    <tr>\n",
       "      <th>11</th>\n",
       "      <td>Events of Default</td>\n",
       "      <td>103</td>\n",
       "    </tr>\n",
       "    <tr>\n",
       "      <th>28</th>\n",
       "      <td>Premium and Fees</td>\n",
       "      <td>102</td>\n",
       "    </tr>\n",
       "    <tr>\n",
       "      <th>15</th>\n",
       "      <td>Financial Covenant</td>\n",
       "      <td>102</td>\n",
       "    </tr>\n",
       "    <tr>\n",
       "      <th>38</th>\n",
       "      <td>Waterfall of Proceeds</td>\n",
       "      <td>91</td>\n",
       "    </tr>\n",
       "    <tr>\n",
       "      <th>31</th>\n",
       "      <td>Reporting Requirements</td>\n",
       "      <td>87</td>\n",
       "    </tr>\n",
       "    <tr>\n",
       "      <th>3</th>\n",
       "      <td>Asset Disposition</td>\n",
       "      <td>68</td>\n",
       "    </tr>\n",
       "    <tr>\n",
       "      <th>29</th>\n",
       "      <td>Prepayment</td>\n",
       "      <td>66</td>\n",
       "    </tr>\n",
       "    <tr>\n",
       "      <th>36</th>\n",
       "      <td>Transactions with Affiliates</td>\n",
       "      <td>66</td>\n",
       "    </tr>\n",
       "    <tr>\n",
       "      <th>27</th>\n",
       "      <td>Permitted Indebtedness</td>\n",
       "      <td>63</td>\n",
       "    </tr>\n",
       "    <tr>\n",
       "      <th>33</th>\n",
       "      <td>Restricted Payments</td>\n",
       "      <td>62</td>\n",
       "    </tr>\n",
       "    <tr>\n",
       "      <th>19</th>\n",
       "      <td>Incremental Facilities</td>\n",
       "      <td>50</td>\n",
       "    </tr>\n",
       "    <tr>\n",
       "      <th>25</th>\n",
       "      <td>Optional Prepayment / Redemption</td>\n",
       "      <td>48</td>\n",
       "    </tr>\n",
       "    <tr>\n",
       "      <th>32</th>\n",
       "      <td>Restricted Investments</td>\n",
       "      <td>36</td>\n",
       "    </tr>\n",
       "    <tr>\n",
       "      <th>23</th>\n",
       "      <td>Mandatory Prepayments / Redemption</td>\n",
       "      <td>30</td>\n",
       "    </tr>\n",
       "    <tr>\n",
       "      <th>9</th>\n",
       "      <td>Defaulted Interest</td>\n",
       "      <td>26</td>\n",
       "    </tr>\n",
       "    <tr>\n",
       "      <th>6</th>\n",
       "      <td>Compliance Certificate</td>\n",
       "      <td>25</td>\n",
       "    </tr>\n",
       "    <tr>\n",
       "      <th>16</th>\n",
       "      <td>Financial Statements</td>\n",
       "      <td>24</td>\n",
       "    </tr>\n",
       "    <tr>\n",
       "      <th>26</th>\n",
       "      <td>Other Reporting Requirements</td>\n",
       "      <td>12</td>\n",
       "    </tr>\n",
       "    <tr>\n",
       "      <th>10</th>\n",
       "      <td>ESG Reporting Obligations</td>\n",
       "      <td>9</td>\n",
       "    </tr>\n",
       "    <tr>\n",
       "      <th>20</th>\n",
       "      <td>Interest Payment Dates</td>\n",
       "      <td>8</td>\n",
       "    </tr>\n",
       "    <tr>\n",
       "      <th>34</th>\n",
       "      <td>Subordination</td>\n",
       "      <td>2</td>\n",
       "    </tr>\n",
       "    <tr>\n",
       "      <th>12</th>\n",
       "      <td>Facilities</td>\n",
       "      <td>2</td>\n",
       "    </tr>\n",
       "    <tr>\n",
       "      <th>8</th>\n",
       "      <td>Default</td>\n",
       "      <td>2</td>\n",
       "    </tr>\n",
       "    <tr>\n",
       "      <th>5</th>\n",
       "      <td>Collateral</td>\n",
       "      <td>1</td>\n",
       "    </tr>\n",
       "    <tr>\n",
       "      <th>14</th>\n",
       "      <td>Facilities / Instruments</td>\n",
       "      <td>1</td>\n",
       "    </tr>\n",
       "    <tr>\n",
       "      <th>17</th>\n",
       "      <td>Governing Law</td>\n",
       "      <td>1</td>\n",
       "    </tr>\n",
       "    <tr>\n",
       "      <th>30</th>\n",
       "      <td>Prepayments</td>\n",
       "      <td>1</td>\n",
       "    </tr>\n",
       "    <tr>\n",
       "      <th>35</th>\n",
       "      <td>Subsidiary</td>\n",
       "      <td>1</td>\n",
       "    </tr>\n",
       "    <tr>\n",
       "      <th>37</th>\n",
       "      <td>Use of Proceeds</td>\n",
       "      <td>1</td>\n",
       "    </tr>\n",
       "  </tbody>\n",
       "</table>\n",
       "</div>"
      ],
      "text/plain": [
       "                                  tags      0\n",
       "24                                  NA  11635\n",
       "0                                         239\n",
       "13             Facilities / Instrument    173\n",
       "2                           Amendments    166\n",
       "7              Consequences of Default    138\n",
       "18                      Governing Laws    114\n",
       "22                      Loan Repayment    113\n",
       "1                     Additional Liens    112\n",
       "21                       Interest Rate    112\n",
       "4                          Assignments    107\n",
       "11                   Events of Default    103\n",
       "28                    Premium and Fees    102\n",
       "15                  Financial Covenant    102\n",
       "38               Waterfall of Proceeds     91\n",
       "31              Reporting Requirements     87\n",
       "3                    Asset Disposition     68\n",
       "29                          Prepayment     66\n",
       "36        Transactions with Affiliates     66\n",
       "27              Permitted Indebtedness     63\n",
       "33                 Restricted Payments     62\n",
       "19              Incremental Facilities     50\n",
       "25    Optional Prepayment / Redemption     48\n",
       "32              Restricted Investments     36\n",
       "23  Mandatory Prepayments / Redemption     30\n",
       "9                   Defaulted Interest     26\n",
       "6               Compliance Certificate     25\n",
       "16                Financial Statements     24\n",
       "26        Other Reporting Requirements     12\n",
       "10           ESG Reporting Obligations      9\n",
       "20              Interest Payment Dates      8\n",
       "34                       Subordination      2\n",
       "12                          Facilities      2\n",
       "8                              Default      2\n",
       "5                           Collateral      1\n",
       "14            Facilities / Instruments      1\n",
       "17                       Governing Law      1\n",
       "30                         Prepayments      1\n",
       "35                          Subsidiary      1\n",
       "37                     Use of Proceeds      1"
      ]
     },
     "execution_count": 55,
     "metadata": {},
     "output_type": "execute_result"
    }
   ],
   "source": [
    "df[['tags']].groupby('tags').size().reset_index().sort_values(by=0, ascending=False)"
   ]
  },
  {
   "cell_type": "code",
   "execution_count": 56,
   "id": "5f7ac515-d636-481f-beec-40c3e73a5a9a",
   "metadata": {
    "tags": []
   },
   "outputs": [
    {
     "name": "stdout",
     "output_type": "stream",
     "text": [
      "Number of files with empty section content: 50\n",
      "Number of files with empty section and tag present content: 50\n",
      "Number of records where section is empty: 504\n"
     ]
    }
   ],
   "source": [
    "print(f\"Number of files with empty section content: {pd.unique(df[df['section_content'].isna()].filename).shape[0]}\")\n",
    "print(f\"Number of files with empty section and tag present content: {pd.unique(df[(df['section_content'].isna()) & (df['tags'].notna()) ].filename).shape[0]}\")\n",
    "print(f\"Number of records where section is empty: {df[(df['section_content'].isna())].shape[0]}\")"
   ]
  },
  {
   "cell_type": "code",
   "execution_count": 57,
   "id": "dec32d02-4c68-47aa-b6e9-54a2999b9b9a",
   "metadata": {
    "tags": []
   },
   "outputs": [],
   "source": [
    "df['section_content'] = df['section_content'].fillna(\"\")\n",
    "df['tags'] = df['tags'].fillna(\"NA\")\n",
    "df['title'] = df['title'].fillna(\"\") \n",
    "df['category'] = df['category'].fillna(\"\")"
   ]
  },
  {
   "cell_type": "code",
   "execution_count": 58,
   "id": "261864bc-e388-420f-ada7-e01d833883ce",
   "metadata": {
    "tags": []
   },
   "outputs": [],
   "source": [
    "df['word_count'] = df['section_content'].fillna(\"\").apply(lambda x : len(x.split()))"
   ]
  },
  {
   "cell_type": "markdown",
   "id": "b3a52536-0852-4915-a90c-ef4fa461fb02",
   "metadata": {},
   "source": [
    "# Filter section content with small text"
   ]
  },
  {
   "cell_type": "code",
   "execution_count": 59,
   "id": "e16bb24d-30aa-476a-8701-895dca49bb76",
   "metadata": {
    "tags": []
   },
   "outputs": [],
   "source": [
    "df = df[(df.word_count > 20)]\n",
    "df = df.fillna(\"NA\") "
   ]
  },
  {
   "cell_type": "code",
   "execution_count": 60,
   "id": "f2a73421-7164-4c07-9213-c623042a9418",
   "metadata": {
    "tags": []
   },
   "outputs": [],
   "source": [
    "# df['section_content'] = df['title'].apply(lambda x: f\"Title is {x}\") + \"\\n\" + df['category'].apply(lambda x: f\"Category is {x}\") + \"\\n\" +  df['section_content']\n",
    "df['section_content'] = df['title'].apply(lambda x: f\"Title is {x}\") + \"\\n\" +  df['section_content']"
   ]
  },
  {
   "cell_type": "code",
   "execution_count": 61,
   "id": "bc5e62ca-c304-436d-aef2-1753058a8331",
   "metadata": {
    "tags": []
   },
   "outputs": [],
   "source": [
    "df['standard_tags'] = df.tags.map(lambda x: nst_to_st[x])"
   ]
  },
  {
   "cell_type": "code",
   "execution_count": 62,
   "id": "e1a6a593-0749-4cc1-b8b1-bbe7456373c8",
   "metadata": {
    "tags": []
   },
   "outputs": [],
   "source": [
    "df.to_json(\"./data/all-data-raw-standard-tags.json\")"
   ]
  },
  {
   "cell_type": "code",
   "execution_count": 34,
   "id": "a1267908-776a-4854-a382-2610ae80f166",
   "metadata": {
    "tags": []
   },
   "outputs": [
    {
     "data": {
      "text/plain": [
       "count    13032.000000\n",
       "mean       472.137431\n",
       "std        687.562411\n",
       "min         21.000000\n",
       "25%        114.000000\n",
       "50%        245.000000\n",
       "75%        543.000000\n",
       "max       9381.000000\n",
       "Name: word_count, dtype: float64"
      ]
     },
     "execution_count": 34,
     "metadata": {},
     "output_type": "execute_result"
    }
   ],
   "source": [
    "df.word_count.describe()"
   ]
  },
  {
   "cell_type": "markdown",
   "id": "542e8c88-8ab9-4568-b10d-c2b773272b71",
   "metadata": {},
   "source": [
    "# Preprocessing "
   ]
  },
  {
   "cell_type": "code",
   "execution_count": 35,
   "id": "cb765154-adfb-48e6-a1e1-99ca2f4f2345",
   "metadata": {
    "tags": []
   },
   "outputs": [],
   "source": [
    "df = pd.read_json(\"./data/all-data-raw-standard-tags.json\")"
   ]
  },
  {
   "cell_type": "code",
   "execution_count": 36,
   "id": "105f2487-bc3c-424d-8c03-b6700f716fa4",
   "metadata": {
    "tags": []
   },
   "outputs": [],
   "source": [
    "df = df.drop_duplicates('section_content') "
   ]
  },
  {
   "cell_type": "markdown",
   "id": "65809bb6-7451-403d-b7b7-07e88eb42ef3",
   "metadata": {},
   "source": [
    "## Select content only form shortlisted files"
   ]
  },
  {
   "cell_type": "code",
   "execution_count": 37,
   "id": "8147fc85-9550-432d-b63f-12e0db478ab3",
   "metadata": {
    "tags": []
   },
   "outputs": [],
   "source": [
    "file_analysis_df = pd.read_excel(\"./data/File-Analysis.xlsx\")"
   ]
  },
  {
   "cell_type": "code",
   "execution_count": 38,
   "id": "a93470f0-18d1-4e97-bb9d-014faccad312",
   "metadata": {
    "tags": []
   },
   "outputs": [],
   "source": [
    "good_files = set(file_analysis_df.File.to_list()[:100])"
   ]
  },
  {
   "cell_type": "code",
   "execution_count": 39,
   "id": "8370e9a6-cfe0-4604-9add-c916038af23e",
   "metadata": {
    "tags": []
   },
   "outputs": [],
   "source": [
    "df['tags'] = df['tags'].str.replace(\"Events of Default\", \"Event of Default\")"
   ]
  },
  {
   "cell_type": "code",
   "execution_count": 40,
   "id": "f6f8a913-0e6e-4702-a841-00a3546aa82b",
   "metadata": {
    "tags": []
   },
   "outputs": [],
   "source": [
    "# df = df[df.filename.str.contains(\"Agreement\", case=False)]"
   ]
  },
  {
   "cell_type": "code",
   "execution_count": 41,
   "id": "7642cf75-f44e-4b73-9ddd-13c49b669fe2",
   "metadata": {
    "tags": []
   },
   "outputs": [],
   "source": [
    "df = df.drop_duplicates('section_content', keep=False)"
   ]
  },
  {
   "cell_type": "code",
   "execution_count": 42,
   "id": "69a83207-c465-4be3-b780-3d197bbbe713",
   "metadata": {
    "tags": []
   },
   "outputs": [],
   "source": [
    "df = df[df.filename.map(lambda x: x in good_files)]"
   ]
  },
  {
   "cell_type": "code",
   "execution_count": 43,
   "id": "67062c16-e702-4f85-a39e-5fd4fd087e89",
   "metadata": {
    "tags": []
   },
   "outputs": [],
   "source": [
    "df['standard_tags'] = df.tags.map(lambda x: nst_to_st[x])"
   ]
  },
  {
   "cell_type": "code",
   "execution_count": 44,
   "id": "9f3258e2-bd75-48ef-94a6-f9ef707c99d3",
   "metadata": {
    "tags": []
   },
   "outputs": [
    {
     "data": {
      "text/html": [
       "<div>\n",
       "<style scoped>\n",
       "    .dataframe tbody tr th:only-of-type {\n",
       "        vertical-align: middle;\n",
       "    }\n",
       "\n",
       "    .dataframe tbody tr th {\n",
       "        vertical-align: top;\n",
       "    }\n",
       "\n",
       "    .dataframe thead th {\n",
       "        text-align: right;\n",
       "    }\n",
       "</style>\n",
       "<table border=\"1\" class=\"dataframe\">\n",
       "  <thead>\n",
       "    <tr style=\"text-align: right;\">\n",
       "      <th></th>\n",
       "      <th>standard_tags</th>\n",
       "      <th>0</th>\n",
       "    </tr>\n",
       "  </thead>\n",
       "  <tbody>\n",
       "    <tr>\n",
       "      <th>12</th>\n",
       "      <td>Interest / Pricing</td>\n",
       "      <td>12</td>\n",
       "    </tr>\n",
       "    <tr>\n",
       "      <th>4</th>\n",
       "      <td>Compliance Certificate</td>\n",
       "      <td>13</td>\n",
       "    </tr>\n",
       "    <tr>\n",
       "      <th>13</th>\n",
       "      <td>Mandatory Prepayments / Redemption</td>\n",
       "      <td>14</td>\n",
       "    </tr>\n",
       "    <tr>\n",
       "      <th>9</th>\n",
       "      <td>Financial Statements</td>\n",
       "      <td>23</td>\n",
       "    </tr>\n",
       "    <tr>\n",
       "      <th>22</th>\n",
       "      <td>Restricted Investments</td>\n",
       "      <td>23</td>\n",
       "    </tr>\n",
       "    <tr>\n",
       "      <th>15</th>\n",
       "      <td>Optional Prepayment / Redemption</td>\n",
       "      <td>28</td>\n",
       "    </tr>\n",
       "    <tr>\n",
       "      <th>23</th>\n",
       "      <td>Restricted Payments</td>\n",
       "      <td>42</td>\n",
       "    </tr>\n",
       "    <tr>\n",
       "      <th>11</th>\n",
       "      <td>Incremental Facilities</td>\n",
       "      <td>42</td>\n",
       "    </tr>\n",
       "    <tr>\n",
       "      <th>16</th>\n",
       "      <td>Permitted Indebtedness</td>\n",
       "      <td>45</td>\n",
       "    </tr>\n",
       "    <tr>\n",
       "      <th>6</th>\n",
       "      <td>Event of Default</td>\n",
       "      <td>47</td>\n",
       "    </tr>\n",
       "    <tr>\n",
       "      <th>5</th>\n",
       "      <td>Consequences of Default</td>\n",
       "      <td>47</td>\n",
       "    </tr>\n",
       "    <tr>\n",
       "      <th>2</th>\n",
       "      <td>Asset Disposition</td>\n",
       "      <td>48</td>\n",
       "    </tr>\n",
       "    <tr>\n",
       "      <th>24</th>\n",
       "      <td>Transactions with Affiliates</td>\n",
       "      <td>48</td>\n",
       "    </tr>\n",
       "    <tr>\n",
       "      <th>19</th>\n",
       "      <td>Prepayment / Redemption</td>\n",
       "      <td>57</td>\n",
       "    </tr>\n",
       "    <tr>\n",
       "      <th>25</th>\n",
       "      <td>Waterfall of Proceeds</td>\n",
       "      <td>65</td>\n",
       "    </tr>\n",
       "    <tr>\n",
       "      <th>10</th>\n",
       "      <td>Governing Laws</td>\n",
       "      <td>73</td>\n",
       "    </tr>\n",
       "    <tr>\n",
       "      <th>21</th>\n",
       "      <td>Reporting Requirements</td>\n",
       "      <td>73</td>\n",
       "    </tr>\n",
       "    <tr>\n",
       "      <th>8</th>\n",
       "      <td>Financial Covenant</td>\n",
       "      <td>77</td>\n",
       "    </tr>\n",
       "    <tr>\n",
       "      <th>18</th>\n",
       "      <td>Premium and Fees</td>\n",
       "      <td>80</td>\n",
       "    </tr>\n",
       "    <tr>\n",
       "      <th>17</th>\n",
       "      <td>Permitted Liens</td>\n",
       "      <td>81</td>\n",
       "    </tr>\n",
       "    <tr>\n",
       "      <th>3</th>\n",
       "      <td>Assignments</td>\n",
       "      <td>82</td>\n",
       "    </tr>\n",
       "    <tr>\n",
       "      <th>1</th>\n",
       "      <td>Amortization Schedule / Loan Repayment</td>\n",
       "      <td>83</td>\n",
       "    </tr>\n",
       "    <tr>\n",
       "      <th>20</th>\n",
       "      <td>Pricing / Interest</td>\n",
       "      <td>89</td>\n",
       "    </tr>\n",
       "    <tr>\n",
       "      <th>0</th>\n",
       "      <td>Amendments</td>\n",
       "      <td>105</td>\n",
       "    </tr>\n",
       "    <tr>\n",
       "      <th>7</th>\n",
       "      <td>Facilities / Instrument</td>\n",
       "      <td>135</td>\n",
       "    </tr>\n",
       "    <tr>\n",
       "      <th>14</th>\n",
       "      <td>NA</td>\n",
       "      <td>6850</td>\n",
       "    </tr>\n",
       "  </tbody>\n",
       "</table>\n",
       "</div>"
      ],
      "text/plain": [
       "                             standard_tags     0\n",
       "12                      Interest / Pricing    12\n",
       "4                   Compliance Certificate    13\n",
       "13      Mandatory Prepayments / Redemption    14\n",
       "9                     Financial Statements    23\n",
       "22                  Restricted Investments    23\n",
       "15        Optional Prepayment / Redemption    28\n",
       "23                     Restricted Payments    42\n",
       "11                  Incremental Facilities    42\n",
       "16                  Permitted Indebtedness    45\n",
       "6                         Event of Default    47\n",
       "5                  Consequences of Default    47\n",
       "2                        Asset Disposition    48\n",
       "24            Transactions with Affiliates    48\n",
       "19                 Prepayment / Redemption    57\n",
       "25                   Waterfall of Proceeds    65\n",
       "10                          Governing Laws    73\n",
       "21                  Reporting Requirements    73\n",
       "8                       Financial Covenant    77\n",
       "18                        Premium and Fees    80\n",
       "17                         Permitted Liens    81\n",
       "3                              Assignments    82\n",
       "1   Amortization Schedule / Loan Repayment    83\n",
       "20                      Pricing / Interest    89\n",
       "0                               Amendments   105\n",
       "7                  Facilities / Instrument   135\n",
       "14                                      NA  6850"
      ]
     },
     "execution_count": 44,
     "metadata": {},
     "output_type": "execute_result"
    }
   ],
   "source": [
    "df[['standard_tags']].groupby('standard_tags').size().reset_index().sort_values(by=0)"
   ]
  },
  {
   "cell_type": "code",
   "execution_count": 45,
   "id": "4a0a9537-17e6-43cc-afe0-c9b3eac6085d",
   "metadata": {
    "tags": []
   },
   "outputs": [
    {
     "data": {
      "text/html": [
       "<div>\n",
       "<style scoped>\n",
       "    .dataframe tbody tr th:only-of-type {\n",
       "        vertical-align: middle;\n",
       "    }\n",
       "\n",
       "    .dataframe tbody tr th {\n",
       "        vertical-align: top;\n",
       "    }\n",
       "\n",
       "    .dataframe thead th {\n",
       "        text-align: right;\n",
       "    }\n",
       "</style>\n",
       "<table border=\"1\" class=\"dataframe\">\n",
       "  <thead>\n",
       "    <tr style=\"text-align: right;\">\n",
       "      <th></th>\n",
       "      <th>tags</th>\n",
       "      <th>0</th>\n",
       "    </tr>\n",
       "  </thead>\n",
       "  <tbody>\n",
       "    <tr>\n",
       "      <th>6</th>\n",
       "      <td>Default</td>\n",
       "      <td>1</td>\n",
       "    </tr>\n",
       "    <tr>\n",
       "      <th>15</th>\n",
       "      <td>Governing Law</td>\n",
       "      <td>1</td>\n",
       "    </tr>\n",
       "    <tr>\n",
       "      <th>12</th>\n",
       "      <td>Facilities / Instruments</td>\n",
       "      <td>1</td>\n",
       "    </tr>\n",
       "    <tr>\n",
       "      <th>28</th>\n",
       "      <td>Prepayments</td>\n",
       "      <td>1</td>\n",
       "    </tr>\n",
       "    <tr>\n",
       "      <th>35</th>\n",
       "      <td>Use of Proceeds</td>\n",
       "      <td>1</td>\n",
       "    </tr>\n",
       "    <tr>\n",
       "      <th>33</th>\n",
       "      <td>Subsidiary</td>\n",
       "      <td>1</td>\n",
       "    </tr>\n",
       "    <tr>\n",
       "      <th>10</th>\n",
       "      <td>Facilities</td>\n",
       "      <td>2</td>\n",
       "    </tr>\n",
       "    <tr>\n",
       "      <th>32</th>\n",
       "      <td>Subordination</td>\n",
       "      <td>2</td>\n",
       "    </tr>\n",
       "    <tr>\n",
       "      <th>24</th>\n",
       "      <td>Other Reporting Requirements</td>\n",
       "      <td>5</td>\n",
       "    </tr>\n",
       "    <tr>\n",
       "      <th>18</th>\n",
       "      <td>Interest Payment Dates</td>\n",
       "      <td>5</td>\n",
       "    </tr>\n",
       "    <tr>\n",
       "      <th>8</th>\n",
       "      <td>ESG Reporting Obligations</td>\n",
       "      <td>6</td>\n",
       "    </tr>\n",
       "    <tr>\n",
       "      <th>7</th>\n",
       "      <td>Defaulted Interest</td>\n",
       "      <td>12</td>\n",
       "    </tr>\n",
       "    <tr>\n",
       "      <th>4</th>\n",
       "      <td>Compliance Certificate</td>\n",
       "      <td>13</td>\n",
       "    </tr>\n",
       "    <tr>\n",
       "      <th>21</th>\n",
       "      <td>Mandatory Prepayments / Redemption</td>\n",
       "      <td>14</td>\n",
       "    </tr>\n",
       "    <tr>\n",
       "      <th>14</th>\n",
       "      <td>Financial Statements</td>\n",
       "      <td>23</td>\n",
       "    </tr>\n",
       "    <tr>\n",
       "      <th>30</th>\n",
       "      <td>Restricted Investments</td>\n",
       "      <td>23</td>\n",
       "    </tr>\n",
       "    <tr>\n",
       "      <th>23</th>\n",
       "      <td>Optional Prepayment / Redemption</td>\n",
       "      <td>28</td>\n",
       "    </tr>\n",
       "    <tr>\n",
       "      <th>17</th>\n",
       "      <td>Incremental Facilities</td>\n",
       "      <td>40</td>\n",
       "    </tr>\n",
       "    <tr>\n",
       "      <th>31</th>\n",
       "      <td>Restricted Payments</td>\n",
       "      <td>42</td>\n",
       "    </tr>\n",
       "    <tr>\n",
       "      <th>25</th>\n",
       "      <td>Permitted Indebtedness</td>\n",
       "      <td>45</td>\n",
       "    </tr>\n",
       "    <tr>\n",
       "      <th>9</th>\n",
       "      <td>Event of Default</td>\n",
       "      <td>46</td>\n",
       "    </tr>\n",
       "    <tr>\n",
       "      <th>5</th>\n",
       "      <td>Consequences of Default</td>\n",
       "      <td>47</td>\n",
       "    </tr>\n",
       "    <tr>\n",
       "      <th>34</th>\n",
       "      <td>Transactions with Affiliates</td>\n",
       "      <td>48</td>\n",
       "    </tr>\n",
       "    <tr>\n",
       "      <th>2</th>\n",
       "      <td>Asset Disposition</td>\n",
       "      <td>48</td>\n",
       "    </tr>\n",
       "    <tr>\n",
       "      <th>27</th>\n",
       "      <td>Prepayment</td>\n",
       "      <td>56</td>\n",
       "    </tr>\n",
       "    <tr>\n",
       "      <th>29</th>\n",
       "      <td>Reporting Requirements</td>\n",
       "      <td>62</td>\n",
       "    </tr>\n",
       "    <tr>\n",
       "      <th>36</th>\n",
       "      <td>Waterfall of Proceeds</td>\n",
       "      <td>65</td>\n",
       "    </tr>\n",
       "    <tr>\n",
       "      <th>16</th>\n",
       "      <td>Governing Laws</td>\n",
       "      <td>72</td>\n",
       "    </tr>\n",
       "    <tr>\n",
       "      <th>13</th>\n",
       "      <td>Financial Covenant</td>\n",
       "      <td>77</td>\n",
       "    </tr>\n",
       "    <tr>\n",
       "      <th>26</th>\n",
       "      <td>Premium and Fees</td>\n",
       "      <td>80</td>\n",
       "    </tr>\n",
       "    <tr>\n",
       "      <th>0</th>\n",
       "      <td>Additional Liens</td>\n",
       "      <td>81</td>\n",
       "    </tr>\n",
       "    <tr>\n",
       "      <th>3</th>\n",
       "      <td>Assignments</td>\n",
       "      <td>82</td>\n",
       "    </tr>\n",
       "    <tr>\n",
       "      <th>20</th>\n",
       "      <td>Loan Repayment</td>\n",
       "      <td>83</td>\n",
       "    </tr>\n",
       "    <tr>\n",
       "      <th>19</th>\n",
       "      <td>Interest Rate</td>\n",
       "      <td>84</td>\n",
       "    </tr>\n",
       "    <tr>\n",
       "      <th>1</th>\n",
       "      <td>Amendments</td>\n",
       "      <td>105</td>\n",
       "    </tr>\n",
       "    <tr>\n",
       "      <th>11</th>\n",
       "      <td>Facilities / Instrument</td>\n",
       "      <td>134</td>\n",
       "    </tr>\n",
       "    <tr>\n",
       "      <th>22</th>\n",
       "      <td>NA</td>\n",
       "      <td>6846</td>\n",
       "    </tr>\n",
       "  </tbody>\n",
       "</table>\n",
       "</div>"
      ],
      "text/plain": [
       "                                  tags     0\n",
       "6                              Default     1\n",
       "15                       Governing Law     1\n",
       "12            Facilities / Instruments     1\n",
       "28                         Prepayments     1\n",
       "35                     Use of Proceeds     1\n",
       "33                          Subsidiary     1\n",
       "10                          Facilities     2\n",
       "32                       Subordination     2\n",
       "24        Other Reporting Requirements     5\n",
       "18              Interest Payment Dates     5\n",
       "8            ESG Reporting Obligations     6\n",
       "7                   Defaulted Interest    12\n",
       "4               Compliance Certificate    13\n",
       "21  Mandatory Prepayments / Redemption    14\n",
       "14                Financial Statements    23\n",
       "30              Restricted Investments    23\n",
       "23    Optional Prepayment / Redemption    28\n",
       "17              Incremental Facilities    40\n",
       "31                 Restricted Payments    42\n",
       "25              Permitted Indebtedness    45\n",
       "9                     Event of Default    46\n",
       "5              Consequences of Default    47\n",
       "34        Transactions with Affiliates    48\n",
       "2                    Asset Disposition    48\n",
       "27                          Prepayment    56\n",
       "29              Reporting Requirements    62\n",
       "36               Waterfall of Proceeds    65\n",
       "16                      Governing Laws    72\n",
       "13                  Financial Covenant    77\n",
       "26                    Premium and Fees    80\n",
       "0                     Additional Liens    81\n",
       "3                          Assignments    82\n",
       "20                      Loan Repayment    83\n",
       "19                       Interest Rate    84\n",
       "1                           Amendments   105\n",
       "11             Facilities / Instrument   134\n",
       "22                                  NA  6846"
      ]
     },
     "execution_count": 45,
     "metadata": {},
     "output_type": "execute_result"
    }
   ],
   "source": [
    "df[['tags']].groupby('tags').size().reset_index().sort_values(by=0)"
   ]
  },
  {
   "cell_type": "code",
   "execution_count": 46,
   "id": "793aac26-a686-4b82-842e-020cc6805392",
   "metadata": {
    "tags": []
   },
   "outputs": [
    {
     "data": {
      "text/plain": [
       "count    8282.000000\n",
       "mean      497.042864\n",
       "std       686.534330\n",
       "min        21.000000\n",
       "25%       121.000000\n",
       "50%       263.000000\n",
       "75%       584.000000\n",
       "max      9381.000000\n",
       "Name: word_count, dtype: float64"
      ]
     },
     "execution_count": 46,
     "metadata": {},
     "output_type": "execute_result"
    }
   ],
   "source": [
    "df.word_count.describe()"
   ]
  },
  {
   "cell_type": "code",
   "execution_count": 47,
   "id": "737474d6-2c82-4518-b906-71e4e4bf02d6",
   "metadata": {},
   "outputs": [],
   "source": [
    "df =  df.drop(columns = 'tags')"
   ]
  },
  {
   "cell_type": "code",
   "execution_count": 48,
   "id": "4d07f106-2ca6-4131-8b43-a86b2dfd9cde",
   "metadata": {
    "tags": []
   },
   "outputs": [
    {
     "data": {
      "text/html": [
       "<div>\n",
       "<style scoped>\n",
       "    .dataframe tbody tr th:only-of-type {\n",
       "        vertical-align: middle;\n",
       "    }\n",
       "\n",
       "    .dataframe tbody tr th {\n",
       "        vertical-align: top;\n",
       "    }\n",
       "\n",
       "    .dataframe thead th {\n",
       "        text-align: right;\n",
       "    }\n",
       "</style>\n",
       "<table border=\"1\" class=\"dataframe\">\n",
       "  <thead>\n",
       "    <tr style=\"text-align: right;\">\n",
       "      <th></th>\n",
       "      <th>title</th>\n",
       "      <th>category</th>\n",
       "      <th>checklists</th>\n",
       "      <th>section_content</th>\n",
       "      <th>filename</th>\n",
       "      <th>word_count</th>\n",
       "      <th>tags</th>\n",
       "    </tr>\n",
       "  </thead>\n",
       "  <tbody>\n",
       "    <tr>\n",
       "      <th>0</th>\n",
       "      <td>Computation of Time Periods</td>\n",
       "      <td>FYI</td>\n",
       "      <td>[]</td>\n",
       "      <td>Title is Computation of Time Periods\\nSection ...</td>\n",
       "      <td>Abbvie - 6,000,000,000 TERM LOAN CREDIT AGREEM...</td>\n",
       "      <td>51</td>\n",
       "      <td>NA</td>\n",
       "    </tr>\n",
       "    <tr>\n",
       "      <th>1</th>\n",
       "      <td>Accounting Terms</td>\n",
       "      <td>FYI</td>\n",
       "      <td>[]</td>\n",
       "      <td>Title is Accounting Terms\\nSection 1.03. Accou...</td>\n",
       "      <td>Abbvie - 6,000,000,000 TERM LOAN CREDIT AGREEM...</td>\n",
       "      <td>430</td>\n",
       "      <td>NA</td>\n",
       "    </tr>\n",
       "    <tr>\n",
       "      <th>2</th>\n",
       "      <td>Terms Generally</td>\n",
       "      <td>FYI</td>\n",
       "      <td>[]</td>\n",
       "      <td>Title is Terms Generally\\nSection 1.04. Terms ...</td>\n",
       "      <td>Abbvie - 6,000,000,000 TERM LOAN CREDIT AGREEM...</td>\n",
       "      <td>255</td>\n",
       "      <td>NA</td>\n",
       "    </tr>\n",
       "    <tr>\n",
       "      <th>3</th>\n",
       "      <td>Divisions</td>\n",
       "      <td>FYI</td>\n",
       "      <td>[]</td>\n",
       "      <td>Title is Divisions\\nSection 1.05. Divisions. F...</td>\n",
       "      <td>Abbvie - 6,000,000,000 TERM LOAN CREDIT AGREEM...</td>\n",
       "      <td>106</td>\n",
       "      <td>NA</td>\n",
       "    </tr>\n",
       "    <tr>\n",
       "      <th>4</th>\n",
       "      <td>The Advances</td>\n",
       "      <td>FYI</td>\n",
       "      <td>[]</td>\n",
       "      <td>Title is The Advances\\nSection 2.01. The Advan...</td>\n",
       "      <td>Abbvie - 6,000,000,000 TERM LOAN CREDIT AGREEM...</td>\n",
       "      <td>571</td>\n",
       "      <td>Facilities / Instrument</td>\n",
       "    </tr>\n",
       "  </tbody>\n",
       "</table>\n",
       "</div>"
      ],
      "text/plain": [
       "                         title category checklists  \\\n",
       "0  Computation of Time Periods      FYI         []   \n",
       "1             Accounting Terms      FYI         []   \n",
       "2              Terms Generally      FYI         []   \n",
       "3                    Divisions      FYI         []   \n",
       "4                 The Advances      FYI         []   \n",
       "\n",
       "                                     section_content  \\\n",
       "0  Title is Computation of Time Periods\\nSection ...   \n",
       "1  Title is Accounting Terms\\nSection 1.03. Accou...   \n",
       "2  Title is Terms Generally\\nSection 1.04. Terms ...   \n",
       "3  Title is Divisions\\nSection 1.05. Divisions. F...   \n",
       "4  Title is The Advances\\nSection 2.01. The Advan...   \n",
       "\n",
       "                                            filename  word_count  \\\n",
       "0  Abbvie - 6,000,000,000 TERM LOAN CREDIT AGREEM...          51   \n",
       "1  Abbvie - 6,000,000,000 TERM LOAN CREDIT AGREEM...         430   \n",
       "2  Abbvie - 6,000,000,000 TERM LOAN CREDIT AGREEM...         255   \n",
       "3  Abbvie - 6,000,000,000 TERM LOAN CREDIT AGREEM...         106   \n",
       "4  Abbvie - 6,000,000,000 TERM LOAN CREDIT AGREEM...         571   \n",
       "\n",
       "                      tags  \n",
       "0                       NA  \n",
       "1                       NA  \n",
       "2                       NA  \n",
       "3                       NA  \n",
       "4  Facilities / Instrument  "
      ]
     },
     "execution_count": 48,
     "metadata": {},
     "output_type": "execute_result"
    }
   ],
   "source": [
    "df = df.rename(columns = {'standard_tags': 'tags'})\n",
    "df.head()"
   ]
  },
  {
   "cell_type": "code",
   "execution_count": 77,
   "id": "68f16a99-9bc2-4ab2-90d7-80d36f9b5ea4",
   "metadata": {
    "tags": []
   },
   "outputs": [
    {
     "name": "stdout",
     "output_type": "stream",
     "text": [
      "(8282, 8)\n"
     ]
    }
   ],
   "source": [
    "print(df.shape)"
   ]
  },
  {
   "cell_type": "code",
   "execution_count": 49,
   "id": "317108e6-e70b-416e-ae7c-2c49fdc37b43",
   "metadata": {
    "tags": []
   },
   "outputs": [
    {
     "name": "stdout",
     "output_type": "stream",
     "text": [
      "Interest / Pricing : 12\n",
      "Compliance Certificate : 13\n",
      "Mandatory Prepayments / Redemption : 14\n",
      "Financial Statements : 23\n",
      "Restricted Investments : 23\n",
      "Optional Prepayment / Redemption : 28\n",
      "Restricted Payments : 42\n",
      "Incremental Facilities : 42\n",
      "Permitted Indebtedness : 45\n",
      "Event of Default : 47\n",
      "Consequences of Default : 47\n",
      "Asset Disposition : 48\n",
      "Transactions with Affiliates : 48\n",
      "Prepayment / Redemption : 57\n",
      "Waterfall of Proceeds : 65\n",
      "Governing Laws : 73\n",
      "Reporting Requirements : 73\n",
      "Financial Covenant : 77\n",
      "Premium and Fees : 80\n",
      "Permitted Liens : 81\n",
      "Assignments : 82\n",
      "Amortization Schedule / Loan Repayment : 83\n",
      "Pricing / Interest : 89\n",
      "Amendments : 105\n",
      "Facilities / Instrument : 135\n",
      "NA : 6850\n"
     ]
    }
   ],
   "source": [
    "for t in df[['tags']].groupby('tags').size().reset_index().sort_values(by=0).itertuples(): \n",
    "    print(t.tags,\":\", t._2)"
   ]
  },
  {
   "cell_type": "code",
   "execution_count": 50,
   "id": "4847d20f-175d-44ec-8ac4-c1cef04e806a",
   "metadata": {
    "tags": []
   },
   "outputs": [
    {
     "data": {
      "text/plain": [
       "count    8282.000000\n",
       "mean      497.042864\n",
       "std       686.534330\n",
       "min        21.000000\n",
       "25%       121.000000\n",
       "50%       263.000000\n",
       "75%       584.000000\n",
       "max      9381.000000\n",
       "Name: word_count, dtype: float64"
      ]
     },
     "execution_count": 50,
     "metadata": {},
     "output_type": "execute_result"
    }
   ],
   "source": [
    "df.word_count.describe()"
   ]
  },
  {
   "cell_type": "code",
   "execution_count": 51,
   "id": "04c7d994-0add-4e13-8d94-f1c2010a33e2",
   "metadata": {
    "tags": []
   },
   "outputs": [
    {
     "data": {
      "text/html": [
       "<div>\n",
       "<style scoped>\n",
       "    .dataframe tbody tr th:only-of-type {\n",
       "        vertical-align: middle;\n",
       "    }\n",
       "\n",
       "    .dataframe tbody tr th {\n",
       "        vertical-align: top;\n",
       "    }\n",
       "\n",
       "    .dataframe thead th {\n",
       "        text-align: right;\n",
       "    }\n",
       "</style>\n",
       "<table border=\"1\" class=\"dataframe\">\n",
       "  <thead>\n",
       "    <tr style=\"text-align: right;\">\n",
       "      <th></th>\n",
       "      <th>title</th>\n",
       "      <th>category</th>\n",
       "    </tr>\n",
       "    <tr>\n",
       "      <th>tags</th>\n",
       "      <th></th>\n",
       "      <th></th>\n",
       "    </tr>\n",
       "  </thead>\n",
       "  <tbody>\n",
       "    <tr>\n",
       "      <th>NA</th>\n",
       "      <td>{, Telephonic Notices, Delayed Draw Term Loan ...</td>\n",
       "      <td>{Affirmative Covenants, Negative Covenants, Ev...</td>\n",
       "    </tr>\n",
       "  </tbody>\n",
       "</table>\n",
       "</div>"
      ],
      "text/plain": [
       "                                                  title  \\\n",
       "tags                                                      \n",
       "NA    {, Telephonic Notices, Delayed Draw Term Loan ...   \n",
       "\n",
       "                                               category  \n",
       "tags                                                     \n",
       "NA    {Affirmative Covenants, Negative Covenants, Ev...  "
      ]
     },
     "execution_count": 51,
     "metadata": {},
     "output_type": "execute_result"
    }
   ],
   "source": [
    "df[df.tags == \"NA\"][['tags', 'title', 'category']].groupby('tags').agg(set)"
   ]
  },
  {
   "cell_type": "code",
   "execution_count": 52,
   "id": "4785d25f-ff91-493c-b440-639c83e2b900",
   "metadata": {
    "tags": []
   },
   "outputs": [],
   "source": [
    "agg_df = df[['tags', 'title' ]].groupby([ 'tags', 'title']).size().reset_index().sort_values(by=0).rename(columns={0:'freq'})"
   ]
  },
  {
   "cell_type": "code",
   "execution_count": 53,
   "id": "efda25db-9547-42b4-be0d-2bfabb43d35d",
   "metadata": {
    "tags": []
   },
   "outputs": [
    {
     "name": "stderr",
     "output_type": "stream",
     "text": [
      "/tmp/ipykernel_67/497309628.py:1: UserWarning: Boolean Series key will be reindexed to match DataFrame index.\n",
      "  tag_title_filter = {t.tags+\"\"+t.title for t in agg_df[agg_df.tags == \"NA\"][agg_df.freq <=3].itertuples()}\n"
     ]
    }
   ],
   "source": [
    "tag_title_filter = {t.tags+\"\"+t.title for t in agg_df[agg_df.tags == \"NA\"][agg_df.freq <=3].itertuples()}"
   ]
  },
  {
   "cell_type": "code",
   "execution_count": 54,
   "id": "ade72cf1-3e73-4202-a4ae-28d0b0923708",
   "metadata": {
    "tags": []
   },
   "outputs": [
    {
     "data": {
      "text/plain": [
       "1807"
      ]
     },
     "execution_count": 54,
     "metadata": {},
     "output_type": "execute_result"
    }
   ],
   "source": [
    "len(tag_title_filter)"
   ]
  },
  {
   "cell_type": "code",
   "execution_count": 55,
   "id": "884ec82b-8b08-427e-b6c2-3b45ab3094f1",
   "metadata": {
    "tags": []
   },
   "outputs": [],
   "source": [
    "df['tag_title'] = df.tags+df.title"
   ]
  },
  {
   "cell_type": "code",
   "execution_count": 56,
   "id": "27755fa7-6115-415f-8f5c-c78de39cc9c0",
   "metadata": {
    "tags": []
   },
   "outputs": [],
   "source": [
    "new_df = pd.concat([df[df.tags!=\"NA\"], df[df.tag_title.isin( tag_title_filter)]])"
   ]
  },
  {
   "cell_type": "code",
   "execution_count": 57,
   "id": "4ef64c8b-141d-479d-96a4-335de5bddbae",
   "metadata": {
    "tags": []
   },
   "outputs": [
    {
     "data": {
      "text/plain": [
       "count    3948.000000\n",
       "mean      588.744934\n",
       "std       798.959793\n",
       "min        21.000000\n",
       "25%       127.000000\n",
       "50%       292.000000\n",
       "75%       692.500000\n",
       "max      9381.000000\n",
       "Name: word_count, dtype: float64"
      ]
     },
     "execution_count": 57,
     "metadata": {},
     "output_type": "execute_result"
    }
   ],
   "source": [
    "new_df.word_count.describe()"
   ]
  },
  {
   "cell_type": "code",
   "execution_count": 68,
   "id": "547c4d67-6783-4bab-a9b3-c66894d7dacf",
   "metadata": {
    "tags": []
   },
   "outputs": [
    {
     "data": {
      "text/plain": [
       "3948"
      ]
     },
     "execution_count": 68,
     "metadata": {},
     "output_type": "execute_result"
    }
   ],
   "source": [
    "sum(new_df[['tags']].groupby('tags').size().reset_index().sort_values(by=0).rename(columns={0:\"freq\"}).freq.values)"
   ]
  },
  {
   "cell_type": "markdown",
   "id": "1e776ae9-4ccf-49de-ac33-f833f133caea",
   "metadata": {},
   "source": [
    "# Save Data cleaned for NA tags"
   ]
  },
  {
   "cell_type": "code",
   "execution_count": 63,
   "id": "fed011cf-0248-48f9-b7a3-c5b2fb82807d",
   "metadata": {
    "tags": []
   },
   "outputs": [],
   "source": [
    "new_df.to_json(\"./data/cleaned_tags_data_na_tag_v2_lt3.json\", orient='records')"
   ]
  },
  {
   "cell_type": "code",
   "execution_count": 72,
   "id": "1c7e8373-2132-4a04-a44a-db2e462bad4f",
   "metadata": {
    "tags": []
   },
   "outputs": [
    {
     "name": "stdout",
     "output_type": "stream",
     "text": [
      "(3948, 8)\n"
     ]
    }
   ],
   "source": [
    "print(new_df.shape)"
   ]
  },
  {
   "cell_type": "code",
   "execution_count": 73,
   "id": "aafc80a8-ce3c-4838-a619-1afb1acc099a",
   "metadata": {
    "tags": []
   },
   "outputs": [],
   "source": [
    "from sklearn.model_selection import KFold\n",
    "from sklearn.model_selection import train_test_split"
   ]
  },
  {
   "cell_type": "code",
   "execution_count": 74,
   "id": "9c3983cf-cbe9-428a-b5f0-72791e20dae3",
   "metadata": {
    "tags": []
   },
   "outputs": [],
   "source": [
    "unique_filenames = df.filename.unique()"
   ]
  },
  {
   "cell_type": "markdown",
   "id": "9d9b46e4-42a3-4153-976c-3b38a14704aa",
   "metadata": {},
   "source": [
    "# TODO  Check correct data frame for train test split"
   ]
  },
  {
   "cell_type": "code",
   "execution_count": 75,
   "id": "48c92696-41a7-4c3f-ac56-a6d719318c10",
   "metadata": {
    "tags": []
   },
   "outputs": [
    {
     "data": {
      "text/plain": [
       "((6789, 8), (1493, 8))"
      ]
     },
     "execution_count": 75,
     "metadata": {},
     "output_type": "execute_result"
    }
   ],
   "source": [
    "# Split filenames into train and test sets\n",
    "train_files, test_files = train_test_split(unique_filenames, test_size=0.2, random_state=42)\n",
    "\n",
    "# Create train and test datasets based on the split filenames\n",
    "train_df = new_df[new_df['filename'].isin(train_files)].reset_index() \n",
    "test_df = df[df['filename'].isin(test_files)].reset_index()\n",
    "del train_df['index'] \n",
    "del test_df['index'] \n",
    "train_df.shape, test_df.shape"
   ]
  },
  {
   "cell_type": "code",
   "execution_count": 76,
   "id": "f5b69baf-27ea-4534-b2ee-5dbecfad145f",
   "metadata": {
    "tags": []
   },
   "outputs": [],
   "source": [
    "selected_columns = [\"section_content\", \"tags\"]"
   ]
  },
  {
   "cell_type": "code",
   "execution_count": 101,
   "id": "a2025fa7-43d6-457e-b777-100517b59ba0",
   "metadata": {
    "tags": []
   },
   "outputs": [],
   "source": [
    "train_tags = set(train_df.tags.unique())\n",
    "test_tags = set(test_df.tags.unique())"
   ]
  },
  {
   "cell_type": "code",
   "execution_count": 102,
   "id": "c65ba369-add2-4a67-92e4-b5f58196ad79",
   "metadata": {},
   "outputs": [
    {
     "name": "stdout",
     "output_type": "stream",
     "text": [
      "set()\n"
     ]
    }
   ],
   "source": [
    "print(test_tags - train_tags )\n",
    "assert not test_tags - train_tags "
   ]
  },
  {
   "cell_type": "code",
   "execution_count": 103,
   "id": "760f27dc-ba56-4fe8-b5e7-4165b1a15f95",
   "metadata": {
    "tags": []
   },
   "outputs": [],
   "source": [
    "OUTPUT_DIR = \"./data/dataset/v8\"\n",
    "os.makedirs(OUTPUT_DIR, exist_ok=True)"
   ]
  },
  {
   "cell_type": "code",
   "execution_count": 104,
   "id": "89a44bbc-c283-4cd2-b65e-9a5115b19c56",
   "metadata": {
    "tags": []
   },
   "outputs": [
    {
     "data": {
      "text/html": [
       "<div>\n",
       "<style scoped>\n",
       "    .dataframe tbody tr th:only-of-type {\n",
       "        vertical-align: middle;\n",
       "    }\n",
       "\n",
       "    .dataframe tbody tr th {\n",
       "        vertical-align: top;\n",
       "    }\n",
       "\n",
       "    .dataframe thead th {\n",
       "        text-align: right;\n",
       "    }\n",
       "</style>\n",
       "<table border=\"1\" class=\"dataframe\">\n",
       "  <thead>\n",
       "    <tr style=\"text-align: right;\">\n",
       "      <th></th>\n",
       "      <th>title</th>\n",
       "      <th>category</th>\n",
       "      <th>checklists</th>\n",
       "      <th>section_content</th>\n",
       "      <th>filename</th>\n",
       "      <th>word_count</th>\n",
       "      <th>tags</th>\n",
       "      <th>tag_title</th>\n",
       "    </tr>\n",
       "  </thead>\n",
       "  <tbody>\n",
       "    <tr>\n",
       "      <th>0</th>\n",
       "      <td>Terms Generally</td>\n",
       "      <td>FYI</td>\n",
       "      <td>[]</td>\n",
       "      <td>Title is Terms Generally\\nSection 1.2. Terms G...</td>\n",
       "      <td>Paramount Global - $3,500,000,000 AMENDED AND ...</td>\n",
       "      <td>925</td>\n",
       "      <td>NA</td>\n",
       "      <td>NATerms Generally</td>\n",
       "    </tr>\n",
       "    <tr>\n",
       "      <th>1</th>\n",
       "      <td>Currency Equivalents</td>\n",
       "      <td>FYI</td>\n",
       "      <td>[]</td>\n",
       "      <td>Title is Currency Equivalents\\nSection 1.3. Cu...</td>\n",
       "      <td>Paramount Global - $3,500,000,000 AMENDED AND ...</td>\n",
       "      <td>42</td>\n",
       "      <td>NA</td>\n",
       "      <td>NACurrency Equivalents</td>\n",
       "    </tr>\n",
       "    <tr>\n",
       "      <th>2</th>\n",
       "      <td>Commitments</td>\n",
       "      <td>Event Driven</td>\n",
       "      <td>[]</td>\n",
       "      <td>Title is Commitments\\nSection 2.1. Commitments...</td>\n",
       "      <td>Paramount Global - $3,500,000,000 AMENDED AND ...</td>\n",
       "      <td>205</td>\n",
       "      <td>Facilities / Instrument</td>\n",
       "      <td>Facilities / InstrumentCommitments</td>\n",
       "    </tr>\n",
       "    <tr>\n",
       "      <th>3</th>\n",
       "      <td>Revolving Credit Loans; Competitive Loans</td>\n",
       "      <td>Event Driven</td>\n",
       "      <td>[]</td>\n",
       "      <td>Title is Revolving Credit Loans; Competitive L...</td>\n",
       "      <td>Paramount Global - $3,500,000,000 AMENDED AND ...</td>\n",
       "      <td>422</td>\n",
       "      <td>Facilities / Instrument</td>\n",
       "      <td>Facilities / InstrumentRevolving Credit Loans;...</td>\n",
       "    </tr>\n",
       "    <tr>\n",
       "      <th>4</th>\n",
       "      <td>Competitive Bid Procedure</td>\n",
       "      <td>Event Driven</td>\n",
       "      <td>[]</td>\n",
       "      <td>Title is Competitive Bid Procedure\\nSection 2....</td>\n",
       "      <td>Paramount Global - $3,500,000,000 AMENDED AND ...</td>\n",
       "      <td>1879</td>\n",
       "      <td>NA</td>\n",
       "      <td>NACompetitive Bid Procedure</td>\n",
       "    </tr>\n",
       "  </tbody>\n",
       "</table>\n",
       "</div>"
      ],
      "text/plain": [
       "                                       title      category checklists  \\\n",
       "0                            Terms Generally           FYI         []   \n",
       "1                       Currency Equivalents           FYI         []   \n",
       "2                                Commitments  Event Driven         []   \n",
       "3  Revolving Credit Loans; Competitive Loans  Event Driven         []   \n",
       "4                  Competitive Bid Procedure  Event Driven         []   \n",
       "\n",
       "                                     section_content  \\\n",
       "0  Title is Terms Generally\\nSection 1.2. Terms G...   \n",
       "1  Title is Currency Equivalents\\nSection 1.3. Cu...   \n",
       "2  Title is Commitments\\nSection 2.1. Commitments...   \n",
       "3  Title is Revolving Credit Loans; Competitive L...   \n",
       "4  Title is Competitive Bid Procedure\\nSection 2....   \n",
       "\n",
       "                                            filename  word_count  \\\n",
       "0  Paramount Global - $3,500,000,000 AMENDED AND ...         925   \n",
       "1  Paramount Global - $3,500,000,000 AMENDED AND ...          42   \n",
       "2  Paramount Global - $3,500,000,000 AMENDED AND ...         205   \n",
       "3  Paramount Global - $3,500,000,000 AMENDED AND ...         422   \n",
       "4  Paramount Global - $3,500,000,000 AMENDED AND ...        1879   \n",
       "\n",
       "                      tags                                          tag_title  \n",
       "0                       NA                                  NATerms Generally  \n",
       "1                       NA                             NACurrency Equivalents  \n",
       "2  Facilities / Instrument                 Facilities / InstrumentCommitments  \n",
       "3  Facilities / Instrument  Facilities / InstrumentRevolving Credit Loans;...  \n",
       "4                       NA                        NACompetitive Bid Procedure  "
      ]
     },
     "execution_count": 104,
     "metadata": {},
     "output_type": "execute_result"
    }
   ],
   "source": [
    "train_df.head()"
   ]
  },
  {
   "cell_type": "code",
   "execution_count": 105,
   "id": "f53dd656-d762-406a-a8e3-88963d620e3f",
   "metadata": {
    "tags": []
   },
   "outputs": [
    {
     "name": "stdout",
     "output_type": "stream",
     "text": [
      "(6789, 8)\n",
      "(1493, 8)\n"
     ]
    }
   ],
   "source": [
    "print(train_df.shape)\n",
    "print(test_df.shape)"
   ]
  },
  {
   "cell_type": "code",
   "execution_count": 106,
   "id": "58983b3e-912a-4505-ae26-226db51cd185",
   "metadata": {
    "tags": []
   },
   "outputs": [],
   "source": [
    "train_df.to_json(os.path.join(OUTPUT_DIR, \"train.json\")) \n",
    "test_df.to_json(os.path.join(OUTPUT_DIR, \"test.json\"))"
   ]
  },
  {
   "cell_type": "markdown",
   "id": "ef538e79-19e7-4871-96af-f9b7f7410ec7",
   "metadata": {},
   "source": [
    "# Integrate Domain Correction "
   ]
  },
  {
   "cell_type": "code",
   "execution_count": 7,
   "id": "035906c7-23b6-411d-8b9a-282e38e0fc96",
   "metadata": {
    "tags": []
   },
   "outputs": [],
   "source": [
    "import pandas as pd"
   ]
  },
  {
   "cell_type": "code",
   "execution_count": 8,
   "id": "348a4ab2-786f-46fd-bc42-9c8b501b00e8",
   "metadata": {
    "tags": []
   },
   "outputs": [],
   "source": [
    "xl = pd.ExcelFile(\"./data/Predictions_v13_small_with_sec_numbering_cleaned.xlsx\")"
   ]
  },
  {
   "cell_type": "code",
   "execution_count": 9,
   "id": "8141483a-1d3a-4a3e-b53f-49081cb1a2db",
   "metadata": {
    "tags": []
   },
   "outputs": [
    {
     "data": {
      "text/plain": [
       "['Sheet1']"
      ]
     },
     "execution_count": 9,
     "metadata": {},
     "output_type": "execute_result"
    }
   ],
   "source": [
    "xl.sheet_names"
   ]
  },
  {
   "cell_type": "code",
   "execution_count": 35,
   "id": "24420967-8ca9-4e75-93c4-82af2eb2e6a2",
   "metadata": {
    "tags": []
   },
   "outputs": [],
   "source": [
    "updated_df = pd.read_excel(\"./data/Predictions_v13_small_with_sec_numbering_cleaned.xlsx\")"
   ]
  },
  {
   "cell_type": "code",
   "execution_count": 36,
   "id": "347fcb4e-f0f5-4279-917b-96104bf47f81",
   "metadata": {
    "tags": []
   },
   "outputs": [
    {
     "data": {
      "text/plain": [
       "Index(['filename', 'title', 'section_number', 'section_content',\n",
       "       'Original_Tag', 'Predicted_Tag', 'match', 'Domain', 'Corrected',\n",
       "       'Unnamed: 9'],\n",
       "      dtype='object')"
      ]
     },
     "execution_count": 36,
     "metadata": {},
     "output_type": "execute_result"
    }
   ],
   "source": [
    "updated_df.columns"
   ]
  },
  {
   "cell_type": "code",
   "execution_count": 37,
   "id": "bc83624b-da28-4c4b-a795-4906792b6c05",
   "metadata": {
    "tags": []
   },
   "outputs": [],
   "source": [
    "updated_df = updated_df[['filename', 'title', 'section_number', 'section_content',\n",
    "       'Original_Tag', 'Predicted_Tag', 'match', 'Domain']]"
   ]
  },
  {
   "cell_type": "code",
   "execution_count": 38,
   "id": "f4bd3aa3-23e9-459d-80bc-05aa3341b581",
   "metadata": {
    "tags": []
   },
   "outputs": [],
   "source": [
    "updated_df = updated_df.fillna(\"NA\")"
   ]
  },
  {
   "cell_type": "code",
   "execution_count": 39,
   "id": "b3fb1703-fb50-46ce-8270-be8481d65c20",
   "metadata": {
    "tags": []
   },
   "outputs": [],
   "source": [
    "updated_df['Domain'] = updated_df.Domain.str.strip()"
   ]
  },
  {
   "cell_type": "code",
   "execution_count": 40,
   "id": "af5d02fe-7475-4953-9de6-66d64bec239e",
   "metadata": {
    "tags": []
   },
   "outputs": [
    {
     "name": "stdout",
     "output_type": "stream",
     "text": [
      "29\n",
      "26\n",
      "\n",
      "Correction Tags:\n",
      "Permitted Indebtedness, Permitted Liens, Asset Disposition\n",
      "Compliance Certificate, Other Reporting Requirements\n",
      "Facilities / Instrument, Incremental Facilities\n",
      "Other Reporting Requirements\n"
     ]
    }
   ],
   "source": [
    "domain_tags = set(updated_df.Domain.values)\n",
    "all_tags = set(updated_df.Original_Tag.values)\n",
    "print(len(domain_tags))\n",
    "print(len(all_tags))\n",
    "print(\"\\nCorrection Tags:\")\n",
    "print(\"\\n\".join(domain_tags - all_tags))"
   ]
  },
  {
   "cell_type": "code",
   "execution_count": 41,
   "id": "6f6c556f-60bb-4182-82df-727f3ba25451",
   "metadata": {
    "tags": []
   },
   "outputs": [
    {
     "name": "stdout",
     "output_type": "stream",
     "text": [
      "Amendments\n",
      "Amortization Schedule / Loan Repayment\n",
      "Asset Disposition\n",
      "Assignments\n",
      "Compliance Certificate\n",
      "Consequences of Default\n",
      "Event of Default\n",
      "Facilities / Instrument\n",
      "Financial Covenant\n",
      "Financial Statements\n",
      "Governing Laws\n",
      "Incremental Facilities\n",
      "Interest / Pricing\n",
      "Mandatory Prepayments / Redemption\n",
      "NA\n",
      "Optional Prepayment / Redemption\n",
      "Permitted Indebtedness\n",
      "Permitted Liens\n",
      "Premium and Fees\n",
      "Prepayment / Redemption\n",
      "Pricing / Interest\n",
      "Reporting Requirements\n",
      "Restricted Investments\n",
      "Restricted Payments\n",
      "Transactions with Affiliates\n",
      "Waterfall of Proceeds\n"
     ]
    }
   ],
   "source": [
    "print(\"\\n\".join(sorted(all_tags)))"
   ]
  },
  {
   "cell_type": "code",
   "execution_count": 43,
   "id": "2d2d943d-c032-4a21-b14b-b6146897cc94",
   "metadata": {
    "tags": []
   },
   "outputs": [],
   "source": [
    "nst_to_st = {\n",
    "    \"Interest / Pricing\": \"Pricing / Interest\",\n",
    "    \"Other Reporting Requirements\": \"Reporting Requirements\"\n",
    "}"
   ]
  },
  {
   "cell_type": "code",
   "execution_count": 44,
   "id": "a69c07f9-b5cf-4ef2-aedb-33844df3db68",
   "metadata": {
    "tags": []
   },
   "outputs": [],
   "source": [
    "def to_standard_tag(x): \n",
    "    if x in nst_to_st: \n",
    "        return nst_to_st.get(x)\n",
    "    return x\n",
    "        \n",
    "    "
   ]
  },
  {
   "cell_type": "code",
   "execution_count": 45,
   "id": "5eb51758-cf41-4860-8423-79f63862b345",
   "metadata": {
    "tags": []
   },
   "outputs": [],
   "source": [
    "updated_df['Domain'] = updated_df.Domain.apply(to_standard_tag)"
   ]
  },
  {
   "cell_type": "code",
   "execution_count": 52,
   "id": "e829a70a-216f-4551-b22e-8a401e96bf1f",
   "metadata": {
    "tags": []
   },
   "outputs": [],
   "source": [
    "updated_df = updated_df[updated_df.Domain.map(lambda x: x in all_tags)]"
   ]
  },
  {
   "cell_type": "code",
   "execution_count": 53,
   "id": "f194d10a-5447-4676-8c08-a4b60f0ff32f",
   "metadata": {
    "tags": []
   },
   "outputs": [
    {
     "name": "stdout",
     "output_type": "stream",
     "text": [
      "25\n",
      "26\n",
      "\n",
      "Correction Tags:\n",
      "\n"
     ]
    }
   ],
   "source": [
    "domain_tags = set(updated_df.Domain.values)\n",
    "all_tags = set(updated_df.Original_Tag.values)\n",
    "print(len(domain_tags))\n",
    "print(len(all_tags))\n",
    "print(\"\\nCorrection Tags:\")\n",
    "print(\"\\n\".join(domain_tags - all_tags))"
   ]
  },
  {
   "cell_type": "code",
   "execution_count": 54,
   "id": "b3c6589b-126c-4491-b044-b44f040ebb35",
   "metadata": {
    "tags": []
   },
   "outputs": [
    {
     "name": "stdout",
     "output_type": "stream",
     "text": [
      "Amendments\n",
      "Amortization Schedule / Loan Repayment\n",
      "Asset Disposition\n",
      "Assignments\n",
      "Compliance Certificate\n",
      "Consequences of Default\n",
      "Event of Default\n",
      "Facilities / Instrument\n",
      "Financial Covenant\n",
      "Financial Statements\n",
      "Governing Laws\n",
      "Incremental Facilities\n",
      "Mandatory Prepayments / Redemption\n",
      "NA\n",
      "Optional Prepayment / Redemption\n",
      "Permitted Indebtedness\n",
      "Permitted Liens\n",
      "Premium and Fees\n",
      "Prepayment / Redemption\n",
      "Pricing / Interest\n",
      "Reporting Requirements\n",
      "Restricted Investments\n",
      "Restricted Payments\n",
      "Transactions with Affiliates\n",
      "Waterfall of Proceeds\n"
     ]
    }
   ],
   "source": [
    "print(\"\\n\".join(sorted(domain_tags)))"
   ]
  },
  {
   "cell_type": "code",
   "execution_count": 57,
   "id": "d1b91d07-25ab-4956-ba6d-124225aed817",
   "metadata": {
    "tags": []
   },
   "outputs": [],
   "source": [
    "updated_df['tags'] = updated_df['Domain']"
   ]
  },
  {
   "cell_type": "code",
   "execution_count": 59,
   "id": "aa22fe7c-80e2-4eca-b2e7-2a87257cc0b7",
   "metadata": {
    "tags": []
   },
   "outputs": [],
   "source": [
    "# updated_df.to_json(\"./data/dataset/v9/train.json\")\n",
    "updated_df.to_excel(\"./data/v9_train.xlsx\", index=False)"
   ]
  },
  {
   "cell_type": "code",
   "execution_count": 43,
   "id": "49f26e2b-bafd-4c3e-a693-d2b12e5015df",
   "metadata": {
    "tags": []
   },
   "outputs": [
    {
     "data": {
      "text/plain": [
       "'\\n1. Domain NA Tags \\n2. Multiple tags \\n\\nOptional Prepayment -> Optional Prepayment / Redemption\\n'"
      ]
     },
     "execution_count": 43,
     "metadata": {},
     "output_type": "execute_result"
    }
   ],
   "source": [
    "\"\"\"\n",
    "1. Domain NA Tags \n",
    "2. Multiple tags \n",
    "3. Blank means ok. \n",
    "Optional Prepayment -> Optional Prepayment / Redemption\n",
    "\"\"\""
   ]
  }
 ],
 "metadata": {
  "availableInstances": [
   {
    "_defaultOrder": 0,
    "_isFastLaunch": true,
    "category": "General purpose",
    "gpuNum": 0,
    "hideHardwareSpecs": false,
    "memoryGiB": 4,
    "name": "ml.t3.medium",
    "vcpuNum": 2
   },
   {
    "_defaultOrder": 1,
    "_isFastLaunch": false,
    "category": "General purpose",
    "gpuNum": 0,
    "hideHardwareSpecs": false,
    "memoryGiB": 8,
    "name": "ml.t3.large",
    "vcpuNum": 2
   },
   {
    "_defaultOrder": 2,
    "_isFastLaunch": false,
    "category": "General purpose",
    "gpuNum": 0,
    "hideHardwareSpecs": false,
    "memoryGiB": 16,
    "name": "ml.t3.xlarge",
    "vcpuNum": 4
   },
   {
    "_defaultOrder": 3,
    "_isFastLaunch": false,
    "category": "General purpose",
    "gpuNum": 0,
    "hideHardwareSpecs": false,
    "memoryGiB": 32,
    "name": "ml.t3.2xlarge",
    "vcpuNum": 8
   },
   {
    "_defaultOrder": 4,
    "_isFastLaunch": true,
    "category": "General purpose",
    "gpuNum": 0,
    "hideHardwareSpecs": false,
    "memoryGiB": 8,
    "name": "ml.m5.large",
    "vcpuNum": 2
   },
   {
    "_defaultOrder": 5,
    "_isFastLaunch": false,
    "category": "General purpose",
    "gpuNum": 0,
    "hideHardwareSpecs": false,
    "memoryGiB": 16,
    "name": "ml.m5.xlarge",
    "vcpuNum": 4
   },
   {
    "_defaultOrder": 6,
    "_isFastLaunch": false,
    "category": "General purpose",
    "gpuNum": 0,
    "hideHardwareSpecs": false,
    "memoryGiB": 32,
    "name": "ml.m5.2xlarge",
    "vcpuNum": 8
   },
   {
    "_defaultOrder": 7,
    "_isFastLaunch": false,
    "category": "General purpose",
    "gpuNum": 0,
    "hideHardwareSpecs": false,
    "memoryGiB": 64,
    "name": "ml.m5.4xlarge",
    "vcpuNum": 16
   },
   {
    "_defaultOrder": 8,
    "_isFastLaunch": false,
    "category": "General purpose",
    "gpuNum": 0,
    "hideHardwareSpecs": false,
    "memoryGiB": 128,
    "name": "ml.m5.8xlarge",
    "vcpuNum": 32
   },
   {
    "_defaultOrder": 9,
    "_isFastLaunch": false,
    "category": "General purpose",
    "gpuNum": 0,
    "hideHardwareSpecs": false,
    "memoryGiB": 192,
    "name": "ml.m5.12xlarge",
    "vcpuNum": 48
   },
   {
    "_defaultOrder": 10,
    "_isFastLaunch": false,
    "category": "General purpose",
    "gpuNum": 0,
    "hideHardwareSpecs": false,
    "memoryGiB": 256,
    "name": "ml.m5.16xlarge",
    "vcpuNum": 64
   },
   {
    "_defaultOrder": 11,
    "_isFastLaunch": false,
    "category": "General purpose",
    "gpuNum": 0,
    "hideHardwareSpecs": false,
    "memoryGiB": 384,
    "name": "ml.m5.24xlarge",
    "vcpuNum": 96
   },
   {
    "_defaultOrder": 12,
    "_isFastLaunch": false,
    "category": "General purpose",
    "gpuNum": 0,
    "hideHardwareSpecs": false,
    "memoryGiB": 8,
    "name": "ml.m5d.large",
    "vcpuNum": 2
   },
   {
    "_defaultOrder": 13,
    "_isFastLaunch": false,
    "category": "General purpose",
    "gpuNum": 0,
    "hideHardwareSpecs": false,
    "memoryGiB": 16,
    "name": "ml.m5d.xlarge",
    "vcpuNum": 4
   },
   {
    "_defaultOrder": 14,
    "_isFastLaunch": false,
    "category": "General purpose",
    "gpuNum": 0,
    "hideHardwareSpecs": false,
    "memoryGiB": 32,
    "name": "ml.m5d.2xlarge",
    "vcpuNum": 8
   },
   {
    "_defaultOrder": 15,
    "_isFastLaunch": false,
    "category": "General purpose",
    "gpuNum": 0,
    "hideHardwareSpecs": false,
    "memoryGiB": 64,
    "name": "ml.m5d.4xlarge",
    "vcpuNum": 16
   },
   {
    "_defaultOrder": 16,
    "_isFastLaunch": false,
    "category": "General purpose",
    "gpuNum": 0,
    "hideHardwareSpecs": false,
    "memoryGiB": 128,
    "name": "ml.m5d.8xlarge",
    "vcpuNum": 32
   },
   {
    "_defaultOrder": 17,
    "_isFastLaunch": false,
    "category": "General purpose",
    "gpuNum": 0,
    "hideHardwareSpecs": false,
    "memoryGiB": 192,
    "name": "ml.m5d.12xlarge",
    "vcpuNum": 48
   },
   {
    "_defaultOrder": 18,
    "_isFastLaunch": false,
    "category": "General purpose",
    "gpuNum": 0,
    "hideHardwareSpecs": false,
    "memoryGiB": 256,
    "name": "ml.m5d.16xlarge",
    "vcpuNum": 64
   },
   {
    "_defaultOrder": 19,
    "_isFastLaunch": false,
    "category": "General purpose",
    "gpuNum": 0,
    "hideHardwareSpecs": false,
    "memoryGiB": 384,
    "name": "ml.m5d.24xlarge",
    "vcpuNum": 96
   },
   {
    "_defaultOrder": 20,
    "_isFastLaunch": false,
    "category": "General purpose",
    "gpuNum": 0,
    "hideHardwareSpecs": true,
    "memoryGiB": 0,
    "name": "ml.geospatial.interactive",
    "supportedImageNames": [
     "sagemaker-geospatial-v1-0"
    ],
    "vcpuNum": 0
   },
   {
    "_defaultOrder": 21,
    "_isFastLaunch": true,
    "category": "Compute optimized",
    "gpuNum": 0,
    "hideHardwareSpecs": false,
    "memoryGiB": 4,
    "name": "ml.c5.large",
    "vcpuNum": 2
   },
   {
    "_defaultOrder": 22,
    "_isFastLaunch": false,
    "category": "Compute optimized",
    "gpuNum": 0,
    "hideHardwareSpecs": false,
    "memoryGiB": 8,
    "name": "ml.c5.xlarge",
    "vcpuNum": 4
   },
   {
    "_defaultOrder": 23,
    "_isFastLaunch": false,
    "category": "Compute optimized",
    "gpuNum": 0,
    "hideHardwareSpecs": false,
    "memoryGiB": 16,
    "name": "ml.c5.2xlarge",
    "vcpuNum": 8
   },
   {
    "_defaultOrder": 24,
    "_isFastLaunch": false,
    "category": "Compute optimized",
    "gpuNum": 0,
    "hideHardwareSpecs": false,
    "memoryGiB": 32,
    "name": "ml.c5.4xlarge",
    "vcpuNum": 16
   },
   {
    "_defaultOrder": 25,
    "_isFastLaunch": false,
    "category": "Compute optimized",
    "gpuNum": 0,
    "hideHardwareSpecs": false,
    "memoryGiB": 72,
    "name": "ml.c5.9xlarge",
    "vcpuNum": 36
   },
   {
    "_defaultOrder": 26,
    "_isFastLaunch": false,
    "category": "Compute optimized",
    "gpuNum": 0,
    "hideHardwareSpecs": false,
    "memoryGiB": 96,
    "name": "ml.c5.12xlarge",
    "vcpuNum": 48
   },
   {
    "_defaultOrder": 27,
    "_isFastLaunch": false,
    "category": "Compute optimized",
    "gpuNum": 0,
    "hideHardwareSpecs": false,
    "memoryGiB": 144,
    "name": "ml.c5.18xlarge",
    "vcpuNum": 72
   },
   {
    "_defaultOrder": 28,
    "_isFastLaunch": false,
    "category": "Compute optimized",
    "gpuNum": 0,
    "hideHardwareSpecs": false,
    "memoryGiB": 192,
    "name": "ml.c5.24xlarge",
    "vcpuNum": 96
   },
   {
    "_defaultOrder": 29,
    "_isFastLaunch": true,
    "category": "Accelerated computing",
    "gpuNum": 1,
    "hideHardwareSpecs": false,
    "memoryGiB": 16,
    "name": "ml.g4dn.xlarge",
    "vcpuNum": 4
   },
   {
    "_defaultOrder": 30,
    "_isFastLaunch": false,
    "category": "Accelerated computing",
    "gpuNum": 1,
    "hideHardwareSpecs": false,
    "memoryGiB": 32,
    "name": "ml.g4dn.2xlarge",
    "vcpuNum": 8
   },
   {
    "_defaultOrder": 31,
    "_isFastLaunch": false,
    "category": "Accelerated computing",
    "gpuNum": 1,
    "hideHardwareSpecs": false,
    "memoryGiB": 64,
    "name": "ml.g4dn.4xlarge",
    "vcpuNum": 16
   },
   {
    "_defaultOrder": 32,
    "_isFastLaunch": false,
    "category": "Accelerated computing",
    "gpuNum": 1,
    "hideHardwareSpecs": false,
    "memoryGiB": 128,
    "name": "ml.g4dn.8xlarge",
    "vcpuNum": 32
   },
   {
    "_defaultOrder": 33,
    "_isFastLaunch": false,
    "category": "Accelerated computing",
    "gpuNum": 4,
    "hideHardwareSpecs": false,
    "memoryGiB": 192,
    "name": "ml.g4dn.12xlarge",
    "vcpuNum": 48
   },
   {
    "_defaultOrder": 34,
    "_isFastLaunch": false,
    "category": "Accelerated computing",
    "gpuNum": 1,
    "hideHardwareSpecs": false,
    "memoryGiB": 256,
    "name": "ml.g4dn.16xlarge",
    "vcpuNum": 64
   },
   {
    "_defaultOrder": 35,
    "_isFastLaunch": false,
    "category": "Accelerated computing",
    "gpuNum": 1,
    "hideHardwareSpecs": false,
    "memoryGiB": 61,
    "name": "ml.p3.2xlarge",
    "vcpuNum": 8
   },
   {
    "_defaultOrder": 36,
    "_isFastLaunch": false,
    "category": "Accelerated computing",
    "gpuNum": 4,
    "hideHardwareSpecs": false,
    "memoryGiB": 244,
    "name": "ml.p3.8xlarge",
    "vcpuNum": 32
   },
   {
    "_defaultOrder": 37,
    "_isFastLaunch": false,
    "category": "Accelerated computing",
    "gpuNum": 8,
    "hideHardwareSpecs": false,
    "memoryGiB": 488,
    "name": "ml.p3.16xlarge",
    "vcpuNum": 64
   },
   {
    "_defaultOrder": 38,
    "_isFastLaunch": false,
    "category": "Accelerated computing",
    "gpuNum": 8,
    "hideHardwareSpecs": false,
    "memoryGiB": 768,
    "name": "ml.p3dn.24xlarge",
    "vcpuNum": 96
   },
   {
    "_defaultOrder": 39,
    "_isFastLaunch": false,
    "category": "Memory Optimized",
    "gpuNum": 0,
    "hideHardwareSpecs": false,
    "memoryGiB": 16,
    "name": "ml.r5.large",
    "vcpuNum": 2
   },
   {
    "_defaultOrder": 40,
    "_isFastLaunch": false,
    "category": "Memory Optimized",
    "gpuNum": 0,
    "hideHardwareSpecs": false,
    "memoryGiB": 32,
    "name": "ml.r5.xlarge",
    "vcpuNum": 4
   },
   {
    "_defaultOrder": 41,
    "_isFastLaunch": false,
    "category": "Memory Optimized",
    "gpuNum": 0,
    "hideHardwareSpecs": false,
    "memoryGiB": 64,
    "name": "ml.r5.2xlarge",
    "vcpuNum": 8
   },
   {
    "_defaultOrder": 42,
    "_isFastLaunch": false,
    "category": "Memory Optimized",
    "gpuNum": 0,
    "hideHardwareSpecs": false,
    "memoryGiB": 128,
    "name": "ml.r5.4xlarge",
    "vcpuNum": 16
   },
   {
    "_defaultOrder": 43,
    "_isFastLaunch": false,
    "category": "Memory Optimized",
    "gpuNum": 0,
    "hideHardwareSpecs": false,
    "memoryGiB": 256,
    "name": "ml.r5.8xlarge",
    "vcpuNum": 32
   },
   {
    "_defaultOrder": 44,
    "_isFastLaunch": false,
    "category": "Memory Optimized",
    "gpuNum": 0,
    "hideHardwareSpecs": false,
    "memoryGiB": 384,
    "name": "ml.r5.12xlarge",
    "vcpuNum": 48
   },
   {
    "_defaultOrder": 45,
    "_isFastLaunch": false,
    "category": "Memory Optimized",
    "gpuNum": 0,
    "hideHardwareSpecs": false,
    "memoryGiB": 512,
    "name": "ml.r5.16xlarge",
    "vcpuNum": 64
   },
   {
    "_defaultOrder": 46,
    "_isFastLaunch": false,
    "category": "Memory Optimized",
    "gpuNum": 0,
    "hideHardwareSpecs": false,
    "memoryGiB": 768,
    "name": "ml.r5.24xlarge",
    "vcpuNum": 96
   },
   {
    "_defaultOrder": 47,
    "_isFastLaunch": false,
    "category": "Accelerated computing",
    "gpuNum": 1,
    "hideHardwareSpecs": false,
    "memoryGiB": 16,
    "name": "ml.g5.xlarge",
    "vcpuNum": 4
   },
   {
    "_defaultOrder": 48,
    "_isFastLaunch": false,
    "category": "Accelerated computing",
    "gpuNum": 1,
    "hideHardwareSpecs": false,
    "memoryGiB": 32,
    "name": "ml.g5.2xlarge",
    "vcpuNum": 8
   },
   {
    "_defaultOrder": 49,
    "_isFastLaunch": false,
    "category": "Accelerated computing",
    "gpuNum": 1,
    "hideHardwareSpecs": false,
    "memoryGiB": 64,
    "name": "ml.g5.4xlarge",
    "vcpuNum": 16
   },
   {
    "_defaultOrder": 50,
    "_isFastLaunch": false,
    "category": "Accelerated computing",
    "gpuNum": 1,
    "hideHardwareSpecs": false,
    "memoryGiB": 128,
    "name": "ml.g5.8xlarge",
    "vcpuNum": 32
   },
   {
    "_defaultOrder": 51,
    "_isFastLaunch": false,
    "category": "Accelerated computing",
    "gpuNum": 1,
    "hideHardwareSpecs": false,
    "memoryGiB": 256,
    "name": "ml.g5.16xlarge",
    "vcpuNum": 64
   },
   {
    "_defaultOrder": 52,
    "_isFastLaunch": false,
    "category": "Accelerated computing",
    "gpuNum": 4,
    "hideHardwareSpecs": false,
    "memoryGiB": 192,
    "name": "ml.g5.12xlarge",
    "vcpuNum": 48
   },
   {
    "_defaultOrder": 53,
    "_isFastLaunch": false,
    "category": "Accelerated computing",
    "gpuNum": 4,
    "hideHardwareSpecs": false,
    "memoryGiB": 384,
    "name": "ml.g5.24xlarge",
    "vcpuNum": 96
   },
   {
    "_defaultOrder": 54,
    "_isFastLaunch": false,
    "category": "Accelerated computing",
    "gpuNum": 8,
    "hideHardwareSpecs": false,
    "memoryGiB": 768,
    "name": "ml.g5.48xlarge",
    "vcpuNum": 192
   },
   {
    "_defaultOrder": 55,
    "_isFastLaunch": false,
    "category": "Accelerated computing",
    "gpuNum": 8,
    "hideHardwareSpecs": false,
    "memoryGiB": 1152,
    "name": "ml.p4d.24xlarge",
    "vcpuNum": 96
   },
   {
    "_defaultOrder": 56,
    "_isFastLaunch": false,
    "category": "Accelerated computing",
    "gpuNum": 8,
    "hideHardwareSpecs": false,
    "memoryGiB": 1152,
    "name": "ml.p4de.24xlarge",
    "vcpuNum": 96
   },
   {
    "_defaultOrder": 57,
    "_isFastLaunch": false,
    "category": "Accelerated computing",
    "gpuNum": 0,
    "hideHardwareSpecs": false,
    "memoryGiB": 32,
    "name": "ml.trn1.2xlarge",
    "vcpuNum": 8
   },
   {
    "_defaultOrder": 58,
    "_isFastLaunch": false,
    "category": "Accelerated computing",
    "gpuNum": 0,
    "hideHardwareSpecs": false,
    "memoryGiB": 512,
    "name": "ml.trn1.32xlarge",
    "vcpuNum": 128
   },
   {
    "_defaultOrder": 59,
    "_isFastLaunch": false,
    "category": "Accelerated computing",
    "gpuNum": 0,
    "hideHardwareSpecs": false,
    "memoryGiB": 512,
    "name": "ml.trn1n.32xlarge",
    "vcpuNum": 128
   }
  ],
  "instance_type": "ml.t3.medium",
  "kernelspec": {
   "display_name": "Python 3 (Data Science 3.0)",
   "language": "python",
   "name": "python3__SAGEMAKER_INTERNAL__arn:aws:sagemaker:us-east-1:081325390199:image/sagemaker-data-science-310-v1"
  },
  "language_info": {
   "codemirror_mode": {
    "name": "ipython",
    "version": 3
   },
   "file_extension": ".py",
   "mimetype": "text/x-python",
   "name": "python",
   "nbconvert_exporter": "python",
   "pygments_lexer": "ipython3",
   "version": "3.10.6"
  }
 },
 "nbformat": 4,
 "nbformat_minor": 5
}
