{
 "cells": [
  {
   "cell_type": "code",
   "execution_count": 2,
   "id": "25f60048-1b2a-4601-a507-aed52328a216",
   "metadata": {
    "tags": []
   },
   "outputs": [
    {
     "name": "stdout",
     "output_type": "stream",
     "text": [
      "\u001b[33mWARNING: Running pip as the 'root' user can result in broken permissions and conflicting behaviour with the system package manager. It is recommended to use a virtual environment instead: https://pip.pypa.io/warnings/venv\u001b[0m\u001b[33m\n",
      "\u001b[0m\u001b[33mWARNING: Running pip as the 'root' user can result in broken permissions and conflicting behaviour with the system package manager. It is recommended to use a virtual environment instead: https://pip.pypa.io/warnings/venv\u001b[0m\u001b[33m\n",
      "\u001b[0m"
     ]
    }
   ],
   "source": [
    "!pip3 install -q imblearn\n",
    "!pip3 install -q boto3>=1.28.59"
   ]
  },
  {
   "cell_type": "code",
   "execution_count": 2,
   "id": "30a91835-f4cf-473e-819b-cd77de29bd0d",
   "metadata": {
    "tags": []
   },
   "outputs": [],
   "source": [
    "import pandas as pd \n",
    "import json"
   ]
  },
  {
   "cell_type": "code",
   "execution_count": 3,
   "id": "ae0cb257-4631-45dd-adfa-5d19d2d33827",
   "metadata": {
    "tags": []
   },
   "outputs": [
    {
     "name": "stdout",
     "output_type": "stream",
     "text": [
      "File-Analysis.xlsx\n",
      "Predictions_v13_small_with_sec_numbering_cleaned.xlsx\n",
      "Updated-Tagging.xlsx\n",
      "agg_on_data_after_standard_tag_mapping.xlsx\n",
      "all-data-dedup.json\n",
      "all-data-raw.json\n",
      "all-data.json\n",
      "cleaned_tags_data.json\n",
      "cleaned_tags_data_na_tag_lt3.json\n",
      "cleaned_tags_data_na_tag_v2_lt3.json\n",
      "dataset\n",
      "input\n",
      "output\n",
      "raw_input\n",
      "v9_train.xlsx\n"
     ]
    }
   ],
   "source": [
    "! ls ./data "
   ]
  },
  {
   "cell_type": "code",
   "execution_count": 4,
   "id": "35857762-5d74-42e9-8775-631546c979c0",
   "metadata": {
    "tags": []
   },
   "outputs": [],
   "source": [
    "file_analysis_df = pd.read_excel(\"./data/File-Analysis.xlsx\")"
   ]
  },
  {
   "cell_type": "code",
   "execution_count": 5,
   "id": "b35c244b-a00e-4fa0-8854-14733339d610",
   "metadata": {
    "tags": []
   },
   "outputs": [],
   "source": [
    "good_files = set(file_analysis_df.File.to_list()[:100])"
   ]
  },
  {
   "cell_type": "code",
   "execution_count": 11,
   "id": "a910f41d-f50d-4278-95cc-e0c96453d03f",
   "metadata": {
    "tags": []
   },
   "outputs": [],
   "source": [
    "df = pd.read_json(\"./data/all-data-raw.json\")\n",
    "df['tags'] = df['tags'].str.replace(\"Events of Default\", \"Event of Default\")"
   ]
  },
  {
   "cell_type": "code",
   "execution_count": 12,
   "id": "38f5fd5a-deb1-4005-aa94-ea6d131fdb1e",
   "metadata": {
    "tags": []
   },
   "outputs": [
    {
     "name": "stdout",
     "output_type": "stream",
     "text": [
      "Number of rows: 13032\n",
      "Number of unique files: 135\n",
      "Number of unique tags: 39\n"
     ]
    }
   ],
   "source": [
    "print(f\"Number of rows: {df.shape[0]}\")\n",
    "print(f\"Number of unique files: {pd.unique(df.filename).shape[0]}\")\n",
    "print(f\"Number of unique tags: {pd.unique(df.tags).shape[0]}\")"
   ]
  },
  {
   "cell_type": "code",
   "execution_count": 7,
   "id": "1550400b-033e-4d39-a0ac-624e81971e01",
   "metadata": {
    "tags": []
   },
   "outputs": [],
   "source": [
    "# df = df[df.filename.str.contains(\"Agreement\", case=False)]"
   ]
  },
  {
   "cell_type": "code",
   "execution_count": 8,
   "id": "d7125d30-5bb7-4684-aca5-d014ead0bf3b",
   "metadata": {
    "tags": []
   },
   "outputs": [],
   "source": [
    "df = df.drop_duplicates('section_content', keep=False)"
   ]
  },
  {
   "cell_type": "code",
   "execution_count": 9,
   "id": "b7461649-0c06-4be9-8917-18ba49688b95",
   "metadata": {
    "tags": []
   },
   "outputs": [
    {
     "name": "stdout",
     "output_type": "stream",
     "text": [
      "(11469, 7)\n"
     ]
    }
   ],
   "source": [
    "print(df.shape)"
   ]
  },
  {
   "cell_type": "code",
   "execution_count": null,
   "id": "830d11ec-af01-40f0-928b-af98623cb64f",
   "metadata": {},
   "outputs": [],
   "source": []
  },
  {
   "cell_type": "code",
   "execution_count": 157,
   "id": "3f7a855a-3237-4afb-814d-0864458b7fe0",
   "metadata": {
    "tags": []
   },
   "outputs": [],
   "source": [
    "df = df[df.filename.map(lambda x: x in good_files)]"
   ]
  },
  {
   "cell_type": "code",
   "execution_count": 158,
   "id": "d4d4f7b2-db6e-4c92-ae77-5142468095c8",
   "metadata": {
    "tags": []
   },
   "outputs": [
    {
     "name": "stdout",
     "output_type": "stream",
     "text": [
      "Compliance Certificate : 11\n",
      "Mandatory Prepayments / Redemption : 14\n",
      "Financial Statements : 23\n",
      "Restricted Investments : 23\n",
      "Optional Prepayment / Redemption : 26\n",
      "Incremental Facilities : 40\n",
      "Restricted Payments : 42\n",
      "Permitted Indebtedness : 44\n",
      "Consequences of Default : 45\n",
      "Asset Disposition : 47\n",
      "Transactions with Affiliates : 48\n",
      "Prepayment : 56\n",
      "Governing Laws : 61\n",
      "Waterfall of Proceeds : 64\n",
      "Event of Default : 72\n",
      "Financial Covenant : 74\n",
      "Additional Liens : 78\n",
      "Premium and Fees : 78\n",
      "Loan Repayment : 80\n",
      "Reporting Requirements : 92\n",
      "Interest Rate : 93\n",
      "Facilities / Instrument : 135\n",
      "NA : 6587\n"
     ]
    }
   ],
   "source": [
    "for t in df[['tags']].groupby('tags').size().reset_index().sort_values(by=0).itertuples(): \n",
    "    print(t.tags,\":\", t._2)"
   ]
  },
  {
   "cell_type": "code",
   "execution_count": 159,
   "id": "f7bf729b-a3ba-4e62-816a-dc77e9c7570e",
   "metadata": {
    "tags": []
   },
   "outputs": [
    {
     "data": {
      "text/plain": [
       "count    7833.000000\n",
       "mean      518.638070\n",
       "std       701.116055\n",
       "min        21.000000\n",
       "25%       127.000000\n",
       "50%       276.000000\n",
       "75%       611.000000\n",
       "max      9381.000000\n",
       "Name: word_count, dtype: float64"
      ]
     },
     "execution_count": 159,
     "metadata": {},
     "output_type": "execute_result"
    }
   ],
   "source": [
    "df.word_count.describe()"
   ]
  },
  {
   "cell_type": "code",
   "execution_count": 160,
   "id": "815ba767-7847-4b06-85b7-400d978c6275",
   "metadata": {
    "tags": []
   },
   "outputs": [
    {
     "data": {
      "text/plain": [
       "count    7833.000000\n",
       "mean      518.638070\n",
       "std       701.116055\n",
       "min        21.000000\n",
       "25%       127.000000\n",
       "50%       276.000000\n",
       "75%       611.000000\n",
       "max      9381.000000\n",
       "Name: word_count, dtype: float64"
      ]
     },
     "execution_count": 160,
     "metadata": {},
     "output_type": "execute_result"
    }
   ],
   "source": [
    "df.word_count.describe()"
   ]
  },
  {
   "cell_type": "code",
   "execution_count": 161,
   "id": "28f8e672-90ae-4fba-bd79-daf7501eb85c",
   "metadata": {
    "tags": []
   },
   "outputs": [
    {
     "data": {
      "text/html": [
       "<div>\n",
       "<style scoped>\n",
       "    .dataframe tbody tr th:only-of-type {\n",
       "        vertical-align: middle;\n",
       "    }\n",
       "\n",
       "    .dataframe tbody tr th {\n",
       "        vertical-align: top;\n",
       "    }\n",
       "\n",
       "    .dataframe thead th {\n",
       "        text-align: right;\n",
       "    }\n",
       "</style>\n",
       "<table border=\"1\" class=\"dataframe\">\n",
       "  <thead>\n",
       "    <tr style=\"text-align: right;\">\n",
       "      <th></th>\n",
       "      <th>title</th>\n",
       "      <th>category</th>\n",
       "    </tr>\n",
       "    <tr>\n",
       "      <th>tags</th>\n",
       "      <th></th>\n",
       "      <th></th>\n",
       "    </tr>\n",
       "  </thead>\n",
       "  <tbody>\n",
       "    <tr>\n",
       "      <th>NA</th>\n",
       "      <td>{, Payments Generally; Pro Rata Treatment; Sha...</td>\n",
       "      <td>{Negative Covenants, Financial Covenants, FYI,...</td>\n",
       "    </tr>\n",
       "  </tbody>\n",
       "</table>\n",
       "</div>"
      ],
      "text/plain": [
       "                                                  title  \\\n",
       "tags                                                      \n",
       "NA    {, Payments Generally; Pro Rata Treatment; Sha...   \n",
       "\n",
       "                                               category  \n",
       "tags                                                     \n",
       "NA    {Negative Covenants, Financial Covenants, FYI,...  "
      ]
     },
     "execution_count": 161,
     "metadata": {},
     "output_type": "execute_result"
    }
   ],
   "source": [
    "df[df.tags == \"NA\"][['tags', 'title', 'category']].groupby('tags').agg(set)"
   ]
  },
  {
   "cell_type": "code",
   "execution_count": 162,
   "id": "9d80794c-9555-4d2f-9c71-514cc0a23bd2",
   "metadata": {
    "tags": []
   },
   "outputs": [],
   "source": [
    "agg_df = df[['tags', 'title' ]].groupby([ 'tags', 'title']).size().reset_index().sort_values(by=0).rename(columns={0:'freq'})"
   ]
  },
  {
   "cell_type": "code",
   "execution_count": 207,
   "id": "8ab42b49-d3a9-4c02-b36e-932d6ddd4570",
   "metadata": {
    "tags": []
   },
   "outputs": [
    {
     "name": "stderr",
     "output_type": "stream",
     "text": [
      "/tmp/ipykernel_18/497309628.py:1: UserWarning: Boolean Series key will be reindexed to match DataFrame index.\n",
      "  tag_title_filter = {t.tags+\"\"+t.title for t in agg_df[agg_df.tags == \"NA\"][agg_df.freq <=3].itertuples()}\n"
     ]
    }
   ],
   "source": [
    "tag_title_filter = {t.tags+\"\"+t.title for t in agg_df[agg_df.tags == \"NA\"][agg_df.freq <=3].itertuples()}"
   ]
  },
  {
   "cell_type": "code",
   "execution_count": 208,
   "id": "e874975f-1ad4-4a3b-ab2f-2c34a27c99ec",
   "metadata": {
    "tags": []
   },
   "outputs": [
    {
     "data": {
      "text/plain": [
       "1775"
      ]
     },
     "execution_count": 208,
     "metadata": {},
     "output_type": "execute_result"
    }
   ],
   "source": [
    "len(tag_title_filter)"
   ]
  },
  {
   "cell_type": "code",
   "execution_count": 209,
   "id": "33a5f52d-4f9f-41c3-be04-61fbe9a55e7f",
   "metadata": {
    "tags": []
   },
   "outputs": [],
   "source": [
    "df['tag_title'] = df.tags+df.title"
   ]
  },
  {
   "cell_type": "code",
   "execution_count": 210,
   "id": "0a5b366e-b2c0-4566-b8ae-7eb8ac45f972",
   "metadata": {
    "tags": []
   },
   "outputs": [],
   "source": [
    "new_df = pd.concat([df[df.tags!=\"NA\"], df[df.tag_title.isin( tag_title_filter)]])"
   ]
  },
  {
   "cell_type": "code",
   "execution_count": 211,
   "id": "eb84f612-c6f0-456e-9806-fdffc4f4781a",
   "metadata": {
    "tags": []
   },
   "outputs": [
    {
     "data": {
      "text/plain": [
       "count    3678.000000\n",
       "mean      559.646003\n",
       "std       742.116931\n",
       "min        21.000000\n",
       "25%       127.000000\n",
       "50%       291.000000\n",
       "75%       681.000000\n",
       "max      9381.000000\n",
       "Name: word_count, dtype: float64"
      ]
     },
     "execution_count": 211,
     "metadata": {},
     "output_type": "execute_result"
    }
   ],
   "source": [
    "new_df.word_count.describe()"
   ]
  },
  {
   "cell_type": "code",
   "execution_count": null,
   "id": "a6f8d992-8ce4-44d5-9ae2-d68b86dcc4e7",
   "metadata": {
    "tags": []
   },
   "outputs": [],
   "source": []
  },
  {
   "cell_type": "code",
   "execution_count": 212,
   "id": "d1aaebc4-5740-40a0-9398-a108581ab311",
   "metadata": {
    "tags": []
   },
   "outputs": [
    {
     "data": {
      "text/html": [
       "<div>\n",
       "<style scoped>\n",
       "    .dataframe tbody tr th:only-of-type {\n",
       "        vertical-align: middle;\n",
       "    }\n",
       "\n",
       "    .dataframe tbody tr th {\n",
       "        vertical-align: top;\n",
       "    }\n",
       "\n",
       "    .dataframe thead th {\n",
       "        text-align: right;\n",
       "    }\n",
       "</style>\n",
       "<table border=\"1\" class=\"dataframe\">\n",
       "  <thead>\n",
       "    <tr style=\"text-align: right;\">\n",
       "      <th></th>\n",
       "      <th>tags</th>\n",
       "      <th>0</th>\n",
       "    </tr>\n",
       "  </thead>\n",
       "  <tbody>\n",
       "    <tr>\n",
       "      <th>0</th>\n",
       "      <td>Additional Liens</td>\n",
       "      <td>78</td>\n",
       "    </tr>\n",
       "    <tr>\n",
       "      <th>1</th>\n",
       "      <td>Asset Disposition</td>\n",
       "      <td>47</td>\n",
       "    </tr>\n",
       "    <tr>\n",
       "      <th>2</th>\n",
       "      <td>Compliance Certificate</td>\n",
       "      <td>11</td>\n",
       "    </tr>\n",
       "    <tr>\n",
       "      <th>3</th>\n",
       "      <td>Consequences of Default</td>\n",
       "      <td>45</td>\n",
       "    </tr>\n",
       "    <tr>\n",
       "      <th>4</th>\n",
       "      <td>Event of Default</td>\n",
       "      <td>72</td>\n",
       "    </tr>\n",
       "    <tr>\n",
       "      <th>5</th>\n",
       "      <td>Facilities / Instrument</td>\n",
       "      <td>135</td>\n",
       "    </tr>\n",
       "    <tr>\n",
       "      <th>6</th>\n",
       "      <td>Financial Covenant</td>\n",
       "      <td>74</td>\n",
       "    </tr>\n",
       "    <tr>\n",
       "      <th>7</th>\n",
       "      <td>Financial Statements</td>\n",
       "      <td>23</td>\n",
       "    </tr>\n",
       "    <tr>\n",
       "      <th>8</th>\n",
       "      <td>Governing Laws</td>\n",
       "      <td>61</td>\n",
       "    </tr>\n",
       "    <tr>\n",
       "      <th>9</th>\n",
       "      <td>Incremental Facilities</td>\n",
       "      <td>40</td>\n",
       "    </tr>\n",
       "    <tr>\n",
       "      <th>10</th>\n",
       "      <td>Interest Rate</td>\n",
       "      <td>93</td>\n",
       "    </tr>\n",
       "    <tr>\n",
       "      <th>11</th>\n",
       "      <td>Loan Repayment</td>\n",
       "      <td>80</td>\n",
       "    </tr>\n",
       "    <tr>\n",
       "      <th>12</th>\n",
       "      <td>Mandatory Prepayments / Redemption</td>\n",
       "      <td>14</td>\n",
       "    </tr>\n",
       "    <tr>\n",
       "      <th>13</th>\n",
       "      <td>NA</td>\n",
       "      <td>2432</td>\n",
       "    </tr>\n",
       "    <tr>\n",
       "      <th>14</th>\n",
       "      <td>Optional Prepayment / Redemption</td>\n",
       "      <td>26</td>\n",
       "    </tr>\n",
       "    <tr>\n",
       "      <th>15</th>\n",
       "      <td>Permitted Indebtedness</td>\n",
       "      <td>44</td>\n",
       "    </tr>\n",
       "    <tr>\n",
       "      <th>16</th>\n",
       "      <td>Premium and Fees</td>\n",
       "      <td>78</td>\n",
       "    </tr>\n",
       "    <tr>\n",
       "      <th>17</th>\n",
       "      <td>Prepayment</td>\n",
       "      <td>56</td>\n",
       "    </tr>\n",
       "    <tr>\n",
       "      <th>18</th>\n",
       "      <td>Reporting Requirements</td>\n",
       "      <td>92</td>\n",
       "    </tr>\n",
       "    <tr>\n",
       "      <th>19</th>\n",
       "      <td>Restricted Investments</td>\n",
       "      <td>23</td>\n",
       "    </tr>\n",
       "    <tr>\n",
       "      <th>20</th>\n",
       "      <td>Restricted Payments</td>\n",
       "      <td>42</td>\n",
       "    </tr>\n",
       "    <tr>\n",
       "      <th>21</th>\n",
       "      <td>Transactions with Affiliates</td>\n",
       "      <td>48</td>\n",
       "    </tr>\n",
       "    <tr>\n",
       "      <th>22</th>\n",
       "      <td>Waterfall of Proceeds</td>\n",
       "      <td>64</td>\n",
       "    </tr>\n",
       "  </tbody>\n",
       "</table>\n",
       "</div>"
      ],
      "text/plain": [
       "                                  tags     0\n",
       "0                     Additional Liens    78\n",
       "1                    Asset Disposition    47\n",
       "2               Compliance Certificate    11\n",
       "3              Consequences of Default    45\n",
       "4                     Event of Default    72\n",
       "5              Facilities / Instrument   135\n",
       "6                   Financial Covenant    74\n",
       "7                 Financial Statements    23\n",
       "8                       Governing Laws    61\n",
       "9               Incremental Facilities    40\n",
       "10                       Interest Rate    93\n",
       "11                      Loan Repayment    80\n",
       "12  Mandatory Prepayments / Redemption    14\n",
       "13                                  NA  2432\n",
       "14    Optional Prepayment / Redemption    26\n",
       "15              Permitted Indebtedness    44\n",
       "16                    Premium and Fees    78\n",
       "17                          Prepayment    56\n",
       "18              Reporting Requirements    92\n",
       "19              Restricted Investments    23\n",
       "20                 Restricted Payments    42\n",
       "21        Transactions with Affiliates    48\n",
       "22               Waterfall of Proceeds    64"
      ]
     },
     "execution_count": 212,
     "metadata": {},
     "output_type": "execute_result"
    }
   ],
   "source": [
    "new_df[['tags']].groupby('tags').size().reset_index()"
   ]
  },
  {
   "cell_type": "markdown",
   "id": "ce0b6e86-bb61-4fb9-9657-5c2aeb978c16",
   "metadata": {},
   "source": [
    "# Save Data cleaned for NA tags"
   ]
  },
  {
   "cell_type": "code",
   "execution_count": 213,
   "id": "37e9f3ba-383c-4b4c-a171-3f897ee5cbb8",
   "metadata": {
    "tags": []
   },
   "outputs": [],
   "source": [
    "new_df.to_json(\"./data/cleaned_tags_data_na_tag_lt3.json\", orient='records')"
   ]
  },
  {
   "cell_type": "markdown",
   "id": "91c463b0-8c57-4dbf-8aa7-33fa8b0eb89c",
   "metadata": {},
   "source": [
    "# Create Train test split"
   ]
  },
  {
   "cell_type": "code",
   "execution_count": 214,
   "id": "926e63d9-28e0-44c6-bd7a-42c2af4da474",
   "metadata": {
    "tags": []
   },
   "outputs": [],
   "source": [
    "from sklearn.model_selection import KFold\n",
    "from sklearn.model_selection import train_test_split\n",
    "import os"
   ]
  },
  {
   "cell_type": "code",
   "execution_count": 215,
   "id": "0999c811-d53b-4644-bce5-e33b6f5fba42",
   "metadata": {
    "tags": []
   },
   "outputs": [],
   "source": [
    "unique_filenames = new_df.filename.unique()"
   ]
  },
  {
   "cell_type": "code",
   "execution_count": 216,
   "id": "9461b1a7-1d80-4c60-af8b-07d2c84ff533",
   "metadata": {
    "tags": []
   },
   "outputs": [],
   "source": [
    "synth_df = pd.read_json(\"./data/output/synthesized_rows.json\")\n",
    "synth_df['tags'] = synth_df['tags'].str.replace(\"Events of Default\", \"Event of Default\")"
   ]
  },
  {
   "cell_type": "code",
   "execution_count": 217,
   "id": "d18fe5f9-0a62-4dc6-9187-a8fc373b11e0",
   "metadata": {
    "tags": []
   },
   "outputs": [
    {
     "data": {
      "text/plain": [
       "((3085, 9), (764, 8))"
      ]
     },
     "execution_count": 217,
     "metadata": {},
     "output_type": "execute_result"
    }
   ],
   "source": [
    "\n",
    "# Split filenames into train and test sets\n",
    "train_files, test_files = train_test_split(unique_filenames, test_size=0.2, random_state=42)\n",
    "\n",
    "# Create train and test datasets based on the split filenames\n",
    "train_df = pd.concat([new_df[new_df['filename'].isin(train_files)].reset_index(), synth_df]).reset_index(drop=True)\n",
    "test_df = new_df[new_df['filename'].isin(test_files)].reset_index()\n",
    "del train_df['index'] \n",
    "del test_df['index'] \n",
    "train_df.shape, test_df.shape"
   ]
  },
  {
   "cell_type": "code",
   "execution_count": 218,
   "id": "2e965e06-26e5-4948-bc70-71358975586f",
   "metadata": {
    "tags": []
   },
   "outputs": [],
   "source": [
    "selected_columns = [\"section_content\", \"tags\"]"
   ]
  },
  {
   "cell_type": "code",
   "execution_count": 219,
   "id": "e52a949b-5aae-4a9c-bf7a-12f0ff6b0a03",
   "metadata": {
    "tags": []
   },
   "outputs": [],
   "source": [
    "train_tags = set(train_df.tags.unique())\n",
    "test_tags = set(test_df.tags.unique())"
   ]
  },
  {
   "cell_type": "code",
   "execution_count": 220,
   "id": "11ec508b-b76e-4759-b701-357146873893",
   "metadata": {},
   "outputs": [
    {
     "name": "stdout",
     "output_type": "stream",
     "text": [
      "set()\n"
     ]
    }
   ],
   "source": [
    "print(test_tags - train_tags )\n",
    "assert not test_tags - train_tags "
   ]
  },
  {
   "cell_type": "code",
   "execution_count": 221,
   "id": "e58f811a-a09a-4aee-acbb-665652fff112",
   "metadata": {
    "tags": []
   },
   "outputs": [],
   "source": [
    "OUTPUT_DIR = \"./data/dataset/v7\"\n",
    "\n",
    "os.makedirs(OUTPUT_DIR, exist_ok=True)"
   ]
  },
  {
   "cell_type": "code",
   "execution_count": null,
   "id": "be475b49-4b33-40cf-9746-6fc322c06c36",
   "metadata": {},
   "outputs": [],
   "source": []
  },
  {
   "cell_type": "code",
   "execution_count": 222,
   "id": "4cb9eeaf-59f2-42f2-9e22-024c5d557aa2",
   "metadata": {
    "tags": []
   },
   "outputs": [
    {
     "data": {
      "text/html": [
       "<div>\n",
       "<style scoped>\n",
       "    .dataframe tbody tr th:only-of-type {\n",
       "        vertical-align: middle;\n",
       "    }\n",
       "\n",
       "    .dataframe tbody tr th {\n",
       "        vertical-align: top;\n",
       "    }\n",
       "\n",
       "    .dataframe thead th {\n",
       "        text-align: right;\n",
       "    }\n",
       "</style>\n",
       "<table border=\"1\" class=\"dataframe\">\n",
       "  <thead>\n",
       "    <tr style=\"text-align: right;\">\n",
       "      <th></th>\n",
       "      <th>title</th>\n",
       "      <th>category</th>\n",
       "      <th>tags</th>\n",
       "      <th>checklists</th>\n",
       "      <th>section_content</th>\n",
       "      <th>filename</th>\n",
       "      <th>word_count</th>\n",
       "      <th>tag_title</th>\n",
       "      <th>checklist</th>\n",
       "    </tr>\n",
       "  </thead>\n",
       "  <tbody>\n",
       "    <tr>\n",
       "      <th>0</th>\n",
       "      <td>Commitments</td>\n",
       "      <td>Event Driven</td>\n",
       "      <td>Facilities / Instrument</td>\n",
       "      <td>[]</td>\n",
       "      <td>Title is Commitments\\nCategory is Event Driven...</td>\n",
       "      <td>Paramount Global - $3,500,000,000 AMENDED AND ...</td>\n",
       "      <td>205</td>\n",
       "      <td>Facilities / InstrumentCommitments</td>\n",
       "      <td>NaN</td>\n",
       "    </tr>\n",
       "    <tr>\n",
       "      <th>1</th>\n",
       "      <td>Revolving Credit Loans; Competitive Loans</td>\n",
       "      <td>Event Driven</td>\n",
       "      <td>Facilities / Instrument</td>\n",
       "      <td>[]</td>\n",
       "      <td>Title is Revolving Credit Loans; Competitive L...</td>\n",
       "      <td>Paramount Global - $3,500,000,000 AMENDED AND ...</td>\n",
       "      <td>422</td>\n",
       "      <td>Facilities / InstrumentRevolving Credit Loans;...</td>\n",
       "      <td>NaN</td>\n",
       "    </tr>\n",
       "    <tr>\n",
       "      <th>2</th>\n",
       "      <td>Repayment of Loans</td>\n",
       "      <td>Event Driven</td>\n",
       "      <td>Loan Repayment</td>\n",
       "      <td>[]</td>\n",
       "      <td>Title is Repayment of Loans\\nCategory is Event...</td>\n",
       "      <td>Paramount Global - $3,500,000,000 AMENDED AND ...</td>\n",
       "      <td>123</td>\n",
       "      <td>Loan RepaymentRepayment of Loans</td>\n",
       "      <td>NaN</td>\n",
       "    </tr>\n",
       "    <tr>\n",
       "      <th>3</th>\n",
       "      <td>Swingline Loans</td>\n",
       "      <td>Event Driven</td>\n",
       "      <td>Facilities / Instrument</td>\n",
       "      <td>[]</td>\n",
       "      <td>Title is Swingline Loans\\nCategory is Event Dr...</td>\n",
       "      <td>Paramount Global - $3,500,000,000 AMENDED AND ...</td>\n",
       "      <td>1919</td>\n",
       "      <td>Facilities / InstrumentSwingline Loans</td>\n",
       "      <td>NaN</td>\n",
       "    </tr>\n",
       "    <tr>\n",
       "      <th>4</th>\n",
       "      <td>Letters of Credit</td>\n",
       "      <td>Event Driven</td>\n",
       "      <td>Facilities / Instrument</td>\n",
       "      <td>[]</td>\n",
       "      <td>Title is Letters of Credit\\nCategory is Event ...</td>\n",
       "      <td>Paramount Global - $3,500,000,000 AMENDED AND ...</td>\n",
       "      <td>2735</td>\n",
       "      <td>Facilities / InstrumentLetters of Credit</td>\n",
       "      <td>NaN</td>\n",
       "    </tr>\n",
       "  </tbody>\n",
       "</table>\n",
       "</div>"
      ],
      "text/plain": [
       "                                       title      category  \\\n",
       "0                                Commitments  Event Driven   \n",
       "1  Revolving Credit Loans; Competitive Loans  Event Driven   \n",
       "2                         Repayment of Loans  Event Driven   \n",
       "3                            Swingline Loans  Event Driven   \n",
       "4                          Letters of Credit  Event Driven   \n",
       "\n",
       "                      tags checklists  \\\n",
       "0  Facilities / Instrument         []   \n",
       "1  Facilities / Instrument         []   \n",
       "2           Loan Repayment         []   \n",
       "3  Facilities / Instrument         []   \n",
       "4  Facilities / Instrument         []   \n",
       "\n",
       "                                     section_content  \\\n",
       "0  Title is Commitments\\nCategory is Event Driven...   \n",
       "1  Title is Revolving Credit Loans; Competitive L...   \n",
       "2  Title is Repayment of Loans\\nCategory is Event...   \n",
       "3  Title is Swingline Loans\\nCategory is Event Dr...   \n",
       "4  Title is Letters of Credit\\nCategory is Event ...   \n",
       "\n",
       "                                            filename  word_count  \\\n",
       "0  Paramount Global - $3,500,000,000 AMENDED AND ...         205   \n",
       "1  Paramount Global - $3,500,000,000 AMENDED AND ...         422   \n",
       "2  Paramount Global - $3,500,000,000 AMENDED AND ...         123   \n",
       "3  Paramount Global - $3,500,000,000 AMENDED AND ...        1919   \n",
       "4  Paramount Global - $3,500,000,000 AMENDED AND ...        2735   \n",
       "\n",
       "                                           tag_title checklist  \n",
       "0                 Facilities / InstrumentCommitments       NaN  \n",
       "1  Facilities / InstrumentRevolving Credit Loans;...       NaN  \n",
       "2                   Loan RepaymentRepayment of Loans       NaN  \n",
       "3             Facilities / InstrumentSwingline Loans       NaN  \n",
       "4           Facilities / InstrumentLetters of Credit       NaN  "
      ]
     },
     "execution_count": 222,
     "metadata": {},
     "output_type": "execute_result"
    }
   ],
   "source": [
    "train_df.head()"
   ]
  },
  {
   "cell_type": "code",
   "execution_count": 223,
   "id": "9efa72f3-572c-4ee5-bdf4-ba490a33eacd",
   "metadata": {
    "tags": []
   },
   "outputs": [],
   "source": [
    "train_df.to_json(os.path.join(OUTPUT_DIR, \"train.json\")) \n",
    "test_df.to_json(os.path.join(OUTPUT_DIR, \"test.json\"))"
   ]
  },
  {
   "cell_type": "markdown",
   "id": "142d9a72-ad35-409a-b060-19dc32edb9ae",
   "metadata": {
    "tags": []
   },
   "source": [
    "---\n",
    "\n",
    "End of Training data creation with Undersampled tags data\n",
    "\n",
    "--- "
   ]
  },
  {
   "cell_type": "code",
   "execution_count": null,
   "id": "7092dd43-4120-49f5-bf6b-986f1b2b4a99",
   "metadata": {},
   "outputs": [],
   "source": []
  },
  {
   "cell_type": "markdown",
   "id": "6383ba52-dda3-4f69-a5d0-ee82f5181efb",
   "metadata": {},
   "source": [
    "# Create Undersampled dataset "
   ]
  },
  {
   "cell_type": "code",
   "execution_count": 9,
   "id": "82818380-8a64-494c-8589-97b4aa03df6e",
   "metadata": {
    "tags": []
   },
   "outputs": [],
   "source": [
    "from imblearn.under_sampling import RandomUnderSampler"
   ]
  },
  {
   "cell_type": "code",
   "execution_count": 10,
   "id": "c30153d7-812b-41e2-8a88-e85e743e3d45",
   "metadata": {
    "tags": []
   },
   "outputs": [
    {
     "data": {
      "text/html": [
       "<div>\n",
       "<style scoped>\n",
       "    .dataframe tbody tr th:only-of-type {\n",
       "        vertical-align: middle;\n",
       "    }\n",
       "\n",
       "    .dataframe tbody tr th {\n",
       "        vertical-align: top;\n",
       "    }\n",
       "\n",
       "    .dataframe thead th {\n",
       "        text-align: right;\n",
       "    }\n",
       "</style>\n",
       "<table border=\"1\" class=\"dataframe\">\n",
       "  <thead>\n",
       "    <tr style=\"text-align: right;\">\n",
       "      <th></th>\n",
       "      <th>filename</th>\n",
       "      <th>section_content</th>\n",
       "    </tr>\n",
       "  </thead>\n",
       "  <tbody>\n",
       "    <tr>\n",
       "      <th>0</th>\n",
       "      <td>Abbvie - 6,000,000,000 TERM LOAN CREDIT AGREEM...</td>\n",
       "      <td>Title is Computation of Time Periods\\nCategory...</td>\n",
       "    </tr>\n",
       "    <tr>\n",
       "      <th>1</th>\n",
       "      <td>Abbvie - 6,000,000,000 TERM LOAN CREDIT AGREEM...</td>\n",
       "      <td>Title is Accounting Terms\\nCategory is FYI\\nSe...</td>\n",
       "    </tr>\n",
       "    <tr>\n",
       "      <th>2</th>\n",
       "      <td>Abbvie - 6,000,000,000 TERM LOAN CREDIT AGREEM...</td>\n",
       "      <td>Title is Terms Generally\\nCategory is FYI\\nSec...</td>\n",
       "    </tr>\n",
       "    <tr>\n",
       "      <th>3</th>\n",
       "      <td>Abbvie - 6,000,000,000 TERM LOAN CREDIT AGREEM...</td>\n",
       "      <td>Title is Divisions\\nCategory is FYI\\nSection 1...</td>\n",
       "    </tr>\n",
       "    <tr>\n",
       "      <th>4</th>\n",
       "      <td>Abbvie - 6,000,000,000 TERM LOAN CREDIT AGREEM...</td>\n",
       "      <td>Title is The Advances\\nCategory is FYI\\nSectio...</td>\n",
       "    </tr>\n",
       "    <tr>\n",
       "      <th>...</th>\n",
       "      <td>...</td>\n",
       "      <td>...</td>\n",
       "    </tr>\n",
       "    <tr>\n",
       "      <th>13659</th>\n",
       "      <td>Exelon Corp - $900,000,000 CREDIT AGREEMENT.se...</td>\n",
       "      <td>Title is Acknowledgement and Consent to Bail-I...</td>\n",
       "    </tr>\n",
       "    <tr>\n",
       "      <th>13660</th>\n",
       "      <td>Exelon Corp - $900,000,000 CREDIT AGREEMENT.se...</td>\n",
       "      <td>Title is Acknowledgement Regarding Any Support...</td>\n",
       "    </tr>\n",
       "    <tr>\n",
       "      <th>13661</th>\n",
       "      <td>Exelon Corp - $900,000,000 CREDIT AGREEMENT.se...</td>\n",
       "      <td>Title is Judgment Currency\\nCategory is FYI\\n9...</td>\n",
       "    </tr>\n",
       "    <tr>\n",
       "      <th>13662</th>\n",
       "      <td>Exelon Corp - $900,000,000 CREDIT AGREEMENT.se...</td>\n",
       "      <td>Title is Payments Set Aside\\nCategory is FYI\\n...</td>\n",
       "    </tr>\n",
       "    <tr>\n",
       "      <th>13663</th>\n",
       "      <td>Exelon Corp - $900,000,000 CREDIT AGREEMENT.se...</td>\n",
       "      <td>Title is Separate Obligations of Borrowers\\nCa...</td>\n",
       "    </tr>\n",
       "  </tbody>\n",
       "</table>\n",
       "<p>13084 rows × 2 columns</p>\n",
       "</div>"
      ],
      "text/plain": [
       "                                                filename  \\\n",
       "0      Abbvie - 6,000,000,000 TERM LOAN CREDIT AGREEM...   \n",
       "1      Abbvie - 6,000,000,000 TERM LOAN CREDIT AGREEM...   \n",
       "2      Abbvie - 6,000,000,000 TERM LOAN CREDIT AGREEM...   \n",
       "3      Abbvie - 6,000,000,000 TERM LOAN CREDIT AGREEM...   \n",
       "4      Abbvie - 6,000,000,000 TERM LOAN CREDIT AGREEM...   \n",
       "...                                                  ...   \n",
       "13659  Exelon Corp - $900,000,000 CREDIT AGREEMENT.se...   \n",
       "13660  Exelon Corp - $900,000,000 CREDIT AGREEMENT.se...   \n",
       "13661  Exelon Corp - $900,000,000 CREDIT AGREEMENT.se...   \n",
       "13662  Exelon Corp - $900,000,000 CREDIT AGREEMENT.se...   \n",
       "13663  Exelon Corp - $900,000,000 CREDIT AGREEMENT.se...   \n",
       "\n",
       "                                         section_content  \n",
       "0      Title is Computation of Time Periods\\nCategory...  \n",
       "1      Title is Accounting Terms\\nCategory is FYI\\nSe...  \n",
       "2      Title is Terms Generally\\nCategory is FYI\\nSec...  \n",
       "3      Title is Divisions\\nCategory is FYI\\nSection 1...  \n",
       "4      Title is The Advances\\nCategory is FYI\\nSectio...  \n",
       "...                                                  ...  \n",
       "13659  Title is Acknowledgement and Consent to Bail-I...  \n",
       "13660  Title is Acknowledgement Regarding Any Support...  \n",
       "13661  Title is Judgment Currency\\nCategory is FYI\\n9...  \n",
       "13662  Title is Payments Set Aside\\nCategory is FYI\\n...  \n",
       "13663  Title is Separate Obligations of Borrowers\\nCa...  \n",
       "\n",
       "[13084 rows x 2 columns]"
      ]
     },
     "execution_count": 10,
     "metadata": {},
     "output_type": "execute_result"
    }
   ],
   "source": [
    "df[[\"filename\", \"section_content\"]]"
   ]
  },
  {
   "cell_type": "code",
   "execution_count": 11,
   "id": "409fc12b-a6cd-4d7f-b81a-badb4e65f735",
   "metadata": {
    "tags": []
   },
   "outputs": [
    {
     "data": {
      "text/plain": [
       "array(['Computation of Time Periods', 'FYI', 'NA', list([]),\n",
       "       'Title is Computation of Time Periods\\nCategory is FYI\\nSection 1.02. Computation of Time Periods. In this Agreement, in the computation of periods of time from a specified date to a later specified date, the word “from” means “from and including”, the word “through” means “through and including” and each of the words “to” and “until” mean “to but excluding”.\\n',\n",
       "       'Abbvie - 6,000,000,000 TERM LOAN CREDIT AGREEMENT.section.json',\n",
       "       51], dtype=object)"
      ]
     },
     "execution_count": 11,
     "metadata": {},
     "output_type": "execute_result"
    }
   ],
   "source": [
    "df.values[0]"
   ]
  },
  {
   "cell_type": "code",
   "execution_count": 12,
   "id": "86658b76-fdfa-495f-8460-59e9eae44985",
   "metadata": {
    "tags": []
   },
   "outputs": [],
   "source": [
    "X = df[[\"filename\", \"section_content\"]].values\n",
    "# X = df['section_content'].values\n",
    "y = df['tags'].values"
   ]
  },
  {
   "cell_type": "code",
   "execution_count": 13,
   "id": "34f9a3d6-d9c6-46eb-850c-6f928081abc0",
   "metadata": {
    "tags": []
   },
   "outputs": [],
   "source": [
    "rus = RandomUnderSampler(sampling_strategy='not minority', random_state=42)\n",
    "X_res, y_res = rus.fit_resample(df, y)"
   ]
  },
  {
   "cell_type": "code",
   "execution_count": 14,
   "id": "e542657e-e35f-4100-8f9a-88700744feb3",
   "metadata": {
    "tags": []
   },
   "outputs": [],
   "source": [
    "df['tags'] = df['tags'].str.replace(\"Events of Default\", \"Event of Default\")"
   ]
  },
  {
   "cell_type": "code",
   "execution_count": 15,
   "id": "ffd1dac3-cc0f-4294-b803-08f376e559bd",
   "metadata": {
    "tags": []
   },
   "outputs": [
    {
     "data": {
      "text/html": [
       "<div>\n",
       "<style scoped>\n",
       "    .dataframe tbody tr th:only-of-type {\n",
       "        vertical-align: middle;\n",
       "    }\n",
       "\n",
       "    .dataframe tbody tr th {\n",
       "        vertical-align: top;\n",
       "    }\n",
       "\n",
       "    .dataframe thead th {\n",
       "        text-align: right;\n",
       "    }\n",
       "</style>\n",
       "<table border=\"1\" class=\"dataframe\">\n",
       "  <thead>\n",
       "    <tr style=\"text-align: right;\">\n",
       "      <th></th>\n",
       "      <th>tags</th>\n",
       "      <th>0</th>\n",
       "    </tr>\n",
       "  </thead>\n",
       "  <tbody>\n",
       "    <tr>\n",
       "      <th>7</th>\n",
       "      <td>Financial Statements</td>\n",
       "      <td>24</td>\n",
       "    </tr>\n",
       "    <tr>\n",
       "      <th>2</th>\n",
       "      <td>Compliance Certificate</td>\n",
       "      <td>25</td>\n",
       "    </tr>\n",
       "    <tr>\n",
       "      <th>12</th>\n",
       "      <td>Mandatory Prepayments / Redemption</td>\n",
       "      <td>30</td>\n",
       "    </tr>\n",
       "    <tr>\n",
       "      <th>19</th>\n",
       "      <td>Restricted Investments</td>\n",
       "      <td>33</td>\n",
       "    </tr>\n",
       "    <tr>\n",
       "      <th>14</th>\n",
       "      <td>Optional Prepayment / Redemption</td>\n",
       "      <td>47</td>\n",
       "    </tr>\n",
       "    <tr>\n",
       "      <th>9</th>\n",
       "      <td>Incremental Facilities</td>\n",
       "      <td>48</td>\n",
       "    </tr>\n",
       "    <tr>\n",
       "      <th>20</th>\n",
       "      <td>Restricted Payments</td>\n",
       "      <td>61</td>\n",
       "    </tr>\n",
       "    <tr>\n",
       "      <th>15</th>\n",
       "      <td>Permitted Indebtedness</td>\n",
       "      <td>63</td>\n",
       "    </tr>\n",
       "    <tr>\n",
       "      <th>21</th>\n",
       "      <td>Transactions with Affiliates</td>\n",
       "      <td>63</td>\n",
       "    </tr>\n",
       "    <tr>\n",
       "      <th>17</th>\n",
       "      <td>Prepayment</td>\n",
       "      <td>64</td>\n",
       "    </tr>\n",
       "    <tr>\n",
       "      <th>1</th>\n",
       "      <td>Asset Disposition</td>\n",
       "      <td>65</td>\n",
       "    </tr>\n",
       "    <tr>\n",
       "      <th>22</th>\n",
       "      <td>Waterfall of Proceeds</td>\n",
       "      <td>88</td>\n",
       "    </tr>\n",
       "    <tr>\n",
       "      <th>16</th>\n",
       "      <td>Premium and Fees</td>\n",
       "      <td>98</td>\n",
       "    </tr>\n",
       "    <tr>\n",
       "      <th>6</th>\n",
       "      <td>Financial Covenant</td>\n",
       "      <td>98</td>\n",
       "    </tr>\n",
       "    <tr>\n",
       "      <th>0</th>\n",
       "      <td>Additional Liens</td>\n",
       "      <td>107</td>\n",
       "    </tr>\n",
       "    <tr>\n",
       "      <th>11</th>\n",
       "      <td>Loan Repayment</td>\n",
       "      <td>109</td>\n",
       "    </tr>\n",
       "    <tr>\n",
       "      <th>8</th>\n",
       "      <td>Governing Laws</td>\n",
       "      <td>112</td>\n",
       "    </tr>\n",
       "    <tr>\n",
       "      <th>18</th>\n",
       "      <td>Reporting Requirements</td>\n",
       "      <td>125</td>\n",
       "    </tr>\n",
       "    <tr>\n",
       "      <th>4</th>\n",
       "      <td>Event of Default</td>\n",
       "      <td>132</td>\n",
       "    </tr>\n",
       "    <tr>\n",
       "      <th>10</th>\n",
       "      <td>Interest Rate</td>\n",
       "      <td>137</td>\n",
       "    </tr>\n",
       "    <tr>\n",
       "      <th>3</th>\n",
       "      <td>Consequences of Default</td>\n",
       "      <td>137</td>\n",
       "    </tr>\n",
       "    <tr>\n",
       "      <th>5</th>\n",
       "      <td>Facilities / Instrument</td>\n",
       "      <td>171</td>\n",
       "    </tr>\n",
       "    <tr>\n",
       "      <th>13</th>\n",
       "      <td>NA</td>\n",
       "      <td>11247</td>\n",
       "    </tr>\n",
       "  </tbody>\n",
       "</table>\n",
       "</div>"
      ],
      "text/plain": [
       "                                  tags      0\n",
       "7                 Financial Statements     24\n",
       "2               Compliance Certificate     25\n",
       "12  Mandatory Prepayments / Redemption     30\n",
       "19              Restricted Investments     33\n",
       "14    Optional Prepayment / Redemption     47\n",
       "9               Incremental Facilities     48\n",
       "20                 Restricted Payments     61\n",
       "15              Permitted Indebtedness     63\n",
       "21        Transactions with Affiliates     63\n",
       "17                          Prepayment     64\n",
       "1                    Asset Disposition     65\n",
       "22               Waterfall of Proceeds     88\n",
       "16                    Premium and Fees     98\n",
       "6                   Financial Covenant     98\n",
       "0                     Additional Liens    107\n",
       "11                      Loan Repayment    109\n",
       "8                       Governing Laws    112\n",
       "18              Reporting Requirements    125\n",
       "4                     Event of Default    132\n",
       "10                       Interest Rate    137\n",
       "3              Consequences of Default    137\n",
       "5              Facilities / Instrument    171\n",
       "13                                  NA  11247"
      ]
     },
     "execution_count": 15,
     "metadata": {},
     "output_type": "execute_result"
    }
   ],
   "source": [
    "df[['tags']].groupby('tags').size().reset_index().sort_values(by=0)"
   ]
  },
  {
   "cell_type": "markdown",
   "id": "b68b547f-166f-4630-9a58-367d39af60a9",
   "metadata": {},
   "source": [
    "# Idenitfy Undersampled tags"
   ]
  },
  {
   "cell_type": "code",
   "execution_count": 16,
   "id": "cb80aafa-1708-44a4-921c-3d8f9186e43e",
   "metadata": {
    "tags": []
   },
   "outputs": [],
   "source": [
    "label_counts = df[['tags']].groupby('tags').size().reset_index().rename(columns={0:\"freq\"}).sort_values(by='freq')"
   ]
  },
  {
   "cell_type": "code",
   "execution_count": 17,
   "id": "ca25fd28-5736-4bf0-9ca2-67a2d8918cd1",
   "metadata": {
    "tags": []
   },
   "outputs": [],
   "source": [
    "median_count = label_counts['freq'].median()"
   ]
  },
  {
   "cell_type": "code",
   "execution_count": 18,
   "id": "a041e927-325b-448e-8d7a-ce8000f0c32c",
   "metadata": {
    "tags": []
   },
   "outputs": [],
   "source": [
    "undersampled_labels = label_counts[label_counts.freq < median_count]"
   ]
  },
  {
   "cell_type": "code",
   "execution_count": 19,
   "id": "0d67166b-e10f-4bd0-a56e-69725ac1a6cb",
   "metadata": {
    "tags": []
   },
   "outputs": [
    {
     "data": {
      "text/html": [
       "<div>\n",
       "<style scoped>\n",
       "    .dataframe tbody tr th:only-of-type {\n",
       "        vertical-align: middle;\n",
       "    }\n",
       "\n",
       "    .dataframe tbody tr th {\n",
       "        vertical-align: top;\n",
       "    }\n",
       "\n",
       "    .dataframe thead th {\n",
       "        text-align: right;\n",
       "    }\n",
       "</style>\n",
       "<table border=\"1\" class=\"dataframe\">\n",
       "  <thead>\n",
       "    <tr style=\"text-align: right;\">\n",
       "      <th></th>\n",
       "      <th>tags</th>\n",
       "      <th>freq</th>\n",
       "    </tr>\n",
       "  </thead>\n",
       "  <tbody>\n",
       "    <tr>\n",
       "      <th>7</th>\n",
       "      <td>Financial Statements</td>\n",
       "      <td>24</td>\n",
       "    </tr>\n",
       "    <tr>\n",
       "      <th>2</th>\n",
       "      <td>Compliance Certificate</td>\n",
       "      <td>25</td>\n",
       "    </tr>\n",
       "    <tr>\n",
       "      <th>12</th>\n",
       "      <td>Mandatory Prepayments / Redemption</td>\n",
       "      <td>30</td>\n",
       "    </tr>\n",
       "    <tr>\n",
       "      <th>19</th>\n",
       "      <td>Restricted Investments</td>\n",
       "      <td>33</td>\n",
       "    </tr>\n",
       "    <tr>\n",
       "      <th>14</th>\n",
       "      <td>Optional Prepayment / Redemption</td>\n",
       "      <td>47</td>\n",
       "    </tr>\n",
       "    <tr>\n",
       "      <th>9</th>\n",
       "      <td>Incremental Facilities</td>\n",
       "      <td>48</td>\n",
       "    </tr>\n",
       "    <tr>\n",
       "      <th>20</th>\n",
       "      <td>Restricted Payments</td>\n",
       "      <td>61</td>\n",
       "    </tr>\n",
       "    <tr>\n",
       "      <th>15</th>\n",
       "      <td>Permitted Indebtedness</td>\n",
       "      <td>63</td>\n",
       "    </tr>\n",
       "    <tr>\n",
       "      <th>21</th>\n",
       "      <td>Transactions with Affiliates</td>\n",
       "      <td>63</td>\n",
       "    </tr>\n",
       "    <tr>\n",
       "      <th>17</th>\n",
       "      <td>Prepayment</td>\n",
       "      <td>64</td>\n",
       "    </tr>\n",
       "    <tr>\n",
       "      <th>1</th>\n",
       "      <td>Asset Disposition</td>\n",
       "      <td>65</td>\n",
       "    </tr>\n",
       "  </tbody>\n",
       "</table>\n",
       "</div>"
      ],
      "text/plain": [
       "                                  tags  freq\n",
       "7                 Financial Statements    24\n",
       "2               Compliance Certificate    25\n",
       "12  Mandatory Prepayments / Redemption    30\n",
       "19              Restricted Investments    33\n",
       "14    Optional Prepayment / Redemption    47\n",
       "9               Incremental Facilities    48\n",
       "20                 Restricted Payments    61\n",
       "15              Permitted Indebtedness    63\n",
       "21        Transactions with Affiliates    63\n",
       "17                          Prepayment    64\n",
       "1                    Asset Disposition    65"
      ]
     },
     "execution_count": 19,
     "metadata": {},
     "output_type": "execute_result"
    }
   ],
   "source": [
    "undersampled_labels"
   ]
  },
  {
   "cell_type": "markdown",
   "id": "448e1d4d-348e-4c0b-ad03-a686663616c6",
   "metadata": {
    "tags": []
   },
   "source": [
    "## Generate Content for Undersampled tags"
   ]
  },
  {
   "cell_type": "code",
   "execution_count": 20,
   "id": "a80a5bb4-8e29-4619-82b8-a1ee7ea55333",
   "metadata": {
    "tags": []
   },
   "outputs": [],
   "source": [
    "import boto3 \n",
    "import json "
   ]
  },
  {
   "cell_type": "code",
   "execution_count": 21,
   "id": "6b7f7c45-bbe0-4cbe-8dc2-d681cb399b0e",
   "metadata": {
    "tags": []
   },
   "outputs": [],
   "source": [
    "bedrock = boto3.client(service_name=\"bedrock-runtime\")"
   ]
  },
  {
   "cell_type": "code",
   "execution_count": 63,
   "id": "9838bc22-96a7-4f06-9ad5-3366fc6593ad",
   "metadata": {
    "tags": []
   },
   "outputs": [],
   "source": [
    "prompt = \"\"\"You are a financial expert tasked with generating synthetic text from a given section of a Credit Agreement document. Here are the guidelines for generating synthetic content. \n",
    "- Maintain content length similar to the original content provided\n",
    "- Modify the content slightly so that it can be used for training\n",
    "- Do not deviate from the language of the original content\n",
    "- You can modify the numbers, names of persons, companies, locations, or other nouns to generate the synthetic content. Maintain the consistency of the replaced names\n",
    "- You can also replace the content with synonyms without overdoing it. \n",
    "Think deeply about the content and how it can be synthesized in the <thinking> tags.\n",
    "Then finally, generate synthesized content in <content> tags. \n",
    "Here's the section content as follows: \n",
    "<section_content> \n",
    "{section_content}\n",
    "</section_content> \n",
    "\"\"\""
   ]
  },
  {
   "cell_type": "code",
   "execution_count": 73,
   "id": "baf545b2-9f97-4ab0-8b87-8d736199b06a",
   "metadata": {
    "tags": []
   },
   "outputs": [],
   "source": [
    "def synthesize(section_content):\n",
    "    content = prompt.format(section_content=section_content)\n",
    "    body = json.dumps({\n",
    "      \"max_tokens\": 4096,\n",
    "      \"messages\": [{\"role\": \"user\", \"content\": content}],\n",
    "      \"anthropic_version\": \"bedrock-2023-05-31\"\n",
    "    })\n",
    "\n",
    "    response = bedrock.invoke_model(body=body, modelId=\"anthropic.claude-3-5-sonnet-20240620-v1:0\")\n",
    "    response_body = json.loads(response.get(\"body\").read())\n",
    "    return response_body.get(\"content\")[0]['text']"
   ]
  },
  {
   "cell_type": "code",
   "execution_count": null,
   "id": "eabe1dc6-7651-4377-ad1a-5878723f6e2a",
   "metadata": {
    "tags": []
   },
   "outputs": [],
   "source": [
    "from tqdm import tqdm\n",
    "import time\n",
    "import re "
   ]
  },
  {
   "cell_type": "code",
   "execution_count": 75,
   "id": "45f4ed58-86fc-408d-8ecc-5d22d3bc9570",
   "metadata": {
    "tags": []
   },
   "outputs": [],
   "source": [
    "# synthesize  = lambda x: f\"<content>{x}</content>\""
   ]
  },
  {
   "cell_type": "code",
   "execution_count": 76,
   "id": "abc504fe-51df-47eb-8bdf-7602d691e852",
   "metadata": {
    "tags": []
   },
   "outputs": [],
   "source": [
    "synthesized_content = [] "
   ]
  },
  {
   "cell_type": "code",
   "execution_count": 77,
   "id": "f3775016-1c84-4a6f-a54b-d3f39f859513",
   "metadata": {
    "tags": []
   },
   "outputs": [],
   "source": [
    "synth_size = len(synthesized_content)"
   ]
  },
  {
   "cell_type": "code",
   "execution_count": 78,
   "id": "6d5242c7-8693-4955-9c27-fc60bd3e82a9",
   "metadata": {},
   "outputs": [],
   "source": [
    "def undersample_gen(): \n",
    "    for t in tqdm(undersampled_labels.itertuples()): \n",
    "        fill_count = int(median_count - t.freq )\n",
    "        print(t.tags, fill_count)\n",
    "        while True: \n",
    "            for row in tqdm(df[df.tags == t.tags].to_dict(orient='records')): \n",
    "                if fill_count == 0: \n",
    "                    break \n",
    "                yield row\n",
    "\n",
    "                fill_count -= 1\n",
    "            if fill_count == 0: \n",
    "                break \n",
    "    "
   ]
  },
  {
   "cell_type": "code",
   "execution_count": 79,
   "id": "ae075c93-36ec-451c-a60c-6b86c7fd070e",
   "metadata": {
    "tags": []
   },
   "outputs": [],
   "source": [
    "samples = undersample_gen()"
   ]
  },
  {
   "cell_type": "code",
   "execution_count": null,
   "id": "96e095d2-12f4-439b-b856-e34269a9c505",
   "metadata": {
    "tags": []
   },
   "outputs": [
    {
     "name": "stderr",
     "output_type": "stream",
     "text": [
      "\n",
      " 53%|█████▎    | 16/30 [2:35:52<10:46:40, 2771.49s/it]\u001b[A\n",
      " 57%|█████▋    | 17/30 [2:36:28<7:02:15, 1948.88s/it] \u001b[A\n",
      " 60%|██████    | 18/30 [2:36:58<4:34:26, 1372.18s/it]\u001b[A\n",
      " 63%|██████▎   | 19/30 [2:37:24<2:57:26, 967.83s/it] \u001b[A\n",
      " 67%|██████▋   | 20/30 [2:37:28<1:53:04, 678.46s/it]\u001b[A"
     ]
    }
   ],
   "source": [
    "for row in samples: \n",
    "    lines = row[\"section_content\"].split(\"\\n\")\n",
    "    result = re.findall(\"<content>((.|\\n)+)</content>\", synthesize(lines[2:]), flags=re.MULTILINE)\n",
    "    content = \"\\n\".join(lines[:2]) + result[0][0]\n",
    "    synthesized_row = {\n",
    "        'title': row['title'], \n",
    "        'category': row['category'], \n",
    "        'tags': row['tags'], \n",
    "        'checklist': row['checklists'], \n",
    "        'filename': \"[synth]\" + row['filename'], \n",
    "        'section_content': content, \n",
    "        'word_count': len(content.split())\n",
    "    }\n",
    "    synthesized_content.append(synthesized_row)"
   ]
  },
  {
   "cell_type": "code",
   "execution_count": 94,
   "id": "f12b967b-ec45-43fb-8c4b-84223e516eef",
   "metadata": {
    "tags": []
   },
   "outputs": [],
   "source": [
    "pd.DataFrame(synthesized_content).to_json(\"./data/output/synthesized_rows.json\")"
   ]
  },
  {
   "cell_type": "code",
   "execution_count": 93,
   "id": "68497698-1a41-4b3b-bde5-eb6a8715d256",
   "metadata": {
    "tags": []
   },
   "outputs": [
    {
     "data": {
      "text/html": [
       "<div>\n",
       "<style scoped>\n",
       "    .dataframe tbody tr th:only-of-type {\n",
       "        vertical-align: middle;\n",
       "    }\n",
       "\n",
       "    .dataframe tbody tr th {\n",
       "        vertical-align: top;\n",
       "    }\n",
       "\n",
       "    .dataframe thead th {\n",
       "        text-align: right;\n",
       "    }\n",
       "</style>\n",
       "<table border=\"1\" class=\"dataframe\">\n",
       "  <thead>\n",
       "    <tr style=\"text-align: right;\">\n",
       "      <th></th>\n",
       "      <th>tags</th>\n",
       "      <th>freq</th>\n",
       "    </tr>\n",
       "  </thead>\n",
       "  <tbody>\n",
       "    <tr>\n",
       "      <th>2</th>\n",
       "      <td>Mandatory Prepayments / Redemption</td>\n",
       "      <td>44</td>\n",
       "    </tr>\n",
       "    <tr>\n",
       "      <th>0</th>\n",
       "      <td>Compliance Certificate</td>\n",
       "      <td>63</td>\n",
       "    </tr>\n",
       "    <tr>\n",
       "      <th>1</th>\n",
       "      <td>Financial Statements</td>\n",
       "      <td>64</td>\n",
       "    </tr>\n",
       "  </tbody>\n",
       "</table>\n",
       "</div>"
      ],
      "text/plain": [
       "                                 tags  freq\n",
       "2  Mandatory Prepayments / Redemption    44\n",
       "0              Compliance Certificate    63\n",
       "1                Financial Statements    64"
      ]
     },
     "execution_count": 93,
     "metadata": {},
     "output_type": "execute_result"
    }
   ],
   "source": [
    "pd.DataFrame(synthesized_content)[['tags']].groupby('tags').size().reset_index().rename(columns={0:\"freq\"}).sort_values(by='freq')"
   ]
  },
  {
   "cell_type": "code",
   "execution_count": 91,
   "id": "d91830c1-42a4-4577-b86d-23079b5e2ae4",
   "metadata": {
    "tags": []
   },
   "outputs": [
    {
     "name": "stdout",
     "output_type": "stream",
     "text": [
      "Write finished!\n"
     ]
    }
   ],
   "source": [
    "print(\"Write finished!\")"
   ]
  },
  {
   "cell_type": "code",
   "execution_count": null,
   "id": "ecd23866-0b76-48b9-9785-81c1f0e179a0",
   "metadata": {},
   "outputs": [],
   "source": [
    "# pd.DataFrame(synthesized_content).to_json(\"./data/output/synthesized_rows.json\")"
   ]
  },
  {
   "cell_type": "code",
   "execution_count": 92,
   "id": "bdc27716-5891-47bb-bd5c-a53aba81f8de",
   "metadata": {},
   "outputs": [
    {
     "data": {
      "text/plain": [
       "171"
      ]
     },
     "execution_count": 92,
     "metadata": {},
     "output_type": "execute_result"
    }
   ],
   "source": [
    "len(synthesized_content)"
   ]
  },
  {
   "cell_type": "code",
   "execution_count": null,
   "id": "8df831db-8257-4f20-b133-468c66005a9a",
   "metadata": {
    "tags": []
   },
   "outputs": [],
   "source": [
    "section_content = \"\\n\".join(df[df.tags == \"Financial Statements\"].head(10).to_dict(orient='records')[4]['section_content'].split(\"\\n\")[:2])\n",
    "print(section_content)"
   ]
  },
  {
   "cell_type": "code",
   "execution_count": null,
   "id": "a41d6bda-bcaa-4e2f-89f4-23fdd8c6dea2",
   "metadata": {
    "tags": []
   },
   "outputs": [],
   "source": [
    "response = synthesize(section_content)\n",
    "print(response)"
   ]
  },
  {
   "cell_type": "code",
   "execution_count": null,
   "id": "5cd9585b-09fb-4e8b-92eb-ee84bce05811",
   "metadata": {
    "tags": []
   },
   "outputs": [],
   "source": [
    "import re"
   ]
  },
  {
   "cell_type": "code",
   "execution_count": null,
   "id": "52e5394e-a6da-4c22-8ea2-5e469962717b",
   "metadata": {
    "tags": []
   },
   "outputs": [],
   "source": [
    "result = re.findall(\"<content>((.|\\n)+)</content>\", response, flags=re.MULTILINE)\n",
    "print(result[0][0])"
   ]
  },
  {
   "cell_type": "code",
   "execution_count": null,
   "id": "1795759a-d09c-4196-8ab0-5c43a6079e83",
   "metadata": {
    "tags": []
   },
   "outputs": [],
   "source": [
    "X_res[['tags']].groupby(\"tags\").size().rest_index()"
   ]
  },
  {
   "cell_type": "code",
   "execution_count": null,
   "id": "dce5508f-9e6b-47d3-8a2d-862c938c2ed6",
   "metadata": {
    "tags": []
   },
   "outputs": [],
   "source": [
    "from collections import Counter"
   ]
  },
  {
   "cell_type": "code",
   "execution_count": null,
   "id": "d0909953-8b1a-4ca0-9350-1d1f3fb0d589",
   "metadata": {
    "tags": []
   },
   "outputs": [],
   "source": [
    "Counter(y_res)"
   ]
  },
  {
   "cell_type": "code",
   "execution_count": null,
   "id": "96552ce5-1ba6-4444-b12d-5441ee61ab66",
   "metadata": {},
   "outputs": [],
   "source": [
    "from sklearn.model_selection import train_test_split\n",
    "\n",
    "# Stratified split to maintain the balance of classes\n",
    "X_train, X_test, y_train, y_test = train_test_split(X, y, test_size=0.2, stratify=y, random_state=42)"
   ]
  }
 ],
 "metadata": {
  "availableInstances": [
   {
    "_defaultOrder": 0,
    "_isFastLaunch": true,
    "category": "General purpose",
    "gpuNum": 0,
    "hideHardwareSpecs": false,
    "memoryGiB": 4,
    "name": "ml.t3.medium",
    "vcpuNum": 2
   },
   {
    "_defaultOrder": 1,
    "_isFastLaunch": false,
    "category": "General purpose",
    "gpuNum": 0,
    "hideHardwareSpecs": false,
    "memoryGiB": 8,
    "name": "ml.t3.large",
    "vcpuNum": 2
   },
   {
    "_defaultOrder": 2,
    "_isFastLaunch": false,
    "category": "General purpose",
    "gpuNum": 0,
    "hideHardwareSpecs": false,
    "memoryGiB": 16,
    "name": "ml.t3.xlarge",
    "vcpuNum": 4
   },
   {
    "_defaultOrder": 3,
    "_isFastLaunch": false,
    "category": "General purpose",
    "gpuNum": 0,
    "hideHardwareSpecs": false,
    "memoryGiB": 32,
    "name": "ml.t3.2xlarge",
    "vcpuNum": 8
   },
   {
    "_defaultOrder": 4,
    "_isFastLaunch": true,
    "category": "General purpose",
    "gpuNum": 0,
    "hideHardwareSpecs": false,
    "memoryGiB": 8,
    "name": "ml.m5.large",
    "vcpuNum": 2
   },
   {
    "_defaultOrder": 5,
    "_isFastLaunch": false,
    "category": "General purpose",
    "gpuNum": 0,
    "hideHardwareSpecs": false,
    "memoryGiB": 16,
    "name": "ml.m5.xlarge",
    "vcpuNum": 4
   },
   {
    "_defaultOrder": 6,
    "_isFastLaunch": false,
    "category": "General purpose",
    "gpuNum": 0,
    "hideHardwareSpecs": false,
    "memoryGiB": 32,
    "name": "ml.m5.2xlarge",
    "vcpuNum": 8
   },
   {
    "_defaultOrder": 7,
    "_isFastLaunch": false,
    "category": "General purpose",
    "gpuNum": 0,
    "hideHardwareSpecs": false,
    "memoryGiB": 64,
    "name": "ml.m5.4xlarge",
    "vcpuNum": 16
   },
   {
    "_defaultOrder": 8,
    "_isFastLaunch": false,
    "category": "General purpose",
    "gpuNum": 0,
    "hideHardwareSpecs": false,
    "memoryGiB": 128,
    "name": "ml.m5.8xlarge",
    "vcpuNum": 32
   },
   {
    "_defaultOrder": 9,
    "_isFastLaunch": false,
    "category": "General purpose",
    "gpuNum": 0,
    "hideHardwareSpecs": false,
    "memoryGiB": 192,
    "name": "ml.m5.12xlarge",
    "vcpuNum": 48
   },
   {
    "_defaultOrder": 10,
    "_isFastLaunch": false,
    "category": "General purpose",
    "gpuNum": 0,
    "hideHardwareSpecs": false,
    "memoryGiB": 256,
    "name": "ml.m5.16xlarge",
    "vcpuNum": 64
   },
   {
    "_defaultOrder": 11,
    "_isFastLaunch": false,
    "category": "General purpose",
    "gpuNum": 0,
    "hideHardwareSpecs": false,
    "memoryGiB": 384,
    "name": "ml.m5.24xlarge",
    "vcpuNum": 96
   },
   {
    "_defaultOrder": 12,
    "_isFastLaunch": false,
    "category": "General purpose",
    "gpuNum": 0,
    "hideHardwareSpecs": false,
    "memoryGiB": 8,
    "name": "ml.m5d.large",
    "vcpuNum": 2
   },
   {
    "_defaultOrder": 13,
    "_isFastLaunch": false,
    "category": "General purpose",
    "gpuNum": 0,
    "hideHardwareSpecs": false,
    "memoryGiB": 16,
    "name": "ml.m5d.xlarge",
    "vcpuNum": 4
   },
   {
    "_defaultOrder": 14,
    "_isFastLaunch": false,
    "category": "General purpose",
    "gpuNum": 0,
    "hideHardwareSpecs": false,
    "memoryGiB": 32,
    "name": "ml.m5d.2xlarge",
    "vcpuNum": 8
   },
   {
    "_defaultOrder": 15,
    "_isFastLaunch": false,
    "category": "General purpose",
    "gpuNum": 0,
    "hideHardwareSpecs": false,
    "memoryGiB": 64,
    "name": "ml.m5d.4xlarge",
    "vcpuNum": 16
   },
   {
    "_defaultOrder": 16,
    "_isFastLaunch": false,
    "category": "General purpose",
    "gpuNum": 0,
    "hideHardwareSpecs": false,
    "memoryGiB": 128,
    "name": "ml.m5d.8xlarge",
    "vcpuNum": 32
   },
   {
    "_defaultOrder": 17,
    "_isFastLaunch": false,
    "category": "General purpose",
    "gpuNum": 0,
    "hideHardwareSpecs": false,
    "memoryGiB": 192,
    "name": "ml.m5d.12xlarge",
    "vcpuNum": 48
   },
   {
    "_defaultOrder": 18,
    "_isFastLaunch": false,
    "category": "General purpose",
    "gpuNum": 0,
    "hideHardwareSpecs": false,
    "memoryGiB": 256,
    "name": "ml.m5d.16xlarge",
    "vcpuNum": 64
   },
   {
    "_defaultOrder": 19,
    "_isFastLaunch": false,
    "category": "General purpose",
    "gpuNum": 0,
    "hideHardwareSpecs": false,
    "memoryGiB": 384,
    "name": "ml.m5d.24xlarge",
    "vcpuNum": 96
   },
   {
    "_defaultOrder": 20,
    "_isFastLaunch": false,
    "category": "General purpose",
    "gpuNum": 0,
    "hideHardwareSpecs": true,
    "memoryGiB": 0,
    "name": "ml.geospatial.interactive",
    "supportedImageNames": [
     "sagemaker-geospatial-v1-0"
    ],
    "vcpuNum": 0
   },
   {
    "_defaultOrder": 21,
    "_isFastLaunch": true,
    "category": "Compute optimized",
    "gpuNum": 0,
    "hideHardwareSpecs": false,
    "memoryGiB": 4,
    "name": "ml.c5.large",
    "vcpuNum": 2
   },
   {
    "_defaultOrder": 22,
    "_isFastLaunch": false,
    "category": "Compute optimized",
    "gpuNum": 0,
    "hideHardwareSpecs": false,
    "memoryGiB": 8,
    "name": "ml.c5.xlarge",
    "vcpuNum": 4
   },
   {
    "_defaultOrder": 23,
    "_isFastLaunch": false,
    "category": "Compute optimized",
    "gpuNum": 0,
    "hideHardwareSpecs": false,
    "memoryGiB": 16,
    "name": "ml.c5.2xlarge",
    "vcpuNum": 8
   },
   {
    "_defaultOrder": 24,
    "_isFastLaunch": false,
    "category": "Compute optimized",
    "gpuNum": 0,
    "hideHardwareSpecs": false,
    "memoryGiB": 32,
    "name": "ml.c5.4xlarge",
    "vcpuNum": 16
   },
   {
    "_defaultOrder": 25,
    "_isFastLaunch": false,
    "category": "Compute optimized",
    "gpuNum": 0,
    "hideHardwareSpecs": false,
    "memoryGiB": 72,
    "name": "ml.c5.9xlarge",
    "vcpuNum": 36
   },
   {
    "_defaultOrder": 26,
    "_isFastLaunch": false,
    "category": "Compute optimized",
    "gpuNum": 0,
    "hideHardwareSpecs": false,
    "memoryGiB": 96,
    "name": "ml.c5.12xlarge",
    "vcpuNum": 48
   },
   {
    "_defaultOrder": 27,
    "_isFastLaunch": false,
    "category": "Compute optimized",
    "gpuNum": 0,
    "hideHardwareSpecs": false,
    "memoryGiB": 144,
    "name": "ml.c5.18xlarge",
    "vcpuNum": 72
   },
   {
    "_defaultOrder": 28,
    "_isFastLaunch": false,
    "category": "Compute optimized",
    "gpuNum": 0,
    "hideHardwareSpecs": false,
    "memoryGiB": 192,
    "name": "ml.c5.24xlarge",
    "vcpuNum": 96
   },
   {
    "_defaultOrder": 29,
    "_isFastLaunch": true,
    "category": "Accelerated computing",
    "gpuNum": 1,
    "hideHardwareSpecs": false,
    "memoryGiB": 16,
    "name": "ml.g4dn.xlarge",
    "vcpuNum": 4
   },
   {
    "_defaultOrder": 30,
    "_isFastLaunch": false,
    "category": "Accelerated computing",
    "gpuNum": 1,
    "hideHardwareSpecs": false,
    "memoryGiB": 32,
    "name": "ml.g4dn.2xlarge",
    "vcpuNum": 8
   },
   {
    "_defaultOrder": 31,
    "_isFastLaunch": false,
    "category": "Accelerated computing",
    "gpuNum": 1,
    "hideHardwareSpecs": false,
    "memoryGiB": 64,
    "name": "ml.g4dn.4xlarge",
    "vcpuNum": 16
   },
   {
    "_defaultOrder": 32,
    "_isFastLaunch": false,
    "category": "Accelerated computing",
    "gpuNum": 1,
    "hideHardwareSpecs": false,
    "memoryGiB": 128,
    "name": "ml.g4dn.8xlarge",
    "vcpuNum": 32
   },
   {
    "_defaultOrder": 33,
    "_isFastLaunch": false,
    "category": "Accelerated computing",
    "gpuNum": 4,
    "hideHardwareSpecs": false,
    "memoryGiB": 192,
    "name": "ml.g4dn.12xlarge",
    "vcpuNum": 48
   },
   {
    "_defaultOrder": 34,
    "_isFastLaunch": false,
    "category": "Accelerated computing",
    "gpuNum": 1,
    "hideHardwareSpecs": false,
    "memoryGiB": 256,
    "name": "ml.g4dn.16xlarge",
    "vcpuNum": 64
   },
   {
    "_defaultOrder": 35,
    "_isFastLaunch": false,
    "category": "Accelerated computing",
    "gpuNum": 1,
    "hideHardwareSpecs": false,
    "memoryGiB": 61,
    "name": "ml.p3.2xlarge",
    "vcpuNum": 8
   },
   {
    "_defaultOrder": 36,
    "_isFastLaunch": false,
    "category": "Accelerated computing",
    "gpuNum": 4,
    "hideHardwareSpecs": false,
    "memoryGiB": 244,
    "name": "ml.p3.8xlarge",
    "vcpuNum": 32
   },
   {
    "_defaultOrder": 37,
    "_isFastLaunch": false,
    "category": "Accelerated computing",
    "gpuNum": 8,
    "hideHardwareSpecs": false,
    "memoryGiB": 488,
    "name": "ml.p3.16xlarge",
    "vcpuNum": 64
   },
   {
    "_defaultOrder": 38,
    "_isFastLaunch": false,
    "category": "Accelerated computing",
    "gpuNum": 8,
    "hideHardwareSpecs": false,
    "memoryGiB": 768,
    "name": "ml.p3dn.24xlarge",
    "vcpuNum": 96
   },
   {
    "_defaultOrder": 39,
    "_isFastLaunch": false,
    "category": "Memory Optimized",
    "gpuNum": 0,
    "hideHardwareSpecs": false,
    "memoryGiB": 16,
    "name": "ml.r5.large",
    "vcpuNum": 2
   },
   {
    "_defaultOrder": 40,
    "_isFastLaunch": false,
    "category": "Memory Optimized",
    "gpuNum": 0,
    "hideHardwareSpecs": false,
    "memoryGiB": 32,
    "name": "ml.r5.xlarge",
    "vcpuNum": 4
   },
   {
    "_defaultOrder": 41,
    "_isFastLaunch": false,
    "category": "Memory Optimized",
    "gpuNum": 0,
    "hideHardwareSpecs": false,
    "memoryGiB": 64,
    "name": "ml.r5.2xlarge",
    "vcpuNum": 8
   },
   {
    "_defaultOrder": 42,
    "_isFastLaunch": false,
    "category": "Memory Optimized",
    "gpuNum": 0,
    "hideHardwareSpecs": false,
    "memoryGiB": 128,
    "name": "ml.r5.4xlarge",
    "vcpuNum": 16
   },
   {
    "_defaultOrder": 43,
    "_isFastLaunch": false,
    "category": "Memory Optimized",
    "gpuNum": 0,
    "hideHardwareSpecs": false,
    "memoryGiB": 256,
    "name": "ml.r5.8xlarge",
    "vcpuNum": 32
   },
   {
    "_defaultOrder": 44,
    "_isFastLaunch": false,
    "category": "Memory Optimized",
    "gpuNum": 0,
    "hideHardwareSpecs": false,
    "memoryGiB": 384,
    "name": "ml.r5.12xlarge",
    "vcpuNum": 48
   },
   {
    "_defaultOrder": 45,
    "_isFastLaunch": false,
    "category": "Memory Optimized",
    "gpuNum": 0,
    "hideHardwareSpecs": false,
    "memoryGiB": 512,
    "name": "ml.r5.16xlarge",
    "vcpuNum": 64
   },
   {
    "_defaultOrder": 46,
    "_isFastLaunch": false,
    "category": "Memory Optimized",
    "gpuNum": 0,
    "hideHardwareSpecs": false,
    "memoryGiB": 768,
    "name": "ml.r5.24xlarge",
    "vcpuNum": 96
   },
   {
    "_defaultOrder": 47,
    "_isFastLaunch": false,
    "category": "Accelerated computing",
    "gpuNum": 1,
    "hideHardwareSpecs": false,
    "memoryGiB": 16,
    "name": "ml.g5.xlarge",
    "vcpuNum": 4
   },
   {
    "_defaultOrder": 48,
    "_isFastLaunch": false,
    "category": "Accelerated computing",
    "gpuNum": 1,
    "hideHardwareSpecs": false,
    "memoryGiB": 32,
    "name": "ml.g5.2xlarge",
    "vcpuNum": 8
   },
   {
    "_defaultOrder": 49,
    "_isFastLaunch": false,
    "category": "Accelerated computing",
    "gpuNum": 1,
    "hideHardwareSpecs": false,
    "memoryGiB": 64,
    "name": "ml.g5.4xlarge",
    "vcpuNum": 16
   },
   {
    "_defaultOrder": 50,
    "_isFastLaunch": false,
    "category": "Accelerated computing",
    "gpuNum": 1,
    "hideHardwareSpecs": false,
    "memoryGiB": 128,
    "name": "ml.g5.8xlarge",
    "vcpuNum": 32
   },
   {
    "_defaultOrder": 51,
    "_isFastLaunch": false,
    "category": "Accelerated computing",
    "gpuNum": 1,
    "hideHardwareSpecs": false,
    "memoryGiB": 256,
    "name": "ml.g5.16xlarge",
    "vcpuNum": 64
   },
   {
    "_defaultOrder": 52,
    "_isFastLaunch": false,
    "category": "Accelerated computing",
    "gpuNum": 4,
    "hideHardwareSpecs": false,
    "memoryGiB": 192,
    "name": "ml.g5.12xlarge",
    "vcpuNum": 48
   },
   {
    "_defaultOrder": 53,
    "_isFastLaunch": false,
    "category": "Accelerated computing",
    "gpuNum": 4,
    "hideHardwareSpecs": false,
    "memoryGiB": 384,
    "name": "ml.g5.24xlarge",
    "vcpuNum": 96
   },
   {
    "_defaultOrder": 54,
    "_isFastLaunch": false,
    "category": "Accelerated computing",
    "gpuNum": 8,
    "hideHardwareSpecs": false,
    "memoryGiB": 768,
    "name": "ml.g5.48xlarge",
    "vcpuNum": 192
   },
   {
    "_defaultOrder": 55,
    "_isFastLaunch": false,
    "category": "Accelerated computing",
    "gpuNum": 8,
    "hideHardwareSpecs": false,
    "memoryGiB": 1152,
    "name": "ml.p4d.24xlarge",
    "vcpuNum": 96
   },
   {
    "_defaultOrder": 56,
    "_isFastLaunch": false,
    "category": "Accelerated computing",
    "gpuNum": 8,
    "hideHardwareSpecs": false,
    "memoryGiB": 1152,
    "name": "ml.p4de.24xlarge",
    "vcpuNum": 96
   },
   {
    "_defaultOrder": 57,
    "_isFastLaunch": false,
    "category": "Accelerated computing",
    "gpuNum": 0,
    "hideHardwareSpecs": false,
    "memoryGiB": 32,
    "name": "ml.trn1.2xlarge",
    "vcpuNum": 8
   },
   {
    "_defaultOrder": 58,
    "_isFastLaunch": false,
    "category": "Accelerated computing",
    "gpuNum": 0,
    "hideHardwareSpecs": false,
    "memoryGiB": 512,
    "name": "ml.trn1.32xlarge",
    "vcpuNum": 128
   },
   {
    "_defaultOrder": 59,
    "_isFastLaunch": false,
    "category": "Accelerated computing",
    "gpuNum": 0,
    "hideHardwareSpecs": false,
    "memoryGiB": 512,
    "name": "ml.trn1n.32xlarge",
    "vcpuNum": 128
   }
  ],
  "kernelspec": {
   "display_name": "Python 3 (Data Science 3.0)",
   "language": "python",
   "name": "python3__SAGEMAKER_INTERNAL__arn:aws:sagemaker:us-east-1:081325390199:image/sagemaker-data-science-310-v1"
  },
  "language_info": {
   "codemirror_mode": {
    "name": "ipython",
    "version": 3
   },
   "file_extension": ".py",
   "mimetype": "text/x-python",
   "name": "python",
   "nbconvert_exporter": "python",
   "pygments_lexer": "ipython3",
   "version": "3.10.6"
  }
 },
 "nbformat": 4,
 "nbformat_minor": 5
}
