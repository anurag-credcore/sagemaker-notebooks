{
 "cells": [
  {
   "cell_type": "markdown",
   "id": "14f8b652-d949-495b-8078-6656c4582d7e",
   "metadata": {
    "tags": []
   },
   "source": [
    "# Installations and Import statements"
   ]
  },
  {
   "cell_type": "code",
   "execution_count": null,
   "id": "628f480e-5c3e-49d7-a0f1-48804b3947de",
   "metadata": {
    "tags": []
   },
   "outputs": [],
   "source": [
    "# !pip3 install -q transformers sagemaker-inference\n",
    "!pip install boto3 sagemaker -U -q\n",
    "# !pip install torch==2.0.1 torchvision==0.15.2 transformers==4.31.0 -q"
   ]
  },
  {
   "cell_type": "code",
   "execution_count": null,
   "id": "04a390a2-604e-4380-8eff-08118684a51f",
   "metadata": {
    "tags": []
   },
   "outputs": [],
   "source": [
    "# !tar -czvf model.tar.gz trained_model/v9-small/* "
   ]
  },
  {
   "cell_type": "code",
   "execution_count": null,
   "id": "fb6811d7-0e01-4f8b-ba9f-e2cb917291ef",
   "metadata": {
    "tags": []
   },
   "outputs": [],
   "source": [
    "!rm  sources.tar.gz \n",
    "!tar -czvf sources.tar.gz ./inference.py"
   ]
  },
  {
   "cell_type": "code",
   "execution_count": 2,
   "id": "cf2b8667-d5c1-49ef-9368-db372c34a1f6",
   "metadata": {
    "tags": []
   },
   "outputs": [
    {
     "name": "stdout",
     "output_type": "stream",
     "text": [
      "sagemaker.config INFO - Not applying SDK defaults from location: /etc/xdg/sagemaker/config.yaml\n",
      "sagemaker.config INFO - Not applying SDK defaults from location: /root/.config/sagemaker/config.yaml\n"
     ]
    }
   ],
   "source": [
    "import boto3\n",
    "from sagemaker.huggingface.model import HuggingFaceModel\n",
    "import sagemaker\n",
    "import json"
   ]
  },
  {
   "cell_type": "markdown",
   "id": "e1483993-b93e-46d0-84d1-abb50ad6872a",
   "metadata": {},
   "source": [
    "# Upload Artifacts"
   ]
  },
  {
   "cell_type": "code",
   "execution_count": null,
   "id": "76240bd7-5ccb-4f5e-89f6-c6468d65bce4",
   "metadata": {
    "tags": []
   },
   "outputs": [],
   "source": [
    "s3 = boto3.client(\n",
    "    's3'\n",
    ")"
   ]
  },
  {
   "cell_type": "code",
   "execution_count": null,
   "id": "c5183871-c183-4e05-9abb-01f92bb33d7c",
   "metadata": {
    "tags": []
   },
   "outputs": [],
   "source": [
    "bucket_name = 'cc-ai-bucket'\n",
    "model_file = 'model.tar.gz'  \n",
    "script_file = 'inference.py'\n",
    "source_file = 'sources.tar.gz'\n",
    "\n",
    "# Upload model and script\n",
    "s3.upload_file(model_file, bucket_name, 'models/tag-classification/models/model.tar.gz')\n",
    "s3.upload_file(script_file, bucket_name, 'models/tag-classification/scripts/inference.py')\n",
    "s3.upload_file(source_file, bucket_name, 'models/tag-classification/scripts/sources.tar.gz')"
   ]
  },
  {
   "cell_type": "markdown",
   "id": "4f129e46-7965-4784-aa5a-66941c4c2c99",
   "metadata": {},
   "source": [
    "# Sagemaker Role \n",
    "Needs SagemakerFullAccess policy to deploy get access to EC2 instances and deploy models"
   ]
  },
  {
   "cell_type": "code",
   "execution_count": 5,
   "id": "ee49811b-ffba-4975-84c6-6d077607f857",
   "metadata": {
    "tags": []
   },
   "outputs": [
    {
     "name": "stdout",
     "output_type": "stream",
     "text": [
      "sagemaker role arn: arn:aws:iam::767397973834:role/service-role/AmazonSageMaker-ExecutionRole-20240809T105831\n"
     ]
    }
   ],
   "source": [
    "try:\n",
    "    role = sagemaker.get_execution_role()\n",
    "except ValueError:\n",
    "    iam = boto3.client('iam')\n",
    "    role = iam.get_role(RoleName='sagemaker_execution_role')['Role']['Arn']\n",
    "\n",
    "print(f\"sagemaker role arn: {role}\")"
   ]
  },
  {
   "cell_type": "code",
   "execution_count": 6,
   "id": "84ff4cde-ee92-464d-8985-07f40ba87adc",
   "metadata": {
    "tags": []
   },
   "outputs": [],
   "source": [
    "sagemaker_session = sagemaker.Session(\n",
    ")"
   ]
  },
  {
   "cell_type": "markdown",
   "id": "5ea8440e-c21f-4462-b7b7-275e550face1",
   "metadata": {},
   "source": [
    "# Specify Artifact Location\n",
    "Location where model and source artifacts are uploaded "
   ]
  },
  {
   "cell_type": "code",
   "execution_count": 7,
   "id": "0913887e-6c98-468d-8676-6001aa57186c",
   "metadata": {
    "tags": []
   },
   "outputs": [
    {
     "name": "stdout",
     "output_type": "stream",
     "text": [
      "s3://cc-ai-bucket/models/tag-classification/models/model.tar.gz\n"
     ]
    }
   ],
   "source": [
    "bucket_name = \"cc-ai-bucket/models/tag-classification\"\n",
    "model_artifact = f's3://{bucket_name}/models/model.tar.gz'\n",
    "script_location = f's3://{bucket_name}/scripts/'\n",
    "print(model_artifact)"
   ]
  },
  {
   "cell_type": "markdown",
   "id": "e979405f-dba9-4476-bc04-91636f856bc6",
   "metadata": {},
   "source": [
    "# Deploy Hugging Face Model"
   ]
  },
  {
   "cell_type": "code",
   "execution_count": 8,
   "id": "183a2882-a0ae-44cc-ad52-2fcc0a4ba2f0",
   "metadata": {
    "tags": []
   },
   "outputs": [],
   "source": [
    "# Initialize the Hugging Face model\n",
    "huggingface_model = HuggingFaceModel(\n",
    "    model_data=model_artifact,\n",
    "    role=role,\n",
    "    source_dir=\"s3://cc-ai-bucket/models/tag-classification/scripts/sources.tar.gz\",\n",
    "    entry_point=\"inference.py\",  # Path to your custom inference script\n",
    "    transformers_version=\"4.37.0\",\n",
    "    pytorch_version=\"2.1.0\",\n",
    "    py_version=\"py310\",\n",
    "    sagemaker_session=sagemaker_session\n",
    ")"
   ]
  },
  {
   "cell_type": "code",
   "execution_count": 9,
   "id": "9c69a1cd-f6fa-45a9-b675-5fd5c7b23efa",
   "metadata": {},
   "outputs": [
    {
     "name": "stdout",
     "output_type": "stream",
     "text": [
      "-------!"
     ]
    }
   ],
   "source": [
    "\n",
    "\n",
    "# Deploy the model\n",
    "predictor = huggingface_model.deploy(\n",
    "    initial_instance_count=1,\n",
    "    instance_type=\"ml.c5.xlarge\" # Can be changed g4 or g5 gpus \n",
    ")"
   ]
  },
  {
   "cell_type": "code",
   "execution_count": 10,
   "id": "29e23dd8-30d8-489e-aa62-bc8204bdc387",
   "metadata": {
    "tags": []
   },
   "outputs": [
    {
     "name": "stdout",
     "output_type": "stream",
     "text": [
      "huggingface-pytorch-inference-2024-09-06-06-14-50-836\n"
     ]
    }
   ],
   "source": [
    "print(predictor.endpoint_name)"
   ]
  },
  {
   "cell_type": "markdown",
   "id": "c8755930-bf55-4940-8931-70ac516dd9ee",
   "metadata": {},
   "source": [
    "# Test Inference"
   ]
  },
  {
   "cell_type": "code",
   "execution_count": 11,
   "id": "6f34dbfd-874f-46f4-97ff-c5a765042415",
   "metadata": {
    "tags": []
   },
   "outputs": [],
   "source": [
    "import pandas as pd"
   ]
  },
  {
   "cell_type": "code",
   "execution_count": 12,
   "id": "295bf509-c39e-4569-a7d2-bdbd5ac5ee00",
   "metadata": {
    "tags": []
   },
   "outputs": [],
   "source": [
    "df = pd.read_json(\"./data/cleaned_tags_data_na_tag_lt3.json\", orient='records')"
   ]
  },
  {
   "cell_type": "code",
   "execution_count": 13,
   "id": "b9321a04-fd73-4a56-8b65-bf2b9c9bdacc",
   "metadata": {
    "tags": []
   },
   "outputs": [
    {
     "data": {
      "text/html": [
       "<div>\n",
       "<style scoped>\n",
       "    .dataframe tbody tr th:only-of-type {\n",
       "        vertical-align: middle;\n",
       "    }\n",
       "\n",
       "    .dataframe tbody tr th {\n",
       "        vertical-align: top;\n",
       "    }\n",
       "\n",
       "    .dataframe thead th {\n",
       "        text-align: right;\n",
       "    }\n",
       "</style>\n",
       "<table border=\"1\" class=\"dataframe\">\n",
       "  <thead>\n",
       "    <tr style=\"text-align: right;\">\n",
       "      <th></th>\n",
       "      <th>title</th>\n",
       "      <th>category</th>\n",
       "      <th>tags</th>\n",
       "      <th>checklists</th>\n",
       "      <th>section_content</th>\n",
       "      <th>filename</th>\n",
       "      <th>word_count</th>\n",
       "      <th>tag_title</th>\n",
       "    </tr>\n",
       "  </thead>\n",
       "  <tbody>\n",
       "    <tr>\n",
       "      <th>368</th>\n",
       "      <td>Mandatory Redemption</td>\n",
       "      <td>FYI</td>\n",
       "      <td>Mandatory Prepayments / Redemption</td>\n",
       "      <td>[]</td>\n",
       "      <td>Title is Mandatory Redemption\\nCategory is FYI...</td>\n",
       "      <td>Paramount Global - INDENTURE 7.250- SENIOR NOT...</td>\n",
       "      <td>24</td>\n",
       "      <td>Mandatory Prepayments / RedemptionMandatory Re...</td>\n",
       "    </tr>\n",
       "    <tr>\n",
       "      <th>177</th>\n",
       "      <td>Maturity</td>\n",
       "      <td>FYI</td>\n",
       "      <td>Loan Repayment</td>\n",
       "      <td>[]</td>\n",
       "      <td>Title is Maturity\\nCategory is FYI\\nSection 8....</td>\n",
       "      <td>MGEE - NPA Dated July 25, 2017.section.json</td>\n",
       "      <td>25</td>\n",
       "      <td>Loan RepaymentMaturity</td>\n",
       "    </tr>\n",
       "    <tr>\n",
       "      <th>941</th>\n",
       "      <td>Maturity</td>\n",
       "      <td>FYI</td>\n",
       "      <td>Loan Repayment</td>\n",
       "      <td>[]</td>\n",
       "      <td>Title is Maturity\\nCategory is FYI\\nSection 8....</td>\n",
       "      <td>MGEE - Note Purchase Agreement Aug 31, 2023.se...</td>\n",
       "      <td>25</td>\n",
       "      <td>Loan RepaymentMaturity</td>\n",
       "    </tr>\n",
       "    <tr>\n",
       "      <th>192</th>\n",
       "      <td>Financial Condition Covenant</td>\n",
       "      <td>Negative Covenants</td>\n",
       "      <td>Financial Covenant</td>\n",
       "      <td>[]</td>\n",
       "      <td>Title is Financial Condition Covenant\\nCategor...</td>\n",
       "      <td>TR_V3_Sustainability_AVANGRID.section.json</td>\n",
       "      <td>25</td>\n",
       "      <td>Financial CovenantFinancial Condition Covenant</td>\n",
       "    </tr>\n",
       "    <tr>\n",
       "      <th>419</th>\n",
       "      <td>Consolidated Capitalization Ratio</td>\n",
       "      <td>Affirmative Covenants</td>\n",
       "      <td>Financial Covenant</td>\n",
       "      <td>[]</td>\n",
       "      <td>Title is Consolidated Capitalization Ratio\\nCa...</td>\n",
       "      <td>Edison International - TERM LOAN CREDIT AGREEM...</td>\n",
       "      <td>26</td>\n",
       "      <td>Financial CovenantConsolidated Capitalization ...</td>\n",
       "    </tr>\n",
       "  </tbody>\n",
       "</table>\n",
       "</div>"
      ],
      "text/plain": [
       "                                 title               category  \\\n",
       "368               Mandatory Redemption                    FYI   \n",
       "177                           Maturity                    FYI   \n",
       "941                           Maturity                    FYI   \n",
       "192       Financial Condition Covenant     Negative Covenants   \n",
       "419  Consolidated Capitalization Ratio  Affirmative Covenants   \n",
       "\n",
       "                                   tags checklists  \\\n",
       "368  Mandatory Prepayments / Redemption         []   \n",
       "177                      Loan Repayment         []   \n",
       "941                      Loan Repayment         []   \n",
       "192                  Financial Covenant         []   \n",
       "419                  Financial Covenant         []   \n",
       "\n",
       "                                       section_content  \\\n",
       "368  Title is Mandatory Redemption\\nCategory is FYI...   \n",
       "177  Title is Maturity\\nCategory is FYI\\nSection 8....   \n",
       "941  Title is Maturity\\nCategory is FYI\\nSection 8....   \n",
       "192  Title is Financial Condition Covenant\\nCategor...   \n",
       "419  Title is Consolidated Capitalization Ratio\\nCa...   \n",
       "\n",
       "                                              filename  word_count  \\\n",
       "368  Paramount Global - INDENTURE 7.250- SENIOR NOT...          24   \n",
       "177        MGEE - NPA Dated July 25, 2017.section.json          25   \n",
       "941  MGEE - Note Purchase Agreement Aug 31, 2023.se...          25   \n",
       "192         TR_V3_Sustainability_AVANGRID.section.json          25   \n",
       "419  Edison International - TERM LOAN CREDIT AGREEM...          26   \n",
       "\n",
       "                                             tag_title  \n",
       "368  Mandatory Prepayments / RedemptionMandatory Re...  \n",
       "177                             Loan RepaymentMaturity  \n",
       "941                             Loan RepaymentMaturity  \n",
       "192     Financial CovenantFinancial Condition Covenant  \n",
       "419  Financial CovenantConsolidated Capitalization ...  "
      ]
     },
     "execution_count": 13,
     "metadata": {},
     "output_type": "execute_result"
    }
   ],
   "source": [
    "sample_df = df[df.tags != \"NA\"].sort_values(by=\"word_count\")\n",
    "sample_df.head()"
   ]
  },
  {
   "cell_type": "code",
   "execution_count": null,
   "id": "3b6b29ff-d84f-4eb3-8fc5-4444b700ed00",
   "metadata": {
    "tags": []
   },
   "outputs": [],
   "source": [
    "test_data = {\n",
    "    \"inputs\": sample_df.sort_values(by=\"word_count\", ascending=False).iloc[0].section_content\n",
    "}\n",
    "print(test_data)"
   ]
  },
  {
   "cell_type": "code",
   "execution_count": 15,
   "id": "b67c65c3-e650-4d7f-9553-4d84f3b071d2",
   "metadata": {
    "tags": []
   },
   "outputs": [],
   "source": [
    "import time "
   ]
  },
  {
   "cell_type": "code",
   "execution_count": null,
   "id": "74fe5bd8-711f-4805-94a6-24776a937c3e",
   "metadata": {},
   "outputs": [],
   "source": []
  },
  {
   "cell_type": "code",
   "execution_count": null,
   "id": "8e67c5e9-7fd0-429a-90fa-56458b09f438",
   "metadata": {
    "tags": []
   },
   "outputs": [],
   "source": []
  },
  {
   "cell_type": "code",
   "execution_count": 16,
   "id": "4b7d80a2-4750-483f-9d47-904fbba6d5e6",
   "metadata": {
    "tags": []
   },
   "outputs": [
    {
     "name": "stdout",
     "output_type": "stream",
     "text": [
      "Event of Default Event of Default True\n",
      "Financial Covenant Financial Covenant True\n",
      "Reporting Requirements Financial Statements False\n",
      "Waterfall of Proceeds Waterfall of Proceeds True\n",
      "Amortization Schedule / Loan Repayment Loan Repayment False\n",
      "Reporting Requirements Reporting Requirements True\n",
      "Amortization Schedule / Loan Repayment Loan Repayment False\n",
      "Permitted Indebtedness Permitted Indebtedness True\n",
      "Premium and Fees Premium and Fees True\n",
      "Financial Covenant Financial Covenant True\n",
      "Reporting Requirements Reporting Requirements True\n",
      "Financial Covenant Financial Covenant True\n",
      "Consequences of Default Consequences of Default True\n",
      "Amortization Schedule / Loan Repayment Loan Repayment False\n",
      "Amortization Schedule / Loan Repayment Loan Repayment False\n",
      "Compliance Certificate Reporting Requirements False\n",
      "NA Facilities / Instrument False\n",
      "Restricted Payments Restricted Payments True\n",
      "Facilities / Instrument Facilities / Instrument True\n",
      "Incremental Facilities Incremental Facilities True\n",
      "Time taken  9.087942361831665\n"
     ]
    }
   ],
   "source": [
    "start_time = time.time()\n",
    "for t in sample_df.sample(20).itertuples(): \n",
    "    test_data = {\n",
    "        \"inputs\": t.section_content\n",
    "    }\n",
    "    result = predictor.predict(json.dumps(test_data))\n",
    "    result = json.loads(result)\n",
    "    print(result[0], t.tags, result[0] == t.tags)\n",
    "print(\"Time taken \", time.time() - start_time)"
   ]
  },
  {
   "cell_type": "code",
   "execution_count": 17,
   "id": "420f069e-cd52-408d-964c-ae681e7a6b82",
   "metadata": {
    "tags": []
   },
   "outputs": [
    {
     "data": {
      "text/plain": [
       "0.3935"
      ]
     },
     "execution_count": 17,
     "metadata": {},
     "output_type": "execute_result"
    }
   ],
   "source": [
    "7.87/20"
   ]
  },
  {
   "cell_type": "code",
   "execution_count": 22,
   "id": "a3964a5f-f69a-4f35-b518-88726bdcbd6a",
   "metadata": {
    "tags": []
   },
   "outputs": [
    {
     "name": "stdout",
     "output_type": "stream",
     "text": [
      "Prediction: [\"Facilities / Instrument\"]\n"
     ]
    }
   ],
   "source": [
    "result = predictor.predict(json.dumps(test_data))\n",
    "print(f\"Prediction: {result}\")"
   ]
  },
  {
   "cell_type": "markdown",
   "id": "36c620c2-c2ab-4a54-8fcb-374d158ecd2e",
   "metadata": {
    "tags": []
   },
   "source": [
    "# Test Inference from Client "
   ]
  },
  {
   "cell_type": "code",
   "execution_count": null,
   "id": "d5bc0fc7-cdf8-43bd-93f9-243012fa9568",
   "metadata": {},
   "outputs": [],
   "source": []
  },
  {
   "cell_type": "code",
   "execution_count": 40,
   "id": "e67e8f05-e6b5-4244-8472-361d28a4777f",
   "metadata": {
    "tags": []
   },
   "outputs": [
    {
     "name": "stdout",
     "output_type": "stream",
     "text": [
      "Prediction: [\"Mandatory Prepayments / Redemption\"]\n"
     ]
    }
   ],
   "source": [
    "\n",
    "# Initialize the SageMaker runtime client\n",
    "runtime_client = boto3.client('sagemaker-runtime')\n",
    "\n",
    "# Define the endpoint name\n",
    "endpoint_name = \"huggingface-pytorch-inference-2024-09-06-06-14-50-836\"\n",
    "\n",
    "# Convert input data to JSON string\n",
    "payload = json.dumps(test_data)\n",
    "# Invoke the endpoint\n",
    "response = runtime_client.invoke_endpoint(\n",
    "    EndpointName=endpoint_name,\n",
    "    ContentType='application/json',\n",
    "    Body=payload\n",
    ")\n",
    "# Parse the response\n",
    "result = json.loads(response['Body'].read().decode())\n",
    "print(f\"Prediction: {result}\")"
   ]
  },
  {
   "cell_type": "code",
   "execution_count": 40,
   "id": "e1344e9e-d40c-4580-8c32-ff6bfb01d9df",
   "metadata": {
    "tags": []
   },
   "outputs": [
    {
     "name": "stdout",
     "output_type": "stream",
     "text": [
      "Deleting Model\n",
      "Deleting Endpoint\n"
     ]
    }
   ],
   "source": [
    "print(\"Deleting Model\")\n",
    "predictor.delete_model()\n",
    "print(\"Deleting Endpoint\")\n",
    "predictor.delete_endpoint()\n"
   ]
  }
 ],
 "metadata": {
  "availableInstances": [
   {
    "_defaultOrder": 0,
    "_isFastLaunch": true,
    "category": "General purpose",
    "gpuNum": 0,
    "hideHardwareSpecs": false,
    "memoryGiB": 4,
    "name": "ml.t3.medium",
    "vcpuNum": 2
   },
   {
    "_defaultOrder": 1,
    "_isFastLaunch": false,
    "category": "General purpose",
    "gpuNum": 0,
    "hideHardwareSpecs": false,
    "memoryGiB": 8,
    "name": "ml.t3.large",
    "vcpuNum": 2
   },
   {
    "_defaultOrder": 2,
    "_isFastLaunch": false,
    "category": "General purpose",
    "gpuNum": 0,
    "hideHardwareSpecs": false,
    "memoryGiB": 16,
    "name": "ml.t3.xlarge",
    "vcpuNum": 4
   },
   {
    "_defaultOrder": 3,
    "_isFastLaunch": false,
    "category": "General purpose",
    "gpuNum": 0,
    "hideHardwareSpecs": false,
    "memoryGiB": 32,
    "name": "ml.t3.2xlarge",
    "vcpuNum": 8
   },
   {
    "_defaultOrder": 4,
    "_isFastLaunch": true,
    "category": "General purpose",
    "gpuNum": 0,
    "hideHardwareSpecs": false,
    "memoryGiB": 8,
    "name": "ml.m5.large",
    "vcpuNum": 2
   },
   {
    "_defaultOrder": 5,
    "_isFastLaunch": false,
    "category": "General purpose",
    "gpuNum": 0,
    "hideHardwareSpecs": false,
    "memoryGiB": 16,
    "name": "ml.m5.xlarge",
    "vcpuNum": 4
   },
   {
    "_defaultOrder": 6,
    "_isFastLaunch": false,
    "category": "General purpose",
    "gpuNum": 0,
    "hideHardwareSpecs": false,
    "memoryGiB": 32,
    "name": "ml.m5.2xlarge",
    "vcpuNum": 8
   },
   {
    "_defaultOrder": 7,
    "_isFastLaunch": false,
    "category": "General purpose",
    "gpuNum": 0,
    "hideHardwareSpecs": false,
    "memoryGiB": 64,
    "name": "ml.m5.4xlarge",
    "vcpuNum": 16
   },
   {
    "_defaultOrder": 8,
    "_isFastLaunch": false,
    "category": "General purpose",
    "gpuNum": 0,
    "hideHardwareSpecs": false,
    "memoryGiB": 128,
    "name": "ml.m5.8xlarge",
    "vcpuNum": 32
   },
   {
    "_defaultOrder": 9,
    "_isFastLaunch": false,
    "category": "General purpose",
    "gpuNum": 0,
    "hideHardwareSpecs": false,
    "memoryGiB": 192,
    "name": "ml.m5.12xlarge",
    "vcpuNum": 48
   },
   {
    "_defaultOrder": 10,
    "_isFastLaunch": false,
    "category": "General purpose",
    "gpuNum": 0,
    "hideHardwareSpecs": false,
    "memoryGiB": 256,
    "name": "ml.m5.16xlarge",
    "vcpuNum": 64
   },
   {
    "_defaultOrder": 11,
    "_isFastLaunch": false,
    "category": "General purpose",
    "gpuNum": 0,
    "hideHardwareSpecs": false,
    "memoryGiB": 384,
    "name": "ml.m5.24xlarge",
    "vcpuNum": 96
   },
   {
    "_defaultOrder": 12,
    "_isFastLaunch": false,
    "category": "General purpose",
    "gpuNum": 0,
    "hideHardwareSpecs": false,
    "memoryGiB": 8,
    "name": "ml.m5d.large",
    "vcpuNum": 2
   },
   {
    "_defaultOrder": 13,
    "_isFastLaunch": false,
    "category": "General purpose",
    "gpuNum": 0,
    "hideHardwareSpecs": false,
    "memoryGiB": 16,
    "name": "ml.m5d.xlarge",
    "vcpuNum": 4
   },
   {
    "_defaultOrder": 14,
    "_isFastLaunch": false,
    "category": "General purpose",
    "gpuNum": 0,
    "hideHardwareSpecs": false,
    "memoryGiB": 32,
    "name": "ml.m5d.2xlarge",
    "vcpuNum": 8
   },
   {
    "_defaultOrder": 15,
    "_isFastLaunch": false,
    "category": "General purpose",
    "gpuNum": 0,
    "hideHardwareSpecs": false,
    "memoryGiB": 64,
    "name": "ml.m5d.4xlarge",
    "vcpuNum": 16
   },
   {
    "_defaultOrder": 16,
    "_isFastLaunch": false,
    "category": "General purpose",
    "gpuNum": 0,
    "hideHardwareSpecs": false,
    "memoryGiB": 128,
    "name": "ml.m5d.8xlarge",
    "vcpuNum": 32
   },
   {
    "_defaultOrder": 17,
    "_isFastLaunch": false,
    "category": "General purpose",
    "gpuNum": 0,
    "hideHardwareSpecs": false,
    "memoryGiB": 192,
    "name": "ml.m5d.12xlarge",
    "vcpuNum": 48
   },
   {
    "_defaultOrder": 18,
    "_isFastLaunch": false,
    "category": "General purpose",
    "gpuNum": 0,
    "hideHardwareSpecs": false,
    "memoryGiB": 256,
    "name": "ml.m5d.16xlarge",
    "vcpuNum": 64
   },
   {
    "_defaultOrder": 19,
    "_isFastLaunch": false,
    "category": "General purpose",
    "gpuNum": 0,
    "hideHardwareSpecs": false,
    "memoryGiB": 384,
    "name": "ml.m5d.24xlarge",
    "vcpuNum": 96
   },
   {
    "_defaultOrder": 20,
    "_isFastLaunch": false,
    "category": "General purpose",
    "gpuNum": 0,
    "hideHardwareSpecs": true,
    "memoryGiB": 0,
    "name": "ml.geospatial.interactive",
    "supportedImageNames": [
     "sagemaker-geospatial-v1-0"
    ],
    "vcpuNum": 0
   },
   {
    "_defaultOrder": 21,
    "_isFastLaunch": true,
    "category": "Compute optimized",
    "gpuNum": 0,
    "hideHardwareSpecs": false,
    "memoryGiB": 4,
    "name": "ml.c5.large",
    "vcpuNum": 2
   },
   {
    "_defaultOrder": 22,
    "_isFastLaunch": false,
    "category": "Compute optimized",
    "gpuNum": 0,
    "hideHardwareSpecs": false,
    "memoryGiB": 8,
    "name": "ml.c5.xlarge",
    "vcpuNum": 4
   },
   {
    "_defaultOrder": 23,
    "_isFastLaunch": false,
    "category": "Compute optimized",
    "gpuNum": 0,
    "hideHardwareSpecs": false,
    "memoryGiB": 16,
    "name": "ml.c5.2xlarge",
    "vcpuNum": 8
   },
   {
    "_defaultOrder": 24,
    "_isFastLaunch": false,
    "category": "Compute optimized",
    "gpuNum": 0,
    "hideHardwareSpecs": false,
    "memoryGiB": 32,
    "name": "ml.c5.4xlarge",
    "vcpuNum": 16
   },
   {
    "_defaultOrder": 25,
    "_isFastLaunch": false,
    "category": "Compute optimized",
    "gpuNum": 0,
    "hideHardwareSpecs": false,
    "memoryGiB": 72,
    "name": "ml.c5.9xlarge",
    "vcpuNum": 36
   },
   {
    "_defaultOrder": 26,
    "_isFastLaunch": false,
    "category": "Compute optimized",
    "gpuNum": 0,
    "hideHardwareSpecs": false,
    "memoryGiB": 96,
    "name": "ml.c5.12xlarge",
    "vcpuNum": 48
   },
   {
    "_defaultOrder": 27,
    "_isFastLaunch": false,
    "category": "Compute optimized",
    "gpuNum": 0,
    "hideHardwareSpecs": false,
    "memoryGiB": 144,
    "name": "ml.c5.18xlarge",
    "vcpuNum": 72
   },
   {
    "_defaultOrder": 28,
    "_isFastLaunch": false,
    "category": "Compute optimized",
    "gpuNum": 0,
    "hideHardwareSpecs": false,
    "memoryGiB": 192,
    "name": "ml.c5.24xlarge",
    "vcpuNum": 96
   },
   {
    "_defaultOrder": 29,
    "_isFastLaunch": true,
    "category": "Accelerated computing",
    "gpuNum": 1,
    "hideHardwareSpecs": false,
    "memoryGiB": 16,
    "name": "ml.g4dn.xlarge",
    "vcpuNum": 4
   },
   {
    "_defaultOrder": 30,
    "_isFastLaunch": false,
    "category": "Accelerated computing",
    "gpuNum": 1,
    "hideHardwareSpecs": false,
    "memoryGiB": 32,
    "name": "ml.g4dn.2xlarge",
    "vcpuNum": 8
   },
   {
    "_defaultOrder": 31,
    "_isFastLaunch": false,
    "category": "Accelerated computing",
    "gpuNum": 1,
    "hideHardwareSpecs": false,
    "memoryGiB": 64,
    "name": "ml.g4dn.4xlarge",
    "vcpuNum": 16
   },
   {
    "_defaultOrder": 32,
    "_isFastLaunch": false,
    "category": "Accelerated computing",
    "gpuNum": 1,
    "hideHardwareSpecs": false,
    "memoryGiB": 128,
    "name": "ml.g4dn.8xlarge",
    "vcpuNum": 32
   },
   {
    "_defaultOrder": 33,
    "_isFastLaunch": false,
    "category": "Accelerated computing",
    "gpuNum": 4,
    "hideHardwareSpecs": false,
    "memoryGiB": 192,
    "name": "ml.g4dn.12xlarge",
    "vcpuNum": 48
   },
   {
    "_defaultOrder": 34,
    "_isFastLaunch": false,
    "category": "Accelerated computing",
    "gpuNum": 1,
    "hideHardwareSpecs": false,
    "memoryGiB": 256,
    "name": "ml.g4dn.16xlarge",
    "vcpuNum": 64
   },
   {
    "_defaultOrder": 35,
    "_isFastLaunch": false,
    "category": "Accelerated computing",
    "gpuNum": 1,
    "hideHardwareSpecs": false,
    "memoryGiB": 61,
    "name": "ml.p3.2xlarge",
    "vcpuNum": 8
   },
   {
    "_defaultOrder": 36,
    "_isFastLaunch": false,
    "category": "Accelerated computing",
    "gpuNum": 4,
    "hideHardwareSpecs": false,
    "memoryGiB": 244,
    "name": "ml.p3.8xlarge",
    "vcpuNum": 32
   },
   {
    "_defaultOrder": 37,
    "_isFastLaunch": false,
    "category": "Accelerated computing",
    "gpuNum": 8,
    "hideHardwareSpecs": false,
    "memoryGiB": 488,
    "name": "ml.p3.16xlarge",
    "vcpuNum": 64
   },
   {
    "_defaultOrder": 38,
    "_isFastLaunch": false,
    "category": "Accelerated computing",
    "gpuNum": 8,
    "hideHardwareSpecs": false,
    "memoryGiB": 768,
    "name": "ml.p3dn.24xlarge",
    "vcpuNum": 96
   },
   {
    "_defaultOrder": 39,
    "_isFastLaunch": false,
    "category": "Memory Optimized",
    "gpuNum": 0,
    "hideHardwareSpecs": false,
    "memoryGiB": 16,
    "name": "ml.r5.large",
    "vcpuNum": 2
   },
   {
    "_defaultOrder": 40,
    "_isFastLaunch": false,
    "category": "Memory Optimized",
    "gpuNum": 0,
    "hideHardwareSpecs": false,
    "memoryGiB": 32,
    "name": "ml.r5.xlarge",
    "vcpuNum": 4
   },
   {
    "_defaultOrder": 41,
    "_isFastLaunch": false,
    "category": "Memory Optimized",
    "gpuNum": 0,
    "hideHardwareSpecs": false,
    "memoryGiB": 64,
    "name": "ml.r5.2xlarge",
    "vcpuNum": 8
   },
   {
    "_defaultOrder": 42,
    "_isFastLaunch": false,
    "category": "Memory Optimized",
    "gpuNum": 0,
    "hideHardwareSpecs": false,
    "memoryGiB": 128,
    "name": "ml.r5.4xlarge",
    "vcpuNum": 16
   },
   {
    "_defaultOrder": 43,
    "_isFastLaunch": false,
    "category": "Memory Optimized",
    "gpuNum": 0,
    "hideHardwareSpecs": false,
    "memoryGiB": 256,
    "name": "ml.r5.8xlarge",
    "vcpuNum": 32
   },
   {
    "_defaultOrder": 44,
    "_isFastLaunch": false,
    "category": "Memory Optimized",
    "gpuNum": 0,
    "hideHardwareSpecs": false,
    "memoryGiB": 384,
    "name": "ml.r5.12xlarge",
    "vcpuNum": 48
   },
   {
    "_defaultOrder": 45,
    "_isFastLaunch": false,
    "category": "Memory Optimized",
    "gpuNum": 0,
    "hideHardwareSpecs": false,
    "memoryGiB": 512,
    "name": "ml.r5.16xlarge",
    "vcpuNum": 64
   },
   {
    "_defaultOrder": 46,
    "_isFastLaunch": false,
    "category": "Memory Optimized",
    "gpuNum": 0,
    "hideHardwareSpecs": false,
    "memoryGiB": 768,
    "name": "ml.r5.24xlarge",
    "vcpuNum": 96
   },
   {
    "_defaultOrder": 47,
    "_isFastLaunch": false,
    "category": "Accelerated computing",
    "gpuNum": 1,
    "hideHardwareSpecs": false,
    "memoryGiB": 16,
    "name": "ml.g5.xlarge",
    "vcpuNum": 4
   },
   {
    "_defaultOrder": 48,
    "_isFastLaunch": false,
    "category": "Accelerated computing",
    "gpuNum": 1,
    "hideHardwareSpecs": false,
    "memoryGiB": 32,
    "name": "ml.g5.2xlarge",
    "vcpuNum": 8
   },
   {
    "_defaultOrder": 49,
    "_isFastLaunch": false,
    "category": "Accelerated computing",
    "gpuNum": 1,
    "hideHardwareSpecs": false,
    "memoryGiB": 64,
    "name": "ml.g5.4xlarge",
    "vcpuNum": 16
   },
   {
    "_defaultOrder": 50,
    "_isFastLaunch": false,
    "category": "Accelerated computing",
    "gpuNum": 1,
    "hideHardwareSpecs": false,
    "memoryGiB": 128,
    "name": "ml.g5.8xlarge",
    "vcpuNum": 32
   },
   {
    "_defaultOrder": 51,
    "_isFastLaunch": false,
    "category": "Accelerated computing",
    "gpuNum": 1,
    "hideHardwareSpecs": false,
    "memoryGiB": 256,
    "name": "ml.g5.16xlarge",
    "vcpuNum": 64
   },
   {
    "_defaultOrder": 52,
    "_isFastLaunch": false,
    "category": "Accelerated computing",
    "gpuNum": 4,
    "hideHardwareSpecs": false,
    "memoryGiB": 192,
    "name": "ml.g5.12xlarge",
    "vcpuNum": 48
   },
   {
    "_defaultOrder": 53,
    "_isFastLaunch": false,
    "category": "Accelerated computing",
    "gpuNum": 4,
    "hideHardwareSpecs": false,
    "memoryGiB": 384,
    "name": "ml.g5.24xlarge",
    "vcpuNum": 96
   },
   {
    "_defaultOrder": 54,
    "_isFastLaunch": false,
    "category": "Accelerated computing",
    "gpuNum": 8,
    "hideHardwareSpecs": false,
    "memoryGiB": 768,
    "name": "ml.g5.48xlarge",
    "vcpuNum": 192
   },
   {
    "_defaultOrder": 55,
    "_isFastLaunch": false,
    "category": "Accelerated computing",
    "gpuNum": 8,
    "hideHardwareSpecs": false,
    "memoryGiB": 1152,
    "name": "ml.p4d.24xlarge",
    "vcpuNum": 96
   },
   {
    "_defaultOrder": 56,
    "_isFastLaunch": false,
    "category": "Accelerated computing",
    "gpuNum": 8,
    "hideHardwareSpecs": false,
    "memoryGiB": 1152,
    "name": "ml.p4de.24xlarge",
    "vcpuNum": 96
   },
   {
    "_defaultOrder": 57,
    "_isFastLaunch": false,
    "category": "Accelerated computing",
    "gpuNum": 0,
    "hideHardwareSpecs": false,
    "memoryGiB": 32,
    "name": "ml.trn1.2xlarge",
    "vcpuNum": 8
   },
   {
    "_defaultOrder": 58,
    "_isFastLaunch": false,
    "category": "Accelerated computing",
    "gpuNum": 0,
    "hideHardwareSpecs": false,
    "memoryGiB": 512,
    "name": "ml.trn1.32xlarge",
    "vcpuNum": 128
   },
   {
    "_defaultOrder": 59,
    "_isFastLaunch": false,
    "category": "Accelerated computing",
    "gpuNum": 0,
    "hideHardwareSpecs": false,
    "memoryGiB": 512,
    "name": "ml.trn1n.32xlarge",
    "vcpuNum": 128
   }
  ],
  "instance_type": "ml.t3.medium",
  "kernelspec": {
   "display_name": "Python 3 (Data Science 3.0)",
   "language": "python",
   "name": "python3__SAGEMAKER_INTERNAL__arn:aws:sagemaker:us-east-1:081325390199:image/sagemaker-data-science-310-v1"
  },
  "language_info": {
   "codemirror_mode": {
    "name": "ipython",
    "version": 3
   },
   "file_extension": ".py",
   "mimetype": "text/x-python",
   "name": "python",
   "nbconvert_exporter": "python",
   "pygments_lexer": "ipython3",
   "version": "3.10.6"
  }
 },
 "nbformat": 4,
 "nbformat_minor": 5
}
