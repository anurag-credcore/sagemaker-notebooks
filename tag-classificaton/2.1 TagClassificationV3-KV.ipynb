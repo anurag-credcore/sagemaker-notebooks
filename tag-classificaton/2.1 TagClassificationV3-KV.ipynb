{
 "cells": [
  {
   "cell_type": "markdown",
   "id": "21b2023f-d232-494c-ab92-6cf01d8ac54d",
   "metadata": {
    "toc-hr-collapsed": true
   },
   "source": [
    "# Model Training "
   ]
  },
  {
   "cell_type": "code",
   "execution_count": 2,
   "id": "47092fb4-394e-4de1-a37b-b91ef3ee02d6",
   "metadata": {
    "tags": []
   },
   "outputs": [
    {
     "name": "stdout",
     "output_type": "stream",
     "text": [
      "\u001b[33mWARNING: Running pip as the 'root' user can result in broken permissions and conflicting behaviour with the system package manager. It is recommended to use a virtual environment instead: https://pip.pypa.io/warnings/venv\u001b[0m\u001b[33m\n",
      "\u001b[0m\u001b[33mWARNING: There was an error checking the latest version of pip.\u001b[0m\u001b[33m\n",
      "\u001b[0m\u001b[33mWARNING: Running pip as the 'root' user can result in broken permissions and conflicting behaviour with the system package manager. It is recommended to use a virtual environment instead: https://pip.pypa.io/warnings/venv\u001b[0m\u001b[33m\n",
      "\u001b[0m\u001b[33mWARNING: There was an error checking the latest version of pip.\u001b[0m\u001b[33m\n",
      "\u001b[0m\u001b[33mWARNING: Running pip as the 'root' user can result in broken permissions and conflicting behaviour with the system package manager. It is recommended to use a virtual environment instead: https://pip.pypa.io/warnings/venv\u001b[0m\u001b[33m\n",
      "\u001b[0m\u001b[33mWARNING: There was an error checking the latest version of pip.\u001b[0m\u001b[33m\n",
      "\u001b[0m"
     ]
    }
   ],
   "source": [
    "!pip install -q transformers[torch] accelerate\n",
    "!pip3 install -q wandb\n",
    "!pip3 install -q openpyxl"
   ]
  },
  {
   "cell_type": "code",
   "execution_count": 2,
   "id": "52084bd8-b7d8-46c9-a4ac-b9befabf853d",
   "metadata": {
    "tags": []
   },
   "outputs": [],
   "source": [
    "import json \n",
    "import pandas as pd \n",
    "import os \n",
    "import pickle"
   ]
  },
  {
   "cell_type": "code",
   "execution_count": 4,
   "id": "96ef8f25-49ac-4afa-adb4-5809eb7d949c",
   "metadata": {
    "tags": []
   },
   "outputs": [],
   "source": [
    "from sklearn.metrics import accuracy_score, precision_recall_fscore_support\n",
    "import numpy as np "
   ]
  },
  {
   "cell_type": "code",
   "execution_count": 5,
   "id": "f3d711a1-0e5b-4d98-b300-244eb13bbaef",
   "metadata": {
    "tags": []
   },
   "outputs": [
    {
     "name": "stderr",
     "output_type": "stream",
     "text": [
      "/opt/conda/lib/python3.10/site-packages/tqdm/auto.py:21: TqdmWarning: IProgress not found. Please update jupyter and ipywidgets. See https://ipywidgets.readthedocs.io/en/stable/user_install.html\n",
      "  from .autonotebook import tqdm as notebook_tqdm\n"
     ]
    }
   ],
   "source": [
    "from transformers import BertTokenizer, BertForSequenceClassification\n",
    "from transformers import DistilBertTokenizer, DistilBertForSequenceClassification\n",
    "from transformers import Trainer, TrainingArguments\n",
    "import torch\n",
    "from torch.utils.data import Dataset\n",
    "from sklearn.metrics import classification_report, precision_recall_curve\n",
    "from sklearn.preprocessing import LabelEncoder\n"
   ]
  },
  {
   "cell_type": "code",
   "execution_count": 6,
   "id": "ce7a96f4-3262-4f51-b717-9932be392b64",
   "metadata": {
    "tags": []
   },
   "outputs": [],
   "source": [
    "# !pip3 uninstall -q wandb -y"
   ]
  },
  {
   "cell_type": "code",
   "execution_count": 7,
   "id": "65249068-80c2-4bb8-b11f-5352cb22d0ce",
   "metadata": {
    "tags": []
   },
   "outputs": [],
   "source": [
    "import wandb"
   ]
  },
  {
   "cell_type": "code",
   "execution_count": 8,
   "id": "f9ce1d0b-462a-49b2-bf14-99dc9232d3d7",
   "metadata": {
    "tags": []
   },
   "outputs": [
    {
     "name": "stderr",
     "output_type": "stream",
     "text": [
      "Failed to detect the name of this notebook, you can set it manually with the WANDB_NOTEBOOK_NAME environment variable to enable code saving.\n",
      "\u001b[34m\u001b[1mwandb\u001b[0m: \u001b[33mWARNING\u001b[0m If you're specifying your api key in code, ensure this code is not shared publicly.\n",
      "\u001b[34m\u001b[1mwandb\u001b[0m: \u001b[33mWARNING\u001b[0m Consider setting the WANDB_API_KEY environment variable, or running `wandb login` from the command line.\n",
      "\u001b[34m\u001b[1mwandb\u001b[0m: Appending key for api.wandb.ai to your netrc file: /root/.netrc\n"
     ]
    },
    {
     "data": {
      "text/plain": [
       "True"
      ]
     },
     "execution_count": 8,
     "metadata": {},
     "output_type": "execute_result"
    }
   ],
   "source": [
    "wandb.login(key=\"4de6103347df6561e7258cdef0ef60bbc1233695\", relogin=True)"
   ]
  },
  {
   "cell_type": "code",
   "execution_count": 9,
   "id": "d8c6a2e3-d432-4a39-b787-78722225a649",
   "metadata": {
    "tags": []
   },
   "outputs": [],
   "source": [
    "MODEL_DIRECTORY = \"./trained_model/v15-small\"\n",
    "DATA_DIRECTORY = \"./data/dataset/v9/\""
   ]
  },
  {
   "cell_type": "code",
   "execution_count": 10,
   "id": "d3486ece-acae-43bf-abfb-8c82bc4fec99",
   "metadata": {
    "tags": []
   },
   "outputs": [],
   "source": [
    "class TextDataset(Dataset):\n",
    "    def __init__(self, texts, labels, tokenizer, max_length):\n",
    "        self.texts = texts\n",
    "        self.labels = labels\n",
    "        self.tokenizer = tokenizer\n",
    "        self.max_length = max_length\n",
    "\n",
    "    def __len__(self):\n",
    "        return len(self.texts)\n",
    "\n",
    "    def __getitem__(self, idx):\n",
    "        text = self.texts[idx]\n",
    "        labels = self.labels[idx]\n",
    "        encoding = self.tokenizer.encode_plus(\n",
    "            text,\n",
    "            max_length=self.max_length,\n",
    "            truncation=True,\n",
    "            padding='max_length',\n",
    "            return_tensors='pt',\n",
    "            return_attention_mask=True\n",
    "        )\n",
    "        return {\n",
    "            'input_ids': encoding['input_ids'].flatten(),\n",
    "            'attention_mask': encoding['attention_mask'].flatten(),\n",
    "            'labels': torch.tensor(labels, dtype=torch.long)\n",
    "        }"
   ]
  },
  {
   "cell_type": "code",
   "execution_count": 23,
   "id": "87883537-8e10-4469-8506-1a904cd92466",
   "metadata": {
    "tags": []
   },
   "outputs": [],
   "source": [
    "train_df = pd.read_json(os.path.join(DATA_DIRECTORY, \"train.json\"))"
   ]
  },
  {
   "cell_type": "code",
   "execution_count": 24,
   "id": "7e2130c1-6ffa-4b1a-8a06-0ad1e75d63ca",
   "metadata": {
    "tags": []
   },
   "outputs": [
    {
     "name": "stdout",
     "output_type": "stream",
     "text": [
      "(6785, 9)\n"
     ]
    }
   ],
   "source": [
    "print(train_df.shape)"
   ]
  },
  {
   "cell_type": "code",
   "execution_count": 25,
   "id": "5b82b647-f4ba-4282-980f-070a0855d2ca",
   "metadata": {
    "tags": []
   },
   "outputs": [
    {
     "name": "stdout",
     "output_type": "stream",
     "text": [
      "(80,)\n"
     ]
    }
   ],
   "source": [
    "print(train_df.filename.unique().shape)"
   ]
  },
  {
   "cell_type": "code",
   "execution_count": 26,
   "id": "e8f5fd7d-4a76-4277-8bc4-c3dcb2335d85",
   "metadata": {
    "tags": []
   },
   "outputs": [],
   "source": [
    "texts = train_df['section_content'].values\n",
    "labels_text = train_df['tags'].values"
   ]
  },
  {
   "cell_type": "code",
   "execution_count": 27,
   "id": "46f22f3c-5405-4dbb-a34e-894c7c55d54b",
   "metadata": {
    "tags": []
   },
   "outputs": [],
   "source": [
    "label_encoder = LabelEncoder()\n",
    "labels = label_encoder.fit_transform(labels_text)"
   ]
  },
  {
   "cell_type": "code",
   "execution_count": 16,
   "id": "cd6525f5-779c-448c-a563-71f7744afc1c",
   "metadata": {
    "tags": []
   },
   "outputs": [],
   "source": [
    "os.makedirs(MODEL_DIRECTORY)"
   ]
  },
  {
   "cell_type": "code",
   "execution_count": 17,
   "id": "c63686c3-265f-443e-9d5b-6de0761573d0",
   "metadata": {
    "tags": []
   },
   "outputs": [],
   "source": [
    "with open(os.path.join(MODEL_DIRECTORY, \"tag.le\"), 'wb') as file: \n",
    "    pickle.dump(label_encoder, file)"
   ]
  },
  {
   "cell_type": "code",
   "execution_count": 18,
   "id": "c24ec504-b16a-44ab-be65-710d82a51216",
   "metadata": {
    "tags": []
   },
   "outputs": [
    {
     "name": "stdout",
     "output_type": "stream",
     "text": [
      "Number of labels 25\n"
     ]
    }
   ],
   "source": [
    "num_labels = train_df.tags.unique().shape[0]\n",
    "print(\"Number of labels\", num_labels)"
   ]
  },
  {
   "cell_type": "markdown",
   "id": "75c5f6c7-39f5-437c-b9d7-f27320c036ad",
   "metadata": {},
   "source": [
    "## Calculate Class weights"
   ]
  },
  {
   "cell_type": "code",
   "execution_count": 19,
   "id": "28a404dd-1cf2-4015-807e-473dd5611f20",
   "metadata": {
    "tags": []
   },
   "outputs": [],
   "source": [
    "from sklearn.utils.class_weight import compute_class_weight\n",
    "import numpy as np"
   ]
  },
  {
   "cell_type": "code",
   "execution_count": 20,
   "id": "397272fd-3000-4e12-9db7-94a38e83040e",
   "metadata": {
    "tags": []
   },
   "outputs": [
    {
     "name": "stdout",
     "output_type": "stream",
     "text": [
      "Class Weights:  {0: 3.049438202247191, 1: 3.7694444444444444, 2: 6.619512195121951, 3: 3.7694444444444444, 4: 27.14, 5: 6.0311111111111115, 6: 6.619512195121951, 7: 1.8214765100671142, 8: 3.933333333333333, 9: 15.077777777777778, 10: 4.112121212121212, 11: 6.168181818181818, 12: 20.876923076923077, 13: 0.049086634111050825, 14: 11.8, 15: 7.982352941176471, 16: 4.240625, 17: 3.9911764705882353, 18: 5.9, 19: 3.155813953488372, 20: 4.934545454545455, 21: 13.57, 22: 6.461904761904762, 23: 7.335135135135135, 24: 5.219230769230769}\n"
     ]
    }
   ],
   "source": [
    "class_weights = compute_class_weight(class_weight='balanced', classes=np.unique(labels), y=labels)\n",
    "class_weights_dict = {i: weight for i, weight in enumerate(class_weights)}\n",
    "\n",
    "print(\"Class Weights: \", class_weights_dict)\n"
   ]
  },
  {
   "cell_type": "code",
   "execution_count": 21,
   "id": "bdd9ba53-ddc7-4a88-ab17-0458337a39b8",
   "metadata": {
    "tags": []
   },
   "outputs": [],
   "source": [
    "class_weight_tensor = torch.tensor(class_weights, dtype=torch.float) "
   ]
  },
  {
   "cell_type": "code",
   "execution_count": 22,
   "id": "9724721d-a2eb-4fe3-b201-f6ded2967bfc",
   "metadata": {
    "tags": []
   },
   "outputs": [],
   "source": [
    "def compute_weighted_loss(model, inputs, return_outputs=False): \n",
    "    labels = inputs.get(\"labels\") \n",
    "    outputs = model(**inputs)\n",
    "    logits = outputs.get(\"logits\")\n",
    "    loss_fct = torch.nn.CrossEntropyLoss(weight=class_weight_tensor.to(logits.device))\n",
    "    loss = loss_fct(logits, labels) \n",
    "    return (loss, outputs) if return_outputs else loss"
   ]
  },
  {
   "cell_type": "code",
   "execution_count": 23,
   "id": "30342f87-9960-4663-9e39-d125d17c5bcb",
   "metadata": {
    "tags": []
   },
   "outputs": [],
   "source": [
    "# model_name = 'bert-base-uncased'\n",
    "# tokenizer = BertTokenizer.from_pretrained(model_name)\n",
    "# model = BertForSequenceClassification.from_pretrained(model_name, num_labels=num_labels)"
   ]
  },
  {
   "cell_type": "markdown",
   "id": "98f96031-b9da-4c2a-8e8d-5840325cd917",
   "metadata": {
    "tags": []
   },
   "source": [
    "## Load Model"
   ]
  },
  {
   "cell_type": "code",
   "execution_count": 24,
   "id": "5cd9bf7a-ffd6-4d53-8f03-c54f23b6e18d",
   "metadata": {
    "tags": []
   },
   "outputs": [
    {
     "name": "stderr",
     "output_type": "stream",
     "text": [
      "/opt/conda/lib/python3.10/site-packages/transformers/tokenization_utils_base.py:1601: FutureWarning: `clean_up_tokenization_spaces` was not set. It will be set to `True` by default. This behavior will be depracted in transformers v4.45, and will be then set to `False` by default. For more details check this issue: https://github.com/huggingface/transformers/issues/31884\n",
      "  warnings.warn(\n"
     ]
    }
   ],
   "source": [
    "tokenizer = DistilBertTokenizer.from_pretrained('distilbert-base-uncased')\n",
    "# model = DistilBertForSequenceClassification.from_pretrained('distilbert-base-uncased', num_labels=num_labels)"
   ]
  },
  {
   "cell_type": "code",
   "execution_count": 28,
   "id": "d9c6a50a-3f82-400c-99b0-09e3b8ed5302",
   "metadata": {
    "tags": []
   },
   "outputs": [],
   "source": [
    "dataset = TextDataset(texts, labels, tokenizer, max_length=512)"
   ]
  },
  {
   "cell_type": "markdown",
   "id": "d0cf9cbe-89cc-492b-a17d-ef09b4125c0c",
   "metadata": {},
   "source": [
    "## Compute Metrics callback"
   ]
  },
  {
   "cell_type": "code",
   "execution_count": 26,
   "id": "3bf0a4f0-0423-4023-ac89-b8c11ef65cfa",
   "metadata": {
    "tags": []
   },
   "outputs": [],
   "source": [
    "from sklearn.metrics import accuracy_score, precision_score, recall_score, f1_score"
   ]
  },
  {
   "cell_type": "code",
   "execution_count": 27,
   "id": "e27fa414-69a1-4ee4-84d9-cf20990625c2",
   "metadata": {
    "tags": []
   },
   "outputs": [],
   "source": [
    "def compute_metrics(eval_pred):\n",
    "    logits, labels = eval_pred\n",
    "    predictions = np.argmax(logits, axis=-1)\n",
    "    \n",
    "    accuracy = accuracy_score(labels, predictions, )\n",
    "    precision = precision_score(labels, predictions, average='macro')\n",
    "    recall = recall_score(labels, predictions, average='macro')\n",
    "    f1 = f1_score(labels, predictions, average='macro')\n",
    "    \n",
    "    return {\n",
    "        \"accuracy\": accuracy,\n",
    "        \"precision\": precision,\n",
    "        \"recall\": recall,\n",
    "        \"f1\": f1\n",
    "    }"
   ]
  },
  {
   "cell_type": "code",
   "execution_count": 28,
   "id": "60d4033d-0c64-4e80-ba0a-fb49aee49d02",
   "metadata": {
    "tags": []
   },
   "outputs": [
    {
     "data": {
      "text/plain": [
       "'./trained_model/v15-small'"
      ]
     },
     "execution_count": 28,
     "metadata": {},
     "output_type": "execute_result"
    }
   ],
   "source": [
    "MODEL_DIRECTORY"
   ]
  },
  {
   "cell_type": "code",
   "execution_count": 29,
   "id": "6c4f29c1-cb9e-47d0-b7d3-619b4fef4b93",
   "metadata": {
    "tags": []
   },
   "outputs": [],
   "source": [
    "class CustomTrainer(Trainer):\n",
    "    def __init__(self, *args, class_weights=None, **kwargs):\n",
    "        super().__init__(*args, **kwargs)\n",
    "        self.class_weights = class_weights\n",
    "\n",
    "    def compute_loss(self, model, inputs, return_outputs=False):\n",
    "        labels = inputs.get(\"labels\")\n",
    "        outputs = model(**inputs)\n",
    "        logits = outputs.get(\"logits\")\n",
    "        loss_fct = torch.nn.CrossEntropyLoss(weight=self.class_weights.to(logits.device))\n",
    "        loss = loss_fct(logits, labels)\n",
    "        return (loss, outputs) if return_outputs else loss"
   ]
  },
  {
   "cell_type": "markdown",
   "id": "fd472f96-5d58-4d9a-9b15-31a0a5c50967",
   "metadata": {
    "tags": []
   },
   "source": [
    "## Train using K-fold Cross Validation"
   ]
  },
  {
   "cell_type": "code",
   "execution_count": 30,
   "id": "0b391734-d185-44c6-af45-82722ef1f551",
   "metadata": {
    "tags": []
   },
   "outputs": [],
   "source": [
    "from sklearn.model_selection import StratifiedKFold, KFold\n",
    "import json \n",
    "from pathlib import Path"
   ]
  },
  {
   "cell_type": "code",
   "execution_count": 31,
   "id": "8daeb8fb-f4c6-44c4-8704-8f8baad8de8b",
   "metadata": {
    "tags": []
   },
   "outputs": [],
   "source": [
    "k=5\n",
    "kf = KFold(n_splits=k, shuffle=True, random_state=42)"
   ]
  },
  {
   "cell_type": "code",
   "execution_count": 32,
   "id": "202810f3-3515-45f6-b44c-61efecd40186",
   "metadata": {
    "tags": []
   },
   "outputs": [],
   "source": [
    "unique_files = train_df[train_df.filename.str.contains(\"synth\") == False].filename.unique()"
   ]
  },
  {
   "cell_type": "code",
   "execution_count": 33,
   "id": "ee709dad-0779-4c1e-a9d2-a3f93c560a31",
   "metadata": {
    "tags": []
   },
   "outputs": [
    {
     "name": "stdout",
     "output_type": "stream",
     "text": [
      "(5615, 9) (25,)\n",
      "(1170, 9) (24,)\n",
      "(5287, 9) (25,)\n",
      "(1498, 9) (25,)\n",
      "(5387, 9) (25,)\n",
      "(1398, 9) (24,)\n",
      "(5366, 9) (25,)\n",
      "(1419, 9) (25,)\n",
      "(5485, 9) (25,)\n",
      "(1300, 9) (23,)\n"
     ]
    }
   ],
   "source": [
    "splits = list(kf.split(unique_files))\n",
    "for fold, (train_file_index, val_file_index)  in enumerate(splits):\n",
    "    train_file_names = set(unique_files[train_file_index])\n",
    "    val_file_names = set(unique_files[val_file_index])\n",
    "    \n",
    "    train = train_df[train_df.filename.isin(train_file_names)]\n",
    "    val  = train_df[train_df.filename.isin(val_file_names)]\n",
    "    print(train.shape, train.tags.unique().shape)\n",
    "    print(val.shape, val.tags.unique().shape)"
   ]
  },
  {
   "cell_type": "markdown",
   "id": "334e9344-9c66-4e9a-b2ff-d3cf676c6a51",
   "metadata": {
    "tags": []
   },
   "source": [
    "## Split by files"
   ]
  },
  {
   "cell_type": "code",
   "execution_count": 34,
   "id": "84a8698e-dc3f-45b3-9da3-b6149e67830b",
   "metadata": {
    "tags": []
   },
   "outputs": [],
   "source": [
    "unique_labels = train_df.tags.unique()"
   ]
  },
  {
   "cell_type": "code",
   "execution_count": null,
   "id": "0784675a-61f5-46f6-82a7-e58b2230b4de",
   "metadata": {
    "tags": []
   },
   "outputs": [
    {
     "name": "stderr",
     "output_type": "stream",
     "text": [
      "/opt/conda/lib/python3.10/site-packages/sklearn/metrics/_classification.py:1344: UndefinedMetricWarning: Precision is ill-defined and being set to 0.0 in labels with no predicted samples. Use `zero_division` parameter to control this behavior.\n",
      "  _warn_prf(average, modifier, msg_start, len(result))\n"
     ]
    }
   ],
   "source": [
    "fold_accuracies = [] \n",
    "for fold, (train_file_index, val_file_index)  in enumerate(splits):\n",
    "    \n",
    "    train_file_names = set(unique_files[train_file_index])\n",
    "    val_file_names = set(unique_files[val_file_index])\n",
    "    \n",
    "    train = train_df[train_df.filename.isin(train_file_names)]\n",
    "    val  = train_df[train_df.filename.isin(val_file_names)]\n",
    "    \n",
    "    val_labels = label_encoder.transform(val['tags'].values)\n",
    "    train_labels = label_encoder.transform(train['tags'].values)\n",
    "    \n",
    "    train_dataset = TextDataset(train['section_content'].values, train_labels ,  tokenizer, max_length=512)\n",
    "    val_dataset = TextDataset(val['section_content'].values, val_labels,  tokenizer, max_length=512)\n",
    "    \n",
    "    model = DistilBertForSequenceClassification.from_pretrained('distilbert-base-uncased', num_labels=num_labels)\n",
    "    \n",
    "    run_name = f\"{Path(MODEL_DIRECTORY).name}_fold_{fold+1}\"    \n",
    "    print(\"Starting \", run_name)\n",
    "    wandb.init(project=\"huggingface\", name=run_name)\n",
    "    \n",
    "    training_args = TrainingArguments(\n",
    "        output_dir=os.path.join(MODEL_DIRECTORY, f'./results_fold_{fold+1}'),\n",
    "        run_name=run_name,\n",
    "        num_train_epochs=30,\n",
    "        per_device_train_batch_size=16,\n",
    "        per_device_eval_batch_size=16,\n",
    "        weight_decay=0.01,\n",
    "        logging_dir=os.path.join(MODEL_DIRECTORY, f'./logs_fold_{fold+1}'),\n",
    "        logging_steps=10,\n",
    "        learning_rate=2e-5,\n",
    "        eval_strategy=\"epoch\", \n",
    "        save_strategy=\"epoch\",\n",
    "        load_best_model_at_end=True,\n",
    "        metric_for_best_model='recall'\n",
    "\n",
    "    )\n",
    "\n",
    "    # Initialize Trainer\n",
    "    trainer = CustomTrainer(\n",
    "        model=model,\n",
    "        args=training_args,\n",
    "        train_dataset=train_dataset,\n",
    "        eval_dataset=val_dataset, \n",
    "        compute_metrics=compute_metrics, \n",
    "        class_weights=class_weight_tensor, \n",
    "    )\n",
    "    trainer.train()\n",
    "\n",
    "    # Train the model\n",
    "    # Make predictions on the test set\n",
    "    predictions = trainer.predict(val_dataset)\n",
    "\n",
    "    # Extract the logits and convert to predicted labels\n",
    "    logits = predictions.predictions\n",
    "    predicted_labels = np.argmax(logits, axis=-1)\n",
    "\n",
    "    # Convert numeric labels back to original text labels for comparison\n",
    "    predicted_labels_text = label_encoder.inverse_transform(predicted_labels)\n",
    "    true_labels_text = label_encoder.inverse_transform(val_labels)\n",
    "    \n",
    "    val['predicted_tags'] = predicted_labels_text\n",
    "    val.to_json(f\"./data/output/val_{Path(MODEL_DIRECTORY).name}_fold_{fold+1}.json\", orient=\"records\")\n",
    "    # Generate a classification report\n",
    "    report = classification_report(true_labels_text, predicted_labels_text, target_names=label_encoder.classes_, labels=unique_labels, output_dict=True)\n",
    "    with open(f\"./data/output/tag_classification_fold_{fold+1}_report.json\", \"w\") as file: \n",
    "        json.dump(report, file)\n",
    "        \n",
    "    print(report)\n",
    "        \n",
    "    \n",
    "    print(\"Generating Evaluation results\")\n",
    "    eval_result = trainer.evaluate()\n",
    "    # Save accuracy for this fold\n",
    "    fold_accuracies.append((report, eval_result['eval_accuracy']))\n",
    "    del model \n",
    "    torch.cuda.empty_cache()"
   ]
  },
  {
   "cell_type": "markdown",
   "id": "0c881de6-ddea-4087-8d11-2bd01a5ae6b0",
   "metadata": {},
   "source": [
    "---"
   ]
  },
  {
   "cell_type": "markdown",
   "id": "619016d5-0e16-4dc7-87df-c4abc0d09147",
   "metadata": {
    "tags": []
   },
   "source": [
    "## Split by rows"
   ]
  },
  {
   "cell_type": "code",
   "execution_count": null,
   "id": "23a653eb-6f89-4f09-98bc-81affa7bf984",
   "metadata": {
    "tags": []
   },
   "outputs": [],
   "source": [
    "fold_accuracies = [] \n",
    "for fold, (train_index, val_index) in enumerate(kf.split(train_df, train_df['tags'].values)):\n",
    "    print(f\"Fold {fold + 1}/{k}\")\n",
    "    train = train_df.iloc[train_index]\n",
    "    val = train_df.iloc[val_index]\n",
    "    \n",
    "    val_labels = label_encoder.transform(val['tags'].values)\n",
    "    train_labels = label_encoder.transform(train['tags'].values)\n",
    "    \n",
    "    train_dataset = TextDataset(train['section_content'].values, train_labels ,  tokenizer, max_length=512)\n",
    "    val_dataset = TextDataset(val['section_content'].values, val_labels,  tokenizer, max_length=512)\n",
    "    \n",
    "    model = DistilBertForSequenceClassification.from_pretrained('distilbert-base-uncased', num_labels=num_labels)\n",
    "    \n",
    "    run_name = f\"{Path(MODEL_DIRECTORY).name}_fold_{fold+1}\"\n",
    "    wandb.run_name = run_name\n",
    "\n",
    "\n",
    "    \n",
    "    print(\"Starting \", run_name)\n",
    "    \n",
    "    training_args = TrainingArguments(\n",
    "        output_dir=os.path.join(MODEL_DIRECTORY, f'./results_fold_{fold+1}'),\n",
    "        run_name=run_name,\n",
    "        num_train_epochs=30,\n",
    "        per_device_train_batch_size=16,\n",
    "        per_device_eval_batch_size=16,\n",
    "        weight_decay=0.01,\n",
    "        logging_dir=os.path.join(MODEL_DIRECTORY, f'./logs_fold_{fold+1}'),\n",
    "        logging_steps=10,\n",
    "        learning_rate=2e-5,\n",
    "        eval_strategy=\"epoch\", \n",
    "        save_strategy=\"epoch\",\n",
    "        load_best_model_at_end=True,\n",
    "        metric_for_best_model='recall'\n",
    "\n",
    "    )\n",
    "\n",
    "    # Initialize Trainer\n",
    "    trainer = CustomTrainer(\n",
    "        model=model,\n",
    "        args=training_args,\n",
    "        train_dataset=train_dataset,\n",
    "        eval_dataset=val_dataset, \n",
    "        compute_metrics=compute_metrics, \n",
    "        class_weights=class_weight_tensor, \n",
    "    )\n",
    "    trainer.train()\n",
    "\n",
    "    # Train the model\n",
    "    # Make predictions on the test set\n",
    "    predictions = trainer.predict(val_dataset)\n",
    "\n",
    "    # Extract the logits and convert to predicted labels\n",
    "    logits = predictions.predictions\n",
    "    predicted_labels = np.argmax(logits, axis=-1)\n",
    "\n",
    "    # Convert numeric labels back to original text labels for comparison\n",
    "    predicted_labels_text = label_encoder.inverse_transform(predicted_labels)\n",
    "    true_labels_text = label_encoder.inverse_transform(val_labels)\n",
    "    \n",
    "    val['predicted_tags'] = predicted_labels_text\n",
    "    val.to_json(f\"./data/output/val_{Path(MODEL_DIRECTORY).name}_fold_{fold+1}.json\", orient=\"records\")\n",
    "    # Generate a classification report\n",
    "    report = classification_report(true_labels_text, predicted_labels_text, target_names=label_encoder.classes_, output_dict=True)\n",
    "    with open(f\"./data/output/tag_classification_fold_{fold+1}_report.json\", \"w\") as file: \n",
    "        json.dump(report, file)\n",
    "        \n",
    "    print(report)\n",
    "        \n",
    "    \n",
    "    print(\"Generating Evaluation results\")\n",
    "    eval_result = trainer.evaluate()\n",
    "    # Save accuracy for this fold\n",
    "    fold_accuracies.append((report, eval_result['eval_accuracy']))\n",
    "    del model \n",
    "    torch.cuda.empty_cache()"
   ]
  },
  {
   "cell_type": "code",
   "execution_count": null,
   "id": "7ee6be09-b299-4839-9b6e-73810d5b705e",
   "metadata": {},
   "outputs": [],
   "source": [
    "print(\"\")"
   ]
  },
  {
   "cell_type": "code",
   "execution_count": null,
   "id": "bdb459ab-3ebf-45cd-8c5c-5a14ed89bef8",
   "metadata": {
    "tags": []
   },
   "outputs": [],
   "source": [
    "x[0]"
   ]
  },
  {
   "cell_type": "code",
   "execution_count": null,
   "id": "04f934d2-11b3-4cb2-9596-5d1d903fe060",
   "metadata": {
    "tags": []
   },
   "outputs": [],
   "source": [
    "fold_data = []\n",
    "for x in fold_accuracies[1:]:\n",
    "    for key, value in x[0].items(): \n",
    "        if type(value) != dict:\n",
    "            continue\n",
    "        fold_data.append({\n",
    "            \"tag\": key, \n",
    "            \"precision\": value['precision'], \n",
    "            'recall' : value['recall'], \n",
    "            'f1-score': value['f1-score'], \n",
    "            'support': value['support']\n",
    "        })\n",
    "    break"
   ]
  },
  {
   "cell_type": "code",
   "execution_count": null,
   "id": "dff9d4e7-24b1-4bdf-996f-57d50c01c59d",
   "metadata": {
    "tags": []
   },
   "outputs": [],
   "source": [
    "for i in fold_accuracies: \n",
    "    print(i[1])"
   ]
  },
  {
   "cell_type": "code",
   "execution_count": null,
   "id": "81111c87-50db-492f-ae14-a24e5ba4f5e2",
   "metadata": {},
   "outputs": [],
   "source": [
    "fold_df = pd.DataFrame(fold_data)"
   ]
  },
  {
   "cell_type": "code",
   "execution_count": null,
   "id": "fbf235cc-15ca-45db-84df-5a5ade56dd34",
   "metadata": {
    "tags": []
   },
   "outputs": [],
   "source": [
    "print(fold_df.groupby('tag').agg('mean').to_string())"
   ]
  },
  {
   "cell_type": "markdown",
   "id": "f4ff75a2-dc61-4c02-9fb8-d1945b512607",
   "metadata": {
    "tags": []
   },
   "source": [
    "## Normal Training "
   ]
  },
  {
   "cell_type": "code",
   "execution_count": 33,
   "id": "339c1f33-cbf8-440d-917b-212ab1a7401f",
   "metadata": {
    "tags": []
   },
   "outputs": [
    {
     "name": "stderr",
     "output_type": "stream",
     "text": [
      "Some weights of DistilBertForSequenceClassification were not initialized from the model checkpoint at distilbert-base-uncased and are newly initialized: ['classifier.bias', 'classifier.weight', 'pre_classifier.bias', 'pre_classifier.weight']\n",
      "You should probably TRAIN this model on a down-stream task to be able to use it for predictions and inference.\n"
     ]
    }
   ],
   "source": [
    "model = DistilBertForSequenceClassification.from_pretrained('distilbert-base-uncased', num_labels=num_labels)"
   ]
  },
  {
   "cell_type": "code",
   "execution_count": 34,
   "id": "557e53fd-3c7c-4327-b327-f5ae679f71a0",
   "metadata": {
    "tags": []
   },
   "outputs": [],
   "source": [
    "dataset = TextDataset(texts, labels, tokenizer, max_length=512)"
   ]
  },
  {
   "cell_type": "code",
   "execution_count": 35,
   "id": "86cbc66f-5bdc-41c2-9c71-bbbf944e9e60",
   "metadata": {
    "tags": []
   },
   "outputs": [],
   "source": [
    "import os \n",
    "from pathlib import Path"
   ]
  },
  {
   "cell_type": "code",
   "execution_count": 36,
   "id": "2427982d-681b-487c-aa59-e818d637cf73",
   "metadata": {
    "tags": []
   },
   "outputs": [],
   "source": [
    "\n",
    "training_args = TrainingArguments(\n",
    "    output_dir=os.path.join(MODEL_DIRECTORY, './results'),\n",
    "    run_name=f\"{Path(MODEL_DIRECTORY).name}\",\n",
    "    num_train_epochs=50,\n",
    "    per_device_train_batch_size=16,\n",
    "    per_device_eval_batch_size=16,\n",
    "    weight_decay=0.01,\n",
    "    logging_dir=os.path.join(MODEL_DIRECTORY, './logs'),\n",
    "    logging_steps=10,\n",
    "    learning_rate=2e-5,\n",
    "    eval_strategy=\"epoch\"\n",
    ")\n",
    "\n",
    "# Initialize Trainer\n",
    "trainer = CustomTrainer(\n",
    "    model=model,\n",
    "    args=training_args,\n",
    "    train_dataset=dataset,\n",
    "    eval_dataset=dataset, \n",
    "    compute_metrics=compute_metrics, \n",
    "    class_weights=class_weight_tensor\n",
    ")\n",
    "\n",
    "# Train the model\n"
   ]
  },
  {
   "cell_type": "code",
   "execution_count": null,
   "id": "40ca020a-9dd4-4d0d-9272-928665e56495",
   "metadata": {
    "tags": []
   },
   "outputs": [
    {
     "name": "stderr",
     "output_type": "stream",
     "text": [
      "\u001b[34m\u001b[1mwandb\u001b[0m: Currently logged in as: \u001b[33manurag-credcore\u001b[0m (\u001b[33mcredcore\u001b[0m). Use \u001b[1m`wandb login --relogin`\u001b[0m to force relogin\n"
     ]
    },
    {
     "data": {
      "text/html": [
       "Tracking run with wandb version 0.17.8"
      ],
      "text/plain": [
       "<IPython.core.display.HTML object>"
      ]
     },
     "metadata": {},
     "output_type": "display_data"
    },
    {
     "data": {
      "text/html": [
       "Run data is saved locally in <code>/root/wandb/run-20240903_214212-ju257q4e</code>"
      ],
      "text/plain": [
       "<IPython.core.display.HTML object>"
      ]
     },
     "metadata": {},
     "output_type": "display_data"
    },
    {
     "data": {
      "text/html": [
       "Syncing run <strong><a href='https://wandb.ai/credcore/huggingface/runs/ju257q4e' target=\"_blank\">v15-small</a></strong> to <a href='https://wandb.ai/credcore/huggingface' target=\"_blank\">Weights & Biases</a> (<a href='https://wandb.me/run' target=\"_blank\">docs</a>)<br/>"
      ],
      "text/plain": [
       "<IPython.core.display.HTML object>"
      ]
     },
     "metadata": {},
     "output_type": "display_data"
    },
    {
     "data": {
      "text/html": [
       " View project at <a href='https://wandb.ai/credcore/huggingface' target=\"_blank\">https://wandb.ai/credcore/huggingface</a>"
      ],
      "text/plain": [
       "<IPython.core.display.HTML object>"
      ]
     },
     "metadata": {},
     "output_type": "display_data"
    },
    {
     "data": {
      "text/html": [
       " View run at <a href='https://wandb.ai/credcore/huggingface/runs/ju257q4e' target=\"_blank\">https://wandb.ai/credcore/huggingface/runs/ju257q4e</a>"
      ],
      "text/plain": [
       "<IPython.core.display.HTML object>"
      ]
     },
     "metadata": {},
     "output_type": "display_data"
    },
    {
     "data": {
      "text/html": [
       "\n",
       "    <div>\n",
       "      \n",
       "      <progress value='3203' max='21250' style='width:300px; height:20px; vertical-align: middle;'></progress>\n",
       "      [ 3203/21250 33:40 < 3:09:53, 1.58 it/s, Epoch 7.53/50]\n",
       "    </div>\n",
       "    <table border=\"1\" class=\"dataframe\">\n",
       "  <thead>\n",
       " <tr style=\"text-align: left;\">\n",
       "      <th>Epoch</th>\n",
       "      <th>Training Loss</th>\n",
       "      <th>Validation Loss</th>\n",
       "      <th>Accuracy</th>\n",
       "      <th>Precision</th>\n",
       "      <th>Recall</th>\n",
       "      <th>F1</th>\n",
       "    </tr>\n",
       "  </thead>\n",
       "  <tbody>\n",
       "    <tr>\n",
       "      <td>1</td>\n",
       "      <td>1.301800</td>\n",
       "      <td>0.920087</td>\n",
       "      <td>0.899189</td>\n",
       "      <td>0.630986</td>\n",
       "      <td>0.814861</td>\n",
       "      <td>0.675411</td>\n",
       "    </tr>\n",
       "    <tr>\n",
       "      <td>2</td>\n",
       "      <td>0.241000</td>\n",
       "      <td>0.188968</td>\n",
       "      <td>0.971850</td>\n",
       "      <td>0.906090</td>\n",
       "      <td>0.972276</td>\n",
       "      <td>0.932525</td>\n",
       "    </tr>\n",
       "    <tr>\n",
       "      <td>3</td>\n",
       "      <td>0.395700</td>\n",
       "      <td>0.057707</td>\n",
       "      <td>0.969934</td>\n",
       "      <td>0.888395</td>\n",
       "      <td>0.995696</td>\n",
       "      <td>0.932934</td>\n",
       "    </tr>\n",
       "    <tr>\n",
       "      <td>4</td>\n",
       "      <td>0.023200</td>\n",
       "      <td>0.024118</td>\n",
       "      <td>0.990273</td>\n",
       "      <td>0.957133</td>\n",
       "      <td>0.995353</td>\n",
       "      <td>0.974942</td>\n",
       "    </tr>\n",
       "    <tr>\n",
       "      <td>5</td>\n",
       "      <td>0.076600</td>\n",
       "      <td>0.016977</td>\n",
       "      <td>0.992631</td>\n",
       "      <td>0.967311</td>\n",
       "      <td>0.997074</td>\n",
       "      <td>0.981501</td>\n",
       "    </tr>\n",
       "    <tr>\n",
       "      <td>6</td>\n",
       "      <td>0.016300</td>\n",
       "      <td>0.018199</td>\n",
       "      <td>0.993220</td>\n",
       "      <td>0.966537</td>\n",
       "      <td>0.995515</td>\n",
       "      <td>0.979839</td>\n",
       "    </tr>\n",
       "    <tr>\n",
       "      <td>7</td>\n",
       "      <td>0.021100</td>\n",
       "      <td>0.008274</td>\n",
       "      <td>0.994399</td>\n",
       "      <td>0.977524</td>\n",
       "      <td>0.998562</td>\n",
       "      <td>0.987760</td>\n",
       "    </tr>\n",
       "  </tbody>\n",
       "</table><p>"
      ],
      "text/plain": [
       "<IPython.core.display.HTML object>"
      ]
     },
     "metadata": {},
     "output_type": "display_data"
    },
    {
     "name": "stderr",
     "output_type": "stream",
     "text": [
      "/opt/conda/lib/python3.10/site-packages/sklearn/metrics/_classification.py:1344: UndefinedMetricWarning: Precision is ill-defined and being set to 0.0 in labels with no predicted samples. Use `zero_division` parameter to control this behavior.\n",
      "  _warn_prf(average, modifier, msg_start, len(result))\n"
     ]
    }
   ],
   "source": [
    "trainer.train()"
   ]
  },
  {
   "cell_type": "code",
   "execution_count": null,
   "id": "0f4ca592-10ac-4df1-a926-6344f93b5239",
   "metadata": {
    "tags": []
   },
   "outputs": [],
   "source": [
    "# eval_results = trainer.evaluate()\n",
    "# print(f\"Evaluation results: {eval_results}\")"
   ]
  },
  {
   "cell_type": "code",
   "execution_count": null,
   "id": "e9e6351b-6ac4-457a-8f70-f30cfa931f4a",
   "metadata": {
    "tags": []
   },
   "outputs": [],
   "source": [
    "# Save the model and tokenizer to disk\n",
    "model.save_pretrained(MODEL_DIRECTORY)\n",
    "tokenizer.save_pretrained(MODEL_DIRECTORY)"
   ]
  },
  {
   "cell_type": "markdown",
   "id": "32cdfca5-ae47-43ad-aea0-50aa126fc3a4",
   "metadata": {},
   "source": [
    "# Load Model For Inferences"
   ]
  },
  {
   "cell_type": "code",
   "execution_count": 3,
   "id": "5113b242-1036-459c-86d1-0ad56d4df94e",
   "metadata": {
    "tags": []
   },
   "outputs": [
    {
     "name": "stdout",
     "output_type": "stream",
     "text": [
      "\u001b[33mWARNING: Running pip as the 'root' user can result in broken permissions and conflicting behaviour with the system package manager. It is recommended to use a virtual environment instead: https://pip.pypa.io/warnings/venv\u001b[0m\u001b[33m\n",
      "\u001b[0m\u001b[33mWARNING: There was an error checking the latest version of pip.\u001b[0m\u001b[33m\n",
      "\u001b[0m\u001b[33mWARNING: Running pip as the 'root' user can result in broken permissions and conflicting behaviour with the system package manager. It is recommended to use a virtual environment instead: https://pip.pypa.io/warnings/venv\u001b[0m\u001b[33m\n",
      "\u001b[0m\u001b[33mWARNING: There was an error checking the latest version of pip.\u001b[0m\u001b[33m\n",
      "\u001b[0m\u001b[33mWARNING: Running pip as the 'root' user can result in broken permissions and conflicting behaviour with the system package manager. It is recommended to use a virtual environment instead: https://pip.pypa.io/warnings/venv\u001b[0m\u001b[33m\n",
      "\u001b[0m\u001b[33mWARNING: There was an error checking the latest version of pip.\u001b[0m\u001b[33m\n",
      "\u001b[0m"
     ]
    }
   ],
   "source": [
    "!pip install -q transformers[torch] accelerate\n",
    "!pip3 install -q wandb\n",
    "!pip3 install -q openpyxl"
   ]
  },
  {
   "cell_type": "code",
   "execution_count": 1,
   "id": "ef276a9d-0301-4f38-8fc3-a6abd872c39c",
   "metadata": {
    "tags": []
   },
   "outputs": [],
   "source": [
    "MODEL_DIRECTORY = \"./trained_model/v15-small\"\n",
    "DATA_DIRECTORY = \"./data/carlyle-inference\""
   ]
  },
  {
   "cell_type": "code",
   "execution_count": 3,
   "id": "d9e93f17-03d0-4590-8139-854601ed90cd",
   "metadata": {
    "tags": []
   },
   "outputs": [],
   "source": [
    "import json \n",
    "import pandas as pd \n",
    "import os \n",
    "import pickle\n",
    "from glob import glob"
   ]
  },
  {
   "cell_type": "code",
   "execution_count": 4,
   "id": "408b6aea-9551-48d2-a757-628a0216c047",
   "metadata": {
    "tags": []
   },
   "outputs": [],
   "source": [
    "from sklearn.metrics import accuracy_score, precision_recall_fscore_support\n",
    "import numpy as np \n",
    "from sklearn.metrics import classification_report"
   ]
  },
  {
   "cell_type": "code",
   "execution_count": 5,
   "id": "40556c6a-45c9-402c-95d0-4b171e543866",
   "metadata": {
    "tags": []
   },
   "outputs": [
    {
     "name": "stderr",
     "output_type": "stream",
     "text": [
      "/opt/conda/lib/python3.10/site-packages/tqdm/auto.py:21: TqdmWarning: IProgress not found. Please update jupyter and ipywidgets. See https://ipywidgets.readthedocs.io/en/stable/user_install.html\n",
      "  from .autonotebook import tqdm as notebook_tqdm\n"
     ]
    }
   ],
   "source": [
    "from transformers import BertTokenizer, BertForSequenceClassification\n",
    "from transformers import DistilBertTokenizer, DistilBertForSequenceClassification\n",
    "from transformers import Trainer, TrainingArguments\n",
    "import torch\n",
    "from torch.utils.data import Dataset\n",
    "from sklearn.metrics import classification_report, precision_recall_curve\n",
    "from sklearn.preprocessing import LabelEncoder\n"
   ]
  },
  {
   "cell_type": "markdown",
   "id": "bd61ed2d-b248-444b-b88f-145c548aa3bc",
   "metadata": {},
   "source": [
    "## TextDatset Class"
   ]
  },
  {
   "cell_type": "code",
   "execution_count": 6,
   "id": "b3e8aeb6-26e1-4575-a9aa-25bf606c2855",
   "metadata": {
    "tags": []
   },
   "outputs": [],
   "source": [
    "class TextDataset(Dataset):\n",
    "    def __init__(self, texts, labels, tokenizer, max_length):\n",
    "        self.texts = texts\n",
    "        self.labels = labels\n",
    "        self.tokenizer = tokenizer\n",
    "        self.max_length = max_length\n",
    "\n",
    "    def __len__(self):\n",
    "        return len(self.texts)\n",
    "\n",
    "    def __getitem__(self, idx):\n",
    "        text = self.texts[idx]\n",
    "        labels = self.labels[idx]\n",
    "        encoding = self.tokenizer.encode_plus(\n",
    "            text,\n",
    "            max_length=self.max_length,\n",
    "            truncation=True,\n",
    "            padding='max_length',\n",
    "            return_tensors='pt',\n",
    "            return_attention_mask=True\n",
    "        )\n",
    "        return {\n",
    "            'input_ids': encoding['input_ids'].flatten(),\n",
    "            'attention_mask': encoding['attention_mask'].flatten(),\n",
    "            'labels': torch.tensor(labels, dtype=torch.long)\n",
    "        }"
   ]
  },
  {
   "cell_type": "markdown",
   "id": "041c8cf2-4111-45d7-b4db-c2b7b85203ba",
   "metadata": {},
   "source": [
    "## Inference "
   ]
  },
  {
   "cell_type": "code",
   "execution_count": 7,
   "id": "16729842-6cbe-494a-8d09-ab25fb29c3c9",
   "metadata": {
    "tags": []
   },
   "outputs": [
    {
     "name": "stdout",
     "output_type": "stream",
     "text": [
      "./trained_model/v15-small\n"
     ]
    }
   ],
   "source": [
    "print(MODEL_DIRECTORY)"
   ]
  },
  {
   "cell_type": "code",
   "execution_count": 8,
   "id": "64cbd56b-f7b2-4f45-9fcc-690bee000fa3",
   "metadata": {
    "tags": []
   },
   "outputs": [],
   "source": [
    "model = DistilBertForSequenceClassification.from_pretrained(MODEL_DIRECTORY)\n",
    "tokenizer = DistilBertTokenizer.from_pretrained(MODEL_DIRECTORY)"
   ]
  },
  {
   "cell_type": "code",
   "execution_count": 31,
   "id": "6a6df379-76a6-477e-99d1-3e0d556197cc",
   "metadata": {
    "tags": []
   },
   "outputs": [],
   "source": [
    "with open(os.path.join(MODEL_DIRECTORY, \"tag.le\"), 'rb') as file: \n",
    "    label_encoder = pickle.load(file)"
   ]
  },
  {
   "cell_type": "code",
   "execution_count": null,
   "id": "21177092-c592-463c-aa84-84e59a14e018",
   "metadata": {
    "tags": []
   },
   "outputs": [],
   "source": [
    "inputs = \"This is a sample text\"\n",
    "\n",
    "tokens = tokenizer(inputs, return_tensors='pt', padding=True, truncation=True)\n",
    "\n",
    "data = tokens\n",
    "with torch.no_grad():\n",
    "    outputs = model(**data)\n",
    "\n",
    "logits = outputs.logits\n",
    "predictions = torch.argmax(logits, dim=-1).tolist()\n",
    "\n",
    "predictions"
   ]
  },
  {
   "cell_type": "markdown",
   "id": "baced782-d15d-4d3a-9da7-10334433c057",
   "metadata": {
    "tags": []
   },
   "source": [
    "## Inference Trainer"
   ]
  },
  {
   "cell_type": "code",
   "execution_count": 35,
   "id": "989182fa-f23f-4d97-9da4-be19e40e38fe",
   "metadata": {
    "tags": []
   },
   "outputs": [],
   "source": [
    "inference_args = TrainingArguments(\n",
    "    output_dir='./results',  \n",
    "    per_device_eval_batch_size=32, \n",
    "    dataloader_drop_last=False,  \n",
    "    no_cuda=False if torch.cuda.is_available() else True, \n",
    "    seed=42,  \n",
    "    report_to=\"none\" # Disable wandb reporting. \n",
    ")\n",
    "trainer = Trainer(\n",
    "    model=model, \n",
    "    args = inference_args\n",
    ")"
   ]
  },
  {
   "cell_type": "code",
   "execution_count": 49,
   "id": "7856fa6b-7363-4888-ae3a-4b0ed6eb7857",
   "metadata": {
    "tags": []
   },
   "outputs": [],
   "source": [
    "import re\n",
    "def extract_section_num(x): \n",
    "    text = x.split(\"\\n\")[1].strip().upper()\n",
    "    matches = re.findall(\"^SECTION\\s+\\d+\\.\\d{1,2}\", text)\n",
    "    if matches:\n",
    "        return matches[0]\n",
    "    matches  = re.findall(\"^SECTION\\s+\\d+\\.?\\d{1,2}\", text)\n",
    "    if matches:\n",
    "        return matches[0]\n",
    "    matches  = re.findall(\"^\\d+\\.?\\d{1,2}\", text, flags=re.IGNORECASE)\n",
    "    if matches:\n",
    "        return matches[0]\n",
    "    return \"NOT FOUND\""
   ]
  },
  {
   "cell_type": "code",
   "execution_count": 199,
   "id": "02bd6b21-59b9-4352-afc7-fd44cc3615b6",
   "metadata": {
    "tags": []
   },
   "outputs": [],
   "source": [
    "def run_predict(filename): \n",
    "    df = pd.read_json(filename)\n",
    "    df = df[df.section_content.isna() == False]\n",
    "    df['section_content'] = df['title'].apply(lambda x: f\"Title is {x}\") + \"\\n\" +  df['section_content']\n",
    "    test_texts = df['section_content'].values\n",
    "    test_dataset = TextDataset(test_texts, [0] * len(test_texts), tokenizer, max_length=512)\n",
    "    predictions = trainer.predict(test_dataset)\n",
    "\n",
    "    # Extract the logits and convert to predicted labels\n",
    "    logits = predictions.predictions\n",
    "    predicted_labels = np.argmax(logits, axis=-1)\n",
    "\n",
    "    # Convert numeric labels back to original text labels for comparison\n",
    "    predicted_labels_text = label_encoder.inverse_transform(predicted_labels)\n",
    "    df['toc'] = df.section_content.apply(extract_section_num)\n",
    "\n",
    "    df['AITag'] = predicted_labels_text\n",
    "    df['AITag'] = df.AITag.str.replace(\"^NA$\", \"\", regex=True)\n",
    "    df[\"ExpertTag\"] = df['AITag']\n",
    "    df = df[['toc', 'title', 'section_content', 'AITag', 'ExpertTag']]\n",
    "    return df "
   ]
  },
  {
   "cell_type": "code",
   "execution_count": 94,
   "id": "4240febe-47d5-4e6f-9ac7-c9094966ba3b",
   "metadata": {
    "tags": []
   },
   "outputs": [],
   "source": [
    "# filename = os.path.join(DATA_DIRECTORY, \"test.json\")"
   ]
  },
  {
   "cell_type": "code",
   "execution_count": 200,
   "id": "12e5a40d-e0b5-426b-ae1f-685b1a4ca5bc",
   "metadata": {
    "tags": []
   },
   "outputs": [],
   "source": [
    "filenames = glob(os.path.join(DATA_DIRECTORY, \"*/*.section.json\"))\n",
    "filename = filenames[0]\n",
    "cat_filenames = glob(os.path.join(DATA_DIRECTORY, \"*/categorized.xlsx\"))"
   ]
  },
  {
   "cell_type": "code",
   "execution_count": 201,
   "id": "b80aa01f-1c27-4fe2-9a6b-5cfcffa0ecc9",
   "metadata": {
    "tags": []
   },
   "outputs": [],
   "source": [
    "from pathlib import Path\n",
    "import os \n",
    "import shutil"
   ]
  },
  {
   "cell_type": "code",
   "execution_count": 202,
   "id": "99015f96-d149-41cd-be9d-14dd08ff5222",
   "metadata": {
    "tags": []
   },
   "outputs": [],
   "source": [
    "def extract_num(x): \n",
    "    try: \n",
    "        return \"\".join(re.findall(\"\\d\", x))\n",
    "    except Exception as e: \n",
    "        print(x)\n",
    "        raise e"
   ]
  },
  {
   "cell_type": "code",
   "execution_count": 204,
   "id": "3694e391-96d0-4f76-a1fd-6c0d86269a5b",
   "metadata": {
    "tags": []
   },
   "outputs": [
    {
     "data": {
      "text/html": [
       "<div>\n",
       "<style scoped>\n",
       "    .dataframe tbody tr th:only-of-type {\n",
       "        vertical-align: middle;\n",
       "    }\n",
       "\n",
       "    .dataframe tbody tr th {\n",
       "        vertical-align: top;\n",
       "    }\n",
       "\n",
       "    .dataframe thead th {\n",
       "        text-align: right;\n",
       "    }\n",
       "</style>\n",
       "<table border=\"1\" class=\"dataframe\">\n",
       "  <thead>\n",
       "    <tr style=\"text-align: right;\">\n",
       "      <th></th>\n",
       "      <th>toc_number</th>\n",
       "      <th>title</th>\n",
       "      <th>article</th>\n",
       "      <th>toc</th>\n",
       "      <th>AICategory</th>\n",
       "      <th>ExpertCategory</th>\n",
       "      <th>key</th>\n",
       "      <th>AITag</th>\n",
       "      <th>ExpertTag</th>\n",
       "    </tr>\n",
       "  </thead>\n",
       "  <tbody>\n",
       "    <tr>\n",
       "      <th>0</th>\n",
       "      <td>NaN</td>\n",
       "      <td>I DEFINITIONS AND ACCOUNTING TERMS</td>\n",
       "      <td>I DEFINITIONS AND ACCOUNTING TERMS</td>\n",
       "      <td>ARTICLE I DEFINITIONS AND ACCOUNTING TERMS</td>\n",
       "      <td>FYI</td>\n",
       "      <td>FYI</td>\n",
       "      <td>_i definitions and accounting terms</td>\n",
       "      <td>NaN</td>\n",
       "      <td>NaN</td>\n",
       "    </tr>\n",
       "    <tr>\n",
       "      <th>1</th>\n",
       "      <td>1.01</td>\n",
       "      <td>Defined Terms</td>\n",
       "      <td>I DEFINITIONS AND ACCOUNTING TERMS</td>\n",
       "      <td>Section 1.01 Defined Terms</td>\n",
       "      <td>Definitions</td>\n",
       "      <td>Definitions</td>\n",
       "      <td>101_defined terms</td>\n",
       "      <td>NaN</td>\n",
       "      <td>NaN</td>\n",
       "    </tr>\n",
       "    <tr>\n",
       "      <th>2</th>\n",
       "      <td>1.02</td>\n",
       "      <td>Other Interpretive Provisions</td>\n",
       "      <td>I DEFINITIONS AND ACCOUNTING TERMS</td>\n",
       "      <td>Section 1.02 Other Interpretive Provisions</td>\n",
       "      <td>FYI</td>\n",
       "      <td>FYI</td>\n",
       "      <td>102_other interpretive provisions</td>\n",
       "      <td></td>\n",
       "      <td></td>\n",
       "    </tr>\n",
       "    <tr>\n",
       "      <th>3</th>\n",
       "      <td>1.03</td>\n",
       "      <td>Accounting Terms Generally</td>\n",
       "      <td>I DEFINITIONS AND ACCOUNTING TERMS</td>\n",
       "      <td>Section 1.03 Accounting Terms Generally</td>\n",
       "      <td>FYI</td>\n",
       "      <td>FYI</td>\n",
       "      <td>103_accounting terms generally</td>\n",
       "      <td></td>\n",
       "      <td></td>\n",
       "    </tr>\n",
       "    <tr>\n",
       "      <th>4</th>\n",
       "      <td>1.04</td>\n",
       "      <td>Uniform Commercial Code</td>\n",
       "      <td>I DEFINITIONS AND ACCOUNTING TERMS</td>\n",
       "      <td>Section 1.04 Uniform Commercial Code</td>\n",
       "      <td>FYI</td>\n",
       "      <td>FYI</td>\n",
       "      <td>104_uniform commercial code</td>\n",
       "      <td></td>\n",
       "      <td></td>\n",
       "    </tr>\n",
       "    <tr>\n",
       "      <th>...</th>\n",
       "      <td>...</td>\n",
       "      <td>...</td>\n",
       "      <td>...</td>\n",
       "      <td>...</td>\n",
       "      <td>...</td>\n",
       "      <td>...</td>\n",
       "      <td>...</td>\n",
       "      <td>...</td>\n",
       "      <td>...</td>\n",
       "    </tr>\n",
       "    <tr>\n",
       "      <th>148</th>\n",
       "      <td>11.06</td>\n",
       "      <td>Termination; Reinstatement</td>\n",
       "      <td>XI CONTINUING GUARANTY</td>\n",
       "      <td>Section 11.06 Termination; Reinstatement</td>\n",
       "      <td>Event Driven</td>\n",
       "      <td>Event Driven</td>\n",
       "      <td>1106_termination; reinstatement</td>\n",
       "      <td></td>\n",
       "      <td></td>\n",
       "    </tr>\n",
       "    <tr>\n",
       "      <th>149</th>\n",
       "      <td>11.07</td>\n",
       "      <td>Subordination</td>\n",
       "      <td>XI CONTINUING GUARANTY</td>\n",
       "      <td>Section 11.07 Subordination</td>\n",
       "      <td>Event Driven</td>\n",
       "      <td>Event Driven</td>\n",
       "      <td>1107_subordination</td>\n",
       "      <td></td>\n",
       "      <td></td>\n",
       "    </tr>\n",
       "    <tr>\n",
       "      <th>150</th>\n",
       "      <td>11.08</td>\n",
       "      <td>Stay of Acceleration</td>\n",
       "      <td>XI CONTINUING GUARANTY</td>\n",
       "      <td>Section 11.08 Stay of Acceleration</td>\n",
       "      <td>Event Driven</td>\n",
       "      <td>Event Driven</td>\n",
       "      <td>1108_stay of acceleration</td>\n",
       "      <td></td>\n",
       "      <td></td>\n",
       "    </tr>\n",
       "    <tr>\n",
       "      <th>151</th>\n",
       "      <td>11.09</td>\n",
       "      <td>Condition of Borrower</td>\n",
       "      <td>XI CONTINUING GUARANTY</td>\n",
       "      <td>Section 11.09 Condition of Borrower</td>\n",
       "      <td>Event Driven</td>\n",
       "      <td>Event Driven</td>\n",
       "      <td>1109_condition of borrower</td>\n",
       "      <td></td>\n",
       "      <td></td>\n",
       "    </tr>\n",
       "    <tr>\n",
       "      <th>152</th>\n",
       "      <td>11.10</td>\n",
       "      <td>Limitation of Liability</td>\n",
       "      <td>XI CONTINUING GUARANTY</td>\n",
       "      <td>Section 11.10 Limitation of Liability</td>\n",
       "      <td>Event Driven</td>\n",
       "      <td>Event Driven</td>\n",
       "      <td>111_limitation of liability</td>\n",
       "      <td>NaN</td>\n",
       "      <td>NaN</td>\n",
       "    </tr>\n",
       "  </tbody>\n",
       "</table>\n",
       "<p>153 rows × 9 columns</p>\n",
       "</div>"
      ],
      "text/plain": [
       "     toc_number                               title   \n",
       "0           NaN  I DEFINITIONS AND ACCOUNTING TERMS  \\\n",
       "1          1.01                       Defined Terms   \n",
       "2          1.02       Other Interpretive Provisions   \n",
       "3          1.03          Accounting Terms Generally   \n",
       "4          1.04             Uniform Commercial Code   \n",
       "..          ...                                 ...   \n",
       "148       11.06          Termination; Reinstatement   \n",
       "149       11.07                       Subordination   \n",
       "150       11.08                Stay of Acceleration   \n",
       "151       11.09               Condition of Borrower   \n",
       "152       11.10             Limitation of Liability   \n",
       "\n",
       "                                article   \n",
       "0    I DEFINITIONS AND ACCOUNTING TERMS  \\\n",
       "1    I DEFINITIONS AND ACCOUNTING TERMS   \n",
       "2    I DEFINITIONS AND ACCOUNTING TERMS   \n",
       "3    I DEFINITIONS AND ACCOUNTING TERMS   \n",
       "4    I DEFINITIONS AND ACCOUNTING TERMS   \n",
       "..                                  ...   \n",
       "148              XI CONTINUING GUARANTY   \n",
       "149              XI CONTINUING GUARANTY   \n",
       "150              XI CONTINUING GUARANTY   \n",
       "151              XI CONTINUING GUARANTY   \n",
       "152              XI CONTINUING GUARANTY   \n",
       "\n",
       "                                            toc    AICategory ExpertCategory   \n",
       "0    ARTICLE I DEFINITIONS AND ACCOUNTING TERMS           FYI            FYI  \\\n",
       "1                    Section 1.01 Defined Terms   Definitions    Definitions   \n",
       "2    Section 1.02 Other Interpretive Provisions           FYI            FYI   \n",
       "3       Section 1.03 Accounting Terms Generally           FYI            FYI   \n",
       "4          Section 1.04 Uniform Commercial Code           FYI            FYI   \n",
       "..                                          ...           ...            ...   \n",
       "148    Section 11.06 Termination; Reinstatement  Event Driven   Event Driven   \n",
       "149                 Section 11.07 Subordination  Event Driven   Event Driven   \n",
       "150          Section 11.08 Stay of Acceleration  Event Driven   Event Driven   \n",
       "151         Section 11.09 Condition of Borrower  Event Driven   Event Driven   \n",
       "152       Section 11.10 Limitation of Liability  Event Driven   Event Driven   \n",
       "\n",
       "                                     key AITag ExpertTag  \n",
       "0    _i definitions and accounting terms   NaN       NaN  \n",
       "1                      101_defined terms   NaN       NaN  \n",
       "2      102_other interpretive provisions                  \n",
       "3         103_accounting terms generally                  \n",
       "4            104_uniform commercial code                  \n",
       "..                                   ...   ...       ...  \n",
       "148      1106_termination; reinstatement                  \n",
       "149                   1107_subordination                  \n",
       "150            1108_stay of acceleration                  \n",
       "151           1109_condition of borrower                  \n",
       "152          111_limitation of liability   NaN       NaN  \n",
       "\n",
       "[153 rows x 9 columns]"
      ]
     },
     "execution_count": 204,
     "metadata": {},
     "output_type": "execute_result"
    }
   ],
   "source": []
  },
  {
   "cell_type": "code",
   "execution_count": 208,
   "id": "30e8dac0-8a5a-430b-9565-01149b7fd76b",
   "metadata": {
    "tags": []
   },
   "outputs": [
    {
     "data": {
      "text/plain": [
       "PosixPath('data/carlyle-inference')"
      ]
     },
     "execution_count": 208,
     "metadata": {},
     "output_type": "execute_result"
    }
   ],
   "source": []
  },
  {
   "cell_type": "code",
   "execution_count": 209,
   "id": "9894cf2c-82b3-42e0-8696-a1b47c60b56d",
   "metadata": {
    "tags": []
   },
   "outputs": [
    {
     "data": {
      "text/html": [],
      "text/plain": [
       "<IPython.core.display.HTML object>"
      ]
     },
     "metadata": {},
     "output_type": "display_data"
    },
    {
     "name": "stdout",
     "output_type": "stream",
     "text": [
      "./data/carlyle-inference/Coupa CA\n",
      "./data/carlyle-inference/Coupa CA/Coupa CA.tags.xlsx\n",
      "(188, 8) (0, 8)\n"
     ]
    },
    {
     "data": {
      "text/html": [],
      "text/plain": [
       "<IPython.core.display.HTML object>"
      ]
     },
     "metadata": {},
     "output_type": "display_data"
    },
    {
     "name": "stdout",
     "output_type": "stream",
     "text": [
      "./data/carlyle-inference/PDI CA\n",
      "./data/carlyle-inference/PDI CA/PDI CA.tags.xlsx\n",
      "(156, 8) (0, 8)\n"
     ]
    },
    {
     "data": {
      "text/html": [],
      "text/plain": [
       "<IPython.core.display.HTML object>"
      ]
     },
     "metadata": {},
     "output_type": "display_data"
    },
    {
     "name": "stdout",
     "output_type": "stream",
     "text": [
      "./data/carlyle-inference/FPG CA\n",
      "./data/carlyle-inference/FPG CA/FPG CA.tags.xlsx\n",
      "(151, 8) (0, 8)\n"
     ]
    },
    {
     "data": {
      "text/html": [],
      "text/plain": [
       "<IPython.core.display.HTML object>"
      ]
     },
     "metadata": {},
     "output_type": "display_data"
    },
    {
     "name": "stdout",
     "output_type": "stream",
     "text": [
      "./data/carlyle-inference/Transtar CA\n",
      "./data/carlyle-inference/Transtar CA/Transtar CA.tags.xlsx\n",
      "(224, 8) (0, 8)\n"
     ]
    },
    {
     "data": {
      "text/html": [],
      "text/plain": [
       "<IPython.core.display.HTML object>"
      ]
     },
     "metadata": {},
     "output_type": "display_data"
    },
    {
     "name": "stdout",
     "output_type": "stream",
     "text": [
      "./data/carlyle-inference/NEFCO CA\n",
      "./data/carlyle-inference/NEFCO CA/NEFCO CA.tags.xlsx\n",
      "(153, 8) (0, 8)\n"
     ]
    }
   ],
   "source": [
    "for filename, cat_filename in zip(filenames, cat_filenames): \n",
    "    test_df = run_predict(filename)\n",
    "    cat_df = pd.read_excel(cat_filename)\n",
    "    cat_df = cat_df.drop(columns=[\"AITag\", \"ExpertTag\"])\n",
    "    \n",
    "    output_dir = os.path.join(DATA_DIRECTORY, Path(filename).stem.split(\".\")[0])\n",
    "    output_file = os.path.join(output_dir, Path(filename).stem.split(\".\")[0]+\".tags.xlsx\")\n",
    "    root_output_file = os.path.join(Path(output_file).parent.parent, Path(filename).stem.split(\".\")[0]+\".tags.xlsx\")\n",
    "    \n",
    "    # Create keys for joining\n",
    "    test_df['key'] = test_df.toc.apply(extract_num) + \"_\" + test_df.title.str.lower()\n",
    "    cat_df['key'] = cat_df.toc_number.map(str).apply(extract_num) + \"_\" + cat_df.title.str.lower()\n",
    "    \n",
    "    result_df = cat_df.merge(test_df[['AITag', 'ExpertTag', 'key']], on='key', how='left').fillna(\"   \")\n",
    "    result_df = result_df.drop(columns = \"key\")\n",
    "    print(output_dir)\n",
    "    print(output_file)\n",
    "    print(result_df.shape, result_df[result_df.AITag.isna()].shape)\n",
    "    result_df.to_excel(output_file, index=False)\n",
    "    result_df.to_excel(root_output_file, index=False)\n",
    "    "
   ]
  },
  {
   "cell_type": "code",
   "execution_count": 194,
   "id": "e5a43687-8761-432f-8831-77b718f46ca4",
   "metadata": {
    "tags": []
   },
   "outputs": [
    {
     "data": {
      "text/plain": [
       "'./data/carlyle-inference/Coupa CA/Coupa CA.tags.xlsx'"
      ]
     },
     "execution_count": 194,
     "metadata": {},
     "output_type": "execute_result"
    }
   ],
   "source": [
    "output_file"
   ]
  },
  {
   "cell_type": "code",
   "execution_count": 179,
   "id": "d944aa89-8a5d-4634-8419-689ef6e0a513",
   "metadata": {
    "tags": []
   },
   "outputs": [],
   "source": []
  },
  {
   "cell_type": "code",
   "execution_count": 180,
   "id": "da73057e-83c0-49bb-ae0e-f85b1b9475da",
   "metadata": {
    "tags": []
   },
   "outputs": [],
   "source": []
  },
  {
   "cell_type": "code",
   "execution_count": 181,
   "id": "ac338ce6-664f-4aeb-8fe8-bcc0cebf3025",
   "metadata": {
    "tags": []
   },
   "outputs": [],
   "source": []
  },
  {
   "cell_type": "code",
   "execution_count": 183,
   "id": "26cbe123-a402-418b-9801-002cd8c02575",
   "metadata": {
    "tags": []
   },
   "outputs": [],
   "source": []
  },
  {
   "cell_type": "code",
   "execution_count": 191,
   "id": "ca165bb3-e47e-4fc7-8aee-978172b5e69c",
   "metadata": {
    "tags": []
   },
   "outputs": [
    {
     "data": {
      "text/html": [
       "<div>\n",
       "<style scoped>\n",
       "    .dataframe tbody tr th:only-of-type {\n",
       "        vertical-align: middle;\n",
       "    }\n",
       "\n",
       "    .dataframe tbody tr th {\n",
       "        vertical-align: top;\n",
       "    }\n",
       "\n",
       "    .dataframe thead th {\n",
       "        text-align: right;\n",
       "    }\n",
       "</style>\n",
       "<table border=\"1\" class=\"dataframe\">\n",
       "  <thead>\n",
       "    <tr style=\"text-align: right;\">\n",
       "      <th></th>\n",
       "      <th>toc</th>\n",
       "      <th>title</th>\n",
       "      <th>section_content</th>\n",
       "      <th>AITag</th>\n",
       "      <th>ExpertTag</th>\n",
       "      <th>key</th>\n",
       "    </tr>\n",
       "  </thead>\n",
       "  <tbody>\n",
       "    <tr>\n",
       "      <th>14</th>\n",
       "      <td>2.2</td>\n",
       "      <td>Minimum Amount of Each Borrowing; Maximum Numb...</td>\n",
       "      <td>Title is Minimum Amount of Each Borrowing; Max...</td>\n",
       "      <td></td>\n",
       "      <td></td>\n",
       "      <td>22_minimum amount of each borrowing; maximum n...</td>\n",
       "    </tr>\n",
       "  </tbody>\n",
       "</table>\n",
       "</div>"
      ],
      "text/plain": [
       "    toc                                              title   \n",
       "14  2.2  Minimum Amount of Each Borrowing; Maximum Numb...  \\\n",
       "\n",
       "                                      section_content AITag ExpertTag   \n",
       "14  Title is Minimum Amount of Each Borrowing; Max...                  \\\n",
       "\n",
       "                                                  key  \n",
       "14  22_minimum amount of each borrowing; maximum n...  "
      ]
     },
     "execution_count": 191,
     "metadata": {},
     "output_type": "execute_result"
    }
   ],
   "source": []
  },
  {
   "cell_type": "code",
   "execution_count": 193,
   "id": "a22baaeb-0894-4b82-b9ec-5fb9e4b7953b",
   "metadata": {
    "tags": []
   },
   "outputs": [
    {
     "data": {
      "text/plain": [
       "(188, 9)"
      ]
     },
     "execution_count": 193,
     "metadata": {},
     "output_type": "execute_result"
    }
   ],
   "source": []
  },
  {
   "cell_type": "code",
   "execution_count": 192,
   "id": "8500e8ab-1a8f-4948-91f4-11dfe8b03035",
   "metadata": {
    "tags": []
   },
   "outputs": [
    {
     "data": {
      "text/plain": [
       "(26, 9)"
      ]
     },
     "execution_count": 192,
     "metadata": {},
     "output_type": "execute_result"
    }
   ],
   "source": []
  },
  {
   "cell_type": "code",
   "execution_count": 166,
   "id": "f8da75d6-dd0e-4afc-a828-27fce2cfdfdd",
   "metadata": {
    "tags": []
   },
   "outputs": [
    {
     "data": {
      "text/html": [
       "<div>\n",
       "<style scoped>\n",
       "    .dataframe tbody tr th:only-of-type {\n",
       "        vertical-align: middle;\n",
       "    }\n",
       "\n",
       "    .dataframe tbody tr th {\n",
       "        vertical-align: top;\n",
       "    }\n",
       "\n",
       "    .dataframe thead th {\n",
       "        text-align: right;\n",
       "    }\n",
       "</style>\n",
       "<table border=\"1\" class=\"dataframe\">\n",
       "  <thead>\n",
       "    <tr style=\"text-align: right;\">\n",
       "      <th></th>\n",
       "      <th>toc_number</th>\n",
       "      <th>title</th>\n",
       "      <th>article</th>\n",
       "      <th>toc</th>\n",
       "      <th>AICategory</th>\n",
       "      <th>ExpertCategory</th>\n",
       "      <th>AITag</th>\n",
       "      <th>ExpertTag</th>\n",
       "      <th>key</th>\n",
       "    </tr>\n",
       "  </thead>\n",
       "  <tbody>\n",
       "    <tr>\n",
       "      <th>0</th>\n",
       "      <td>1.0</td>\n",
       "      <td>Definitions</td>\n",
       "      <td>Definitions</td>\n",
       "      <td>Section 1. Definitions</td>\n",
       "      <td>FYI</td>\n",
       "      <td>FYI</td>\n",
       "      <td>NaN</td>\n",
       "      <td>NaN</td>\n",
       "      <td>10_ definitions</td>\n",
       "    </tr>\n",
       "    <tr>\n",
       "      <th>1</th>\n",
       "      <td>1.1</td>\n",
       "      <td>Defined Terms</td>\n",
       "      <td>Definitions</td>\n",
       "      <td>1.1 Defined Terms</td>\n",
       "      <td>Definitions</td>\n",
       "      <td>Definitions</td>\n",
       "      <td>NaN</td>\n",
       "      <td>NaN</td>\n",
       "      <td>11_defined terms</td>\n",
       "    </tr>\n",
       "    <tr>\n",
       "      <th>2</th>\n",
       "      <td>1.2</td>\n",
       "      <td>Other Interpretive Provisions</td>\n",
       "      <td>Definitions</td>\n",
       "      <td>1.2 Other Interpretive Provisions</td>\n",
       "      <td>FYI</td>\n",
       "      <td>FYI</td>\n",
       "      <td>NaN</td>\n",
       "      <td>NaN</td>\n",
       "      <td>12_other interpretive provisions</td>\n",
       "    </tr>\n",
       "    <tr>\n",
       "      <th>3</th>\n",
       "      <td>1.3</td>\n",
       "      <td>Accounting Terms</td>\n",
       "      <td>Definitions</td>\n",
       "      <td>1.3 Accounting Terms</td>\n",
       "      <td>FYI</td>\n",
       "      <td>FYI</td>\n",
       "      <td>NaN</td>\n",
       "      <td>NaN</td>\n",
       "      <td>13_accounting terms</td>\n",
       "    </tr>\n",
       "    <tr>\n",
       "      <th>4</th>\n",
       "      <td>1.4</td>\n",
       "      <td>Rounding</td>\n",
       "      <td>Definitions</td>\n",
       "      <td>1.4 Rounding</td>\n",
       "      <td>FYI</td>\n",
       "      <td>FYI</td>\n",
       "      <td>NaN</td>\n",
       "      <td>NaN</td>\n",
       "      <td>14_rounding</td>\n",
       "    </tr>\n",
       "  </tbody>\n",
       "</table>\n",
       "</div>"
      ],
      "text/plain": [
       "   toc_number                          title       article   \n",
       "0         1.0                    Definitions   Definitions  \\\n",
       "1         1.1                  Defined Terms   Definitions   \n",
       "2         1.2  Other Interpretive Provisions   Definitions   \n",
       "3         1.3               Accounting Terms   Definitions   \n",
       "4         1.4                       Rounding   Definitions   \n",
       "\n",
       "                                 toc   AICategory ExpertCategory  AITag   \n",
       "0             Section 1. Definitions          FYI            FYI    NaN  \\\n",
       "1                  1.1 Defined Terms  Definitions    Definitions    NaN   \n",
       "2  1.2 Other Interpretive Provisions          FYI            FYI    NaN   \n",
       "3               1.3 Accounting Terms          FYI            FYI    NaN   \n",
       "4                       1.4 Rounding          FYI            FYI    NaN   \n",
       "\n",
       "   ExpertTag                               key  \n",
       "0        NaN                   10_ definitions  \n",
       "1        NaN                  11_defined terms  \n",
       "2        NaN  12_other interpretive provisions  \n",
       "3        NaN               13_accounting terms  \n",
       "4        NaN                       14_rounding  "
      ]
     },
     "execution_count": 166,
     "metadata": {},
     "output_type": "execute_result"
    }
   ],
   "source": [
    "cat_df.head()"
   ]
  },
  {
   "cell_type": "code",
   "execution_count": 167,
   "id": "569a18b6-c0b5-4cb1-b255-2af640adc570",
   "metadata": {
    "tags": []
   },
   "outputs": [
    {
     "data": {
      "text/html": [
       "<div>\n",
       "<style scoped>\n",
       "    .dataframe tbody tr th:only-of-type {\n",
       "        vertical-align: middle;\n",
       "    }\n",
       "\n",
       "    .dataframe tbody tr th {\n",
       "        vertical-align: top;\n",
       "    }\n",
       "\n",
       "    .dataframe thead th {\n",
       "        text-align: right;\n",
       "    }\n",
       "</style>\n",
       "<table border=\"1\" class=\"dataframe\">\n",
       "  <thead>\n",
       "    <tr style=\"text-align: right;\">\n",
       "      <th></th>\n",
       "      <th>toc</th>\n",
       "      <th>title</th>\n",
       "      <th>section_content</th>\n",
       "      <th>AITag</th>\n",
       "      <th>ExpertTag</th>\n",
       "      <th>key</th>\n",
       "    </tr>\n",
       "  </thead>\n",
       "  <tbody>\n",
       "    <tr>\n",
       "      <th>0</th>\n",
       "      <td>1.2</td>\n",
       "      <td>Other Interpretive Provisions</td>\n",
       "      <td>Title is Other Interpretive Provisions\\n1.2 Ot...</td>\n",
       "      <td></td>\n",
       "      <td></td>\n",
       "      <td>12_other interpretive provisions</td>\n",
       "    </tr>\n",
       "    <tr>\n",
       "      <th>1</th>\n",
       "      <td>1.3</td>\n",
       "      <td>Accounting Terms</td>\n",
       "      <td>Title is Accounting Terms\\n1.3 Accounting Term...</td>\n",
       "      <td></td>\n",
       "      <td></td>\n",
       "      <td>13_accounting terms</td>\n",
       "    </tr>\n",
       "    <tr>\n",
       "      <th>2</th>\n",
       "      <td>1.4</td>\n",
       "      <td>Rounding</td>\n",
       "      <td>Title is Rounding\\n1.4 Rounding.  Any financia...</td>\n",
       "      <td></td>\n",
       "      <td></td>\n",
       "      <td>14_rounding</td>\n",
       "    </tr>\n",
       "    <tr>\n",
       "      <th>3</th>\n",
       "      <td>1.5</td>\n",
       "      <td>References to Agreements, Laws, Etc</td>\n",
       "      <td>Title is References to Agreements, Laws, Etc\\n...</td>\n",
       "      <td></td>\n",
       "      <td></td>\n",
       "      <td>15_references to agreements, laws, etc</td>\n",
       "    </tr>\n",
       "    <tr>\n",
       "      <th>4</th>\n",
       "      <td>1.6</td>\n",
       "      <td>Exchange Rates</td>\n",
       "      <td>Title is Exchange Rates\\n1.6 Exchange Rates.  ...</td>\n",
       "      <td></td>\n",
       "      <td></td>\n",
       "      <td>16_exchange rates</td>\n",
       "    </tr>\n",
       "  </tbody>\n",
       "</table>\n",
       "</div>"
      ],
      "text/plain": [
       "   toc                                title   \n",
       "0  1.2        Other Interpretive Provisions  \\\n",
       "1  1.3                     Accounting Terms   \n",
       "2  1.4                             Rounding   \n",
       "3  1.5  References to Agreements, Laws, Etc   \n",
       "4  1.6                       Exchange Rates   \n",
       "\n",
       "                                     section_content AITag ExpertTag   \n",
       "0  Title is Other Interpretive Provisions\\n1.2 Ot...                  \\\n",
       "1  Title is Accounting Terms\\n1.3 Accounting Term...                   \n",
       "2  Title is Rounding\\n1.4 Rounding.  Any financia...                   \n",
       "3  Title is References to Agreements, Laws, Etc\\n...                   \n",
       "4  Title is Exchange Rates\\n1.6 Exchange Rates.  ...                   \n",
       "\n",
       "                                      key  \n",
       "0        12_other interpretive provisions  \n",
       "1                     13_accounting terms  \n",
       "2                             14_rounding  \n",
       "3  15_references to agreements, laws, etc  \n",
       "4                       16_exchange rates  "
      ]
     },
     "execution_count": 167,
     "metadata": {},
     "output_type": "execute_result"
    }
   ],
   "source": [
    "test_df.head()"
   ]
  },
  {
   "cell_type": "code",
   "execution_count": null,
   "id": "93fe4caf-6fd1-41a5-9910-1a2f4963d961",
   "metadata": {},
   "outputs": [],
   "source": []
  },
  {
   "cell_type": "code",
   "execution_count": 119,
   "id": "0f345123-4d3f-41fb-b905-305ef2d25abf",
   "metadata": {
    "tags": []
   },
   "outputs": [
    {
     "data": {
      "text/html": [
       "<div>\n",
       "<style scoped>\n",
       "    .dataframe tbody tr th:only-of-type {\n",
       "        vertical-align: middle;\n",
       "    }\n",
       "\n",
       "    .dataframe tbody tr th {\n",
       "        vertical-align: top;\n",
       "    }\n",
       "\n",
       "    .dataframe thead th {\n",
       "        text-align: right;\n",
       "    }\n",
       "</style>\n",
       "<table border=\"1\" class=\"dataframe\">\n",
       "  <thead>\n",
       "    <tr style=\"text-align: right;\">\n",
       "      <th></th>\n",
       "      <th>toc_number</th>\n",
       "      <th>title</th>\n",
       "      <th>article</th>\n",
       "      <th>toc</th>\n",
       "      <th>AICategory</th>\n",
       "      <th>ExpertCategory</th>\n",
       "      <th>AITag</th>\n",
       "      <th>ExpertTag</th>\n",
       "    </tr>\n",
       "  </thead>\n",
       "  <tbody>\n",
       "    <tr>\n",
       "      <th>0</th>\n",
       "      <td>1.00</td>\n",
       "      <td>Definitions</td>\n",
       "      <td>Definitions</td>\n",
       "      <td>Section 1. Definitions</td>\n",
       "      <td>FYI</td>\n",
       "      <td>FYI</td>\n",
       "      <td>NaN</td>\n",
       "      <td>NaN</td>\n",
       "    </tr>\n",
       "    <tr>\n",
       "      <th>1</th>\n",
       "      <td>1.10</td>\n",
       "      <td>Defined Terms</td>\n",
       "      <td>Definitions</td>\n",
       "      <td>1.1 Defined Terms</td>\n",
       "      <td>Definitions</td>\n",
       "      <td>Definitions</td>\n",
       "      <td>NaN</td>\n",
       "      <td>NaN</td>\n",
       "    </tr>\n",
       "    <tr>\n",
       "      <th>2</th>\n",
       "      <td>1.20</td>\n",
       "      <td>Other Interpretive Provisions</td>\n",
       "      <td>Definitions</td>\n",
       "      <td>1.2 Other Interpretive Provisions</td>\n",
       "      <td>FYI</td>\n",
       "      <td>FYI</td>\n",
       "      <td>NaN</td>\n",
       "      <td>NaN</td>\n",
       "    </tr>\n",
       "    <tr>\n",
       "      <th>3</th>\n",
       "      <td>1.30</td>\n",
       "      <td>Accounting Terms</td>\n",
       "      <td>Definitions</td>\n",
       "      <td>1.3 Accounting Terms</td>\n",
       "      <td>FYI</td>\n",
       "      <td>FYI</td>\n",
       "      <td>NaN</td>\n",
       "      <td>NaN</td>\n",
       "    </tr>\n",
       "    <tr>\n",
       "      <th>4</th>\n",
       "      <td>1.40</td>\n",
       "      <td>Rounding</td>\n",
       "      <td>Definitions</td>\n",
       "      <td>1.4 Rounding</td>\n",
       "      <td>FYI</td>\n",
       "      <td>FYI</td>\n",
       "      <td>NaN</td>\n",
       "      <td>NaN</td>\n",
       "    </tr>\n",
       "    <tr>\n",
       "      <th>...</th>\n",
       "      <td>...</td>\n",
       "      <td>...</td>\n",
       "      <td>...</td>\n",
       "      <td>...</td>\n",
       "      <td>...</td>\n",
       "      <td>...</td>\n",
       "      <td>...</td>\n",
       "      <td>...</td>\n",
       "    </tr>\n",
       "    <tr>\n",
       "      <th>183</th>\n",
       "      <td>14.20</td>\n",
       "      <td>Payments Set Aside</td>\n",
       "      <td>Miscellaneous</td>\n",
       "      <td>14.20 Payments Set Aside</td>\n",
       "      <td>FYI</td>\n",
       "      <td>FYI</td>\n",
       "      <td>NaN</td>\n",
       "      <td>NaN</td>\n",
       "    </tr>\n",
       "    <tr>\n",
       "      <th>184</th>\n",
       "      <td>14.21</td>\n",
       "      <td>No Fiduciary Duty</td>\n",
       "      <td>Miscellaneous</td>\n",
       "      <td>14.21 No Fiduciary Duty</td>\n",
       "      <td>FYI</td>\n",
       "      <td>FYI</td>\n",
       "      <td>NaN</td>\n",
       "      <td>NaN</td>\n",
       "    </tr>\n",
       "    <tr>\n",
       "      <th>185</th>\n",
       "      <td>14.22</td>\n",
       "      <td>Nature of Borrower Obligations</td>\n",
       "      <td>Miscellaneous</td>\n",
       "      <td>14.22 Nature of Borrower Obligations</td>\n",
       "      <td>FYI</td>\n",
       "      <td>FYI</td>\n",
       "      <td>NaN</td>\n",
       "      <td>NaN</td>\n",
       "    </tr>\n",
       "    <tr>\n",
       "      <th>186</th>\n",
       "      <td>14.23</td>\n",
       "      <td>Acknowledgment and Consent to Bail-In of EEA F...</td>\n",
       "      <td>Miscellaneous</td>\n",
       "      <td>14.23 Acknowledgment and Consent to Bail-In of...</td>\n",
       "      <td>FYI</td>\n",
       "      <td>FYI</td>\n",
       "      <td>NaN</td>\n",
       "      <td>NaN</td>\n",
       "    </tr>\n",
       "    <tr>\n",
       "      <th>187</th>\n",
       "      <td>14.24</td>\n",
       "      <td>Acknowledgement Regarding Any Supported QFCs</td>\n",
       "      <td>Miscellaneous</td>\n",
       "      <td>14.24 Acknowledgement Regarding Any Supported ...</td>\n",
       "      <td>FYI</td>\n",
       "      <td>FYI</td>\n",
       "      <td>NaN</td>\n",
       "      <td>NaN</td>\n",
       "    </tr>\n",
       "  </tbody>\n",
       "</table>\n",
       "<p>188 rows × 8 columns</p>\n",
       "</div>"
      ],
      "text/plain": [
       "     toc_number                                              title   \n",
       "0          1.00                                        Definitions  \\\n",
       "1          1.10                                      Defined Terms   \n",
       "2          1.20                      Other Interpretive Provisions   \n",
       "3          1.30                                   Accounting Terms   \n",
       "4          1.40                                           Rounding   \n",
       "..          ...                                                ...   \n",
       "183       14.20                                 Payments Set Aside   \n",
       "184       14.21                                  No Fiduciary Duty   \n",
       "185       14.22                     Nature of Borrower Obligations   \n",
       "186       14.23  Acknowledgment and Consent to Bail-In of EEA F...   \n",
       "187       14.24       Acknowledgement Regarding Any Supported QFCs   \n",
       "\n",
       "            article                                                toc   \n",
       "0       Definitions                             Section 1. Definitions  \\\n",
       "1       Definitions                                  1.1 Defined Terms   \n",
       "2       Definitions                  1.2 Other Interpretive Provisions   \n",
       "3       Definitions                               1.3 Accounting Terms   \n",
       "4       Definitions                                       1.4 Rounding   \n",
       "..              ...                                                ...   \n",
       "183   Miscellaneous                           14.20 Payments Set Aside   \n",
       "184   Miscellaneous                            14.21 No Fiduciary Duty   \n",
       "185   Miscellaneous               14.22 Nature of Borrower Obligations   \n",
       "186   Miscellaneous  14.23 Acknowledgment and Consent to Bail-In of...   \n",
       "187   Miscellaneous  14.24 Acknowledgement Regarding Any Supported ...   \n",
       "\n",
       "      AICategory ExpertCategory  AITag  ExpertTag  \n",
       "0            FYI            FYI    NaN        NaN  \n",
       "1    Definitions    Definitions    NaN        NaN  \n",
       "2            FYI            FYI    NaN        NaN  \n",
       "3            FYI            FYI    NaN        NaN  \n",
       "4            FYI            FYI    NaN        NaN  \n",
       "..           ...            ...    ...        ...  \n",
       "183          FYI            FYI    NaN        NaN  \n",
       "184          FYI            FYI    NaN        NaN  \n",
       "185          FYI            FYI    NaN        NaN  \n",
       "186          FYI            FYI    NaN        NaN  \n",
       "187          FYI            FYI    NaN        NaN  \n",
       "\n",
       "[188 rows x 8 columns]"
      ]
     },
     "execution_count": 119,
     "metadata": {},
     "output_type": "execute_result"
    }
   ],
   "source": [
    "cat_df"
   ]
  },
  {
   "cell_type": "code",
   "execution_count": 99,
   "id": "ddd43a7a-2205-4d45-89cb-25fba3b2182c",
   "metadata": {
    "tags": []
   },
   "outputs": [
    {
     "data": {
      "text/html": [
       "<div>\n",
       "<style scoped>\n",
       "    .dataframe tbody tr th:only-of-type {\n",
       "        vertical-align: middle;\n",
       "    }\n",
       "\n",
       "    .dataframe tbody tr th {\n",
       "        vertical-align: top;\n",
       "    }\n",
       "\n",
       "    .dataframe thead th {\n",
       "        text-align: right;\n",
       "    }\n",
       "</style>\n",
       "<table border=\"1\" class=\"dataframe\">\n",
       "  <thead>\n",
       "    <tr style=\"text-align: right;\">\n",
       "      <th></th>\n",
       "      <th>toc</th>\n",
       "      <th>title</th>\n",
       "      <th>section_content</th>\n",
       "      <th>AITag</th>\n",
       "      <th>ExpertTag</th>\n",
       "    </tr>\n",
       "  </thead>\n",
       "  <tbody>\n",
       "    <tr>\n",
       "      <th>9</th>\n",
       "      <td>SECTION 2.01</td>\n",
       "      <td>The Loans</td>\n",
       "      <td>Title is The Loans\\nSection 2.01.  The Loans. ...</td>\n",
       "      <td>Facilities / Instrument</td>\n",
       "      <td>Facilities / Instrument</td>\n",
       "    </tr>\n",
       "    <tr>\n",
       "      <th>11</th>\n",
       "      <td>SECTION 2.03</td>\n",
       "      <td>Letters of Credit</td>\n",
       "      <td>Title is Letters of Credit\\nSection 2.03.  Let...</td>\n",
       "      <td>Facilities / Instrument</td>\n",
       "      <td>Facilities / Instrument</td>\n",
       "    </tr>\n",
       "    <tr>\n",
       "      <th>13</th>\n",
       "      <td>SECTION 2.05</td>\n",
       "      <td>Prepayments</td>\n",
       "      <td>Title is Prepayments\\nSection 2.05.  Prepaymen...</td>\n",
       "      <td>Prepayment / Redemption</td>\n",
       "      <td>Prepayment / Redemption</td>\n",
       "    </tr>\n",
       "    <tr>\n",
       "      <th>15</th>\n",
       "      <td>SECTION 2.07</td>\n",
       "      <td>Repayment of Loans</td>\n",
       "      <td>Title is Repayment of Loans\\nSection 2.07.  Re...</td>\n",
       "      <td>Amortization Schedule / Loan Repayment</td>\n",
       "      <td>Amortization Schedule / Loan Repayment</td>\n",
       "    </tr>\n",
       "    <tr>\n",
       "      <th>16</th>\n",
       "      <td>SECTION 2.08</td>\n",
       "      <td>Interest</td>\n",
       "      <td>Title is Interest\\nSection 2.08. Interest.  (a...</td>\n",
       "      <td>Pricing / Interest</td>\n",
       "      <td>Pricing / Interest</td>\n",
       "    </tr>\n",
       "    <tr>\n",
       "      <th>17</th>\n",
       "      <td>SECTION 2.09</td>\n",
       "      <td>Fees</td>\n",
       "      <td>Title is Fees\\nSection 2.09.  Fees.  In additi...</td>\n",
       "      <td>Premium and Fees</td>\n",
       "      <td>Premium and Fees</td>\n",
       "    </tr>\n",
       "    <tr>\n",
       "      <th>22</th>\n",
       "      <td>SECTION 2.14</td>\n",
       "      <td>Incremental Credit Extensions</td>\n",
       "      <td>Title is Incremental Credit Extensions\\nSectio...</td>\n",
       "      <td>Incremental Facilities</td>\n",
       "      <td>Incremental Facilities</td>\n",
       "    </tr>\n",
       "    <tr>\n",
       "      <th>57</th>\n",
       "      <td>SECTION 6.01</td>\n",
       "      <td>Financial Statements</td>\n",
       "      <td>Title is Financial Statements\\nSection 6.01.  ...</td>\n",
       "      <td>Financial Statements</td>\n",
       "      <td>Financial Statements</td>\n",
       "    </tr>\n",
       "    <tr>\n",
       "      <th>58</th>\n",
       "      <td>SECTION 6.02</td>\n",
       "      <td>Certificates; Other Information</td>\n",
       "      <td>Title is Certificates; Other Information\\nSect...</td>\n",
       "      <td>Compliance Certificate</td>\n",
       "      <td>Compliance Certificate</td>\n",
       "    </tr>\n",
       "    <tr>\n",
       "      <th>71</th>\n",
       "      <td>SECTION 6.15</td>\n",
       "      <td>Transactions with Affiliates</td>\n",
       "      <td>Title is Transactions with Affiliates\\nSection...</td>\n",
       "      <td>Transactions with Affiliates</td>\n",
       "      <td>Transactions with Affiliates</td>\n",
       "    </tr>\n",
       "    <tr>\n",
       "      <th>75</th>\n",
       "      <td>SECTION 6.19</td>\n",
       "      <td>Lender Calls</td>\n",
       "      <td>Title is Lender Calls\\nSection 6.19.  Lender C...</td>\n",
       "      <td>Reporting Requirements</td>\n",
       "      <td>Reporting Requirements</td>\n",
       "    </tr>\n",
       "    <tr>\n",
       "      <th>76</th>\n",
       "      <td>SECTION 7.01</td>\n",
       "      <td>Liens</td>\n",
       "      <td>Title is Liens\\nSection 7.01.  Liens.  Neither...</td>\n",
       "      <td>Permitted Liens</td>\n",
       "      <td>Permitted Liens</td>\n",
       "    </tr>\n",
       "    <tr>\n",
       "      <th>77</th>\n",
       "      <td>SECTION 7.02</td>\n",
       "      <td>Investments</td>\n",
       "      <td>Title is Investments\\nSection 7.02. Investment...</td>\n",
       "      <td>Restricted Investments</td>\n",
       "      <td>Restricted Investments</td>\n",
       "    </tr>\n",
       "    <tr>\n",
       "      <th>78</th>\n",
       "      <td>SECTION 7.03</td>\n",
       "      <td>Indebtedness</td>\n",
       "      <td>Title is Indebtedness\\nSection 7.03. Indebtedn...</td>\n",
       "      <td>Permitted Indebtedness</td>\n",
       "      <td>Permitted Indebtedness</td>\n",
       "    </tr>\n",
       "    <tr>\n",
       "      <th>80</th>\n",
       "      <td>SECTION 7.05</td>\n",
       "      <td>Dispositions</td>\n",
       "      <td>Title is Dispositions\\nSection 7.05.  Disposit...</td>\n",
       "      <td>Asset Disposition</td>\n",
       "      <td>Asset Disposition</td>\n",
       "    </tr>\n",
       "    <tr>\n",
       "      <th>81</th>\n",
       "      <td>SECTION 7.06</td>\n",
       "      <td>Restricted Payments</td>\n",
       "      <td>Title is Restricted Payments\\nSection 7.06.  R...</td>\n",
       "      <td>Restricted Payments</td>\n",
       "      <td>Restricted Payments</td>\n",
       "    </tr>\n",
       "    <tr>\n",
       "      <th>83</th>\n",
       "      <td>SECTION 7.08</td>\n",
       "      <td>Financial Covenant</td>\n",
       "      <td>Title is Financial Covenant\\nSection 7.08.  Fi...</td>\n",
       "      <td>Financial Covenant</td>\n",
       "      <td>Financial Covenant</td>\n",
       "    </tr>\n",
       "    <tr>\n",
       "      <th>87</th>\n",
       "      <td>SECTION 8.01</td>\n",
       "      <td>Events of Default</td>\n",
       "      <td>Title is Events of Default\\nSection 8.01.  Eve...</td>\n",
       "      <td>Event of Default</td>\n",
       "      <td>Event of Default</td>\n",
       "    </tr>\n",
       "    <tr>\n",
       "      <th>88</th>\n",
       "      <td>SECTION 8.02</td>\n",
       "      <td>Remedies Upon Event of Default</td>\n",
       "      <td>Title is Remedies Upon Event of Default\\nSecti...</td>\n",
       "      <td>Consequences of Default</td>\n",
       "      <td>Consequences of Default</td>\n",
       "    </tr>\n",
       "    <tr>\n",
       "      <th>90</th>\n",
       "      <td>SECTION 8.04</td>\n",
       "      <td>Application of Funds</td>\n",
       "      <td>Title is Application of Funds\\nSection 8.04.  ...</td>\n",
       "      <td>Waterfall of Proceeds</td>\n",
       "      <td>Waterfall of Proceeds</td>\n",
       "    </tr>\n",
       "    <tr>\n",
       "      <th>91</th>\n",
       "      <td>SECTION 8.05</td>\n",
       "      <td>Right to Cure</td>\n",
       "      <td>Title is Right to Cure\\nSection 8.05.  Right t...</td>\n",
       "      <td>Financial Covenant</td>\n",
       "      <td>Financial Covenant</td>\n",
       "    </tr>\n",
       "    <tr>\n",
       "      <th>106</th>\n",
       "      <td>SECTION 10.01</td>\n",
       "      <td>Amendments, Etc</td>\n",
       "      <td>Title is Amendments, Etc\\nSection 10.01.  Amen...</td>\n",
       "      <td>Amendments</td>\n",
       "      <td>Amendments</td>\n",
       "    </tr>\n",
       "    <tr>\n",
       "      <th>112</th>\n",
       "      <td>SECTION 10.07</td>\n",
       "      <td>Successors and Assigns</td>\n",
       "      <td>Title is Successors and Assigns\\nSection 10.07...</td>\n",
       "      <td>Assignments</td>\n",
       "      <td>Assignments</td>\n",
       "    </tr>\n",
       "    <tr>\n",
       "      <th>120</th>\n",
       "      <td>SECTION 10.15</td>\n",
       "      <td>GOVERNING LAW</td>\n",
       "      <td>Title is GOVERNING LAW\\nSection 10.15.  GOVERN...</td>\n",
       "      <td>Governing Laws</td>\n",
       "      <td>Governing Laws</td>\n",
       "    </tr>\n",
       "  </tbody>\n",
       "</table>\n",
       "</div>"
      ],
      "text/plain": [
       "               toc                            title   \n",
       "9     SECTION 2.01                        The Loans  \\\n",
       "11    SECTION 2.03                Letters of Credit   \n",
       "13    SECTION 2.05                      Prepayments   \n",
       "15    SECTION 2.07               Repayment of Loans   \n",
       "16    SECTION 2.08                         Interest   \n",
       "17    SECTION 2.09                             Fees   \n",
       "22    SECTION 2.14    Incremental Credit Extensions   \n",
       "57    SECTION 6.01             Financial Statements   \n",
       "58    SECTION 6.02  Certificates; Other Information   \n",
       "71    SECTION 6.15     Transactions with Affiliates   \n",
       "75    SECTION 6.19                     Lender Calls   \n",
       "76    SECTION 7.01                            Liens   \n",
       "77    SECTION 7.02                      Investments   \n",
       "78    SECTION 7.03                     Indebtedness   \n",
       "80    SECTION 7.05                     Dispositions   \n",
       "81    SECTION 7.06              Restricted Payments   \n",
       "83    SECTION 7.08               Financial Covenant   \n",
       "87    SECTION 8.01                Events of Default   \n",
       "88    SECTION 8.02   Remedies Upon Event of Default   \n",
       "90    SECTION 8.04             Application of Funds   \n",
       "91    SECTION 8.05                    Right to Cure   \n",
       "106  SECTION 10.01                  Amendments, Etc   \n",
       "112  SECTION 10.07           Successors and Assigns   \n",
       "120  SECTION 10.15                    GOVERNING LAW   \n",
       "\n",
       "                                       section_content   \n",
       "9    Title is The Loans\\nSection 2.01.  The Loans. ...  \\\n",
       "11   Title is Letters of Credit\\nSection 2.03.  Let...   \n",
       "13   Title is Prepayments\\nSection 2.05.  Prepaymen...   \n",
       "15   Title is Repayment of Loans\\nSection 2.07.  Re...   \n",
       "16   Title is Interest\\nSection 2.08. Interest.  (a...   \n",
       "17   Title is Fees\\nSection 2.09.  Fees.  In additi...   \n",
       "22   Title is Incremental Credit Extensions\\nSectio...   \n",
       "57   Title is Financial Statements\\nSection 6.01.  ...   \n",
       "58   Title is Certificates; Other Information\\nSect...   \n",
       "71   Title is Transactions with Affiliates\\nSection...   \n",
       "75   Title is Lender Calls\\nSection 6.19.  Lender C...   \n",
       "76   Title is Liens\\nSection 7.01.  Liens.  Neither...   \n",
       "77   Title is Investments\\nSection 7.02. Investment...   \n",
       "78   Title is Indebtedness\\nSection 7.03. Indebtedn...   \n",
       "80   Title is Dispositions\\nSection 7.05.  Disposit...   \n",
       "81   Title is Restricted Payments\\nSection 7.06.  R...   \n",
       "83   Title is Financial Covenant\\nSection 7.08.  Fi...   \n",
       "87   Title is Events of Default\\nSection 8.01.  Eve...   \n",
       "88   Title is Remedies Upon Event of Default\\nSecti...   \n",
       "90   Title is Application of Funds\\nSection 8.04.  ...   \n",
       "91   Title is Right to Cure\\nSection 8.05.  Right t...   \n",
       "106  Title is Amendments, Etc\\nSection 10.01.  Amen...   \n",
       "112  Title is Successors and Assigns\\nSection 10.07...   \n",
       "120  Title is GOVERNING LAW\\nSection 10.15.  GOVERN...   \n",
       "\n",
       "                                      AITag   \n",
       "9                   Facilities / Instrument  \\\n",
       "11                  Facilities / Instrument   \n",
       "13                  Prepayment / Redemption   \n",
       "15   Amortization Schedule / Loan Repayment   \n",
       "16                       Pricing / Interest   \n",
       "17                         Premium and Fees   \n",
       "22                   Incremental Facilities   \n",
       "57                     Financial Statements   \n",
       "58                   Compliance Certificate   \n",
       "71             Transactions with Affiliates   \n",
       "75                   Reporting Requirements   \n",
       "76                          Permitted Liens   \n",
       "77                   Restricted Investments   \n",
       "78                   Permitted Indebtedness   \n",
       "80                        Asset Disposition   \n",
       "81                      Restricted Payments   \n",
       "83                       Financial Covenant   \n",
       "87                         Event of Default   \n",
       "88                  Consequences of Default   \n",
       "90                    Waterfall of Proceeds   \n",
       "91                       Financial Covenant   \n",
       "106                              Amendments   \n",
       "112                             Assignments   \n",
       "120                          Governing Laws   \n",
       "\n",
       "                                  ExpertTag  \n",
       "9                   Facilities / Instrument  \n",
       "11                  Facilities / Instrument  \n",
       "13                  Prepayment / Redemption  \n",
       "15   Amortization Schedule / Loan Repayment  \n",
       "16                       Pricing / Interest  \n",
       "17                         Premium and Fees  \n",
       "22                   Incremental Facilities  \n",
       "57                     Financial Statements  \n",
       "58                   Compliance Certificate  \n",
       "71             Transactions with Affiliates  \n",
       "75                   Reporting Requirements  \n",
       "76                          Permitted Liens  \n",
       "77                   Restricted Investments  \n",
       "78                   Permitted Indebtedness  \n",
       "80                        Asset Disposition  \n",
       "81                      Restricted Payments  \n",
       "83                       Financial Covenant  \n",
       "87                         Event of Default  \n",
       "88                  Consequences of Default  \n",
       "90                    Waterfall of Proceeds  \n",
       "91                       Financial Covenant  \n",
       "106                              Amendments  \n",
       "112                             Assignments  \n",
       "120                          Governing Laws  "
      ]
     },
     "execution_count": 99,
     "metadata": {},
     "output_type": "execute_result"
    }
   ],
   "source": [
    "test_df[test_df.AITag!=\"\"]"
   ]
  },
  {
   "cell_type": "code",
   "execution_count": 75,
   "id": "34f7459e-f18b-43dc-bf1d-3e6af9d61fff",
   "metadata": {
    "tags": []
   },
   "outputs": [
    {
     "name": "stdout",
     "output_type": "stream",
     "text": [
      "./data/carlyle-inference/PDI CA_tags.xlsx\n"
     ]
    }
   ],
   "source": [
    "print(output_file)"
   ]
  },
  {
   "cell_type": "code",
   "execution_count": 55,
   "id": "6a0dc440-282d-46c4-8854-151137f56156",
   "metadata": {
    "tags": []
   },
   "outputs": [
    {
     "data": {
      "text/html": [
       "<div>\n",
       "<style scoped>\n",
       "    .dataframe tbody tr th:only-of-type {\n",
       "        vertical-align: middle;\n",
       "    }\n",
       "\n",
       "    .dataframe tbody tr th {\n",
       "        vertical-align: top;\n",
       "    }\n",
       "\n",
       "    .dataframe thead th {\n",
       "        text-align: right;\n",
       "    }\n",
       "</style>\n",
       "<table border=\"1\" class=\"dataframe\">\n",
       "  <thead>\n",
       "    <tr style=\"text-align: right;\">\n",
       "      <th></th>\n",
       "      <th>title</th>\n",
       "      <th>category</th>\n",
       "      <th>tags</th>\n",
       "      <th>checklists</th>\n",
       "      <th>section_content</th>\n",
       "      <th>toc</th>\n",
       "      <th>AITag</th>\n",
       "    </tr>\n",
       "  </thead>\n",
       "  <tbody>\n",
       "    <tr>\n",
       "      <th>0</th>\n",
       "      <td>Other Interpretive Provisions</td>\n",
       "      <td>FYI</td>\n",
       "      <td>[]</td>\n",
       "      <td>[]</td>\n",
       "      <td>Title is Other Interpretive Provisions\\nSectio...</td>\n",
       "      <td>SECTION 1.02</td>\n",
       "      <td>NA</td>\n",
       "    </tr>\n",
       "    <tr>\n",
       "      <th>1</th>\n",
       "      <td>Accounting Terms</td>\n",
       "      <td>FYI</td>\n",
       "      <td>[]</td>\n",
       "      <td>[]</td>\n",
       "      <td>Title is Accounting Terms\\nSection 1.03.  Acco...</td>\n",
       "      <td>SECTION 1.03</td>\n",
       "      <td>NA</td>\n",
       "    </tr>\n",
       "    <tr>\n",
       "      <th>2</th>\n",
       "      <td>Rounding</td>\n",
       "      <td>FYI</td>\n",
       "      <td>[]</td>\n",
       "      <td>[]</td>\n",
       "      <td>Title is Rounding\\nSection 1.04.  Rounding.  A...</td>\n",
       "      <td>SECTION 1.04</td>\n",
       "      <td>NA</td>\n",
       "    </tr>\n",
       "    <tr>\n",
       "      <th>3</th>\n",
       "      <td>References to Agreements, Laws, Etc</td>\n",
       "      <td>FYI</td>\n",
       "      <td>[]</td>\n",
       "      <td>[]</td>\n",
       "      <td>Title is References to Agreements, Laws, Etc\\n...</td>\n",
       "      <td>SECTION 1.05</td>\n",
       "      <td>NA</td>\n",
       "    </tr>\n",
       "    <tr>\n",
       "      <th>4</th>\n",
       "      <td>Times of Day</td>\n",
       "      <td>FYI</td>\n",
       "      <td>[]</td>\n",
       "      <td>[]</td>\n",
       "      <td>Title is Times of Day\\nSection 1.06.  Times of...</td>\n",
       "      <td>SECTION 1.06</td>\n",
       "      <td>NA</td>\n",
       "    </tr>\n",
       "  </tbody>\n",
       "</table>\n",
       "</div>"
      ],
      "text/plain": [
       "                                 title category tags checklists   \n",
       "0        Other Interpretive Provisions      FYI   []         []  \\\n",
       "1                     Accounting Terms      FYI   []         []   \n",
       "2                             Rounding      FYI   []         []   \n",
       "3  References to Agreements, Laws, Etc      FYI   []         []   \n",
       "4                         Times of Day      FYI   []         []   \n",
       "\n",
       "                                     section_content           toc AITag  \n",
       "0  Title is Other Interpretive Provisions\\nSectio...  SECTION 1.02    NA  \n",
       "1  Title is Accounting Terms\\nSection 1.03.  Acco...  SECTION 1.03    NA  \n",
       "2  Title is Rounding\\nSection 1.04.  Rounding.  A...  SECTION 1.04    NA  \n",
       "3  Title is References to Agreements, Laws, Etc\\n...  SECTION 1.05    NA  \n",
       "4  Title is Times of Day\\nSection 1.06.  Times of...  SECTION 1.06    NA  "
      ]
     },
     "execution_count": 55,
     "metadata": {},
     "output_type": "execute_result"
    }
   ],
   "source": [
    "test_df.head()"
   ]
  },
  {
   "cell_type": "code",
   "execution_count": 40,
   "id": "fc2af61a-d349-4af2-8a7e-bb1e0b46231b",
   "metadata": {
    "tags": []
   },
   "outputs": [],
   "source": [
    "# test_labels = test_df['tags'].values\n",
    "# test_labels = label_encoder.transform(test_labels)"
   ]
  },
  {
   "cell_type": "code",
   "execution_count": 42,
   "id": "d3359cd6-8633-4b28-9298-f969ea7b98ba",
   "metadata": {
    "tags": []
   },
   "outputs": [
    {
     "data": {
      "text/html": [],
      "text/plain": [
       "<IPython.core.display.HTML object>"
      ]
     },
     "metadata": {},
     "output_type": "display_data"
    }
   ],
   "source": [
    "# Make predictions on the test set\n",
    "predictions = trainer.predict(test_dataset)\n",
    "\n",
    "# Extract the logits and convert to predicted labels\n",
    "logits = predictions.predictions\n",
    "predicted_labels = np.argmax(logits, axis=-1)\n",
    "\n",
    "# Convert numeric labels back to original text labels for comparison\n",
    "predicted_labels_text = label_encoder.inverse_transform(predicted_labels)\n",
    "# true_labels_text = label_encoder.inverse_transform(test_labels)\n",
    "\n",
    "# # Generate a classification report\n",
    "# report = classification_report(true_labels_text, predicted_labels_text, target_names=label_encoder.classes_)\n"
   ]
  },
  {
   "cell_type": "code",
   "execution_count": 45,
   "id": "73daf1eb-793d-4058-a7c9-b3102c534842",
   "metadata": {
    "tags": []
   },
   "outputs": [],
   "source": []
  },
  {
   "cell_type": "code",
   "execution_count": 46,
   "id": "5647354b-a3b0-4729-9474-f782d52affac",
   "metadata": {
    "tags": []
   },
   "outputs": [],
   "source": []
  },
  {
   "cell_type": "code",
   "execution_count": null,
   "id": "b409ba42-b260-4223-b227-3e952258b1ce",
   "metadata": {},
   "outputs": [],
   "source": []
  },
  {
   "cell_type": "markdown",
   "id": "efb26efd-e17a-46f9-b841-77cc89876a87",
   "metadata": {},
   "source": [
    "---"
   ]
  },
  {
   "cell_type": "code",
   "execution_count": 11,
   "id": "87d89caf-cc07-4d17-a57b-765e1aed83e4",
   "metadata": {
    "tags": []
   },
   "outputs": [],
   "source": [
    "nst_to_st = {\n",
    "    \"Interest / Pricing\": \"Pricing / Interest\",\n",
    "    \"Other Reporting Requirements\": \"Reporting Requirements\"\n",
    "}"
   ]
  },
  {
   "cell_type": "code",
   "execution_count": 12,
   "id": "ce462dd2-6a26-4e28-aea0-60f5d31e7c6f",
   "metadata": {
    "tags": []
   },
   "outputs": [],
   "source": [
    "def to_standard_tag(x): \n",
    "    if x in nst_to_st: \n",
    "        return nst_to_st.get(x)\n",
    "    return x\n",
    "        \n",
    "    "
   ]
  },
  {
   "cell_type": "code",
   "execution_count": 13,
   "id": "971127f6-9862-447c-9aae-35c1f482800d",
   "metadata": {
    "tags": []
   },
   "outputs": [],
   "source": [
    "test_df['tags'] = test_df.tags.apply(to_standard_tag)"
   ]
  },
  {
   "cell_type": "code",
   "execution_count": 14,
   "id": "af0e5cb4-fa72-4b18-8135-bf439755836f",
   "metadata": {
    "tags": []
   },
   "outputs": [],
   "source": [
    "test_texts = test_df['section_content'].values\n",
    "test_labels = test_df['tags'].values\n",
    "test_labels = label_encoder.transform(test_labels)"
   ]
  },
  {
   "cell_type": "code",
   "execution_count": 15,
   "id": "af939265-abf3-408c-8b2b-1251be41c691",
   "metadata": {
    "tags": []
   },
   "outputs": [],
   "source": [
    "from sklearn.metrics import classification_report"
   ]
  },
  {
   "cell_type": "code",
   "execution_count": 17,
   "id": "d42d421c-2740-4f61-acfb-755046c2d734",
   "metadata": {
    "tags": []
   },
   "outputs": [],
   "source": [
    "test_dataset = TextDataset(test_texts, test_labels, tokenizer, max_length=512)"
   ]
  },
  {
   "cell_type": "code",
   "execution_count": 18,
   "id": "58c83f58-de69-4597-8cf1-3f6f81a78a33",
   "metadata": {
    "tags": []
   },
   "outputs": [],
   "source": [
    "inference_args = TrainingArguments(\n",
    "    output_dir='./results',  \n",
    "    per_device_eval_batch_size=32, \n",
    "    dataloader_drop_last=False,  \n",
    "    no_cuda=False if torch.cuda.is_available() else True, \n",
    "    seed=42,  \n",
    "    report_to=\"none\" # Disable wandb reporting. \n",
    ")\n",
    "trainer = Trainer(\n",
    "    model=model, \n",
    "    args = inference_args\n",
    ")"
   ]
  },
  {
   "cell_type": "code",
   "execution_count": 19,
   "id": "b594fedc-129a-4cfc-a175-141abe203221",
   "metadata": {
    "tags": []
   },
   "outputs": [],
   "source": [
    "os.environ[\"WANDB_DISABLED\"] = \"true\""
   ]
  },
  {
   "cell_type": "markdown",
   "id": "c540d157-2208-4b7a-85cf-161b46ce089a",
   "metadata": {},
   "source": [
    "## Training Accuracy"
   ]
  },
  {
   "cell_type": "code",
   "execution_count": 29,
   "id": "c81a6c0b-c6e8-4280-9127-1d191245ae3b",
   "metadata": {
    "tags": []
   },
   "outputs": [
    {
     "data": {
      "text/html": [],
      "text/plain": [
       "<IPython.core.display.HTML object>"
      ]
     },
     "metadata": {},
     "output_type": "display_data"
    }
   ],
   "source": [
    "# Make predictions on the test set\n",
    "predictions = trainer.predict(dataset)\n",
    "\n",
    "# Extract the logits and convert to predicted labels\n",
    "logits = predictions.predictions\n",
    "predicted_labels = np.argmax(logits, axis=-1)\n",
    "\n",
    "# Convert numeric labels back to original text labels for comparison\n",
    "predicted_labels_text = label_encoder.inverse_transform(predicted_labels)\n",
    "true_labels_text = label_encoder.inverse_transform(labels)\n",
    "\n",
    "# Generate a classification report\n",
    "report = classification_report(true_labels_text, predicted_labels_text, target_names=label_encoder.classes_)\n"
   ]
  },
  {
   "cell_type": "code",
   "execution_count": 31,
   "id": "ce71398d-9a20-4ec3-b036-8a16e595122e",
   "metadata": {
    "tags": []
   },
   "outputs": [
    {
     "name": "stdout",
     "output_type": "stream",
     "text": [
      "                                        precision    recall  f1-score   support\n",
      "\n",
      "                            Amendments       1.00      1.00      1.00        89\n",
      "Amortization Schedule / Loan Repayment       1.00      1.00      1.00        72\n",
      "                     Asset Disposition       1.00      1.00      1.00        41\n",
      "                           Assignments       1.00      1.00      1.00        72\n",
      "                Compliance Certificate       1.00      1.00      1.00        10\n",
      "               Consequences of Default       0.98      1.00      0.99        45\n",
      "                      Event of Default       1.00      1.00      1.00        41\n",
      "               Facilities / Instrument       1.00      1.00      1.00       149\n",
      "                    Financial Covenant       1.00      1.00      1.00        69\n",
      "                  Financial Statements       1.00      1.00      1.00        18\n",
      "                        Governing Laws       1.00      1.00      1.00        66\n",
      "                Incremental Facilities       1.00      1.00      1.00        44\n",
      "    Mandatory Prepayments / Redemption       1.00      1.00      1.00        13\n",
      "                                    NA       1.00      1.00      1.00      5529\n",
      "      Optional Prepayment / Redemption       1.00      1.00      1.00        23\n",
      "                Permitted Indebtedness       1.00      1.00      1.00        34\n",
      "                       Permitted Liens       1.00      1.00      1.00        64\n",
      "                      Premium and Fees       1.00      1.00      1.00        68\n",
      "               Prepayment / Redemption       1.00      1.00      1.00        46\n",
      "                    Pricing / Interest       1.00      1.00      1.00        86\n",
      "                Reporting Requirements       1.00      1.00      1.00        55\n",
      "                Restricted Investments       1.00      1.00      1.00        20\n",
      "                   Restricted Payments       1.00      1.00      1.00        42\n",
      "          Transactions with Affiliates       1.00      1.00      1.00        37\n",
      "                 Waterfall of Proceeds       1.00      1.00      1.00        52\n",
      "\n",
      "                              accuracy                           1.00      6785\n",
      "                             macro avg       1.00      1.00      1.00      6785\n",
      "                          weighted avg       1.00      1.00      1.00      6785\n",
      "\n"
     ]
    }
   ],
   "source": [
    "print(report)"
   ]
  },
  {
   "cell_type": "markdown",
   "id": "dd1d2105-0d86-442d-8144-2838906f03b9",
   "metadata": {},
   "source": [
    "## Test Accuracy."
   ]
  },
  {
   "cell_type": "code",
   "execution_count": 32,
   "id": "d81d8d2b-24dd-465c-86a2-3e547664feba",
   "metadata": {
    "tags": []
   },
   "outputs": [
    {
     "data": {
      "text/html": [],
      "text/plain": [
       "<IPython.core.display.HTML object>"
      ]
     },
     "metadata": {},
     "output_type": "display_data"
    }
   ],
   "source": [
    "# Make predictions on the test set\n",
    "predictions = trainer.predict(test_dataset)\n",
    "\n",
    "# Extract the logits and convert to predicted labels\n",
    "logits = predictions.predictions\n",
    "predicted_labels = np.argmax(logits, axis=-1)\n",
    "\n",
    "# Convert numeric labels back to original text labels for comparison\n",
    "predicted_labels_text = label_encoder.inverse_transform(predicted_labels)\n",
    "true_labels_text = label_encoder.inverse_transform(test_labels)\n",
    "\n",
    "# Generate a classification report\n",
    "report = classification_report(true_labels_text, predicted_labels_text, target_names=label_encoder.classes_)\n"
   ]
  },
  {
   "cell_type": "code",
   "execution_count": 33,
   "id": "fd4c0bc7-ddd2-41d8-8113-1773e63995b9",
   "metadata": {
    "tags": []
   },
   "outputs": [
    {
     "name": "stdout",
     "output_type": "stream",
     "text": [
      "                                        precision    recall  f1-score   support\n",
      "\n",
      "                            Amendments       0.95      0.95      0.95        20\n",
      "Amortization Schedule / Loan Repayment       0.92      0.92      0.92        13\n",
      "                     Asset Disposition       0.92      1.00      0.96        11\n",
      "                           Assignments       0.75      1.00      0.86        15\n",
      "                Compliance Certificate       1.00      1.00      1.00         3\n",
      "               Consequences of Default       0.82      0.90      0.86        10\n",
      "                      Event of Default       0.88      1.00      0.93         7\n",
      "               Facilities / Instrument       0.70      1.00      0.82        16\n",
      "                    Financial Covenant       0.85      1.00      0.92        11\n",
      "                  Financial Statements       1.00      1.00      1.00         4\n",
      "                        Governing Laws       0.91      0.91      0.91        11\n",
      "                Incremental Facilities       0.71      1.00      0.83         5\n",
      "    Mandatory Prepayments / Redemption       1.00      1.00      1.00         1\n",
      "                                    NA       0.99      0.97      0.98      1250\n",
      "      Optional Prepayment / Redemption       0.89      1.00      0.94         8\n",
      "                Permitted Indebtedness       0.88      0.88      0.88         8\n",
      "                       Permitted Liens       0.94      0.94      0.94        17\n",
      "                      Premium and Fees       0.86      1.00      0.92        12\n",
      "               Prepayment / Redemption       1.00      1.00      1.00         9\n",
      "                    Pricing / Interest       0.80      0.89      0.84        18\n",
      "                Reporting Requirements       0.92      0.86      0.89        14\n",
      "                Restricted Investments       1.00      1.00      1.00         3\n",
      "                   Restricted Payments       0.88      1.00      0.93         7\n",
      "          Transactions with Affiliates       1.00      0.90      0.95        10\n",
      "                 Waterfall of Proceeds       0.88      0.70      0.78        10\n",
      "\n",
      "                              accuracy                           0.97      1493\n",
      "                             macro avg       0.90      0.95      0.92      1493\n",
      "                          weighted avg       0.97      0.97      0.97      1493\n",
      "\n"
     ]
    }
   ],
   "source": [
    "print(report)"
   ]
  },
  {
   "cell_type": "code",
   "execution_count": 34,
   "id": "f6a22185-999d-4127-9539-2ede8d193168",
   "metadata": {
    "tags": []
   },
   "outputs": [],
   "source": [
    "test_df['Predicted_Tag'] = predicted_labels_text"
   ]
  },
  {
   "cell_type": "code",
   "execution_count": 35,
   "id": "1d3cad14-e9e0-4ada-8dd6-0a75c1478e8a",
   "metadata": {
    "tags": []
   },
   "outputs": [],
   "source": [
    "test_df = test_df.rename(columns = {\"tag\": \"Original_Tag\"})"
   ]
  },
  {
   "cell_type": "code",
   "execution_count": 36,
   "id": "3755ef69-2dae-4144-99ae-12203f2520a9",
   "metadata": {
    "tags": []
   },
   "outputs": [
    {
     "name": "stdout",
     "output_type": "stream",
     "text": [
      "(1493, 9)\n"
     ]
    }
   ],
   "source": [
    "print(test_df.shape)"
   ]
  },
  {
   "cell_type": "code",
   "execution_count": 37,
   "id": "c94fd4e1-d5e5-44f5-a1c8-100fbb4f4993",
   "metadata": {
    "tags": []
   },
   "outputs": [],
   "source": [
    "test_df.to_excel(\"./data/output/predictions_v15_small.xlsx\")"
   ]
  },
  {
   "cell_type": "markdown",
   "id": "b834fa43-41bb-4055-8387-2debcd29e93c",
   "metadata": {},
   "source": [
    "## Generate Results on Unsampled NA data"
   ]
  },
  {
   "cell_type": "code",
   "execution_count": null,
   "id": "79155d24-f0e9-4b85-898d-65c626e35c08",
   "metadata": {
    "tags": []
   },
   "outputs": [],
   "source": [
    "seen_df = pd.read_json(\"./data/cleaned_tags_data.json\")\n",
    "all_df = pd.read_json(\"./data/all-data.json\")"
   ]
  },
  {
   "cell_type": "code",
   "execution_count": null,
   "id": "c2cf7e89-9050-4b6e-b588-da7e3e27f1e5",
   "metadata": {
    "tags": []
   },
   "outputs": [],
   "source": [
    "unseen_df = all_df.merge(seen_df, how='left', on=['filename', 'tags', 'title', 'category', 'word_count', 'section_content'], indicator=True, )\n",
    "unseen_df = unseen_df[unseen_df['_merge'] == 'left_only']\n",
    "unseen_df = unseen_df.drop(columns=['_merge'])\n"
   ]
  },
  {
   "cell_type": "code",
   "execution_count": null,
   "id": "9532b7f8-ba2e-4f4c-b30b-a297f9496021",
   "metadata": {
    "tags": []
   },
   "outputs": [],
   "source": [
    "\n",
    "unseen_df['tags'] = unseen_df['tags'].str.replace(\"Events of Default\", \"Event of Default\")"
   ]
  },
  {
   "cell_type": "code",
   "execution_count": null,
   "id": "8f9fcc85-b1c8-4ac7-b726-c897d1a70b8f",
   "metadata": {
    "tags": []
   },
   "outputs": [],
   "source": [
    "unseen_texts = unseen_df['section_content'].values\n",
    "unseen_labels = unseen_df['tags'].values\n",
    "unseen_labels = label_encoder.transform(unseen_labels)"
   ]
  },
  {
   "cell_type": "code",
   "execution_count": null,
   "id": "300a27ee-844a-4883-80f2-edd744ce59da",
   "metadata": {
    "tags": []
   },
   "outputs": [],
   "source": [
    "unseen_dataset = TextDataset(unseen_texts, unseen_labels, tokenizer, max_length=512)"
   ]
  },
  {
   "cell_type": "code",
   "execution_count": null,
   "id": "8ff28a86-4987-48d2-8d7f-f2bec7170ed2",
   "metadata": {
    "tags": []
   },
   "outputs": [],
   "source": [
    "# Make predictions on the test set\n",
    "predictions = trainer.predict(unseen_dataset)\n",
    "\n",
    "# Extract the logits and convert to predicted labels\n",
    "logits = predictions.predictions\n",
    "predicted_labels = np.argmax(logits, axis=-1)\n",
    "\n",
    "# Convert numeric labels back to original text labels for comparison\n",
    "predicted_labels_text = label_encoder.inverse_transform(predicted_labels)\n",
    "true_labels_text = label_encoder.inverse_transform(unseen_labels)\n",
    "\n",
    "# Generate a classification report\n",
    "report = classification_report(true_labels_text, predicted_labels_text, target_names=label_encoder.classes_)\n"
   ]
  },
  {
   "cell_type": "code",
   "execution_count": null,
   "id": "3e56f6df-0794-42cb-98fa-5dc4136c9c16",
   "metadata": {
    "tags": []
   },
   "outputs": [],
   "source": [
    "print(report)"
   ]
  },
  {
   "cell_type": "code",
   "execution_count": null,
   "id": "b4374cd9-18d1-4374-b4b1-1171a387a214",
   "metadata": {},
   "outputs": [],
   "source": []
  },
  {
   "cell_type": "code",
   "execution_count": null,
   "id": "48a60909-9c19-4e80-b657-65ae01442403",
   "metadata": {
    "tags": []
   },
   "outputs": [],
   "source": [
    "all_df = pd.read_json(\"./data/all-data.json\")\n",
    "print(all_df.shape)\n",
    "all_df = all_df[all_df.word_count > 20]\n",
    "print(all_df.shape)"
   ]
  },
  {
   "cell_type": "code",
   "execution_count": null,
   "id": "5362c67f-3a91-4011-9e98-9274afc18178",
   "metadata": {
    "tags": []
   },
   "outputs": [],
   "source": [
    "test_df.head()"
   ]
  },
  {
   "cell_type": "code",
   "execution_count": null,
   "id": "bb2f6f60-04dc-41a8-8096-e2891d12e019",
   "metadata": {
    "tags": []
   },
   "outputs": [],
   "source": [
    "test_df.shape"
   ]
  },
  {
   "cell_type": "code",
   "execution_count": null,
   "id": "7240c4e5-3acb-4176-a8de-a09e9e98197a",
   "metadata": {
    "tags": []
   },
   "outputs": [],
   "source": [
    "test_df['predicted_tags'] = predicted_labels_text"
   ]
  },
  {
   "cell_type": "code",
   "execution_count": null,
   "id": "133053cb-d347-426f-9ec5-f364beb2fbdc",
   "metadata": {
    "tags": []
   },
   "outputs": [],
   "source": [
    "test_df.head()"
   ]
  },
  {
   "cell_type": "code",
   "execution_count": null,
   "id": "f0534d6c-cb0a-4932-b35b-8320c1a63c28",
   "metadata": {
    "tags": []
   },
   "outputs": [],
   "source": [
    "group_df = all_df[['section_content', 'tags']].groupby('section_content').agg(list).reset_index()\n",
    "group_df['n_tags'] = group_df.tags.apply(lambda x: len(x))\n",
    "group_df['n_unique_tags'] = group_df.tags.apply(lambda x: len(set(x)))\n",
    "print(group_df[group_df.n_tags > 1].shape)\n",
    "print(group_df[group_df.n_unique_tags > 1].shape)\n",
    "group_df.sort_values(by='n_unique_tags', ascending=False).head(10)"
   ]
  },
  {
   "cell_type": "code",
   "execution_count": null,
   "id": "d38bb147-4b79-40a4-a043-bf48ebd03863",
   "metadata": {},
   "outputs": [],
   "source": []
  },
  {
   "cell_type": "code",
   "execution_count": null,
   "id": "527e563a-72fc-4ed8-9bf5-dadf9a41cdd1",
   "metadata": {
    "tags": []
   },
   "outputs": [],
   "source": [
    "test_df[[\"section_content\", \"predicted_tags\"]].merge(all_df.drop_duplicates(\"section_content\"), how=\"left\", on=\"section_content\", validate=\"one_to_one\").to_excel(\"./data/output/test_data_predictions.xlsx\")"
   ]
  },
  {
   "cell_type": "code",
   "execution_count": null,
   "id": "11211d80-d757-4a9d-92d3-9292644ba218",
   "metadata": {
    "tags": []
   },
   "outputs": [],
   "source": [
    "test_df.shape"
   ]
  },
  {
   "cell_type": "code",
   "execution_count": null,
   "id": "b6d48248-8dd6-4b5e-892a-8f6c86535fcd",
   "metadata": {
    "tags": []
   },
   "outputs": [],
   "source": [
    "print(report)"
   ]
  },
  {
   "cell_type": "code",
   "execution_count": null,
   "id": "f92c491b-9b0f-4b6d-8e16-c3519c5b3cc1",
   "metadata": {
    "tags": []
   },
   "outputs": [],
   "source": [
    "def predict_labels(texts, model, tokenizer, label_encoder, max_length=512, device='cuda'):\n",
    "    # Move model to the specified device\n",
    "    model.to(device)\n",
    "    \n",
    "    # Tokenize the texts\n",
    "    encodings = tokenizer(\n",
    "        texts,\n",
    "        max_length=max_length,\n",
    "        truncation=True,\n",
    "        padding=True,\n",
    "        return_tensors=\"pt\"\n",
    "    )\n",
    "    \n",
    "    # Move tensors to the same device as the model\n",
    "    input_ids = encodings['input_ids'].to(device)\n",
    "    attention_mask = encodings['attention_mask'].to(device)\n",
    "    \n",
    "    # Put the model in evaluation mode\n",
    "    model.eval()\n",
    "    \n",
    "    # Perform the inference\n",
    "    with torch.no_grad():\n",
    "        outputs = model(\n",
    "            input_ids=input_ids,\n",
    "            attention_mask=attention_mask\n",
    "        )\n",
    "        logits = outputs.logits\n",
    "        predictions = torch.argmax(logits, dim=-1)\n",
    "    \n",
    "    # Move predictions back to the CPU before converting to numpy\n",
    "    predicted_labels = label_encoder.inverse_transform(predictions.cpu().numpy())\n",
    "    \n",
    "    return predicted_labels"
   ]
  },
  {
   "cell_type": "code",
   "execution_count": null,
   "id": "4b037728-c863-4e9b-ba48-d7aafeca33aa",
   "metadata": {
    "tags": []
   },
   "outputs": [],
   "source": [
    "predicted_labels_text = predict_labels(test_texts.tolist(), model, tokenizer, label_encoder)\n",
    "true_labels_text = label_encoder.inverse_transform(test_labels)"
   ]
  },
  {
   "cell_type": "code",
   "execution_count": null,
   "id": "6a924cab-231b-4ecc-8869-3f69b492374e",
   "metadata": {
    "tags": []
   },
   "outputs": [],
   "source": [
    "!nvidia-smi"
   ]
  },
  {
   "cell_type": "code",
   "execution_count": null,
   "id": "630ebe6a-4610-49bc-b085-7168ff4b2a6e",
   "metadata": {
    "tags": []
   },
   "outputs": [],
   "source": [
    "# Extract the logits and convert to predicted labels\n",
    "# logits = predictions.predictions\n",
    "# predicted_labels = np.argmax(logits, axis=-1)\n",
    "\n",
    "# Convert numeric labels back to original text labels for comparison\n",
    "# Generate a classification report\n",
    "report = classification_report(true_labels_text, predicted_labels_text, target_names=label_encoder.classes_)\n"
   ]
  },
  {
   "cell_type": "code",
   "execution_count": null,
   "id": "af914524-1988-4f1f-9c94-47aa47e3ec47",
   "metadata": {
    "tags": []
   },
   "outputs": [],
   "source": [
    "print(report)"
   ]
  }
 ],
 "metadata": {
  "availableInstances": [
   {
    "_defaultOrder": 0,
    "_isFastLaunch": true,
    "category": "General purpose",
    "gpuNum": 0,
    "hideHardwareSpecs": false,
    "memoryGiB": 4,
    "name": "ml.t3.medium",
    "vcpuNum": 2
   },
   {
    "_defaultOrder": 1,
    "_isFastLaunch": false,
    "category": "General purpose",
    "gpuNum": 0,
    "hideHardwareSpecs": false,
    "memoryGiB": 8,
    "name": "ml.t3.large",
    "vcpuNum": 2
   },
   {
    "_defaultOrder": 2,
    "_isFastLaunch": false,
    "category": "General purpose",
    "gpuNum": 0,
    "hideHardwareSpecs": false,
    "memoryGiB": 16,
    "name": "ml.t3.xlarge",
    "vcpuNum": 4
   },
   {
    "_defaultOrder": 3,
    "_isFastLaunch": false,
    "category": "General purpose",
    "gpuNum": 0,
    "hideHardwareSpecs": false,
    "memoryGiB": 32,
    "name": "ml.t3.2xlarge",
    "vcpuNum": 8
   },
   {
    "_defaultOrder": 4,
    "_isFastLaunch": true,
    "category": "General purpose",
    "gpuNum": 0,
    "hideHardwareSpecs": false,
    "memoryGiB": 8,
    "name": "ml.m5.large",
    "vcpuNum": 2
   },
   {
    "_defaultOrder": 5,
    "_isFastLaunch": false,
    "category": "General purpose",
    "gpuNum": 0,
    "hideHardwareSpecs": false,
    "memoryGiB": 16,
    "name": "ml.m5.xlarge",
    "vcpuNum": 4
   },
   {
    "_defaultOrder": 6,
    "_isFastLaunch": false,
    "category": "General purpose",
    "gpuNum": 0,
    "hideHardwareSpecs": false,
    "memoryGiB": 32,
    "name": "ml.m5.2xlarge",
    "vcpuNum": 8
   },
   {
    "_defaultOrder": 7,
    "_isFastLaunch": false,
    "category": "General purpose",
    "gpuNum": 0,
    "hideHardwareSpecs": false,
    "memoryGiB": 64,
    "name": "ml.m5.4xlarge",
    "vcpuNum": 16
   },
   {
    "_defaultOrder": 8,
    "_isFastLaunch": false,
    "category": "General purpose",
    "gpuNum": 0,
    "hideHardwareSpecs": false,
    "memoryGiB": 128,
    "name": "ml.m5.8xlarge",
    "vcpuNum": 32
   },
   {
    "_defaultOrder": 9,
    "_isFastLaunch": false,
    "category": "General purpose",
    "gpuNum": 0,
    "hideHardwareSpecs": false,
    "memoryGiB": 192,
    "name": "ml.m5.12xlarge",
    "vcpuNum": 48
   },
   {
    "_defaultOrder": 10,
    "_isFastLaunch": false,
    "category": "General purpose",
    "gpuNum": 0,
    "hideHardwareSpecs": false,
    "memoryGiB": 256,
    "name": "ml.m5.16xlarge",
    "vcpuNum": 64
   },
   {
    "_defaultOrder": 11,
    "_isFastLaunch": false,
    "category": "General purpose",
    "gpuNum": 0,
    "hideHardwareSpecs": false,
    "memoryGiB": 384,
    "name": "ml.m5.24xlarge",
    "vcpuNum": 96
   },
   {
    "_defaultOrder": 12,
    "_isFastLaunch": false,
    "category": "General purpose",
    "gpuNum": 0,
    "hideHardwareSpecs": false,
    "memoryGiB": 8,
    "name": "ml.m5d.large",
    "vcpuNum": 2
   },
   {
    "_defaultOrder": 13,
    "_isFastLaunch": false,
    "category": "General purpose",
    "gpuNum": 0,
    "hideHardwareSpecs": false,
    "memoryGiB": 16,
    "name": "ml.m5d.xlarge",
    "vcpuNum": 4
   },
   {
    "_defaultOrder": 14,
    "_isFastLaunch": false,
    "category": "General purpose",
    "gpuNum": 0,
    "hideHardwareSpecs": false,
    "memoryGiB": 32,
    "name": "ml.m5d.2xlarge",
    "vcpuNum": 8
   },
   {
    "_defaultOrder": 15,
    "_isFastLaunch": false,
    "category": "General purpose",
    "gpuNum": 0,
    "hideHardwareSpecs": false,
    "memoryGiB": 64,
    "name": "ml.m5d.4xlarge",
    "vcpuNum": 16
   },
   {
    "_defaultOrder": 16,
    "_isFastLaunch": false,
    "category": "General purpose",
    "gpuNum": 0,
    "hideHardwareSpecs": false,
    "memoryGiB": 128,
    "name": "ml.m5d.8xlarge",
    "vcpuNum": 32
   },
   {
    "_defaultOrder": 17,
    "_isFastLaunch": false,
    "category": "General purpose",
    "gpuNum": 0,
    "hideHardwareSpecs": false,
    "memoryGiB": 192,
    "name": "ml.m5d.12xlarge",
    "vcpuNum": 48
   },
   {
    "_defaultOrder": 18,
    "_isFastLaunch": false,
    "category": "General purpose",
    "gpuNum": 0,
    "hideHardwareSpecs": false,
    "memoryGiB": 256,
    "name": "ml.m5d.16xlarge",
    "vcpuNum": 64
   },
   {
    "_defaultOrder": 19,
    "_isFastLaunch": false,
    "category": "General purpose",
    "gpuNum": 0,
    "hideHardwareSpecs": false,
    "memoryGiB": 384,
    "name": "ml.m5d.24xlarge",
    "vcpuNum": 96
   },
   {
    "_defaultOrder": 20,
    "_isFastLaunch": false,
    "category": "General purpose",
    "gpuNum": 0,
    "hideHardwareSpecs": true,
    "memoryGiB": 0,
    "name": "ml.geospatial.interactive",
    "supportedImageNames": [
     "sagemaker-geospatial-v1-0"
    ],
    "vcpuNum": 0
   },
   {
    "_defaultOrder": 21,
    "_isFastLaunch": true,
    "category": "Compute optimized",
    "gpuNum": 0,
    "hideHardwareSpecs": false,
    "memoryGiB": 4,
    "name": "ml.c5.large",
    "vcpuNum": 2
   },
   {
    "_defaultOrder": 22,
    "_isFastLaunch": false,
    "category": "Compute optimized",
    "gpuNum": 0,
    "hideHardwareSpecs": false,
    "memoryGiB": 8,
    "name": "ml.c5.xlarge",
    "vcpuNum": 4
   },
   {
    "_defaultOrder": 23,
    "_isFastLaunch": false,
    "category": "Compute optimized",
    "gpuNum": 0,
    "hideHardwareSpecs": false,
    "memoryGiB": 16,
    "name": "ml.c5.2xlarge",
    "vcpuNum": 8
   },
   {
    "_defaultOrder": 24,
    "_isFastLaunch": false,
    "category": "Compute optimized",
    "gpuNum": 0,
    "hideHardwareSpecs": false,
    "memoryGiB": 32,
    "name": "ml.c5.4xlarge",
    "vcpuNum": 16
   },
   {
    "_defaultOrder": 25,
    "_isFastLaunch": false,
    "category": "Compute optimized",
    "gpuNum": 0,
    "hideHardwareSpecs": false,
    "memoryGiB": 72,
    "name": "ml.c5.9xlarge",
    "vcpuNum": 36
   },
   {
    "_defaultOrder": 26,
    "_isFastLaunch": false,
    "category": "Compute optimized",
    "gpuNum": 0,
    "hideHardwareSpecs": false,
    "memoryGiB": 96,
    "name": "ml.c5.12xlarge",
    "vcpuNum": 48
   },
   {
    "_defaultOrder": 27,
    "_isFastLaunch": false,
    "category": "Compute optimized",
    "gpuNum": 0,
    "hideHardwareSpecs": false,
    "memoryGiB": 144,
    "name": "ml.c5.18xlarge",
    "vcpuNum": 72
   },
   {
    "_defaultOrder": 28,
    "_isFastLaunch": false,
    "category": "Compute optimized",
    "gpuNum": 0,
    "hideHardwareSpecs": false,
    "memoryGiB": 192,
    "name": "ml.c5.24xlarge",
    "vcpuNum": 96
   },
   {
    "_defaultOrder": 29,
    "_isFastLaunch": true,
    "category": "Accelerated computing",
    "gpuNum": 1,
    "hideHardwareSpecs": false,
    "memoryGiB": 16,
    "name": "ml.g4dn.xlarge",
    "vcpuNum": 4
   },
   {
    "_defaultOrder": 30,
    "_isFastLaunch": false,
    "category": "Accelerated computing",
    "gpuNum": 1,
    "hideHardwareSpecs": false,
    "memoryGiB": 32,
    "name": "ml.g4dn.2xlarge",
    "vcpuNum": 8
   },
   {
    "_defaultOrder": 31,
    "_isFastLaunch": false,
    "category": "Accelerated computing",
    "gpuNum": 1,
    "hideHardwareSpecs": false,
    "memoryGiB": 64,
    "name": "ml.g4dn.4xlarge",
    "vcpuNum": 16
   },
   {
    "_defaultOrder": 32,
    "_isFastLaunch": false,
    "category": "Accelerated computing",
    "gpuNum": 1,
    "hideHardwareSpecs": false,
    "memoryGiB": 128,
    "name": "ml.g4dn.8xlarge",
    "vcpuNum": 32
   },
   {
    "_defaultOrder": 33,
    "_isFastLaunch": false,
    "category": "Accelerated computing",
    "gpuNum": 4,
    "hideHardwareSpecs": false,
    "memoryGiB": 192,
    "name": "ml.g4dn.12xlarge",
    "vcpuNum": 48
   },
   {
    "_defaultOrder": 34,
    "_isFastLaunch": false,
    "category": "Accelerated computing",
    "gpuNum": 1,
    "hideHardwareSpecs": false,
    "memoryGiB": 256,
    "name": "ml.g4dn.16xlarge",
    "vcpuNum": 64
   },
   {
    "_defaultOrder": 35,
    "_isFastLaunch": false,
    "category": "Accelerated computing",
    "gpuNum": 1,
    "hideHardwareSpecs": false,
    "memoryGiB": 61,
    "name": "ml.p3.2xlarge",
    "vcpuNum": 8
   },
   {
    "_defaultOrder": 36,
    "_isFastLaunch": false,
    "category": "Accelerated computing",
    "gpuNum": 4,
    "hideHardwareSpecs": false,
    "memoryGiB": 244,
    "name": "ml.p3.8xlarge",
    "vcpuNum": 32
   },
   {
    "_defaultOrder": 37,
    "_isFastLaunch": false,
    "category": "Accelerated computing",
    "gpuNum": 8,
    "hideHardwareSpecs": false,
    "memoryGiB": 488,
    "name": "ml.p3.16xlarge",
    "vcpuNum": 64
   },
   {
    "_defaultOrder": 38,
    "_isFastLaunch": false,
    "category": "Accelerated computing",
    "gpuNum": 8,
    "hideHardwareSpecs": false,
    "memoryGiB": 768,
    "name": "ml.p3dn.24xlarge",
    "vcpuNum": 96
   },
   {
    "_defaultOrder": 39,
    "_isFastLaunch": false,
    "category": "Memory Optimized",
    "gpuNum": 0,
    "hideHardwareSpecs": false,
    "memoryGiB": 16,
    "name": "ml.r5.large",
    "vcpuNum": 2
   },
   {
    "_defaultOrder": 40,
    "_isFastLaunch": false,
    "category": "Memory Optimized",
    "gpuNum": 0,
    "hideHardwareSpecs": false,
    "memoryGiB": 32,
    "name": "ml.r5.xlarge",
    "vcpuNum": 4
   },
   {
    "_defaultOrder": 41,
    "_isFastLaunch": false,
    "category": "Memory Optimized",
    "gpuNum": 0,
    "hideHardwareSpecs": false,
    "memoryGiB": 64,
    "name": "ml.r5.2xlarge",
    "vcpuNum": 8
   },
   {
    "_defaultOrder": 42,
    "_isFastLaunch": false,
    "category": "Memory Optimized",
    "gpuNum": 0,
    "hideHardwareSpecs": false,
    "memoryGiB": 128,
    "name": "ml.r5.4xlarge",
    "vcpuNum": 16
   },
   {
    "_defaultOrder": 43,
    "_isFastLaunch": false,
    "category": "Memory Optimized",
    "gpuNum": 0,
    "hideHardwareSpecs": false,
    "memoryGiB": 256,
    "name": "ml.r5.8xlarge",
    "vcpuNum": 32
   },
   {
    "_defaultOrder": 44,
    "_isFastLaunch": false,
    "category": "Memory Optimized",
    "gpuNum": 0,
    "hideHardwareSpecs": false,
    "memoryGiB": 384,
    "name": "ml.r5.12xlarge",
    "vcpuNum": 48
   },
   {
    "_defaultOrder": 45,
    "_isFastLaunch": false,
    "category": "Memory Optimized",
    "gpuNum": 0,
    "hideHardwareSpecs": false,
    "memoryGiB": 512,
    "name": "ml.r5.16xlarge",
    "vcpuNum": 64
   },
   {
    "_defaultOrder": 46,
    "_isFastLaunch": false,
    "category": "Memory Optimized",
    "gpuNum": 0,
    "hideHardwareSpecs": false,
    "memoryGiB": 768,
    "name": "ml.r5.24xlarge",
    "vcpuNum": 96
   },
   {
    "_defaultOrder": 47,
    "_isFastLaunch": false,
    "category": "Accelerated computing",
    "gpuNum": 1,
    "hideHardwareSpecs": false,
    "memoryGiB": 16,
    "name": "ml.g5.xlarge",
    "vcpuNum": 4
   },
   {
    "_defaultOrder": 48,
    "_isFastLaunch": false,
    "category": "Accelerated computing",
    "gpuNum": 1,
    "hideHardwareSpecs": false,
    "memoryGiB": 32,
    "name": "ml.g5.2xlarge",
    "vcpuNum": 8
   },
   {
    "_defaultOrder": 49,
    "_isFastLaunch": false,
    "category": "Accelerated computing",
    "gpuNum": 1,
    "hideHardwareSpecs": false,
    "memoryGiB": 64,
    "name": "ml.g5.4xlarge",
    "vcpuNum": 16
   },
   {
    "_defaultOrder": 50,
    "_isFastLaunch": false,
    "category": "Accelerated computing",
    "gpuNum": 1,
    "hideHardwareSpecs": false,
    "memoryGiB": 128,
    "name": "ml.g5.8xlarge",
    "vcpuNum": 32
   },
   {
    "_defaultOrder": 51,
    "_isFastLaunch": false,
    "category": "Accelerated computing",
    "gpuNum": 1,
    "hideHardwareSpecs": false,
    "memoryGiB": 256,
    "name": "ml.g5.16xlarge",
    "vcpuNum": 64
   },
   {
    "_defaultOrder": 52,
    "_isFastLaunch": false,
    "category": "Accelerated computing",
    "gpuNum": 4,
    "hideHardwareSpecs": false,
    "memoryGiB": 192,
    "name": "ml.g5.12xlarge",
    "vcpuNum": 48
   },
   {
    "_defaultOrder": 53,
    "_isFastLaunch": false,
    "category": "Accelerated computing",
    "gpuNum": 4,
    "hideHardwareSpecs": false,
    "memoryGiB": 384,
    "name": "ml.g5.24xlarge",
    "vcpuNum": 96
   },
   {
    "_defaultOrder": 54,
    "_isFastLaunch": false,
    "category": "Accelerated computing",
    "gpuNum": 8,
    "hideHardwareSpecs": false,
    "memoryGiB": 768,
    "name": "ml.g5.48xlarge",
    "vcpuNum": 192
   },
   {
    "_defaultOrder": 55,
    "_isFastLaunch": false,
    "category": "Accelerated computing",
    "gpuNum": 8,
    "hideHardwareSpecs": false,
    "memoryGiB": 1152,
    "name": "ml.p4d.24xlarge",
    "vcpuNum": 96
   },
   {
    "_defaultOrder": 56,
    "_isFastLaunch": false,
    "category": "Accelerated computing",
    "gpuNum": 8,
    "hideHardwareSpecs": false,
    "memoryGiB": 1152,
    "name": "ml.p4de.24xlarge",
    "vcpuNum": 96
   },
   {
    "_defaultOrder": 57,
    "_isFastLaunch": false,
    "category": "Accelerated computing",
    "gpuNum": 0,
    "hideHardwareSpecs": false,
    "memoryGiB": 32,
    "name": "ml.trn1.2xlarge",
    "vcpuNum": 8
   },
   {
    "_defaultOrder": 58,
    "_isFastLaunch": false,
    "category": "Accelerated computing",
    "gpuNum": 0,
    "hideHardwareSpecs": false,
    "memoryGiB": 512,
    "name": "ml.trn1.32xlarge",
    "vcpuNum": 128
   },
   {
    "_defaultOrder": 59,
    "_isFastLaunch": false,
    "category": "Accelerated computing",
    "gpuNum": 0,
    "hideHardwareSpecs": false,
    "memoryGiB": 512,
    "name": "ml.trn1n.32xlarge",
    "vcpuNum": 128
   }
  ],
  "instance_type": "ml.g5.xlarge",
  "kernelspec": {
   "display_name": "Python 3 (PyTorch 2.0.0 Python 3.10 GPU Optimized)",
   "language": "python",
   "name": "python3__SAGEMAKER_INTERNAL__arn:aws:sagemaker:us-east-1:081325390199:image/pytorch-2.0.0-gpu-py310"
  },
  "language_info": {
   "codemirror_mode": {
    "name": "ipython",
    "version": 3
   },
   "file_extension": ".py",
   "mimetype": "text/x-python",
   "name": "python",
   "nbconvert_exporter": "python",
   "pygments_lexer": "ipython3",
   "version": "3.10.8"
  }
 },
 "nbformat": 4,
 "nbformat_minor": 5
}
