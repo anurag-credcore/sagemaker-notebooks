{
 "cells": [
  {
   "cell_type": "code",
   "execution_count": 3,
   "id": "6903957e-c8a3-4a28-b41b-694116e23de3",
   "metadata": {
    "tags": []
   },
   "outputs": [],
   "source": [
    "import pandas as pd"
   ]
  },
  {
   "cell_type": "code",
   "execution_count": 24,
   "id": "9cb4993b-0eb2-4af1-bdb5-7d7a0f905941",
   "metadata": {
    "tags": []
   },
   "outputs": [
    {
     "name": "stdout",
     "output_type": "stream",
     "text": [
      "./data/output/val_v14-small_fold_1.json\n",
      "./data/output/val_v14-small_fold_2.json\n",
      "./data/output/val_v14-small_fold_3.json\n",
      "./data/output/val_v14-small_fold_4.json\n",
      "./data/output/val_v14-small_fold_5.json\n"
     ]
    }
   ],
   "source": [
    "dfs = [] \n",
    "for i in range(1, 6): \n",
    "    filename = f\"./data/output/val_v14-small_fold_{i}.json\"\n",
    "    print(filename)\n",
    "    dfs.append(pd.read_json(filename))"
   ]
  },
  {
   "cell_type": "code",
   "execution_count": 25,
   "id": "9ff9818f-c663-4a9c-b0cc-41f921187b6c",
   "metadata": {
    "tags": []
   },
   "outputs": [],
   "source": [
    "df = pd.concat(dfs).reset_index(drop=True)\n",
    "# df = df.drop(columns=[\"tag_title\", \"checklists\"])"
   ]
  },
  {
   "cell_type": "code",
   "execution_count": 26,
   "id": "7f7b5a05-08b8-4b1d-96ca-631f41f15b71",
   "metadata": {
    "tags": []
   },
   "outputs": [],
   "source": [
    "df = df.drop(columns=[\"Original_Tag\", \"Predicted_Tag\", \"Domain\"])"
   ]
  },
  {
   "cell_type": "code",
   "execution_count": 27,
   "id": "ede96b0f-4543-4972-afe8-0e740f8d3a56",
   "metadata": {
    "tags": []
   },
   "outputs": [],
   "source": [
    "df = df.rename(columns={\"tags\": \"Original_Tag\", \"predicted_tags\": \"Predicted_Tag\"})"
   ]
  },
  {
   "cell_type": "code",
   "execution_count": 28,
   "id": "7f8cc305-e2c7-49ad-b013-2d8657cb4591",
   "metadata": {
    "tags": []
   },
   "outputs": [
    {
     "data": {
      "text/plain": [
       "(6785,)"
      ]
     },
     "execution_count": 28,
     "metadata": {},
     "output_type": "execute_result"
    }
   ],
   "source": [
    "df.section_content.unique().shape"
   ]
  },
  {
   "cell_type": "code",
   "execution_count": 29,
   "id": "1eef1d27-0f00-4108-854b-db5bbccfeac5",
   "metadata": {
    "tags": []
   },
   "outputs": [],
   "source": [
    "df = df[df.filename.str.contains('synth') == False]"
   ]
  },
  {
   "cell_type": "code",
   "execution_count": 30,
   "id": "f51a4152-0359-4f46-b6b6-25fa273841c6",
   "metadata": {
    "tags": []
   },
   "outputs": [
    {
     "name": "stdout",
     "output_type": "stream",
     "text": [
      "(6785, 7)\n"
     ]
    }
   ],
   "source": [
    "print(df.shape)"
   ]
  },
  {
   "cell_type": "code",
   "execution_count": 31,
   "id": "6f2fe294-ca0b-45a6-a2e1-7014e3a52da2",
   "metadata": {
    "tags": []
   },
   "outputs": [
    {
     "data": {
      "text/plain": [
       "Index(['filename', 'title', 'section_number', 'section_content', 'match',\n",
       "       'Original_Tag', 'Predicted_Tag'],\n",
       "      dtype='object')"
      ]
     },
     "execution_count": 31,
     "metadata": {},
     "output_type": "execute_result"
    }
   ],
   "source": [
    "df.columns"
   ]
  },
  {
   "cell_type": "code",
   "execution_count": null,
   "id": "2663a1a7-55d2-4647-8094-b392d94c808d",
   "metadata": {},
   "outputs": [],
   "source": []
  },
  {
   "cell_type": "code",
   "execution_count": 32,
   "id": "1a8eb262-4bc5-4ae1-950c-ee08f4471625",
   "metadata": {
    "tags": []
   },
   "outputs": [
    {
     "data": {
      "text/html": [
       "<div>\n",
       "<style scoped>\n",
       "    .dataframe tbody tr th:only-of-type {\n",
       "        vertical-align: middle;\n",
       "    }\n",
       "\n",
       "    .dataframe tbody tr th {\n",
       "        vertical-align: top;\n",
       "    }\n",
       "\n",
       "    .dataframe thead th {\n",
       "        text-align: right;\n",
       "    }\n",
       "</style>\n",
       "<table border=\"1\" class=\"dataframe\">\n",
       "  <thead>\n",
       "    <tr style=\"text-align: right;\">\n",
       "      <th></th>\n",
       "      <th>filename</th>\n",
       "      <th>title</th>\n",
       "      <th>section_number</th>\n",
       "      <th>section_content</th>\n",
       "      <th>match</th>\n",
       "      <th>Original_Tag</th>\n",
       "      <th>Predicted_Tag</th>\n",
       "    </tr>\n",
       "  </thead>\n",
       "  <tbody>\n",
       "    <tr>\n",
       "      <th>0</th>\n",
       "      <td>Paramount Global - $3,500,000,000 AMENDED AND ...</td>\n",
       "      <td>Terms Generally</td>\n",
       "      <td>SECTION 1.2</td>\n",
       "      <td>Title is Terms Generally\\nSection 1.2. Terms G...</td>\n",
       "      <td>True</td>\n",
       "      <td>NA</td>\n",
       "      <td>NA</td>\n",
       "    </tr>\n",
       "    <tr>\n",
       "      <th>1</th>\n",
       "      <td>Paramount Global - $3,500,000,000 AMENDED AND ...</td>\n",
       "      <td>Currency Equivalents</td>\n",
       "      <td>SECTION 1.3</td>\n",
       "      <td>Title is Currency Equivalents\\nSection 1.3. Cu...</td>\n",
       "      <td>True</td>\n",
       "      <td>NA</td>\n",
       "      <td>NA</td>\n",
       "    </tr>\n",
       "    <tr>\n",
       "      <th>2</th>\n",
       "      <td>Paramount Global - $3,500,000,000 AMENDED AND ...</td>\n",
       "      <td>Commitments</td>\n",
       "      <td>SECTION 2.1</td>\n",
       "      <td>Title is Commitments\\nSection 2.1. Commitments...</td>\n",
       "      <td>True</td>\n",
       "      <td>Facilities / Instrument</td>\n",
       "      <td>Facilities / Instrument</td>\n",
       "    </tr>\n",
       "    <tr>\n",
       "      <th>3</th>\n",
       "      <td>Paramount Global - $3,500,000,000 AMENDED AND ...</td>\n",
       "      <td>Revolving Credit Loans; Competitive Loans</td>\n",
       "      <td>SECTION 2.2</td>\n",
       "      <td>Title is Revolving Credit Loans; Competitive L...</td>\n",
       "      <td>True</td>\n",
       "      <td>Facilities / Instrument</td>\n",
       "      <td>Facilities / Instrument</td>\n",
       "    </tr>\n",
       "    <tr>\n",
       "      <th>4</th>\n",
       "      <td>Paramount Global - $3,500,000,000 AMENDED AND ...</td>\n",
       "      <td>Competitive Bid Procedure</td>\n",
       "      <td>SECTION 2.3</td>\n",
       "      <td>Title is Competitive Bid Procedure\\nSection 2....</td>\n",
       "      <td>True</td>\n",
       "      <td>NA</td>\n",
       "      <td>NA</td>\n",
       "    </tr>\n",
       "  </tbody>\n",
       "</table>\n",
       "</div>"
      ],
      "text/plain": [
       "                                            filename   \n",
       "0  Paramount Global - $3,500,000,000 AMENDED AND ...  \\\n",
       "1  Paramount Global - $3,500,000,000 AMENDED AND ...   \n",
       "2  Paramount Global - $3,500,000,000 AMENDED AND ...   \n",
       "3  Paramount Global - $3,500,000,000 AMENDED AND ...   \n",
       "4  Paramount Global - $3,500,000,000 AMENDED AND ...   \n",
       "\n",
       "                                       title section_number   \n",
       "0                            Terms Generally    SECTION 1.2  \\\n",
       "1                       Currency Equivalents    SECTION 1.3   \n",
       "2                                Commitments    SECTION 2.1   \n",
       "3  Revolving Credit Loans; Competitive Loans    SECTION 2.2   \n",
       "4                  Competitive Bid Procedure    SECTION 2.3   \n",
       "\n",
       "                                     section_content  match   \n",
       "0  Title is Terms Generally\\nSection 1.2. Terms G...   True  \\\n",
       "1  Title is Currency Equivalents\\nSection 1.3. Cu...   True   \n",
       "2  Title is Commitments\\nSection 2.1. Commitments...   True   \n",
       "3  Title is Revolving Credit Loans; Competitive L...   True   \n",
       "4  Title is Competitive Bid Procedure\\nSection 2....   True   \n",
       "\n",
       "              Original_Tag            Predicted_Tag  \n",
       "0                       NA                       NA  \n",
       "1                       NA                       NA  \n",
       "2  Facilities / Instrument  Facilities / Instrument  \n",
       "3  Facilities / Instrument  Facilities / Instrument  \n",
       "4                       NA                       NA  "
      ]
     },
     "execution_count": 32,
     "metadata": {},
     "output_type": "execute_result"
    }
   ],
   "source": [
    "df.head()"
   ]
  },
  {
   "cell_type": "code",
   "execution_count": 33,
   "id": "ee79d6de-dc49-4055-a9f7-ce39e0809c43",
   "metadata": {
    "tags": []
   },
   "outputs": [],
   "source": [
    "import re"
   ]
  },
  {
   "cell_type": "code",
   "execution_count": 34,
   "id": "4268e4c6-e8df-4f8b-9c5d-6fed2cd6a862",
   "metadata": {
    "tags": []
   },
   "outputs": [],
   "source": [
    "def extract_section_num(x): \n",
    "    text = x.split(\"\\n\")[1].strip().upper()\n",
    "    matches = re.findall(\"^SECTION\\s+\\d+\\.\\d{1,2}\", text)\n",
    "    if matches:\n",
    "        return matches[0]\n",
    "    matches  = re.findall(\"^SECTION\\s+\\d+\\.?\\d{1,2}\", text)\n",
    "    if matches:\n",
    "        return matches[0]\n",
    "    matches  = re.findall(\"^\\d+\\.?\\d{1,2}\", text, flags=re.IGNORECASE)\n",
    "    if matches:\n",
    "        return matches[0]\n",
    "    return \"NOT FOUND\""
   ]
  },
  {
   "cell_type": "code",
   "execution_count": 35,
   "id": "1921518a-9a0f-417b-820e-d2bd2c35a836",
   "metadata": {
    "tags": []
   },
   "outputs": [],
   "source": [
    "df['section_number'] = df.section_content.apply(extract_section_num)"
   ]
  },
  {
   "cell_type": "code",
   "execution_count": 36,
   "id": "4b3e121b-6b87-46e1-a2dc-62a9bed19c22",
   "metadata": {
    "tags": []
   },
   "outputs": [
    {
     "data": {
      "text/plain": [
       "(0, 7)"
      ]
     },
     "execution_count": 36,
     "metadata": {},
     "output_type": "execute_result"
    }
   ],
   "source": [
    "df[df.section_number == \"NOT FOUND\"].shape"
   ]
  },
  {
   "cell_type": "code",
   "execution_count": 37,
   "id": "4dde1a6a-92bf-4a97-bc5a-cde4301d9169",
   "metadata": {
    "tags": []
   },
   "outputs": [],
   "source": [
    "df['match'] = df['Original_Tag'] == df[\"Predicted_Tag\"]"
   ]
  },
  {
   "cell_type": "code",
   "execution_count": 38,
   "id": "b14382a6-ef76-437c-b481-7f198f3381fc",
   "metadata": {
    "tags": []
   },
   "outputs": [],
   "source": [
    "df = df[['filename', 'title', 'section_number', 'section_content', 'Original_Tag', 'Predicted_Tag', \"match\"]]"
   ]
  },
  {
   "cell_type": "code",
   "execution_count": 39,
   "id": "dc6d1020-8646-4345-9705-77658944467e",
   "metadata": {
    "tags": []
   },
   "outputs": [
    {
     "data": {
      "text/plain": [
       "(6785, 7)"
      ]
     },
     "execution_count": 39,
     "metadata": {},
     "output_type": "execute_result"
    }
   ],
   "source": [
    "df.shape"
   ]
  },
  {
   "cell_type": "code",
   "execution_count": 40,
   "id": "bd798e91-a7e6-448e-83f5-68b54d873923",
   "metadata": {
    "tags": []
   },
   "outputs": [
    {
     "data": {
      "text/html": [
       "<div>\n",
       "<style scoped>\n",
       "    .dataframe tbody tr th:only-of-type {\n",
       "        vertical-align: middle;\n",
       "    }\n",
       "\n",
       "    .dataframe tbody tr th {\n",
       "        vertical-align: top;\n",
       "    }\n",
       "\n",
       "    .dataframe thead th {\n",
       "        text-align: right;\n",
       "    }\n",
       "</style>\n",
       "<table border=\"1\" class=\"dataframe\">\n",
       "  <thead>\n",
       "    <tr style=\"text-align: right;\">\n",
       "      <th></th>\n",
       "      <th>filename</th>\n",
       "      <th>title</th>\n",
       "      <th>section_number</th>\n",
       "      <th>section_content</th>\n",
       "      <th>Original_Tag</th>\n",
       "      <th>Predicted_Tag</th>\n",
       "      <th>match</th>\n",
       "    </tr>\n",
       "  </thead>\n",
       "  <tbody>\n",
       "    <tr>\n",
       "      <th>0</th>\n",
       "      <td>Paramount Global - $3,500,000,000 AMENDED AND ...</td>\n",
       "      <td>Terms Generally</td>\n",
       "      <td>SECTION 1.2</td>\n",
       "      <td>Title is Terms Generally\\nSection 1.2. Terms G...</td>\n",
       "      <td>NA</td>\n",
       "      <td>NA</td>\n",
       "      <td>True</td>\n",
       "    </tr>\n",
       "    <tr>\n",
       "      <th>1</th>\n",
       "      <td>Paramount Global - $3,500,000,000 AMENDED AND ...</td>\n",
       "      <td>Currency Equivalents</td>\n",
       "      <td>SECTION 1.3</td>\n",
       "      <td>Title is Currency Equivalents\\nSection 1.3. Cu...</td>\n",
       "      <td>NA</td>\n",
       "      <td>NA</td>\n",
       "      <td>True</td>\n",
       "    </tr>\n",
       "    <tr>\n",
       "      <th>2</th>\n",
       "      <td>Paramount Global - $3,500,000,000 AMENDED AND ...</td>\n",
       "      <td>Commitments</td>\n",
       "      <td>SECTION 2.1</td>\n",
       "      <td>Title is Commitments\\nSection 2.1. Commitments...</td>\n",
       "      <td>Facilities / Instrument</td>\n",
       "      <td>Facilities / Instrument</td>\n",
       "      <td>True</td>\n",
       "    </tr>\n",
       "    <tr>\n",
       "      <th>3</th>\n",
       "      <td>Paramount Global - $3,500,000,000 AMENDED AND ...</td>\n",
       "      <td>Revolving Credit Loans; Competitive Loans</td>\n",
       "      <td>SECTION 2.2</td>\n",
       "      <td>Title is Revolving Credit Loans; Competitive L...</td>\n",
       "      <td>Facilities / Instrument</td>\n",
       "      <td>Facilities / Instrument</td>\n",
       "      <td>True</td>\n",
       "    </tr>\n",
       "    <tr>\n",
       "      <th>4</th>\n",
       "      <td>Paramount Global - $3,500,000,000 AMENDED AND ...</td>\n",
       "      <td>Competitive Bid Procedure</td>\n",
       "      <td>SECTION 2.3</td>\n",
       "      <td>Title is Competitive Bid Procedure\\nSection 2....</td>\n",
       "      <td>NA</td>\n",
       "      <td>NA</td>\n",
       "      <td>True</td>\n",
       "    </tr>\n",
       "  </tbody>\n",
       "</table>\n",
       "</div>"
      ],
      "text/plain": [
       "                                            filename   \n",
       "0  Paramount Global - $3,500,000,000 AMENDED AND ...  \\\n",
       "1  Paramount Global - $3,500,000,000 AMENDED AND ...   \n",
       "2  Paramount Global - $3,500,000,000 AMENDED AND ...   \n",
       "3  Paramount Global - $3,500,000,000 AMENDED AND ...   \n",
       "4  Paramount Global - $3,500,000,000 AMENDED AND ...   \n",
       "\n",
       "                                       title section_number   \n",
       "0                            Terms Generally    SECTION 1.2  \\\n",
       "1                       Currency Equivalents    SECTION 1.3   \n",
       "2                                Commitments    SECTION 2.1   \n",
       "3  Revolving Credit Loans; Competitive Loans    SECTION 2.2   \n",
       "4                  Competitive Bid Procedure    SECTION 2.3   \n",
       "\n",
       "                                     section_content             Original_Tag   \n",
       "0  Title is Terms Generally\\nSection 1.2. Terms G...                       NA  \\\n",
       "1  Title is Currency Equivalents\\nSection 1.3. Cu...                       NA   \n",
       "2  Title is Commitments\\nSection 2.1. Commitments...  Facilities / Instrument   \n",
       "3  Title is Revolving Credit Loans; Competitive L...  Facilities / Instrument   \n",
       "4  Title is Competitive Bid Procedure\\nSection 2....                       NA   \n",
       "\n",
       "             Predicted_Tag  match  \n",
       "0                       NA   True  \n",
       "1                       NA   True  \n",
       "2  Facilities / Instrument   True  \n",
       "3  Facilities / Instrument   True  \n",
       "4                       NA   True  "
      ]
     },
     "execution_count": 40,
     "metadata": {},
     "output_type": "execute_result"
    }
   ],
   "source": [
    "df.head()"
   ]
  },
  {
   "cell_type": "code",
   "execution_count": 42,
   "id": "2d8779b5-721f-4187-a59c-f0c2dd41fd28",
   "metadata": {
    "tags": []
   },
   "outputs": [],
   "source": [
    "df.to_excel(\"./data/output/predictions_v14_kfold_small.xlsx\", index=False)"
   ]
  },
  {
   "cell_type": "code",
   "execution_count": 169,
   "id": "b03679a3-18a0-4f66-bce6-e3ffeef4d178",
   "metadata": {
    "tags": []
   },
   "outputs": [
    {
     "data": {
      "text/plain": [
       "(6789, 6)"
      ]
     },
     "execution_count": 169,
     "metadata": {},
     "output_type": "execute_result"
    }
   ],
   "source": [
    "df.shape"
   ]
  },
  {
   "cell_type": "code",
   "execution_count": 14,
   "id": "0e8b171b-7bd6-41d9-bb0c-7b13487da267",
   "metadata": {
    "tags": []
   },
   "outputs": [
    {
     "data": {
      "text/plain": [
       "(320, 7)"
      ]
     },
     "execution_count": 14,
     "metadata": {},
     "output_type": "execute_result"
    }
   ],
   "source": [
    "df[df.Original_Tag != df.Predicted_Tag].shape"
   ]
  },
  {
   "cell_type": "code",
   "execution_count": null,
   "id": "bcbb14d1-d340-4dc0-ba8f-d33c9b51dd3a",
   "metadata": {},
   "outputs": [],
   "source": []
  }
 ],
 "metadata": {
  "availableInstances": [
   {
    "_defaultOrder": 0,
    "_isFastLaunch": true,
    "category": "General purpose",
    "gpuNum": 0,
    "hideHardwareSpecs": false,
    "memoryGiB": 4,
    "name": "ml.t3.medium",
    "vcpuNum": 2
   },
   {
    "_defaultOrder": 1,
    "_isFastLaunch": false,
    "category": "General purpose",
    "gpuNum": 0,
    "hideHardwareSpecs": false,
    "memoryGiB": 8,
    "name": "ml.t3.large",
    "vcpuNum": 2
   },
   {
    "_defaultOrder": 2,
    "_isFastLaunch": false,
    "category": "General purpose",
    "gpuNum": 0,
    "hideHardwareSpecs": false,
    "memoryGiB": 16,
    "name": "ml.t3.xlarge",
    "vcpuNum": 4
   },
   {
    "_defaultOrder": 3,
    "_isFastLaunch": false,
    "category": "General purpose",
    "gpuNum": 0,
    "hideHardwareSpecs": false,
    "memoryGiB": 32,
    "name": "ml.t3.2xlarge",
    "vcpuNum": 8
   },
   {
    "_defaultOrder": 4,
    "_isFastLaunch": true,
    "category": "General purpose",
    "gpuNum": 0,
    "hideHardwareSpecs": false,
    "memoryGiB": 8,
    "name": "ml.m5.large",
    "vcpuNum": 2
   },
   {
    "_defaultOrder": 5,
    "_isFastLaunch": false,
    "category": "General purpose",
    "gpuNum": 0,
    "hideHardwareSpecs": false,
    "memoryGiB": 16,
    "name": "ml.m5.xlarge",
    "vcpuNum": 4
   },
   {
    "_defaultOrder": 6,
    "_isFastLaunch": false,
    "category": "General purpose",
    "gpuNum": 0,
    "hideHardwareSpecs": false,
    "memoryGiB": 32,
    "name": "ml.m5.2xlarge",
    "vcpuNum": 8
   },
   {
    "_defaultOrder": 7,
    "_isFastLaunch": false,
    "category": "General purpose",
    "gpuNum": 0,
    "hideHardwareSpecs": false,
    "memoryGiB": 64,
    "name": "ml.m5.4xlarge",
    "vcpuNum": 16
   },
   {
    "_defaultOrder": 8,
    "_isFastLaunch": false,
    "category": "General purpose",
    "gpuNum": 0,
    "hideHardwareSpecs": false,
    "memoryGiB": 128,
    "name": "ml.m5.8xlarge",
    "vcpuNum": 32
   },
   {
    "_defaultOrder": 9,
    "_isFastLaunch": false,
    "category": "General purpose",
    "gpuNum": 0,
    "hideHardwareSpecs": false,
    "memoryGiB": 192,
    "name": "ml.m5.12xlarge",
    "vcpuNum": 48
   },
   {
    "_defaultOrder": 10,
    "_isFastLaunch": false,
    "category": "General purpose",
    "gpuNum": 0,
    "hideHardwareSpecs": false,
    "memoryGiB": 256,
    "name": "ml.m5.16xlarge",
    "vcpuNum": 64
   },
   {
    "_defaultOrder": 11,
    "_isFastLaunch": false,
    "category": "General purpose",
    "gpuNum": 0,
    "hideHardwareSpecs": false,
    "memoryGiB": 384,
    "name": "ml.m5.24xlarge",
    "vcpuNum": 96
   },
   {
    "_defaultOrder": 12,
    "_isFastLaunch": false,
    "category": "General purpose",
    "gpuNum": 0,
    "hideHardwareSpecs": false,
    "memoryGiB": 8,
    "name": "ml.m5d.large",
    "vcpuNum": 2
   },
   {
    "_defaultOrder": 13,
    "_isFastLaunch": false,
    "category": "General purpose",
    "gpuNum": 0,
    "hideHardwareSpecs": false,
    "memoryGiB": 16,
    "name": "ml.m5d.xlarge",
    "vcpuNum": 4
   },
   {
    "_defaultOrder": 14,
    "_isFastLaunch": false,
    "category": "General purpose",
    "gpuNum": 0,
    "hideHardwareSpecs": false,
    "memoryGiB": 32,
    "name": "ml.m5d.2xlarge",
    "vcpuNum": 8
   },
   {
    "_defaultOrder": 15,
    "_isFastLaunch": false,
    "category": "General purpose",
    "gpuNum": 0,
    "hideHardwareSpecs": false,
    "memoryGiB": 64,
    "name": "ml.m5d.4xlarge",
    "vcpuNum": 16
   },
   {
    "_defaultOrder": 16,
    "_isFastLaunch": false,
    "category": "General purpose",
    "gpuNum": 0,
    "hideHardwareSpecs": false,
    "memoryGiB": 128,
    "name": "ml.m5d.8xlarge",
    "vcpuNum": 32
   },
   {
    "_defaultOrder": 17,
    "_isFastLaunch": false,
    "category": "General purpose",
    "gpuNum": 0,
    "hideHardwareSpecs": false,
    "memoryGiB": 192,
    "name": "ml.m5d.12xlarge",
    "vcpuNum": 48
   },
   {
    "_defaultOrder": 18,
    "_isFastLaunch": false,
    "category": "General purpose",
    "gpuNum": 0,
    "hideHardwareSpecs": false,
    "memoryGiB": 256,
    "name": "ml.m5d.16xlarge",
    "vcpuNum": 64
   },
   {
    "_defaultOrder": 19,
    "_isFastLaunch": false,
    "category": "General purpose",
    "gpuNum": 0,
    "hideHardwareSpecs": false,
    "memoryGiB": 384,
    "name": "ml.m5d.24xlarge",
    "vcpuNum": 96
   },
   {
    "_defaultOrder": 20,
    "_isFastLaunch": false,
    "category": "General purpose",
    "gpuNum": 0,
    "hideHardwareSpecs": true,
    "memoryGiB": 0,
    "name": "ml.geospatial.interactive",
    "supportedImageNames": [
     "sagemaker-geospatial-v1-0"
    ],
    "vcpuNum": 0
   },
   {
    "_defaultOrder": 21,
    "_isFastLaunch": true,
    "category": "Compute optimized",
    "gpuNum": 0,
    "hideHardwareSpecs": false,
    "memoryGiB": 4,
    "name": "ml.c5.large",
    "vcpuNum": 2
   },
   {
    "_defaultOrder": 22,
    "_isFastLaunch": false,
    "category": "Compute optimized",
    "gpuNum": 0,
    "hideHardwareSpecs": false,
    "memoryGiB": 8,
    "name": "ml.c5.xlarge",
    "vcpuNum": 4
   },
   {
    "_defaultOrder": 23,
    "_isFastLaunch": false,
    "category": "Compute optimized",
    "gpuNum": 0,
    "hideHardwareSpecs": false,
    "memoryGiB": 16,
    "name": "ml.c5.2xlarge",
    "vcpuNum": 8
   },
   {
    "_defaultOrder": 24,
    "_isFastLaunch": false,
    "category": "Compute optimized",
    "gpuNum": 0,
    "hideHardwareSpecs": false,
    "memoryGiB": 32,
    "name": "ml.c5.4xlarge",
    "vcpuNum": 16
   },
   {
    "_defaultOrder": 25,
    "_isFastLaunch": false,
    "category": "Compute optimized",
    "gpuNum": 0,
    "hideHardwareSpecs": false,
    "memoryGiB": 72,
    "name": "ml.c5.9xlarge",
    "vcpuNum": 36
   },
   {
    "_defaultOrder": 26,
    "_isFastLaunch": false,
    "category": "Compute optimized",
    "gpuNum": 0,
    "hideHardwareSpecs": false,
    "memoryGiB": 96,
    "name": "ml.c5.12xlarge",
    "vcpuNum": 48
   },
   {
    "_defaultOrder": 27,
    "_isFastLaunch": false,
    "category": "Compute optimized",
    "gpuNum": 0,
    "hideHardwareSpecs": false,
    "memoryGiB": 144,
    "name": "ml.c5.18xlarge",
    "vcpuNum": 72
   },
   {
    "_defaultOrder": 28,
    "_isFastLaunch": false,
    "category": "Compute optimized",
    "gpuNum": 0,
    "hideHardwareSpecs": false,
    "memoryGiB": 192,
    "name": "ml.c5.24xlarge",
    "vcpuNum": 96
   },
   {
    "_defaultOrder": 29,
    "_isFastLaunch": true,
    "category": "Accelerated computing",
    "gpuNum": 1,
    "hideHardwareSpecs": false,
    "memoryGiB": 16,
    "name": "ml.g4dn.xlarge",
    "vcpuNum": 4
   },
   {
    "_defaultOrder": 30,
    "_isFastLaunch": false,
    "category": "Accelerated computing",
    "gpuNum": 1,
    "hideHardwareSpecs": false,
    "memoryGiB": 32,
    "name": "ml.g4dn.2xlarge",
    "vcpuNum": 8
   },
   {
    "_defaultOrder": 31,
    "_isFastLaunch": false,
    "category": "Accelerated computing",
    "gpuNum": 1,
    "hideHardwareSpecs": false,
    "memoryGiB": 64,
    "name": "ml.g4dn.4xlarge",
    "vcpuNum": 16
   },
   {
    "_defaultOrder": 32,
    "_isFastLaunch": false,
    "category": "Accelerated computing",
    "gpuNum": 1,
    "hideHardwareSpecs": false,
    "memoryGiB": 128,
    "name": "ml.g4dn.8xlarge",
    "vcpuNum": 32
   },
   {
    "_defaultOrder": 33,
    "_isFastLaunch": false,
    "category": "Accelerated computing",
    "gpuNum": 4,
    "hideHardwareSpecs": false,
    "memoryGiB": 192,
    "name": "ml.g4dn.12xlarge",
    "vcpuNum": 48
   },
   {
    "_defaultOrder": 34,
    "_isFastLaunch": false,
    "category": "Accelerated computing",
    "gpuNum": 1,
    "hideHardwareSpecs": false,
    "memoryGiB": 256,
    "name": "ml.g4dn.16xlarge",
    "vcpuNum": 64
   },
   {
    "_defaultOrder": 35,
    "_isFastLaunch": false,
    "category": "Accelerated computing",
    "gpuNum": 1,
    "hideHardwareSpecs": false,
    "memoryGiB": 61,
    "name": "ml.p3.2xlarge",
    "vcpuNum": 8
   },
   {
    "_defaultOrder": 36,
    "_isFastLaunch": false,
    "category": "Accelerated computing",
    "gpuNum": 4,
    "hideHardwareSpecs": false,
    "memoryGiB": 244,
    "name": "ml.p3.8xlarge",
    "vcpuNum": 32
   },
   {
    "_defaultOrder": 37,
    "_isFastLaunch": false,
    "category": "Accelerated computing",
    "gpuNum": 8,
    "hideHardwareSpecs": false,
    "memoryGiB": 488,
    "name": "ml.p3.16xlarge",
    "vcpuNum": 64
   },
   {
    "_defaultOrder": 38,
    "_isFastLaunch": false,
    "category": "Accelerated computing",
    "gpuNum": 8,
    "hideHardwareSpecs": false,
    "memoryGiB": 768,
    "name": "ml.p3dn.24xlarge",
    "vcpuNum": 96
   },
   {
    "_defaultOrder": 39,
    "_isFastLaunch": false,
    "category": "Memory Optimized",
    "gpuNum": 0,
    "hideHardwareSpecs": false,
    "memoryGiB": 16,
    "name": "ml.r5.large",
    "vcpuNum": 2
   },
   {
    "_defaultOrder": 40,
    "_isFastLaunch": false,
    "category": "Memory Optimized",
    "gpuNum": 0,
    "hideHardwareSpecs": false,
    "memoryGiB": 32,
    "name": "ml.r5.xlarge",
    "vcpuNum": 4
   },
   {
    "_defaultOrder": 41,
    "_isFastLaunch": false,
    "category": "Memory Optimized",
    "gpuNum": 0,
    "hideHardwareSpecs": false,
    "memoryGiB": 64,
    "name": "ml.r5.2xlarge",
    "vcpuNum": 8
   },
   {
    "_defaultOrder": 42,
    "_isFastLaunch": false,
    "category": "Memory Optimized",
    "gpuNum": 0,
    "hideHardwareSpecs": false,
    "memoryGiB": 128,
    "name": "ml.r5.4xlarge",
    "vcpuNum": 16
   },
   {
    "_defaultOrder": 43,
    "_isFastLaunch": false,
    "category": "Memory Optimized",
    "gpuNum": 0,
    "hideHardwareSpecs": false,
    "memoryGiB": 256,
    "name": "ml.r5.8xlarge",
    "vcpuNum": 32
   },
   {
    "_defaultOrder": 44,
    "_isFastLaunch": false,
    "category": "Memory Optimized",
    "gpuNum": 0,
    "hideHardwareSpecs": false,
    "memoryGiB": 384,
    "name": "ml.r5.12xlarge",
    "vcpuNum": 48
   },
   {
    "_defaultOrder": 45,
    "_isFastLaunch": false,
    "category": "Memory Optimized",
    "gpuNum": 0,
    "hideHardwareSpecs": false,
    "memoryGiB": 512,
    "name": "ml.r5.16xlarge",
    "vcpuNum": 64
   },
   {
    "_defaultOrder": 46,
    "_isFastLaunch": false,
    "category": "Memory Optimized",
    "gpuNum": 0,
    "hideHardwareSpecs": false,
    "memoryGiB": 768,
    "name": "ml.r5.24xlarge",
    "vcpuNum": 96
   },
   {
    "_defaultOrder": 47,
    "_isFastLaunch": false,
    "category": "Accelerated computing",
    "gpuNum": 1,
    "hideHardwareSpecs": false,
    "memoryGiB": 16,
    "name": "ml.g5.xlarge",
    "vcpuNum": 4
   },
   {
    "_defaultOrder": 48,
    "_isFastLaunch": false,
    "category": "Accelerated computing",
    "gpuNum": 1,
    "hideHardwareSpecs": false,
    "memoryGiB": 32,
    "name": "ml.g5.2xlarge",
    "vcpuNum": 8
   },
   {
    "_defaultOrder": 49,
    "_isFastLaunch": false,
    "category": "Accelerated computing",
    "gpuNum": 1,
    "hideHardwareSpecs": false,
    "memoryGiB": 64,
    "name": "ml.g5.4xlarge",
    "vcpuNum": 16
   },
   {
    "_defaultOrder": 50,
    "_isFastLaunch": false,
    "category": "Accelerated computing",
    "gpuNum": 1,
    "hideHardwareSpecs": false,
    "memoryGiB": 128,
    "name": "ml.g5.8xlarge",
    "vcpuNum": 32
   },
   {
    "_defaultOrder": 51,
    "_isFastLaunch": false,
    "category": "Accelerated computing",
    "gpuNum": 1,
    "hideHardwareSpecs": false,
    "memoryGiB": 256,
    "name": "ml.g5.16xlarge",
    "vcpuNum": 64
   },
   {
    "_defaultOrder": 52,
    "_isFastLaunch": false,
    "category": "Accelerated computing",
    "gpuNum": 4,
    "hideHardwareSpecs": false,
    "memoryGiB": 192,
    "name": "ml.g5.12xlarge",
    "vcpuNum": 48
   },
   {
    "_defaultOrder": 53,
    "_isFastLaunch": false,
    "category": "Accelerated computing",
    "gpuNum": 4,
    "hideHardwareSpecs": false,
    "memoryGiB": 384,
    "name": "ml.g5.24xlarge",
    "vcpuNum": 96
   },
   {
    "_defaultOrder": 54,
    "_isFastLaunch": false,
    "category": "Accelerated computing",
    "gpuNum": 8,
    "hideHardwareSpecs": false,
    "memoryGiB": 768,
    "name": "ml.g5.48xlarge",
    "vcpuNum": 192
   },
   {
    "_defaultOrder": 55,
    "_isFastLaunch": false,
    "category": "Accelerated computing",
    "gpuNum": 8,
    "hideHardwareSpecs": false,
    "memoryGiB": 1152,
    "name": "ml.p4d.24xlarge",
    "vcpuNum": 96
   },
   {
    "_defaultOrder": 56,
    "_isFastLaunch": false,
    "category": "Accelerated computing",
    "gpuNum": 8,
    "hideHardwareSpecs": false,
    "memoryGiB": 1152,
    "name": "ml.p4de.24xlarge",
    "vcpuNum": 96
   },
   {
    "_defaultOrder": 57,
    "_isFastLaunch": false,
    "category": "Accelerated computing",
    "gpuNum": 0,
    "hideHardwareSpecs": false,
    "memoryGiB": 32,
    "name": "ml.trn1.2xlarge",
    "vcpuNum": 8
   },
   {
    "_defaultOrder": 58,
    "_isFastLaunch": false,
    "category": "Accelerated computing",
    "gpuNum": 0,
    "hideHardwareSpecs": false,
    "memoryGiB": 512,
    "name": "ml.trn1.32xlarge",
    "vcpuNum": 128
   },
   {
    "_defaultOrder": 59,
    "_isFastLaunch": false,
    "category": "Accelerated computing",
    "gpuNum": 0,
    "hideHardwareSpecs": false,
    "memoryGiB": 512,
    "name": "ml.trn1n.32xlarge",
    "vcpuNum": 128
   }
  ],
  "kernelspec": {
   "display_name": "Python 3 (PyTorch 2.0.0 Python 3.10 GPU Optimized)",
   "language": "python",
   "name": "python3__SAGEMAKER_INTERNAL__arn:aws:sagemaker:us-east-1:081325390199:image/pytorch-2.0.0-gpu-py310"
  },
  "language_info": {
   "codemirror_mode": {
    "name": "ipython",
    "version": 3
   },
   "file_extension": ".py",
   "mimetype": "text/x-python",
   "name": "python",
   "nbconvert_exporter": "python",
   "pygments_lexer": "ipython3",
   "version": "3.10.8"
  }
 },
 "nbformat": 4,
 "nbformat_minor": 5
}
